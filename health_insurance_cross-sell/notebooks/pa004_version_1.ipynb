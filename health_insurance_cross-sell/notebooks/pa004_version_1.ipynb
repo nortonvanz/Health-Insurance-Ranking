{
 "cells": [
  {
   "cell_type": "markdown",
   "id": "2aa86394",
   "metadata": {
    "heading_collapsed": true
   },
   "source": [
    "# Environment Preparation"
   ]
  },
  {
   "cell_type": "markdown",
   "id": "445f139b",
   "metadata": {
    "ExecuteTime": {
     "end_time": "2022-01-24T16:28:28.876326Z",
     "start_time": "2022-01-24T16:28:28.869045Z"
    },
    "hidden": true
   },
   "source": [
    "## Imports"
   ]
  },
  {
   "cell_type": "code",
   "execution_count": 137,
   "id": "2d1a16fa",
   "metadata": {
    "ExecuteTime": {
     "end_time": "2022-02-12T13:38:28.563778Z",
     "start_time": "2022-02-12T13:38:28.555368Z"
    },
    "hidden": true
   },
   "outputs": [],
   "source": [
    "import pandas as pd\n",
    "import numpy as np\n",
    "import seaborn as sns\n",
    "import matplotlib.pyplot as plt\n",
    "\n",
    "#display\n",
    "from tabulate               import tabulate\n",
    "from IPython.core.display   import HTML\n",
    "from IPython.display        import Image\n",
    "\n",
    "# machine learning\n",
    "\n",
    "# metrics\n",
    "\n",
    "# handle pickle objects\n",
    "import pickle"
   ]
  },
  {
   "cell_type": "markdown",
   "id": "2ba8d1db",
   "metadata": {
    "hidden": true
   },
   "source": [
    "## Path Handlers"
   ]
  },
  {
   "cell_type": "code",
   "execution_count": 138,
   "id": "208b21f4",
   "metadata": {
    "ExecuteTime": {
     "end_time": "2022-02-12T13:38:29.629244Z",
     "start_time": "2022-02-12T13:38:29.624511Z"
    },
    "hidden": true
   },
   "outputs": [],
   "source": [
    "datapath = '../data/'\n",
    "imagepath = '../images/'"
   ]
  },
  {
   "cell_type": "markdown",
   "id": "7bca1a6d",
   "metadata": {
    "hidden": true
   },
   "source": [
    "## Helper Functions\n"
   ]
  },
  {
   "cell_type": "code",
   "execution_count": 139,
   "id": "b17d6480",
   "metadata": {
    "ExecuteTime": {
     "end_time": "2022-02-12T13:38:31.067477Z",
     "start_time": "2022-02-12T13:38:31.050167Z"
    },
    "hidden": true
   },
   "outputs": [
    {
     "data": {
      "text/html": [
       "<style>.container { width:100% !important; }</style>"
      ],
      "text/plain": [
       "<IPython.core.display.HTML object>"
      ]
     },
     "metadata": {},
     "output_type": "display_data"
    }
   ],
   "source": [
    "def jupyter_settings():\n",
    "    \"\"\" Otimiza configurações gerais, padronizanod tamanhos de plots, etc \"\"\"\n",
    "    %matplotlib inline\n",
    "    #%pylab inline - not recommended\n",
    "    plt.style.use( 'bmh' )\n",
    "    plt.rcParams['figure.figsize'] = [14, 6]\n",
    "    plt.rcParams['font.size'] = 24\n",
    "    display( HTML( '<style>.container { width:100% !important; }</style>') )\n",
    "    pd.options.display.max_columns = None\n",
    "    pd.options.display.max_rows = None\n",
    "    pd.set_option( 'display.expand_frame_repr', False )\n",
    "    sns.set()\n",
    "    pd.set_option('display.max_columns', 30)\n",
    "    pd.set_option('display.max_rows', 30)\n",
    "jupyter_settings()\n",
    "\n",
    "def psycopg_connect():\n",
    "    \"\"\"\"\" Creates a psycopg connection from file postgre_credentials \"\"\"\"\"\n",
    "    conn = pg.connect(    user = pg_user,\n",
    "                          password = pg_passwd,\n",
    "                          host = pg_host,\n",
    "                          port = pg_port,\n",
    "                          database = pg_db)\n",
    "    return conn"
   ]
  },
  {
   "cell_type": "markdown",
   "id": "43e2140b",
   "metadata": {
    "heading_collapsed": true
   },
   "source": [
    "# Data Collection\n"
   ]
  },
  {
   "cell_type": "markdown",
   "id": "0d3b976f",
   "metadata": {
    "hidden": true
   },
   "source": [
    "with sqlalchemy - works like a charm, for all dbs\n",
    "\n",
    "with Psycopg2 - works as well, just for postgreSQL"
   ]
  },
  {
   "cell_type": "markdown",
   "id": "66d44c5f",
   "metadata": {
    "heading_collapsed": true,
    "hidden": true
   },
   "source": [
    "## With sqlalchemy"
   ]
  },
  {
   "cell_type": "code",
   "execution_count": 4,
   "id": "f9ed881b",
   "metadata": {
    "ExecuteTime": {
     "end_time": "2022-02-05T21:32:34.373116Z",
     "start_time": "2022-02-05T21:32:33.240489Z"
    },
    "hidden": true
   },
   "outputs": [],
   "source": [
    "from sqlalchemy import create_engine\n",
    "from sqlalchemy_utils import database_exists, create_database\n",
    "from postgre_credentials import *"
   ]
  },
  {
   "cell_type": "code",
   "execution_count": 5,
   "id": "48266c86",
   "metadata": {
    "ExecuteTime": {
     "end_time": "2022-02-05T21:32:37.389815Z",
     "start_time": "2022-02-05T21:32:34.375682Z"
    },
    "hidden": true
   },
   "outputs": [],
   "source": [
    "# load from file postgre_credentials\n",
    "url = 'postgresql://'+pg_user+':'+pg_passwd+'@'+pg_host+':'+pg_port+'/'+pg_db+''\n",
    "\n",
    "if not database_exists(url):\n",
    "    #create_database(url)\n",
    "    print (\"database does not exist!\")\n",
    "engine = create_engine(url, pool_size=50, echo=False)"
   ]
  },
  {
   "cell_type": "code",
   "execution_count": 6,
   "id": "12d31066",
   "metadata": {
    "ExecuteTime": {
     "end_time": "2022-02-05T21:32:37.396007Z",
     "start_time": "2022-02-05T21:32:37.392606Z"
    },
    "hidden": true
   },
   "outputs": [],
   "source": [
    "#connected:\n",
    "#engine.url"
   ]
  },
  {
   "cell_type": "code",
   "execution_count": 7,
   "id": "bb109535",
   "metadata": {
    "ExecuteTime": {
     "end_time": "2022-02-05T21:32:40.605643Z",
     "start_time": "2022-02-05T21:32:37.403490Z"
    },
    "hidden": true
   },
   "outputs": [
    {
     "data": {
      "text/html": [
       "<div>\n",
       "<style scoped>\n",
       "    .dataframe tbody tr th:only-of-type {\n",
       "        vertical-align: middle;\n",
       "    }\n",
       "\n",
       "    .dataframe tbody tr th {\n",
       "        vertical-align: top;\n",
       "    }\n",
       "\n",
       "    .dataframe thead th {\n",
       "        text-align: right;\n",
       "    }\n",
       "</style>\n",
       "<table border=\"1\" class=\"dataframe\">\n",
       "  <thead>\n",
       "    <tr style=\"text-align: right;\">\n",
       "      <th></th>\n",
       "      <th>table_schema</th>\n",
       "    </tr>\n",
       "  </thead>\n",
       "  <tbody>\n",
       "    <tr>\n",
       "      <th>0</th>\n",
       "      <td>public</td>\n",
       "    </tr>\n",
       "    <tr>\n",
       "      <th>1</th>\n",
       "      <td>pg_catalog</td>\n",
       "    </tr>\n",
       "    <tr>\n",
       "      <th>2</th>\n",
       "      <td>information_schema</td>\n",
       "    </tr>\n",
       "    <tr>\n",
       "      <th>3</th>\n",
       "      <td>pa004</td>\n",
       "    </tr>\n",
       "  </tbody>\n",
       "</table>\n",
       "</div>"
      ],
      "text/plain": [
       "         table_schema\n",
       "0              public\n",
       "1          pg_catalog\n",
       "2  information_schema\n",
       "3               pa004"
      ]
     },
     "execution_count": 7,
     "metadata": {},
     "output_type": "execute_result"
    }
   ],
   "source": [
    "#select distinct schemas\n",
    "query = \"SELECT distinct(table_schema) from information_schema.tables\"\n",
    "df = pd.read_sql( query, engine )\n",
    "df.head(500)"
   ]
  },
  {
   "cell_type": "code",
   "execution_count": 8,
   "id": "51477bf0",
   "metadata": {
    "ExecuteTime": {
     "end_time": "2022-02-05T21:32:41.538751Z",
     "start_time": "2022-02-05T21:32:40.615600Z"
    },
    "hidden": true
   },
   "outputs": [
    {
     "data": {
      "text/html": [
       "<div>\n",
       "<style scoped>\n",
       "    .dataframe tbody tr th:only-of-type {\n",
       "        vertical-align: middle;\n",
       "    }\n",
       "\n",
       "    .dataframe tbody tr th {\n",
       "        vertical-align: top;\n",
       "    }\n",
       "\n",
       "    .dataframe thead th {\n",
       "        text-align: right;\n",
       "    }\n",
       "</style>\n",
       "<table border=\"1\" class=\"dataframe\">\n",
       "  <thead>\n",
       "    <tr style=\"text-align: right;\">\n",
       "      <th></th>\n",
       "      <th>table_catalog</th>\n",
       "      <th>table_schema</th>\n",
       "      <th>table_name</th>\n",
       "      <th>table_type</th>\n",
       "      <th>self_referencing_column_name</th>\n",
       "      <th>reference_generation</th>\n",
       "      <th>user_defined_type_catalog</th>\n",
       "      <th>user_defined_type_schema</th>\n",
       "      <th>user_defined_type_name</th>\n",
       "      <th>is_insertable_into</th>\n",
       "      <th>is_typed</th>\n",
       "      <th>commit_action</th>\n",
       "    </tr>\n",
       "  </thead>\n",
       "  <tbody>\n",
       "    <tr>\n",
       "      <th>0</th>\n",
       "      <td>comunidadedsdb</td>\n",
       "      <td>pa004</td>\n",
       "      <td>users</td>\n",
       "      <td>BASE TABLE</td>\n",
       "      <td>None</td>\n",
       "      <td>None</td>\n",
       "      <td>None</td>\n",
       "      <td>None</td>\n",
       "      <td>None</td>\n",
       "      <td>YES</td>\n",
       "      <td>NO</td>\n",
       "      <td>None</td>\n",
       "    </tr>\n",
       "    <tr>\n",
       "      <th>1</th>\n",
       "      <td>comunidadedsdb</td>\n",
       "      <td>pa004</td>\n",
       "      <td>vehicle</td>\n",
       "      <td>BASE TABLE</td>\n",
       "      <td>None</td>\n",
       "      <td>None</td>\n",
       "      <td>None</td>\n",
       "      <td>None</td>\n",
       "      <td>None</td>\n",
       "      <td>YES</td>\n",
       "      <td>NO</td>\n",
       "      <td>None</td>\n",
       "    </tr>\n",
       "    <tr>\n",
       "      <th>2</th>\n",
       "      <td>comunidadedsdb</td>\n",
       "      <td>pa004</td>\n",
       "      <td>insurance</td>\n",
       "      <td>BASE TABLE</td>\n",
       "      <td>None</td>\n",
       "      <td>None</td>\n",
       "      <td>None</td>\n",
       "      <td>None</td>\n",
       "      <td>None</td>\n",
       "      <td>YES</td>\n",
       "      <td>NO</td>\n",
       "      <td>None</td>\n",
       "    </tr>\n",
       "  </tbody>\n",
       "</table>\n",
       "</div>"
      ],
      "text/plain": [
       "    table_catalog table_schema table_name  table_type self_referencing_column_name reference_generation user_defined_type_catalog user_defined_type_schema user_defined_type_name is_insertable_into is_typed commit_action\n",
       "0  comunidadedsdb        pa004      users  BASE TABLE                         None                 None                      None                     None                   None                YES       NO          None\n",
       "1  comunidadedsdb        pa004    vehicle  BASE TABLE                         None                 None                      None                     None                   None                YES       NO          None\n",
       "2  comunidadedsdb        pa004  insurance  BASE TABLE                         None                 None                      None                     None                   None                YES       NO          None"
      ]
     },
     "execution_count": 8,
     "metadata": {},
     "output_type": "execute_result"
    }
   ],
   "source": [
    "#select tables from schema\n",
    "query = \"SELECT * FROM information_schema.tables WHERE table_schema = 'pa004'\"\n",
    "df = pd.read_sql( query, engine )\n",
    "df.head(500)\n"
   ]
  },
  {
   "cell_type": "code",
   "execution_count": 9,
   "id": "1b42484c",
   "metadata": {
    "ExecuteTime": {
     "end_time": "2022-02-05T21:32:48.157934Z",
     "start_time": "2022-02-05T21:32:41.544679Z"
    },
    "hidden": true
   },
   "outputs": [
    {
     "data": {
      "text/html": [
       "<div>\n",
       "<style scoped>\n",
       "    .dataframe tbody tr th:only-of-type {\n",
       "        vertical-align: middle;\n",
       "    }\n",
       "\n",
       "    .dataframe tbody tr th {\n",
       "        vertical-align: top;\n",
       "    }\n",
       "\n",
       "    .dataframe thead th {\n",
       "        text-align: right;\n",
       "    }\n",
       "</style>\n",
       "<table border=\"1\" class=\"dataframe\">\n",
       "  <thead>\n",
       "    <tr style=\"text-align: right;\">\n",
       "      <th></th>\n",
       "      <th>id</th>\n",
       "      <th>previously_insured</th>\n",
       "      <th>annual_premium</th>\n",
       "      <th>vintage</th>\n",
       "      <th>response</th>\n",
       "    </tr>\n",
       "  </thead>\n",
       "  <tbody>\n",
       "    <tr>\n",
       "      <th>0</th>\n",
       "      <td>1</td>\n",
       "      <td>0</td>\n",
       "      <td>40454.0</td>\n",
       "      <td>217</td>\n",
       "      <td>1</td>\n",
       "    </tr>\n",
       "    <tr>\n",
       "      <th>1</th>\n",
       "      <td>2</td>\n",
       "      <td>0</td>\n",
       "      <td>33536.0</td>\n",
       "      <td>183</td>\n",
       "      <td>0</td>\n",
       "    </tr>\n",
       "    <tr>\n",
       "      <th>2</th>\n",
       "      <td>3</td>\n",
       "      <td>0</td>\n",
       "      <td>38294.0</td>\n",
       "      <td>27</td>\n",
       "      <td>1</td>\n",
       "    </tr>\n",
       "    <tr>\n",
       "      <th>3</th>\n",
       "      <td>4</td>\n",
       "      <td>1</td>\n",
       "      <td>28619.0</td>\n",
       "      <td>203</td>\n",
       "      <td>0</td>\n",
       "    </tr>\n",
       "    <tr>\n",
       "      <th>4</th>\n",
       "      <td>5</td>\n",
       "      <td>1</td>\n",
       "      <td>27496.0</td>\n",
       "      <td>39</td>\n",
       "      <td>0</td>\n",
       "    </tr>\n",
       "  </tbody>\n",
       "</table>\n",
       "</div>"
      ],
      "text/plain": [
       "   id  previously_insured  annual_premium  vintage  response\n",
       "0   1                   0         40454.0      217         1\n",
       "1   2                   0         33536.0      183         0\n",
       "2   3                   0         38294.0       27         1\n",
       "3   4                   1         28619.0      203         0\n",
       "4   5                   1         27496.0       39         0"
      ]
     },
     "execution_count": 9,
     "metadata": {},
     "output_type": "execute_result"
    }
   ],
   "source": [
    "query = \"\"\"SELECT * FROM pa004.insurance \"\"\"\n",
    "df = pd.read_sql( query, engine )\n",
    "df.head()"
   ]
  },
  {
   "cell_type": "code",
   "execution_count": 10,
   "id": "bf2361e5",
   "metadata": {
    "ExecuteTime": {
     "end_time": "2022-02-05T21:32:53.598048Z",
     "start_time": "2022-02-05T21:32:48.169132Z"
    },
    "hidden": true
   },
   "outputs": [
    {
     "data": {
      "text/html": [
       "<div>\n",
       "<style scoped>\n",
       "    .dataframe tbody tr th:only-of-type {\n",
       "        vertical-align: middle;\n",
       "    }\n",
       "\n",
       "    .dataframe tbody tr th {\n",
       "        vertical-align: top;\n",
       "    }\n",
       "\n",
       "    .dataframe thead th {\n",
       "        text-align: right;\n",
       "    }\n",
       "</style>\n",
       "<table border=\"1\" class=\"dataframe\">\n",
       "  <thead>\n",
       "    <tr style=\"text-align: right;\">\n",
       "      <th></th>\n",
       "      <th>id</th>\n",
       "      <th>driving_license</th>\n",
       "      <th>vehicle_age</th>\n",
       "      <th>vehicle_damage</th>\n",
       "    </tr>\n",
       "  </thead>\n",
       "  <tbody>\n",
       "    <tr>\n",
       "      <th>0</th>\n",
       "      <td>1</td>\n",
       "      <td>1</td>\n",
       "      <td>&gt; 2 Years</td>\n",
       "      <td>Yes</td>\n",
       "    </tr>\n",
       "    <tr>\n",
       "      <th>1</th>\n",
       "      <td>2</td>\n",
       "      <td>1</td>\n",
       "      <td>1-2 Year</td>\n",
       "      <td>No</td>\n",
       "    </tr>\n",
       "    <tr>\n",
       "      <th>2</th>\n",
       "      <td>3</td>\n",
       "      <td>1</td>\n",
       "      <td>&gt; 2 Years</td>\n",
       "      <td>Yes</td>\n",
       "    </tr>\n",
       "    <tr>\n",
       "      <th>3</th>\n",
       "      <td>4</td>\n",
       "      <td>1</td>\n",
       "      <td>&lt; 1 Year</td>\n",
       "      <td>No</td>\n",
       "    </tr>\n",
       "    <tr>\n",
       "      <th>4</th>\n",
       "      <td>5</td>\n",
       "      <td>1</td>\n",
       "      <td>&lt; 1 Year</td>\n",
       "      <td>No</td>\n",
       "    </tr>\n",
       "  </tbody>\n",
       "</table>\n",
       "</div>"
      ],
      "text/plain": [
       "   id  driving_license vehicle_age vehicle_damage\n",
       "0   1                1   > 2 Years            Yes\n",
       "1   2                1    1-2 Year             No\n",
       "2   3                1   > 2 Years            Yes\n",
       "3   4                1    < 1 Year             No\n",
       "4   5                1    < 1 Year             No"
      ]
     },
     "execution_count": 10,
     "metadata": {},
     "output_type": "execute_result"
    }
   ],
   "source": [
    "query = \"\"\"SELECT * FROM pa004.vehicle \"\"\"\n",
    "df = pd.read_sql( query, engine )\n",
    "df.head()"
   ]
  },
  {
   "cell_type": "code",
   "execution_count": 11,
   "id": "dd1ceac6",
   "metadata": {
    "ExecuteTime": {
     "end_time": "2022-02-05T21:32:59.217525Z",
     "start_time": "2022-02-05T21:32:53.601337Z"
    },
    "hidden": true
   },
   "outputs": [
    {
     "data": {
      "text/html": [
       "<div>\n",
       "<style scoped>\n",
       "    .dataframe tbody tr th:only-of-type {\n",
       "        vertical-align: middle;\n",
       "    }\n",
       "\n",
       "    .dataframe tbody tr th {\n",
       "        vertical-align: top;\n",
       "    }\n",
       "\n",
       "    .dataframe thead th {\n",
       "        text-align: right;\n",
       "    }\n",
       "</style>\n",
       "<table border=\"1\" class=\"dataframe\">\n",
       "  <thead>\n",
       "    <tr style=\"text-align: right;\">\n",
       "      <th></th>\n",
       "      <th>id</th>\n",
       "      <th>previously_insured</th>\n",
       "      <th>annual_premium</th>\n",
       "      <th>vintage</th>\n",
       "      <th>response</th>\n",
       "    </tr>\n",
       "  </thead>\n",
       "  <tbody>\n",
       "    <tr>\n",
       "      <th>0</th>\n",
       "      <td>1</td>\n",
       "      <td>0</td>\n",
       "      <td>40454.0</td>\n",
       "      <td>217</td>\n",
       "      <td>1</td>\n",
       "    </tr>\n",
       "    <tr>\n",
       "      <th>1</th>\n",
       "      <td>2</td>\n",
       "      <td>0</td>\n",
       "      <td>33536.0</td>\n",
       "      <td>183</td>\n",
       "      <td>0</td>\n",
       "    </tr>\n",
       "    <tr>\n",
       "      <th>2</th>\n",
       "      <td>3</td>\n",
       "      <td>0</td>\n",
       "      <td>38294.0</td>\n",
       "      <td>27</td>\n",
       "      <td>1</td>\n",
       "    </tr>\n",
       "    <tr>\n",
       "      <th>3</th>\n",
       "      <td>4</td>\n",
       "      <td>1</td>\n",
       "      <td>28619.0</td>\n",
       "      <td>203</td>\n",
       "      <td>0</td>\n",
       "    </tr>\n",
       "    <tr>\n",
       "      <th>4</th>\n",
       "      <td>5</td>\n",
       "      <td>1</td>\n",
       "      <td>27496.0</td>\n",
       "      <td>39</td>\n",
       "      <td>0</td>\n",
       "    </tr>\n",
       "  </tbody>\n",
       "</table>\n",
       "</div>"
      ],
      "text/plain": [
       "   id  previously_insured  annual_premium  vintage  response\n",
       "0   1                   0         40454.0      217         1\n",
       "1   2                   0         33536.0      183         0\n",
       "2   3                   0         38294.0       27         1\n",
       "3   4                   1         28619.0      203         0\n",
       "4   5                   1         27496.0       39         0"
      ]
     },
     "execution_count": 11,
     "metadata": {},
     "output_type": "execute_result"
    }
   ],
   "source": [
    "query = \"\"\"SELECT * FROM pa004.insurance \"\"\"\n",
    "df = pd.read_sql( query, engine )\n",
    "df.head()"
   ]
  },
  {
   "cell_type": "code",
   "execution_count": 12,
   "id": "7c3935cf",
   "metadata": {
    "ExecuteTime": {
     "end_time": "2022-02-05T21:33:12.856001Z",
     "start_time": "2022-02-05T21:32:59.231671Z"
    },
    "hidden": true
   },
   "outputs": [
    {
     "data": {
      "text/html": [
       "<div>\n",
       "<style scoped>\n",
       "    .dataframe tbody tr th:only-of-type {\n",
       "        vertical-align: middle;\n",
       "    }\n",
       "\n",
       "    .dataframe tbody tr th {\n",
       "        vertical-align: top;\n",
       "    }\n",
       "\n",
       "    .dataframe thead th {\n",
       "        text-align: right;\n",
       "    }\n",
       "</style>\n",
       "<table border=\"1\" class=\"dataframe\">\n",
       "  <thead>\n",
       "    <tr style=\"text-align: right;\">\n",
       "      <th></th>\n",
       "      <th>id</th>\n",
       "      <th>gender</th>\n",
       "      <th>age</th>\n",
       "      <th>region_code</th>\n",
       "      <th>policy_sales_channel</th>\n",
       "      <th>id</th>\n",
       "      <th>driving_license</th>\n",
       "      <th>vehicle_age</th>\n",
       "      <th>vehicle_damage</th>\n",
       "      <th>id</th>\n",
       "      <th>previously_insured</th>\n",
       "      <th>annual_premium</th>\n",
       "      <th>vintage</th>\n",
       "      <th>response</th>\n",
       "    </tr>\n",
       "  </thead>\n",
       "  <tbody>\n",
       "    <tr>\n",
       "      <th>0</th>\n",
       "      <td>1</td>\n",
       "      <td>Male</td>\n",
       "      <td>44</td>\n",
       "      <td>28.0</td>\n",
       "      <td>26.0</td>\n",
       "      <td>1</td>\n",
       "      <td>1</td>\n",
       "      <td>&gt; 2 Years</td>\n",
       "      <td>Yes</td>\n",
       "      <td>1</td>\n",
       "      <td>0</td>\n",
       "      <td>40454.0</td>\n",
       "      <td>217</td>\n",
       "      <td>1</td>\n",
       "    </tr>\n",
       "    <tr>\n",
       "      <th>1</th>\n",
       "      <td>2</td>\n",
       "      <td>Male</td>\n",
       "      <td>76</td>\n",
       "      <td>3.0</td>\n",
       "      <td>26.0</td>\n",
       "      <td>2</td>\n",
       "      <td>1</td>\n",
       "      <td>1-2 Year</td>\n",
       "      <td>No</td>\n",
       "      <td>2</td>\n",
       "      <td>0</td>\n",
       "      <td>33536.0</td>\n",
       "      <td>183</td>\n",
       "      <td>0</td>\n",
       "    </tr>\n",
       "    <tr>\n",
       "      <th>2</th>\n",
       "      <td>3</td>\n",
       "      <td>Male</td>\n",
       "      <td>47</td>\n",
       "      <td>28.0</td>\n",
       "      <td>26.0</td>\n",
       "      <td>3</td>\n",
       "      <td>1</td>\n",
       "      <td>&gt; 2 Years</td>\n",
       "      <td>Yes</td>\n",
       "      <td>3</td>\n",
       "      <td>0</td>\n",
       "      <td>38294.0</td>\n",
       "      <td>27</td>\n",
       "      <td>1</td>\n",
       "    </tr>\n",
       "    <tr>\n",
       "      <th>3</th>\n",
       "      <td>4</td>\n",
       "      <td>Male</td>\n",
       "      <td>21</td>\n",
       "      <td>11.0</td>\n",
       "      <td>152.0</td>\n",
       "      <td>4</td>\n",
       "      <td>1</td>\n",
       "      <td>&lt; 1 Year</td>\n",
       "      <td>No</td>\n",
       "      <td>4</td>\n",
       "      <td>1</td>\n",
       "      <td>28619.0</td>\n",
       "      <td>203</td>\n",
       "      <td>0</td>\n",
       "    </tr>\n",
       "    <tr>\n",
       "      <th>4</th>\n",
       "      <td>5</td>\n",
       "      <td>Female</td>\n",
       "      <td>29</td>\n",
       "      <td>41.0</td>\n",
       "      <td>152.0</td>\n",
       "      <td>5</td>\n",
       "      <td>1</td>\n",
       "      <td>&lt; 1 Year</td>\n",
       "      <td>No</td>\n",
       "      <td>5</td>\n",
       "      <td>1</td>\n",
       "      <td>27496.0</td>\n",
       "      <td>39</td>\n",
       "      <td>0</td>\n",
       "    </tr>\n",
       "  </tbody>\n",
       "</table>\n",
       "</div>"
      ],
      "text/plain": [
       "   id  gender  age  region_code  policy_sales_channel  id  driving_license vehicle_age vehicle_damage  id  previously_insured  annual_premium  vintage  response\n",
       "0   1    Male   44         28.0                  26.0   1                1   > 2 Years            Yes   1                   0         40454.0      217         1\n",
       "1   2    Male   76          3.0                  26.0   2                1    1-2 Year             No   2                   0         33536.0      183         0\n",
       "2   3    Male   47         28.0                  26.0   3                1   > 2 Years            Yes   3                   0         38294.0       27         1\n",
       "3   4    Male   21         11.0                 152.0   4                1    < 1 Year             No   4                   1         28619.0      203         0\n",
       "4   5  Female   29         41.0                 152.0   5                1    < 1 Year             No   5                   1         27496.0       39         0"
      ]
     },
     "execution_count": 12,
     "metadata": {},
     "output_type": "execute_result"
    }
   ],
   "source": [
    "#build raw dataset:\n",
    "query = \"\"\"\n",
    "\n",
    "SELECT *\n",
    "FROM pa004.users u \n",
    "INNER JOIN pa004.vehicle v on u.id = v.id \n",
    "INNER JOIN pa004.insurance i ON u.id = i.id\n",
    "ORDER BY u.id\n",
    "\n",
    "\"\"\"\n",
    "df = pd.read_sql( query, engine )\n",
    "df.head()"
   ]
  },
  {
   "cell_type": "code",
   "execution_count": 13,
   "id": "acabc69f",
   "metadata": {
    "ExecuteTime": {
     "end_time": "2022-02-05T21:33:25.724620Z",
     "start_time": "2022-02-05T21:33:12.872355Z"
    },
    "hidden": true,
    "scrolled": true
   },
   "outputs": [
    {
     "data": {
      "text/html": [
       "<div>\n",
       "<style scoped>\n",
       "    .dataframe tbody tr th:only-of-type {\n",
       "        vertical-align: middle;\n",
       "    }\n",
       "\n",
       "    .dataframe tbody tr th {\n",
       "        vertical-align: top;\n",
       "    }\n",
       "\n",
       "    .dataframe thead th {\n",
       "        text-align: right;\n",
       "    }\n",
       "</style>\n",
       "<table border=\"1\" class=\"dataframe\">\n",
       "  <thead>\n",
       "    <tr style=\"text-align: right;\">\n",
       "      <th></th>\n",
       "      <th>id</th>\n",
       "      <th>gender</th>\n",
       "      <th>age</th>\n",
       "      <th>region_code</th>\n",
       "      <th>policy_sales_channel</th>\n",
       "      <th>driving_license</th>\n",
       "      <th>vehicle_age</th>\n",
       "      <th>vehicle_damage</th>\n",
       "      <th>previously_insured</th>\n",
       "      <th>annual_premium</th>\n",
       "      <th>vintage</th>\n",
       "      <th>response</th>\n",
       "    </tr>\n",
       "  </thead>\n",
       "  <tbody>\n",
       "    <tr>\n",
       "      <th>0</th>\n",
       "      <td>1</td>\n",
       "      <td>Male</td>\n",
       "      <td>44</td>\n",
       "      <td>28.0</td>\n",
       "      <td>26.0</td>\n",
       "      <td>1</td>\n",
       "      <td>&gt; 2 Years</td>\n",
       "      <td>Yes</td>\n",
       "      <td>0</td>\n",
       "      <td>40454.0</td>\n",
       "      <td>217</td>\n",
       "      <td>1</td>\n",
       "    </tr>\n",
       "    <tr>\n",
       "      <th>1</th>\n",
       "      <td>2</td>\n",
       "      <td>Male</td>\n",
       "      <td>76</td>\n",
       "      <td>3.0</td>\n",
       "      <td>26.0</td>\n",
       "      <td>1</td>\n",
       "      <td>1-2 Year</td>\n",
       "      <td>No</td>\n",
       "      <td>0</td>\n",
       "      <td>33536.0</td>\n",
       "      <td>183</td>\n",
       "      <td>0</td>\n",
       "    </tr>\n",
       "    <tr>\n",
       "      <th>2</th>\n",
       "      <td>3</td>\n",
       "      <td>Male</td>\n",
       "      <td>47</td>\n",
       "      <td>28.0</td>\n",
       "      <td>26.0</td>\n",
       "      <td>1</td>\n",
       "      <td>&gt; 2 Years</td>\n",
       "      <td>Yes</td>\n",
       "      <td>0</td>\n",
       "      <td>38294.0</td>\n",
       "      <td>27</td>\n",
       "      <td>1</td>\n",
       "    </tr>\n",
       "    <tr>\n",
       "      <th>3</th>\n",
       "      <td>4</td>\n",
       "      <td>Male</td>\n",
       "      <td>21</td>\n",
       "      <td>11.0</td>\n",
       "      <td>152.0</td>\n",
       "      <td>1</td>\n",
       "      <td>&lt; 1 Year</td>\n",
       "      <td>No</td>\n",
       "      <td>1</td>\n",
       "      <td>28619.0</td>\n",
       "      <td>203</td>\n",
       "      <td>0</td>\n",
       "    </tr>\n",
       "    <tr>\n",
       "      <th>4</th>\n",
       "      <td>5</td>\n",
       "      <td>Female</td>\n",
       "      <td>29</td>\n",
       "      <td>41.0</td>\n",
       "      <td>152.0</td>\n",
       "      <td>1</td>\n",
       "      <td>&lt; 1 Year</td>\n",
       "      <td>No</td>\n",
       "      <td>1</td>\n",
       "      <td>27496.0</td>\n",
       "      <td>39</td>\n",
       "      <td>0</td>\n",
       "    </tr>\n",
       "  </tbody>\n",
       "</table>\n",
       "</div>"
      ],
      "text/plain": [
       "   id  gender  age  region_code  policy_sales_channel  driving_license vehicle_age vehicle_damage  previously_insured  annual_premium  vintage  response\n",
       "0   1    Male   44         28.0                  26.0                1   > 2 Years            Yes                   0         40454.0      217         1\n",
       "1   2    Male   76          3.0                  26.0                1    1-2 Year             No                   0         33536.0      183         0\n",
       "2   3    Male   47         28.0                  26.0                1   > 2 Years            Yes                   0         38294.0       27         1\n",
       "3   4    Male   21         11.0                 152.0                1    < 1 Year             No                   1         28619.0      203         0\n",
       "4   5  Female   29         41.0                 152.0                1    < 1 Year             No                   1         27496.0       39         0"
      ]
     },
     "execution_count": 13,
     "metadata": {},
     "output_type": "execute_result"
    }
   ],
   "source": [
    "# remove duplicate columns (i.e. the 'id' from vehicle and insurance tables)\n",
    "df_raw = pd.read_sql( query, engine )\n",
    "df_raw = df_raw.loc[:,~df_raw.columns.duplicated()]\n",
    "df_raw.head()"
   ]
  },
  {
   "cell_type": "code",
   "execution_count": 14,
   "id": "4da7734d",
   "metadata": {
    "ExecuteTime": {
     "end_time": "2022-02-05T21:33:25.757434Z",
     "start_time": "2022-02-05T21:33:25.737922Z"
    },
    "hidden": true
   },
   "outputs": [
    {
     "data": {
      "text/plain": [
       "(381109, 12)"
      ]
     },
     "execution_count": 14,
     "metadata": {},
     "output_type": "execute_result"
    }
   ],
   "source": [
    "df_raw.shape"
   ]
  },
  {
   "cell_type": "code",
   "execution_count": 15,
   "id": "62d3a329",
   "metadata": {
    "ExecuteTime": {
     "end_time": "2022-02-05T21:33:29.342322Z",
     "start_time": "2022-02-05T21:33:25.762603Z"
    },
    "hidden": true
   },
   "outputs": [],
   "source": [
    "df_raw.to_csv(datapath+'data_collection_done.csv', index=False)"
   ]
  },
  {
   "cell_type": "markdown",
   "id": "e3c280df",
   "metadata": {
    "heading_collapsed": true,
    "hidden": true
   },
   "source": [
    "## With psycopg2"
   ]
  },
  {
   "cell_type": "code",
   "execution_count": 16,
   "id": "422cfe71",
   "metadata": {
    "ExecuteTime": {
     "end_time": "2022-02-05T21:33:29.368191Z",
     "start_time": "2022-02-05T21:33:29.358687Z"
    },
    "hidden": true
   },
   "outputs": [],
   "source": [
    "import psycopg2 as pg\n",
    "from postgre_credentials import *"
   ]
  },
  {
   "cell_type": "code",
   "execution_count": 17,
   "id": "67376867",
   "metadata": {
    "ExecuteTime": {
     "end_time": "2022-02-05T21:33:30.598897Z",
     "start_time": "2022-02-05T21:33:29.519080Z"
    },
    "hidden": true
   },
   "outputs": [],
   "source": [
    "#Create connection, from Helper Funcions\n",
    "conn = psycopg_connect()\n",
    "#conn "
   ]
  },
  {
   "cell_type": "markdown",
   "id": "ad4aebc3",
   "metadata": {
    "ExecuteTime": {
     "end_time": "2022-01-25T18:40:47.880670Z",
     "start_time": "2022-01-25T18:40:47.534191Z"
    },
    "heading_collapsed": true,
    "hidden": true
   },
   "source": [
    "### Schema Query"
   ]
  },
  {
   "cell_type": "code",
   "execution_count": 18,
   "id": "c531a5f5",
   "metadata": {
    "ExecuteTime": {
     "end_time": "2022-02-05T21:33:33.655155Z",
     "start_time": "2022-02-05T21:33:33.341672Z"
    },
    "hidden": true
   },
   "outputs": [],
   "source": [
    "cursor = conn.cursor()\n",
    "\n",
    "query_schema = \"\"\"\n",
    "    SELECT nspname\n",
    "    FROM pg_catalog.pg_namespace\n",
    "\"\"\"\n",
    "cursor.execute( query_schema )\n",
    "\n",
    "record = cursor.fetchall()\n",
    "cursor.close()\n",
    "conn.close()"
   ]
  },
  {
   "cell_type": "code",
   "execution_count": 19,
   "id": "c4afee2a",
   "metadata": {
    "ExecuteTime": {
     "end_time": "2022-02-05T21:33:35.056915Z",
     "start_time": "2022-02-05T21:33:35.046956Z"
    },
    "hidden": true
   },
   "outputs": [
    {
     "data": {
      "text/plain": [
       "[('pg_toast',),\n",
       " ('pg_temp_1',),\n",
       " ('pg_toast_temp_1',),\n",
       " ('pg_catalog',),\n",
       " ('information_schema',),\n",
       " ('public',),\n",
       " ('pa004',),\n",
       " ('pg_temp_4',),\n",
       " ('pg_toast_temp_4',),\n",
       " ('pa005',),\n",
       " ('pg_temp_9',),\n",
       " ('pg_toast_temp_9',)]"
      ]
     },
     "execution_count": 19,
     "metadata": {},
     "output_type": "execute_result"
    }
   ],
   "source": [
    "record"
   ]
  },
  {
   "cell_type": "markdown",
   "id": "1eb436f2",
   "metadata": {
    "heading_collapsed": true,
    "hidden": true
   },
   "source": [
    "### Table Query"
   ]
  },
  {
   "cell_type": "code",
   "execution_count": 20,
   "id": "49a76b0c",
   "metadata": {
    "ExecuteTime": {
     "end_time": "2022-02-05T21:33:38.729827Z",
     "start_time": "2022-02-05T21:33:37.317833Z"
    },
    "hidden": true
   },
   "outputs": [
    {
     "name": "stdout",
     "output_type": "stream",
     "text": [
      "[('users',), ('vehicle',), ('insurance',)]\n"
     ]
    }
   ],
   "source": [
    "conn = psycopg_connect()\n",
    "cursor = conn.cursor()\n",
    "\n",
    "query_tables = \"\"\"\n",
    "    SELECT tablename\n",
    "    FROM pg_tables\n",
    "    WHERE schemaname='pa004'\n",
    "\"\"\"\n",
    "cursor.execute( query_tables )\n",
    "\n",
    "record = cursor.fetchall()\n",
    "print (record)\n",
    "cursor.close() #important\n",
    "conn.close() #important"
   ]
  },
  {
   "cell_type": "markdown",
   "id": "2c4c161b",
   "metadata": {
    "heading_collapsed": true,
    "hidden": true
   },
   "source": [
    "### Collect Data using psycopg2 (just sample)"
   ]
  },
  {
   "cell_type": "code",
   "execution_count": 21,
   "id": "ed528fc3",
   "metadata": {
    "ExecuteTime": {
     "end_time": "2022-02-05T21:33:40.115970Z",
     "start_time": "2022-02-05T21:33:38.734444Z"
    },
    "hidden": true
   },
   "outputs": [
    {
     "name": "stdout",
     "output_type": "stream",
     "text": [
      "[(2, 'Male', 76, 3.0, 26.0), (3, 'Male', 47, 28.0, 26.0), (8, 'Female', 56, 28.0, 26.0), (11, 'Female', 47, 35.0, 124.0), (14, 'Male', 76, 28.0, 13.0), (15, 'Male', 71, 28.0, 30.0), (20, 'Female', 60, 33.0, 124.0), (21, 'Male', 65, 28.0, 124.0), (22, 'Male', 49, 28.0, 124.0), (27, 'Female', 51, 28.0, 124.0)]\n"
     ]
    }
   ],
   "source": [
    "conn = psycopg_connect()\n",
    "cursor = conn.cursor()\n",
    "\n",
    "query_table_users = \"\"\"\n",
    "    SELECT *\n",
    "    FROM pa004.users u\n",
    "    WHERE u.age > 44\n",
    "    limit 10\n",
    "\"\"\"\n",
    "cursor.execute( query_table_users )\n",
    "\n",
    "record = cursor.fetchall()\n",
    "print (record)\n",
    "cursor.close() #important\n",
    "conn.close() #important"
   ]
  },
  {
   "cell_type": "code",
   "execution_count": 22,
   "id": "8f32b37e",
   "metadata": {
    "ExecuteTime": {
     "end_time": "2022-02-05T21:33:43.977223Z",
     "start_time": "2022-02-05T21:33:43.959922Z"
    },
    "hidden": true
   },
   "outputs": [
    {
     "data": {
      "text/html": [
       "<div>\n",
       "<style scoped>\n",
       "    .dataframe tbody tr th:only-of-type {\n",
       "        vertical-align: middle;\n",
       "    }\n",
       "\n",
       "    .dataframe tbody tr th {\n",
       "        vertical-align: top;\n",
       "    }\n",
       "\n",
       "    .dataframe thead th {\n",
       "        text-align: right;\n",
       "    }\n",
       "</style>\n",
       "<table border=\"1\" class=\"dataframe\">\n",
       "  <thead>\n",
       "    <tr style=\"text-align: right;\">\n",
       "      <th></th>\n",
       "      <th>0</th>\n",
       "      <th>1</th>\n",
       "      <th>2</th>\n",
       "      <th>3</th>\n",
       "      <th>4</th>\n",
       "    </tr>\n",
       "  </thead>\n",
       "  <tbody>\n",
       "    <tr>\n",
       "      <th>0</th>\n",
       "      <td>2</td>\n",
       "      <td>Male</td>\n",
       "      <td>76</td>\n",
       "      <td>3.0</td>\n",
       "      <td>26.0</td>\n",
       "    </tr>\n",
       "    <tr>\n",
       "      <th>1</th>\n",
       "      <td>3</td>\n",
       "      <td>Male</td>\n",
       "      <td>47</td>\n",
       "      <td>28.0</td>\n",
       "      <td>26.0</td>\n",
       "    </tr>\n",
       "    <tr>\n",
       "      <th>2</th>\n",
       "      <td>8</td>\n",
       "      <td>Female</td>\n",
       "      <td>56</td>\n",
       "      <td>28.0</td>\n",
       "      <td>26.0</td>\n",
       "    </tr>\n",
       "    <tr>\n",
       "      <th>3</th>\n",
       "      <td>11</td>\n",
       "      <td>Female</td>\n",
       "      <td>47</td>\n",
       "      <td>35.0</td>\n",
       "      <td>124.0</td>\n",
       "    </tr>\n",
       "    <tr>\n",
       "      <th>4</th>\n",
       "      <td>14</td>\n",
       "      <td>Male</td>\n",
       "      <td>76</td>\n",
       "      <td>28.0</td>\n",
       "      <td>13.0</td>\n",
       "    </tr>\n",
       "  </tbody>\n",
       "</table>\n",
       "</div>"
      ],
      "text/plain": [
       "    0       1   2     3      4\n",
       "0   2    Male  76   3.0   26.0\n",
       "1   3    Male  47  28.0   26.0\n",
       "2   8  Female  56  28.0   26.0\n",
       "3  11  Female  47  35.0  124.0\n",
       "4  14    Male  76  28.0   13.0"
      ]
     },
     "execution_count": 22,
     "metadata": {},
     "output_type": "execute_result"
    }
   ],
   "source": [
    "data = pd.DataFrame( record )\n",
    "data.head()\n",
    "#would need to rename colums each time!"
   ]
  },
  {
   "cell_type": "markdown",
   "id": "a5113d63",
   "metadata": {
    "heading_collapsed": true,
    "hidden": true
   },
   "source": [
    "### Collect Data using Pandas"
   ]
  },
  {
   "cell_type": "code",
   "execution_count": 24,
   "id": "35283677",
   "metadata": {
    "ExecuteTime": {
     "end_time": "2022-02-05T21:33:51.604487Z",
     "start_time": "2022-02-05T21:33:50.357893Z"
    },
    "hidden": true
   },
   "outputs": [
    {
     "data": {
      "text/html": [
       "<div>\n",
       "<style scoped>\n",
       "    .dataframe tbody tr th:only-of-type {\n",
       "        vertical-align: middle;\n",
       "    }\n",
       "\n",
       "    .dataframe tbody tr th {\n",
       "        vertical-align: top;\n",
       "    }\n",
       "\n",
       "    .dataframe thead th {\n",
       "        text-align: right;\n",
       "    }\n",
       "</style>\n",
       "<table border=\"1\" class=\"dataframe\">\n",
       "  <thead>\n",
       "    <tr style=\"text-align: right;\">\n",
       "      <th></th>\n",
       "      <th>id</th>\n",
       "      <th>gender</th>\n",
       "      <th>age</th>\n",
       "      <th>region_code</th>\n",
       "      <th>policy_sales_channel</th>\n",
       "    </tr>\n",
       "  </thead>\n",
       "  <tbody>\n",
       "    <tr>\n",
       "      <th>0</th>\n",
       "      <td>2</td>\n",
       "      <td>Male</td>\n",
       "      <td>76</td>\n",
       "      <td>3.0</td>\n",
       "      <td>26.0</td>\n",
       "    </tr>\n",
       "    <tr>\n",
       "      <th>1</th>\n",
       "      <td>3</td>\n",
       "      <td>Male</td>\n",
       "      <td>47</td>\n",
       "      <td>28.0</td>\n",
       "      <td>26.0</td>\n",
       "    </tr>\n",
       "    <tr>\n",
       "      <th>2</th>\n",
       "      <td>8</td>\n",
       "      <td>Female</td>\n",
       "      <td>56</td>\n",
       "      <td>28.0</td>\n",
       "      <td>26.0</td>\n",
       "    </tr>\n",
       "    <tr>\n",
       "      <th>3</th>\n",
       "      <td>11</td>\n",
       "      <td>Female</td>\n",
       "      <td>47</td>\n",
       "      <td>35.0</td>\n",
       "      <td>124.0</td>\n",
       "    </tr>\n",
       "    <tr>\n",
       "      <th>4</th>\n",
       "      <td>14</td>\n",
       "      <td>Male</td>\n",
       "      <td>76</td>\n",
       "      <td>28.0</td>\n",
       "      <td>13.0</td>\n",
       "    </tr>\n",
       "  </tbody>\n",
       "</table>\n",
       "</div>"
      ],
      "text/plain": [
       "   id  gender  age  region_code  policy_sales_channel\n",
       "0   2    Male   76          3.0                  26.0\n",
       "1   3    Male   47         28.0                  26.0\n",
       "2   8  Female   56         28.0                  26.0\n",
       "3  11  Female   47         35.0                 124.0\n",
       "4  14    Male   76         28.0                  13.0"
      ]
     },
     "execution_count": 24,
     "metadata": {},
     "output_type": "execute_result"
    }
   ],
   "source": [
    "conn = psycopg_connect()\n",
    "\n",
    "#sample query\n",
    "query_table_users = \"\"\"\n",
    "    SELECT *\n",
    "    FROM pa004.users u\n",
    "    WHERE u.age > 44\n",
    "    limit 10\n",
    "\"\"\"\n",
    "\n",
    "df = pd.read_sql( query_table_users, conn )\n",
    "df.head()"
   ]
  },
  {
   "cell_type": "code",
   "execution_count": 26,
   "id": "fabb48f6",
   "metadata": {
    "ExecuteTime": {
     "end_time": "2022-02-05T21:34:12.873182Z",
     "start_time": "2022-02-05T21:34:00.283195Z"
    },
    "hidden": true
   },
   "outputs": [
    {
     "data": {
      "text/html": [
       "<div>\n",
       "<style scoped>\n",
       "    .dataframe tbody tr th:only-of-type {\n",
       "        vertical-align: middle;\n",
       "    }\n",
       "\n",
       "    .dataframe tbody tr th {\n",
       "        vertical-align: top;\n",
       "    }\n",
       "\n",
       "    .dataframe thead th {\n",
       "        text-align: right;\n",
       "    }\n",
       "</style>\n",
       "<table border=\"1\" class=\"dataframe\">\n",
       "  <thead>\n",
       "    <tr style=\"text-align: right;\">\n",
       "      <th></th>\n",
       "      <th>id</th>\n",
       "      <th>gender</th>\n",
       "      <th>age</th>\n",
       "      <th>region_code</th>\n",
       "      <th>policy_sales_channel</th>\n",
       "      <th>id</th>\n",
       "      <th>driving_license</th>\n",
       "      <th>vehicle_age</th>\n",
       "      <th>vehicle_damage</th>\n",
       "      <th>id</th>\n",
       "      <th>previously_insured</th>\n",
       "      <th>annual_premium</th>\n",
       "      <th>vintage</th>\n",
       "      <th>response</th>\n",
       "    </tr>\n",
       "  </thead>\n",
       "  <tbody>\n",
       "    <tr>\n",
       "      <th>0</th>\n",
       "      <td>1</td>\n",
       "      <td>Male</td>\n",
       "      <td>44</td>\n",
       "      <td>28.0</td>\n",
       "      <td>26.0</td>\n",
       "      <td>1</td>\n",
       "      <td>1</td>\n",
       "      <td>&gt; 2 Years</td>\n",
       "      <td>Yes</td>\n",
       "      <td>1</td>\n",
       "      <td>0</td>\n",
       "      <td>40454.0</td>\n",
       "      <td>217</td>\n",
       "      <td>1</td>\n",
       "    </tr>\n",
       "    <tr>\n",
       "      <th>1</th>\n",
       "      <td>2</td>\n",
       "      <td>Male</td>\n",
       "      <td>76</td>\n",
       "      <td>3.0</td>\n",
       "      <td>26.0</td>\n",
       "      <td>2</td>\n",
       "      <td>1</td>\n",
       "      <td>1-2 Year</td>\n",
       "      <td>No</td>\n",
       "      <td>2</td>\n",
       "      <td>0</td>\n",
       "      <td>33536.0</td>\n",
       "      <td>183</td>\n",
       "      <td>0</td>\n",
       "    </tr>\n",
       "    <tr>\n",
       "      <th>2</th>\n",
       "      <td>3</td>\n",
       "      <td>Male</td>\n",
       "      <td>47</td>\n",
       "      <td>28.0</td>\n",
       "      <td>26.0</td>\n",
       "      <td>3</td>\n",
       "      <td>1</td>\n",
       "      <td>&gt; 2 Years</td>\n",
       "      <td>Yes</td>\n",
       "      <td>3</td>\n",
       "      <td>0</td>\n",
       "      <td>38294.0</td>\n",
       "      <td>27</td>\n",
       "      <td>1</td>\n",
       "    </tr>\n",
       "    <tr>\n",
       "      <th>3</th>\n",
       "      <td>4</td>\n",
       "      <td>Male</td>\n",
       "      <td>21</td>\n",
       "      <td>11.0</td>\n",
       "      <td>152.0</td>\n",
       "      <td>4</td>\n",
       "      <td>1</td>\n",
       "      <td>&lt; 1 Year</td>\n",
       "      <td>No</td>\n",
       "      <td>4</td>\n",
       "      <td>1</td>\n",
       "      <td>28619.0</td>\n",
       "      <td>203</td>\n",
       "      <td>0</td>\n",
       "    </tr>\n",
       "    <tr>\n",
       "      <th>4</th>\n",
       "      <td>5</td>\n",
       "      <td>Female</td>\n",
       "      <td>29</td>\n",
       "      <td>41.0</td>\n",
       "      <td>152.0</td>\n",
       "      <td>5</td>\n",
       "      <td>1</td>\n",
       "      <td>&lt; 1 Year</td>\n",
       "      <td>No</td>\n",
       "      <td>5</td>\n",
       "      <td>1</td>\n",
       "      <td>27496.0</td>\n",
       "      <td>39</td>\n",
       "      <td>0</td>\n",
       "    </tr>\n",
       "  </tbody>\n",
       "</table>\n",
       "</div>"
      ],
      "text/plain": [
       "   id  gender  age  region_code  policy_sales_channel  id  driving_license vehicle_age vehicle_damage  id  previously_insured  annual_premium  vintage  response\n",
       "0   1    Male   44         28.0                  26.0   1                1   > 2 Years            Yes   1                   0         40454.0      217         1\n",
       "1   2    Male   76          3.0                  26.0   2                1    1-2 Year             No   2                   0         33536.0      183         0\n",
       "2   3    Male   47         28.0                  26.0   3                1   > 2 Years            Yes   3                   0         38294.0       27         1\n",
       "3   4    Male   21         11.0                 152.0   4                1    < 1 Year             No   4                   1         28619.0      203         0\n",
       "4   5  Female   29         41.0                 152.0   5                1    < 1 Year             No   5                   1         27496.0       39         0"
      ]
     },
     "execution_count": 26,
     "metadata": {},
     "output_type": "execute_result"
    }
   ],
   "source": [
    "#build raw dataset:\n",
    "query_table_users = \"\"\"\n",
    "    SELECT *\n",
    "    FROM pa004.users u \n",
    "    LEFT JOIN pa004.vehicle v ON u.id = v.id \n",
    "    LEFT JOIN pa004.insurance i ON u.id = i.id \n",
    "    ORDER BY u.id\n",
    "\"\"\"\n",
    "\n",
    "df = pd.read_sql( query_table_users, conn )\n",
    "df.head()"
   ]
  },
  {
   "cell_type": "code",
   "execution_count": 27,
   "id": "994b4307",
   "metadata": {
    "ExecuteTime": {
     "end_time": "2022-02-05T21:34:36.978643Z",
     "start_time": "2022-02-05T21:34:27.189950Z"
    },
    "hidden": true
   },
   "outputs": [
    {
     "data": {
      "text/html": [
       "<div>\n",
       "<style scoped>\n",
       "    .dataframe tbody tr th:only-of-type {\n",
       "        vertical-align: middle;\n",
       "    }\n",
       "\n",
       "    .dataframe tbody tr th {\n",
       "        vertical-align: top;\n",
       "    }\n",
       "\n",
       "    .dataframe thead th {\n",
       "        text-align: right;\n",
       "    }\n",
       "</style>\n",
       "<table border=\"1\" class=\"dataframe\">\n",
       "  <thead>\n",
       "    <tr style=\"text-align: right;\">\n",
       "      <th></th>\n",
       "      <th>id</th>\n",
       "      <th>gender</th>\n",
       "      <th>age</th>\n",
       "      <th>region_code</th>\n",
       "      <th>policy_sales_channel</th>\n",
       "      <th>driving_license</th>\n",
       "      <th>vehicle_age</th>\n",
       "      <th>vehicle_damage</th>\n",
       "      <th>previously_insured</th>\n",
       "      <th>annual_premium</th>\n",
       "      <th>vintage</th>\n",
       "      <th>response</th>\n",
       "    </tr>\n",
       "  </thead>\n",
       "  <tbody>\n",
       "    <tr>\n",
       "      <th>0</th>\n",
       "      <td>1</td>\n",
       "      <td>Male</td>\n",
       "      <td>44</td>\n",
       "      <td>28.0</td>\n",
       "      <td>26.0</td>\n",
       "      <td>1</td>\n",
       "      <td>&gt; 2 Years</td>\n",
       "      <td>Yes</td>\n",
       "      <td>0</td>\n",
       "      <td>40454.0</td>\n",
       "      <td>217</td>\n",
       "      <td>1</td>\n",
       "    </tr>\n",
       "    <tr>\n",
       "      <th>1</th>\n",
       "      <td>2</td>\n",
       "      <td>Male</td>\n",
       "      <td>76</td>\n",
       "      <td>3.0</td>\n",
       "      <td>26.0</td>\n",
       "      <td>1</td>\n",
       "      <td>1-2 Year</td>\n",
       "      <td>No</td>\n",
       "      <td>0</td>\n",
       "      <td>33536.0</td>\n",
       "      <td>183</td>\n",
       "      <td>0</td>\n",
       "    </tr>\n",
       "    <tr>\n",
       "      <th>2</th>\n",
       "      <td>3</td>\n",
       "      <td>Male</td>\n",
       "      <td>47</td>\n",
       "      <td>28.0</td>\n",
       "      <td>26.0</td>\n",
       "      <td>1</td>\n",
       "      <td>&gt; 2 Years</td>\n",
       "      <td>Yes</td>\n",
       "      <td>0</td>\n",
       "      <td>38294.0</td>\n",
       "      <td>27</td>\n",
       "      <td>1</td>\n",
       "    </tr>\n",
       "    <tr>\n",
       "      <th>3</th>\n",
       "      <td>4</td>\n",
       "      <td>Male</td>\n",
       "      <td>21</td>\n",
       "      <td>11.0</td>\n",
       "      <td>152.0</td>\n",
       "      <td>1</td>\n",
       "      <td>&lt; 1 Year</td>\n",
       "      <td>No</td>\n",
       "      <td>1</td>\n",
       "      <td>28619.0</td>\n",
       "      <td>203</td>\n",
       "      <td>0</td>\n",
       "    </tr>\n",
       "    <tr>\n",
       "      <th>4</th>\n",
       "      <td>5</td>\n",
       "      <td>Female</td>\n",
       "      <td>29</td>\n",
       "      <td>41.0</td>\n",
       "      <td>152.0</td>\n",
       "      <td>1</td>\n",
       "      <td>&lt; 1 Year</td>\n",
       "      <td>No</td>\n",
       "      <td>1</td>\n",
       "      <td>27496.0</td>\n",
       "      <td>39</td>\n",
       "      <td>0</td>\n",
       "    </tr>\n",
       "  </tbody>\n",
       "</table>\n",
       "</div>"
      ],
      "text/plain": [
       "   id  gender  age  region_code  policy_sales_channel  driving_license vehicle_age vehicle_damage  previously_insured  annual_premium  vintage  response\n",
       "0   1    Male   44         28.0                  26.0                1   > 2 Years            Yes                   0         40454.0      217         1\n",
       "1   2    Male   76          3.0                  26.0                1    1-2 Year             No                   0         33536.0      183         0\n",
       "2   3    Male   47         28.0                  26.0                1   > 2 Years            Yes                   0         38294.0       27         1\n",
       "3   4    Male   21         11.0                 152.0                1    < 1 Year             No                   1         28619.0      203         0\n",
       "4   5  Female   29         41.0                 152.0                1    < 1 Year             No                   1         27496.0       39         0"
      ]
     },
     "execution_count": 27,
     "metadata": {},
     "output_type": "execute_result"
    }
   ],
   "source": [
    "# remove duplicate columns (i.e. the 'id' from vehicle and insurance tables)\n",
    "df_raw = pd.read_sql( query_table_users, conn )\n",
    "df_raw = df_raw.loc[:,~df_raw.columns.duplicated()]\n",
    "df_raw.head()"
   ]
  },
  {
   "cell_type": "code",
   "execution_count": 28,
   "id": "567ef9fe",
   "metadata": {
    "ExecuteTime": {
     "end_time": "2022-02-05T21:34:37.076808Z",
     "start_time": "2022-02-05T21:34:36.996696Z"
    },
    "hidden": true
   },
   "outputs": [
    {
     "data": {
      "text/plain": [
       "(381109, 12)"
      ]
     },
     "execution_count": 28,
     "metadata": {},
     "output_type": "execute_result"
    }
   ],
   "source": [
    "df_raw.shape"
   ]
  },
  {
   "cell_type": "code",
   "execution_count": 29,
   "id": "0c72c3ff",
   "metadata": {
    "ExecuteTime": {
     "end_time": "2022-02-05T21:34:40.665866Z",
     "start_time": "2022-02-05T21:34:37.093072Z"
    },
    "hidden": true
   },
   "outputs": [],
   "source": [
    "#same result obtained with sqlarquemy, won't export again\n",
    "#df_raw.to_csv(datapath+'data_collection_done.csv', index=False)"
   ]
  },
  {
   "cell_type": "markdown",
   "id": "60b3f901",
   "metadata": {
    "heading_collapsed": true
   },
   "source": [
    "# Data Description"
   ]
  },
  {
   "cell_type": "code",
   "execution_count": 146,
   "id": "29ed4b0f",
   "metadata": {
    "ExecuteTime": {
     "end_time": "2022-02-12T13:42:19.991765Z",
     "start_time": "2022-02-12T13:42:19.453813Z"
    },
    "hidden": true
   },
   "outputs": [
    {
     "data": {
      "text/html": [
       "<div>\n",
       "<style scoped>\n",
       "    .dataframe tbody tr th:only-of-type {\n",
       "        vertical-align: middle;\n",
       "    }\n",
       "\n",
       "    .dataframe tbody tr th {\n",
       "        vertical-align: top;\n",
       "    }\n",
       "\n",
       "    .dataframe thead th {\n",
       "        text-align: right;\n",
       "    }\n",
       "</style>\n",
       "<table border=\"1\" class=\"dataframe\">\n",
       "  <thead>\n",
       "    <tr style=\"text-align: right;\">\n",
       "      <th></th>\n",
       "      <th>id</th>\n",
       "      <th>gender</th>\n",
       "      <th>age</th>\n",
       "      <th>region_code</th>\n",
       "      <th>policy_sales_channel</th>\n",
       "      <th>driving_license</th>\n",
       "      <th>vehicle_age</th>\n",
       "      <th>vehicle_damage</th>\n",
       "      <th>previously_insured</th>\n",
       "      <th>annual_premium</th>\n",
       "      <th>vintage</th>\n",
       "      <th>response</th>\n",
       "    </tr>\n",
       "  </thead>\n",
       "  <tbody>\n",
       "    <tr>\n",
       "      <th>0</th>\n",
       "      <td>1</td>\n",
       "      <td>Male</td>\n",
       "      <td>44</td>\n",
       "      <td>28.0</td>\n",
       "      <td>26.0</td>\n",
       "      <td>1</td>\n",
       "      <td>&gt; 2 Years</td>\n",
       "      <td>Yes</td>\n",
       "      <td>0</td>\n",
       "      <td>40454.0</td>\n",
       "      <td>217</td>\n",
       "      <td>1</td>\n",
       "    </tr>\n",
       "    <tr>\n",
       "      <th>1</th>\n",
       "      <td>2</td>\n",
       "      <td>Male</td>\n",
       "      <td>76</td>\n",
       "      <td>3.0</td>\n",
       "      <td>26.0</td>\n",
       "      <td>1</td>\n",
       "      <td>1-2 Year</td>\n",
       "      <td>No</td>\n",
       "      <td>0</td>\n",
       "      <td>33536.0</td>\n",
       "      <td>183</td>\n",
       "      <td>0</td>\n",
       "    </tr>\n",
       "    <tr>\n",
       "      <th>2</th>\n",
       "      <td>3</td>\n",
       "      <td>Male</td>\n",
       "      <td>47</td>\n",
       "      <td>28.0</td>\n",
       "      <td>26.0</td>\n",
       "      <td>1</td>\n",
       "      <td>&gt; 2 Years</td>\n",
       "      <td>Yes</td>\n",
       "      <td>0</td>\n",
       "      <td>38294.0</td>\n",
       "      <td>27</td>\n",
       "      <td>1</td>\n",
       "    </tr>\n",
       "    <tr>\n",
       "      <th>3</th>\n",
       "      <td>4</td>\n",
       "      <td>Male</td>\n",
       "      <td>21</td>\n",
       "      <td>11.0</td>\n",
       "      <td>152.0</td>\n",
       "      <td>1</td>\n",
       "      <td>&lt; 1 Year</td>\n",
       "      <td>No</td>\n",
       "      <td>1</td>\n",
       "      <td>28619.0</td>\n",
       "      <td>203</td>\n",
       "      <td>0</td>\n",
       "    </tr>\n",
       "    <tr>\n",
       "      <th>4</th>\n",
       "      <td>5</td>\n",
       "      <td>Female</td>\n",
       "      <td>29</td>\n",
       "      <td>41.0</td>\n",
       "      <td>152.0</td>\n",
       "      <td>1</td>\n",
       "      <td>&lt; 1 Year</td>\n",
       "      <td>No</td>\n",
       "      <td>1</td>\n",
       "      <td>27496.0</td>\n",
       "      <td>39</td>\n",
       "      <td>0</td>\n",
       "    </tr>\n",
       "  </tbody>\n",
       "</table>\n",
       "</div>"
      ],
      "text/plain": [
       "   id  gender  age  region_code  policy_sales_channel  driving_license vehicle_age vehicle_damage  previously_insured  annual_premium  vintage  response\n",
       "0   1    Male   44         28.0                  26.0                1   > 2 Years            Yes                   0         40454.0      217         1\n",
       "1   2    Male   76          3.0                  26.0                1    1-2 Year             No                   0         33536.0      183         0\n",
       "2   3    Male   47         28.0                  26.0                1   > 2 Years            Yes                   0         38294.0       27         1\n",
       "3   4    Male   21         11.0                 152.0                1    < 1 Year             No                   1         28619.0      203         0\n",
       "4   5  Female   29         41.0                 152.0                1    < 1 Year             No                   1         27496.0       39         0"
      ]
     },
     "execution_count": 146,
     "metadata": {},
     "output_type": "execute_result"
    }
   ],
   "source": [
    "df1 = pd.read_csv(datapath+'data_collection_done.csv')\n",
    "df1.head(5)"
   ]
  },
  {
   "cell_type": "code",
   "execution_count": 147,
   "id": "e4b3ca60",
   "metadata": {
    "ExecuteTime": {
     "end_time": "2022-02-12T13:42:22.120890Z",
     "start_time": "2022-02-12T13:42:22.022050Z"
    },
    "hidden": true,
    "scrolled": true
   },
   "outputs": [
    {
     "name": "stdout",
     "output_type": "stream",
     "text": [
      "<class 'pandas.core.frame.DataFrame'>\n",
      "RangeIndex: 381109 entries, 0 to 381108\n",
      "Data columns (total 12 columns):\n",
      " #   Column                Non-Null Count   Dtype  \n",
      "---  ------                --------------   -----  \n",
      " 0   id                    381109 non-null  int64  \n",
      " 1   gender                381109 non-null  object \n",
      " 2   age                   381109 non-null  int64  \n",
      " 3   region_code           381109 non-null  float64\n",
      " 4   policy_sales_channel  381109 non-null  float64\n",
      " 5   driving_license       381109 non-null  int64  \n",
      " 6   vehicle_age           381109 non-null  object \n",
      " 7   vehicle_damage        381109 non-null  object \n",
      " 8   previously_insured    381109 non-null  int64  \n",
      " 9   annual_premium        381109 non-null  float64\n",
      " 10  vintage               381109 non-null  int64  \n",
      " 11  response              381109 non-null  int64  \n",
      "dtypes: float64(3), int64(6), object(3)\n",
      "memory usage: 34.9+ MB\n"
     ]
    }
   ],
   "source": [
    "df1.info()"
   ]
  },
  {
   "cell_type": "markdown",
   "id": "f9726057",
   "metadata": {
    "hidden": true
   },
   "source": [
    "## Rename Columns"
   ]
  },
  {
   "cell_type": "code",
   "execution_count": 148,
   "id": "318d7482",
   "metadata": {
    "ExecuteTime": {
     "end_time": "2022-02-12T13:42:23.103310Z",
     "start_time": "2022-02-12T13:42:23.091324Z"
    },
    "hidden": true
   },
   "outputs": [
    {
     "data": {
      "text/plain": [
       "Index(['id', 'gender', 'age', 'region_code', 'policy_sales_channel',\n",
       "       'driving_license', 'vehicle_age', 'vehicle_damage',\n",
       "       'previously_insured', 'annual_premium', 'vintage', 'response'],\n",
       "      dtype='object')"
      ]
     },
     "execution_count": 148,
     "metadata": {},
     "output_type": "execute_result"
    }
   ],
   "source": [
    "df1.columns"
   ]
  },
  {
   "cell_type": "code",
   "execution_count": 149,
   "id": "d42c5417",
   "metadata": {
    "ExecuteTime": {
     "end_time": "2022-02-12T13:42:23.767831Z",
     "start_time": "2022-02-12T13:42:23.710085Z"
    },
    "hidden": true
   },
   "outputs": [
    {
     "data": {
      "text/html": [
       "<div>\n",
       "<style scoped>\n",
       "    .dataframe tbody tr th:only-of-type {\n",
       "        vertical-align: middle;\n",
       "    }\n",
       "\n",
       "    .dataframe tbody tr th {\n",
       "        vertical-align: top;\n",
       "    }\n",
       "\n",
       "    .dataframe thead th {\n",
       "        text-align: right;\n",
       "    }\n",
       "</style>\n",
       "<table border=\"1\" class=\"dataframe\">\n",
       "  <thead>\n",
       "    <tr style=\"text-align: right;\">\n",
       "      <th></th>\n",
       "      <th>id</th>\n",
       "      <th>gender</th>\n",
       "      <th>age</th>\n",
       "      <th>region_code</th>\n",
       "      <th>policy_sales_channel</th>\n",
       "      <th>driving_license</th>\n",
       "      <th>vehicle_age</th>\n",
       "      <th>vehicle_damage</th>\n",
       "      <th>vehicle_prev_insured</th>\n",
       "      <th>health_annual_paid</th>\n",
       "      <th>days_associated</th>\n",
       "      <th>response</th>\n",
       "    </tr>\n",
       "  </thead>\n",
       "  <tbody>\n",
       "    <tr>\n",
       "      <th>0</th>\n",
       "      <td>1</td>\n",
       "      <td>Male</td>\n",
       "      <td>44</td>\n",
       "      <td>28.0</td>\n",
       "      <td>26.0</td>\n",
       "      <td>1</td>\n",
       "      <td>&gt; 2 Years</td>\n",
       "      <td>Yes</td>\n",
       "      <td>0</td>\n",
       "      <td>40454.0</td>\n",
       "      <td>217</td>\n",
       "      <td>1</td>\n",
       "    </tr>\n",
       "    <tr>\n",
       "      <th>1</th>\n",
       "      <td>2</td>\n",
       "      <td>Male</td>\n",
       "      <td>76</td>\n",
       "      <td>3.0</td>\n",
       "      <td>26.0</td>\n",
       "      <td>1</td>\n",
       "      <td>1-2 Year</td>\n",
       "      <td>No</td>\n",
       "      <td>0</td>\n",
       "      <td>33536.0</td>\n",
       "      <td>183</td>\n",
       "      <td>0</td>\n",
       "    </tr>\n",
       "    <tr>\n",
       "      <th>2</th>\n",
       "      <td>3</td>\n",
       "      <td>Male</td>\n",
       "      <td>47</td>\n",
       "      <td>28.0</td>\n",
       "      <td>26.0</td>\n",
       "      <td>1</td>\n",
       "      <td>&gt; 2 Years</td>\n",
       "      <td>Yes</td>\n",
       "      <td>0</td>\n",
       "      <td>38294.0</td>\n",
       "      <td>27</td>\n",
       "      <td>1</td>\n",
       "    </tr>\n",
       "    <tr>\n",
       "      <th>3</th>\n",
       "      <td>4</td>\n",
       "      <td>Male</td>\n",
       "      <td>21</td>\n",
       "      <td>11.0</td>\n",
       "      <td>152.0</td>\n",
       "      <td>1</td>\n",
       "      <td>&lt; 1 Year</td>\n",
       "      <td>No</td>\n",
       "      <td>1</td>\n",
       "      <td>28619.0</td>\n",
       "      <td>203</td>\n",
       "      <td>0</td>\n",
       "    </tr>\n",
       "    <tr>\n",
       "      <th>4</th>\n",
       "      <td>5</td>\n",
       "      <td>Female</td>\n",
       "      <td>29</td>\n",
       "      <td>41.0</td>\n",
       "      <td>152.0</td>\n",
       "      <td>1</td>\n",
       "      <td>&lt; 1 Year</td>\n",
       "      <td>No</td>\n",
       "      <td>1</td>\n",
       "      <td>27496.0</td>\n",
       "      <td>39</td>\n",
       "      <td>0</td>\n",
       "    </tr>\n",
       "    <tr>\n",
       "      <th>...</th>\n",
       "      <td>...</td>\n",
       "      <td>...</td>\n",
       "      <td>...</td>\n",
       "      <td>...</td>\n",
       "      <td>...</td>\n",
       "      <td>...</td>\n",
       "      <td>...</td>\n",
       "      <td>...</td>\n",
       "      <td>...</td>\n",
       "      <td>...</td>\n",
       "      <td>...</td>\n",
       "      <td>...</td>\n",
       "    </tr>\n",
       "    <tr>\n",
       "      <th>381104</th>\n",
       "      <td>381105</td>\n",
       "      <td>Male</td>\n",
       "      <td>74</td>\n",
       "      <td>26.0</td>\n",
       "      <td>26.0</td>\n",
       "      <td>1</td>\n",
       "      <td>1-2 Year</td>\n",
       "      <td>No</td>\n",
       "      <td>1</td>\n",
       "      <td>30170.0</td>\n",
       "      <td>88</td>\n",
       "      <td>0</td>\n",
       "    </tr>\n",
       "    <tr>\n",
       "      <th>381105</th>\n",
       "      <td>381106</td>\n",
       "      <td>Male</td>\n",
       "      <td>30</td>\n",
       "      <td>37.0</td>\n",
       "      <td>152.0</td>\n",
       "      <td>1</td>\n",
       "      <td>&lt; 1 Year</td>\n",
       "      <td>No</td>\n",
       "      <td>1</td>\n",
       "      <td>40016.0</td>\n",
       "      <td>131</td>\n",
       "      <td>0</td>\n",
       "    </tr>\n",
       "    <tr>\n",
       "      <th>381106</th>\n",
       "      <td>381107</td>\n",
       "      <td>Male</td>\n",
       "      <td>21</td>\n",
       "      <td>30.0</td>\n",
       "      <td>160.0</td>\n",
       "      <td>1</td>\n",
       "      <td>&lt; 1 Year</td>\n",
       "      <td>No</td>\n",
       "      <td>1</td>\n",
       "      <td>35118.0</td>\n",
       "      <td>161</td>\n",
       "      <td>0</td>\n",
       "    </tr>\n",
       "    <tr>\n",
       "      <th>381107</th>\n",
       "      <td>381108</td>\n",
       "      <td>Female</td>\n",
       "      <td>68</td>\n",
       "      <td>14.0</td>\n",
       "      <td>124.0</td>\n",
       "      <td>1</td>\n",
       "      <td>&gt; 2 Years</td>\n",
       "      <td>Yes</td>\n",
       "      <td>0</td>\n",
       "      <td>44617.0</td>\n",
       "      <td>74</td>\n",
       "      <td>0</td>\n",
       "    </tr>\n",
       "    <tr>\n",
       "      <th>381108</th>\n",
       "      <td>381109</td>\n",
       "      <td>Male</td>\n",
       "      <td>46</td>\n",
       "      <td>29.0</td>\n",
       "      <td>26.0</td>\n",
       "      <td>1</td>\n",
       "      <td>1-2 Year</td>\n",
       "      <td>No</td>\n",
       "      <td>0</td>\n",
       "      <td>41777.0</td>\n",
       "      <td>237</td>\n",
       "      <td>0</td>\n",
       "    </tr>\n",
       "  </tbody>\n",
       "</table>\n",
       "<p>381109 rows × 12 columns</p>\n",
       "</div>"
      ],
      "text/plain": [
       "            id  gender  age  region_code  policy_sales_channel  driving_license vehicle_age vehicle_damage  vehicle_prev_insured  health_annual_paid  days_associated  response\n",
       "0            1    Male   44         28.0                  26.0                1   > 2 Years            Yes                     0             40454.0              217         1\n",
       "1            2    Male   76          3.0                  26.0                1    1-2 Year             No                     0             33536.0              183         0\n",
       "2            3    Male   47         28.0                  26.0                1   > 2 Years            Yes                     0             38294.0               27         1\n",
       "3            4    Male   21         11.0                 152.0                1    < 1 Year             No                     1             28619.0              203         0\n",
       "4            5  Female   29         41.0                 152.0                1    < 1 Year             No                     1             27496.0               39         0\n",
       "...        ...     ...  ...          ...                   ...              ...         ...            ...                   ...                 ...              ...       ...\n",
       "381104  381105    Male   74         26.0                  26.0                1    1-2 Year             No                     1             30170.0               88         0\n",
       "381105  381106    Male   30         37.0                 152.0                1    < 1 Year             No                     1             40016.0              131         0\n",
       "381106  381107    Male   21         30.0                 160.0                1    < 1 Year             No                     1             35118.0              161         0\n",
       "381107  381108  Female   68         14.0                 124.0                1   > 2 Years            Yes                     0             44617.0               74         0\n",
       "381108  381109    Male   46         29.0                  26.0                1    1-2 Year             No                     0             41777.0              237         0\n",
       "\n",
       "[381109 rows x 12 columns]"
      ]
     },
     "execution_count": 149,
     "metadata": {},
     "output_type": "execute_result"
    }
   ],
   "source": [
    "df1 = df1.rename(columns={'previously_insured': 'vehicle_prev_insured',\n",
    "                        'annual_premium': 'health_annual_paid',\n",
    "                        'vintage': 'days_associated'})\n",
    "df1"
   ]
  },
  {
   "cell_type": "markdown",
   "id": "c25e7b46",
   "metadata": {
    "hidden": true
   },
   "source": [
    "## Column Meanings"
   ]
  },
  {
   "cell_type": "code",
   "execution_count": 150,
   "id": "a6bed5ac",
   "metadata": {
    "ExecuteTime": {
     "end_time": "2022-02-12T13:43:04.535092Z",
     "start_time": "2022-02-12T13:43:04.525716Z"
    },
    "code_folding": [],
    "hidden": true
   },
   "outputs": [
    {
     "name": "stdout",
     "output_type": "stream",
     "text": [
      "| Column                | Meaning                                                                                                                   |\n",
      "|:----------------------|:--------------------------------------------------------------------------------------------------------------------------|\n",
      "| id                    | unique customer identifier.                                                                                               |\n",
      "| gender                | client gender: Male / Female.                                                                                             |\n",
      "| age                   | customer age.                                                                                                             |\n",
      "| region_code           | customer region code.                                                                                                     |\n",
      "| policy_sales_channel  | Anonymized Code for the channel of outreaching to the customer. Ie: Over Mail, Over Phone, In Person, etc..               |\n",
      "| driving_license       | 0 = customer does not have DL, 1 = already have DL                                                                        |\n",
      "| vehicle_age           | vehicle age: < 1 Year, 1-2 Year, > 2 Years                                                                                |\n",
      "| vehicle_damage        | No = customer has never had their vehicle damaged in the past, Yes = has had it.                                          |\n",
      "| vehicle_prev_insured  | 0 = customer does not have vehicle insurance, 1= already has vehicle insurance.                                           |\n",
      "| health_annual_premium | annual amount paid by the customer to the company for health insurance. Currency: Rs(Pakistani rupee, R$1.00 = ± Rs0.03). |\n",
      "| days_associated       | number of days since the customer joined the company by purchasing health insurance. The policy is annual.                |\n",
      "| response              | 0 = customer is not interested, 1 = customer is interested.                                                               |\n"
     ]
    }
   ],
   "source": [
    "#Double check understanding of each column\n",
    "\n",
    "tab = [['Column', 'Meaning'],\n",
    "    #####################################################  \n",
    "        ['id', 'unique customer identifier.'],\n",
    "        ['gender', 'client gender: Male / Female.'],\n",
    "        ['age', 'customer age.'],\n",
    "        ['region_code', 'customer region code.'],\n",
    "        ['policy_sales_channel', 'Anonymized Code for the channel of outreaching to the customer. Ie: Over Mail, Over Phone, In Person, etc..'],\n",
    "        ['driving_license', '0 = customer does not have DL, 1 = already have DL'],\n",
    "        ['vehicle_age', 'vehicle age: < 1 Year, 1-2 Year, > 2 Years'],\n",
    "        ['vehicle_damage', 'No = customer has never had their vehicle damaged in the past, Yes = has had it.'],\n",
    "        ['vehicle_prev_insured', '0 = customer does not have vehicle insurance, 1= already has vehicle insurance.'],\n",
    "        ['health_annual_premium', 'annual amount paid by the customer to the company for health insurance. Currency: Rs(Pakistani rupee, R$1.00 = ± Rs0.03).'],\n",
    "       \n",
    "        ['days_associated', 'number of days since the customer joined the company by purchasing health insurance. The policy is annual.'],\n",
    "        ['response', '0 = customer is not interested, 1 = customer is interested.']\n",
    "      ]\n",
    "print(tabulate(tab, headers='firstrow', stralign='left', tablefmt='pipe'))\n",
    "#tablefmt='pipe', tablefmt='grid'"
   ]
  },
  {
   "cell_type": "markdown",
   "id": "0d09850b",
   "metadata": {
    "hidden": true
   },
   "source": [
    "## Data Dimension"
   ]
  },
  {
   "cell_type": "code",
   "execution_count": 151,
   "id": "412718a5",
   "metadata": {
    "ExecuteTime": {
     "end_time": "2022-02-12T13:43:26.054437Z",
     "start_time": "2022-02-12T13:43:26.043879Z"
    },
    "hidden": true
   },
   "outputs": [
    {
     "name": "stdout",
     "output_type": "stream",
     "text": [
      "Number of rows: 381109 \n",
      "Number of columns: 12 \n"
     ]
    }
   ],
   "source": [
    "print(f'Number of rows: {df1.shape[0]} ')\n",
    "print(f'Number of columns: {df1.shape[1]} ')"
   ]
  },
  {
   "cell_type": "markdown",
   "id": "4dffafba",
   "metadata": {
    "hidden": true
   },
   "source": [
    "## Data Types"
   ]
  },
  {
   "cell_type": "code",
   "execution_count": 152,
   "id": "33e0ac42",
   "metadata": {
    "ExecuteTime": {
     "end_time": "2022-02-12T13:43:30.250871Z",
     "start_time": "2022-02-12T13:43:30.243704Z"
    },
    "hidden": true
   },
   "outputs": [
    {
     "data": {
      "text/plain": [
       "id                        int64\n",
       "gender                   object\n",
       "age                       int64\n",
       "region_code             float64\n",
       "policy_sales_channel    float64\n",
       "driving_license           int64\n",
       "vehicle_age              object\n",
       "vehicle_damage           object\n",
       "vehicle_prev_insured      int64\n",
       "health_annual_paid      float64\n",
       "days_associated           int64\n",
       "response                  int64\n",
       "dtype: object"
      ]
     },
     "execution_count": 152,
     "metadata": {},
     "output_type": "execute_result"
    }
   ],
   "source": [
    "df1.dtypes"
   ]
  },
  {
   "cell_type": "code",
   "execution_count": 153,
   "id": "32e0d8c6",
   "metadata": {
    "ExecuteTime": {
     "end_time": "2022-02-12T13:43:31.403297Z",
     "start_time": "2022-02-12T13:43:31.371425Z"
    },
    "hidden": true
   },
   "outputs": [
    {
     "data": {
      "text/html": [
       "<div>\n",
       "<style scoped>\n",
       "    .dataframe tbody tr th:only-of-type {\n",
       "        vertical-align: middle;\n",
       "    }\n",
       "\n",
       "    .dataframe tbody tr th {\n",
       "        vertical-align: top;\n",
       "    }\n",
       "\n",
       "    .dataframe thead th {\n",
       "        text-align: right;\n",
       "    }\n",
       "</style>\n",
       "<table border=\"1\" class=\"dataframe\">\n",
       "  <thead>\n",
       "    <tr style=\"text-align: right;\">\n",
       "      <th></th>\n",
       "      <th>id</th>\n",
       "      <th>gender</th>\n",
       "      <th>age</th>\n",
       "      <th>region_code</th>\n",
       "      <th>policy_sales_channel</th>\n",
       "      <th>driving_license</th>\n",
       "      <th>vehicle_age</th>\n",
       "      <th>vehicle_damage</th>\n",
       "      <th>vehicle_prev_insured</th>\n",
       "      <th>health_annual_paid</th>\n",
       "      <th>days_associated</th>\n",
       "      <th>response</th>\n",
       "    </tr>\n",
       "  </thead>\n",
       "  <tbody>\n",
       "    <tr>\n",
       "      <th>0</th>\n",
       "      <td>1</td>\n",
       "      <td>Male</td>\n",
       "      <td>44</td>\n",
       "      <td>28.0</td>\n",
       "      <td>26.0</td>\n",
       "      <td>1</td>\n",
       "      <td>&gt; 2 Years</td>\n",
       "      <td>Yes</td>\n",
       "      <td>0</td>\n",
       "      <td>40454.0</td>\n",
       "      <td>217</td>\n",
       "      <td>1</td>\n",
       "    </tr>\n",
       "    <tr>\n",
       "      <th>1</th>\n",
       "      <td>2</td>\n",
       "      <td>Male</td>\n",
       "      <td>76</td>\n",
       "      <td>3.0</td>\n",
       "      <td>26.0</td>\n",
       "      <td>1</td>\n",
       "      <td>1-2 Year</td>\n",
       "      <td>No</td>\n",
       "      <td>0</td>\n",
       "      <td>33536.0</td>\n",
       "      <td>183</td>\n",
       "      <td>0</td>\n",
       "    </tr>\n",
       "    <tr>\n",
       "      <th>2</th>\n",
       "      <td>3</td>\n",
       "      <td>Male</td>\n",
       "      <td>47</td>\n",
       "      <td>28.0</td>\n",
       "      <td>26.0</td>\n",
       "      <td>1</td>\n",
       "      <td>&gt; 2 Years</td>\n",
       "      <td>Yes</td>\n",
       "      <td>0</td>\n",
       "      <td>38294.0</td>\n",
       "      <td>27</td>\n",
       "      <td>1</td>\n",
       "    </tr>\n",
       "    <tr>\n",
       "      <th>3</th>\n",
       "      <td>4</td>\n",
       "      <td>Male</td>\n",
       "      <td>21</td>\n",
       "      <td>11.0</td>\n",
       "      <td>152.0</td>\n",
       "      <td>1</td>\n",
       "      <td>&lt; 1 Year</td>\n",
       "      <td>No</td>\n",
       "      <td>1</td>\n",
       "      <td>28619.0</td>\n",
       "      <td>203</td>\n",
       "      <td>0</td>\n",
       "    </tr>\n",
       "    <tr>\n",
       "      <th>4</th>\n",
       "      <td>5</td>\n",
       "      <td>Female</td>\n",
       "      <td>29</td>\n",
       "      <td>41.0</td>\n",
       "      <td>152.0</td>\n",
       "      <td>1</td>\n",
       "      <td>&lt; 1 Year</td>\n",
       "      <td>No</td>\n",
       "      <td>1</td>\n",
       "      <td>27496.0</td>\n",
       "      <td>39</td>\n",
       "      <td>0</td>\n",
       "    </tr>\n",
       "    <tr>\n",
       "      <th>...</th>\n",
       "      <td>...</td>\n",
       "      <td>...</td>\n",
       "      <td>...</td>\n",
       "      <td>...</td>\n",
       "      <td>...</td>\n",
       "      <td>...</td>\n",
       "      <td>...</td>\n",
       "      <td>...</td>\n",
       "      <td>...</td>\n",
       "      <td>...</td>\n",
       "      <td>...</td>\n",
       "      <td>...</td>\n",
       "    </tr>\n",
       "    <tr>\n",
       "      <th>381104</th>\n",
       "      <td>381105</td>\n",
       "      <td>Male</td>\n",
       "      <td>74</td>\n",
       "      <td>26.0</td>\n",
       "      <td>26.0</td>\n",
       "      <td>1</td>\n",
       "      <td>1-2 Year</td>\n",
       "      <td>No</td>\n",
       "      <td>1</td>\n",
       "      <td>30170.0</td>\n",
       "      <td>88</td>\n",
       "      <td>0</td>\n",
       "    </tr>\n",
       "    <tr>\n",
       "      <th>381105</th>\n",
       "      <td>381106</td>\n",
       "      <td>Male</td>\n",
       "      <td>30</td>\n",
       "      <td>37.0</td>\n",
       "      <td>152.0</td>\n",
       "      <td>1</td>\n",
       "      <td>&lt; 1 Year</td>\n",
       "      <td>No</td>\n",
       "      <td>1</td>\n",
       "      <td>40016.0</td>\n",
       "      <td>131</td>\n",
       "      <td>0</td>\n",
       "    </tr>\n",
       "    <tr>\n",
       "      <th>381106</th>\n",
       "      <td>381107</td>\n",
       "      <td>Male</td>\n",
       "      <td>21</td>\n",
       "      <td>30.0</td>\n",
       "      <td>160.0</td>\n",
       "      <td>1</td>\n",
       "      <td>&lt; 1 Year</td>\n",
       "      <td>No</td>\n",
       "      <td>1</td>\n",
       "      <td>35118.0</td>\n",
       "      <td>161</td>\n",
       "      <td>0</td>\n",
       "    </tr>\n",
       "    <tr>\n",
       "      <th>381107</th>\n",
       "      <td>381108</td>\n",
       "      <td>Female</td>\n",
       "      <td>68</td>\n",
       "      <td>14.0</td>\n",
       "      <td>124.0</td>\n",
       "      <td>1</td>\n",
       "      <td>&gt; 2 Years</td>\n",
       "      <td>Yes</td>\n",
       "      <td>0</td>\n",
       "      <td>44617.0</td>\n",
       "      <td>74</td>\n",
       "      <td>0</td>\n",
       "    </tr>\n",
       "    <tr>\n",
       "      <th>381108</th>\n",
       "      <td>381109</td>\n",
       "      <td>Male</td>\n",
       "      <td>46</td>\n",
       "      <td>29.0</td>\n",
       "      <td>26.0</td>\n",
       "      <td>1</td>\n",
       "      <td>1-2 Year</td>\n",
       "      <td>No</td>\n",
       "      <td>0</td>\n",
       "      <td>41777.0</td>\n",
       "      <td>237</td>\n",
       "      <td>0</td>\n",
       "    </tr>\n",
       "  </tbody>\n",
       "</table>\n",
       "<p>381109 rows × 12 columns</p>\n",
       "</div>"
      ],
      "text/plain": [
       "            id  gender  age  region_code  policy_sales_channel  driving_license vehicle_age vehicle_damage  vehicle_prev_insured  health_annual_paid  days_associated  response\n",
       "0            1    Male   44         28.0                  26.0                1   > 2 Years            Yes                     0             40454.0              217         1\n",
       "1            2    Male   76          3.0                  26.0                1    1-2 Year             No                     0             33536.0              183         0\n",
       "2            3    Male   47         28.0                  26.0                1   > 2 Years            Yes                     0             38294.0               27         1\n",
       "3            4    Male   21         11.0                 152.0                1    < 1 Year             No                     1             28619.0              203         0\n",
       "4            5  Female   29         41.0                 152.0                1    < 1 Year             No                     1             27496.0               39         0\n",
       "...        ...     ...  ...          ...                   ...              ...         ...            ...                   ...                 ...              ...       ...\n",
       "381104  381105    Male   74         26.0                  26.0                1    1-2 Year             No                     1             30170.0               88         0\n",
       "381105  381106    Male   30         37.0                 152.0                1    < 1 Year             No                     1             40016.0              131         0\n",
       "381106  381107    Male   21         30.0                 160.0                1    < 1 Year             No                     1             35118.0              161         0\n",
       "381107  381108  Female   68         14.0                 124.0                1   > 2 Years            Yes                     0             44617.0               74         0\n",
       "381108  381109    Male   46         29.0                  26.0                1    1-2 Year             No                     0             41777.0              237         0\n",
       "\n",
       "[381109 rows x 12 columns]"
      ]
     },
     "execution_count": 153,
     "metadata": {},
     "output_type": "execute_result"
    }
   ],
   "source": [
    "df1"
   ]
  },
  {
   "cell_type": "code",
   "execution_count": 154,
   "id": "a2d5ba49",
   "metadata": {
    "ExecuteTime": {
     "end_time": "2022-02-12T13:43:43.707520Z",
     "start_time": "2022-02-12T13:43:43.684184Z"
    },
    "hidden": true,
    "scrolled": true
   },
   "outputs": [
    {
     "data": {
      "text/plain": [
       "0    28\n",
       "1     3\n",
       "2    28\n",
       "3    11\n",
       "4    41\n",
       "Name: region_code, dtype: int64"
      ]
     },
     "execution_count": 154,
     "metadata": {},
     "output_type": "execute_result"
    }
   ],
   "source": [
    "#convert df['region_code'] to int:\n",
    "#df['region_code'].value_counts()\n",
    "df1['region_code'] = df1['region_code'].astype(int)\n",
    "df1['region_code'].head()"
   ]
  },
  {
   "cell_type": "code",
   "execution_count": 155,
   "id": "1d2062cf",
   "metadata": {
    "ExecuteTime": {
     "end_time": "2022-02-12T13:44:06.242952Z",
     "start_time": "2022-02-12T13:44:06.221002Z"
    },
    "hidden": true
   },
   "outputs": [
    {
     "data": {
      "text/plain": [
       "0     26\n",
       "1     26\n",
       "2     26\n",
       "3    152\n",
       "4    152\n",
       "Name: policy_sales_channel, dtype: int64"
      ]
     },
     "execution_count": 155,
     "metadata": {},
     "output_type": "execute_result"
    }
   ],
   "source": [
    "#convert df['policy_sales_channel'] to int:\n",
    "#df['policy_sales_channel'].value_counts().head(50)\n",
    "df1['policy_sales_channel'] = df1['policy_sales_channel'].astype(int)\n",
    "df1['policy_sales_channel'].head()\n"
   ]
  },
  {
   "cell_type": "code",
   "execution_count": 157,
   "id": "8c9b37d1",
   "metadata": {
    "ExecuteTime": {
     "end_time": "2022-02-12T13:44:16.714926Z",
     "start_time": "2022-02-12T13:44:16.700583Z"
    },
    "hidden": true
   },
   "outputs": [
    {
     "data": {
      "text/plain": [
       "id                        int64\n",
       "gender                   object\n",
       "age                       int64\n",
       "region_code               int64\n",
       "policy_sales_channel      int64\n",
       "driving_license           int64\n",
       "vehicle_age              object\n",
       "vehicle_damage           object\n",
       "vehicle_prev_insured      int64\n",
       "health_annual_paid      float64\n",
       "days_associated           int64\n",
       "response                  int64\n",
       "dtype: object"
      ]
     },
     "execution_count": 157,
     "metadata": {},
     "output_type": "execute_result"
    }
   ],
   "source": [
    "df1.dtypes"
   ]
  },
  {
   "cell_type": "markdown",
   "id": "bee856ce",
   "metadata": {
    "hidden": true
   },
   "source": [
    "## Check NA"
   ]
  },
  {
   "cell_type": "code",
   "execution_count": 159,
   "id": "9b994b51",
   "metadata": {
    "ExecuteTime": {
     "end_time": "2022-02-12T13:44:28.701219Z",
     "start_time": "2022-02-12T13:44:28.620264Z"
    },
    "hidden": true
   },
   "outputs": [
    {
     "data": {
      "text/plain": [
       "id                      0\n",
       "gender                  0\n",
       "age                     0\n",
       "region_code             0\n",
       "policy_sales_channel    0\n",
       "driving_license         0\n",
       "vehicle_age             0\n",
       "vehicle_damage          0\n",
       "vehicle_prev_insured    0\n",
       "health_annual_paid      0\n",
       "days_associated         0\n",
       "response                0\n",
       "dtype: int64"
      ]
     },
     "execution_count": 159,
     "metadata": {},
     "output_type": "execute_result"
    }
   ],
   "source": [
    "df1.isna().sum()\n",
    "\n",
    "#nothing to handle\n"
   ]
  },
  {
   "cell_type": "markdown",
   "id": "ea3e80ea",
   "metadata": {
    "ExecuteTime": {
     "end_time": "2022-02-04T10:12:54.872815Z",
     "start_time": "2022-02-04T10:12:54.858154Z"
    },
    "hidden": true
   },
   "source": [
    "## Fill NA"
   ]
  },
  {
   "cell_type": "code",
   "execution_count": 164,
   "id": "e6225961",
   "metadata": {
    "ExecuteTime": {
     "end_time": "2022-02-12T13:44:42.262140Z",
     "start_time": "2022-02-12T13:44:42.257125Z"
    },
    "hidden": true
   },
   "outputs": [],
   "source": [
    "#Not necessary\n",
    "pass\n"
   ]
  },
  {
   "cell_type": "markdown",
   "id": "d1ed06d3",
   "metadata": {
    "hidden": true
   },
   "source": [
    "## Descriptive Statistical"
   ]
  },
  {
   "cell_type": "code",
   "execution_count": 165,
   "id": "0ef1b9a6",
   "metadata": {
    "ExecuteTime": {
     "end_time": "2022-02-12T13:44:44.947843Z",
     "start_time": "2022-02-12T13:44:44.929514Z"
    },
    "hidden": true
   },
   "outputs": [
    {
     "data": {
      "text/html": [
       "<div>\n",
       "<style scoped>\n",
       "    .dataframe tbody tr th:only-of-type {\n",
       "        vertical-align: middle;\n",
       "    }\n",
       "\n",
       "    .dataframe tbody tr th {\n",
       "        vertical-align: top;\n",
       "    }\n",
       "\n",
       "    .dataframe thead th {\n",
       "        text-align: right;\n",
       "    }\n",
       "</style>\n",
       "<table border=\"1\" class=\"dataframe\">\n",
       "  <thead>\n",
       "    <tr style=\"text-align: right;\">\n",
       "      <th></th>\n",
       "      <th>id</th>\n",
       "      <th>gender</th>\n",
       "      <th>age</th>\n",
       "      <th>region_code</th>\n",
       "      <th>policy_sales_channel</th>\n",
       "      <th>driving_license</th>\n",
       "      <th>vehicle_age</th>\n",
       "      <th>vehicle_damage</th>\n",
       "      <th>vehicle_prev_insured</th>\n",
       "      <th>health_annual_paid</th>\n",
       "      <th>days_associated</th>\n",
       "      <th>response</th>\n",
       "    </tr>\n",
       "  </thead>\n",
       "  <tbody>\n",
       "    <tr>\n",
       "      <th>0</th>\n",
       "      <td>1</td>\n",
       "      <td>Male</td>\n",
       "      <td>44</td>\n",
       "      <td>28</td>\n",
       "      <td>26</td>\n",
       "      <td>1</td>\n",
       "      <td>&gt; 2 Years</td>\n",
       "      <td>Yes</td>\n",
       "      <td>0</td>\n",
       "      <td>40454.0</td>\n",
       "      <td>217</td>\n",
       "      <td>1</td>\n",
       "    </tr>\n",
       "    <tr>\n",
       "      <th>1</th>\n",
       "      <td>2</td>\n",
       "      <td>Male</td>\n",
       "      <td>76</td>\n",
       "      <td>3</td>\n",
       "      <td>26</td>\n",
       "      <td>1</td>\n",
       "      <td>1-2 Year</td>\n",
       "      <td>No</td>\n",
       "      <td>0</td>\n",
       "      <td>33536.0</td>\n",
       "      <td>183</td>\n",
       "      <td>0</td>\n",
       "    </tr>\n",
       "    <tr>\n",
       "      <th>2</th>\n",
       "      <td>3</td>\n",
       "      <td>Male</td>\n",
       "      <td>47</td>\n",
       "      <td>28</td>\n",
       "      <td>26</td>\n",
       "      <td>1</td>\n",
       "      <td>&gt; 2 Years</td>\n",
       "      <td>Yes</td>\n",
       "      <td>0</td>\n",
       "      <td>38294.0</td>\n",
       "      <td>27</td>\n",
       "      <td>1</td>\n",
       "    </tr>\n",
       "    <tr>\n",
       "      <th>3</th>\n",
       "      <td>4</td>\n",
       "      <td>Male</td>\n",
       "      <td>21</td>\n",
       "      <td>11</td>\n",
       "      <td>152</td>\n",
       "      <td>1</td>\n",
       "      <td>&lt; 1 Year</td>\n",
       "      <td>No</td>\n",
       "      <td>1</td>\n",
       "      <td>28619.0</td>\n",
       "      <td>203</td>\n",
       "      <td>0</td>\n",
       "    </tr>\n",
       "    <tr>\n",
       "      <th>4</th>\n",
       "      <td>5</td>\n",
       "      <td>Female</td>\n",
       "      <td>29</td>\n",
       "      <td>41</td>\n",
       "      <td>152</td>\n",
       "      <td>1</td>\n",
       "      <td>&lt; 1 Year</td>\n",
       "      <td>No</td>\n",
       "      <td>1</td>\n",
       "      <td>27496.0</td>\n",
       "      <td>39</td>\n",
       "      <td>0</td>\n",
       "    </tr>\n",
       "  </tbody>\n",
       "</table>\n",
       "</div>"
      ],
      "text/plain": [
       "   id  gender  age  region_code  policy_sales_channel  driving_license vehicle_age vehicle_damage  vehicle_prev_insured  health_annual_paid  days_associated  response\n",
       "0   1    Male   44           28                    26                1   > 2 Years            Yes                     0             40454.0              217         1\n",
       "1   2    Male   76            3                    26                1    1-2 Year             No                     0             33536.0              183         0\n",
       "2   3    Male   47           28                    26                1   > 2 Years            Yes                     0             38294.0               27         1\n",
       "3   4    Male   21           11                   152                1    < 1 Year             No                     1             28619.0              203         0\n",
       "4   5  Female   29           41                   152                1    < 1 Year             No                     1             27496.0               39         0"
      ]
     },
     "execution_count": 165,
     "metadata": {},
     "output_type": "execute_result"
    }
   ],
   "source": [
    "df1.head()"
   ]
  },
  {
   "cell_type": "code",
   "execution_count": 166,
   "id": "8b8358ff",
   "metadata": {
    "ExecuteTime": {
     "end_time": "2022-02-12T13:46:01.023754Z",
     "start_time": "2022-02-12T13:46:00.960581Z"
    },
    "hidden": true
   },
   "outputs": [],
   "source": [
    "#separate cathegorical and numerical attributes\n",
    "num_attributes = df1[['age','health_annual_paid','days_associated']]\n",
    "cat_attributes = df1[['gender','region_code','policy_sales_channel','driving_license', 'vehicle_age', 'vehicle_damage', 'vehicle_prev_insured', 'response']]"
   ]
  },
  {
   "cell_type": "code",
   "execution_count": 167,
   "id": "567ec73f",
   "metadata": {
    "ExecuteTime": {
     "end_time": "2022-02-12T13:46:01.678038Z",
     "start_time": "2022-02-12T13:46:01.641002Z"
    },
    "hidden": true
   },
   "outputs": [
    {
     "data": {
      "text/html": [
       "<div>\n",
       "<style scoped>\n",
       "    .dataframe tbody tr th:only-of-type {\n",
       "        vertical-align: middle;\n",
       "    }\n",
       "\n",
       "    .dataframe tbody tr th {\n",
       "        vertical-align: top;\n",
       "    }\n",
       "\n",
       "    .dataframe thead th {\n",
       "        text-align: right;\n",
       "    }\n",
       "</style>\n",
       "<table border=\"1\" class=\"dataframe\">\n",
       "  <thead>\n",
       "    <tr style=\"text-align: right;\">\n",
       "      <th></th>\n",
       "      <th>age</th>\n",
       "      <th>health_annual_paid</th>\n",
       "      <th>days_associated</th>\n",
       "    </tr>\n",
       "  </thead>\n",
       "  <tbody>\n",
       "    <tr>\n",
       "      <th>257675</th>\n",
       "      <td>44</td>\n",
       "      <td>40348.0</td>\n",
       "      <td>34</td>\n",
       "    </tr>\n",
       "    <tr>\n",
       "      <th>264313</th>\n",
       "      <td>71</td>\n",
       "      <td>16958.0</td>\n",
       "      <td>16</td>\n",
       "    </tr>\n",
       "    <tr>\n",
       "      <th>350109</th>\n",
       "      <td>26</td>\n",
       "      <td>18572.0</td>\n",
       "      <td>241</td>\n",
       "    </tr>\n",
       "    <tr>\n",
       "      <th>196036</th>\n",
       "      <td>24</td>\n",
       "      <td>2630.0</td>\n",
       "      <td>230</td>\n",
       "    </tr>\n",
       "    <tr>\n",
       "      <th>49024</th>\n",
       "      <td>31</td>\n",
       "      <td>23909.0</td>\n",
       "      <td>32</td>\n",
       "    </tr>\n",
       "  </tbody>\n",
       "</table>\n",
       "</div>"
      ],
      "text/plain": [
       "        age  health_annual_paid  days_associated\n",
       "257675   44             40348.0               34\n",
       "264313   71             16958.0               16\n",
       "350109   26             18572.0              241\n",
       "196036   24              2630.0              230\n",
       "49024    31             23909.0               32"
      ]
     },
     "execution_count": 167,
     "metadata": {},
     "output_type": "execute_result"
    }
   ],
   "source": [
    "num_attributes.sample(5)"
   ]
  },
  {
   "cell_type": "code",
   "execution_count": 168,
   "id": "79f8b70b",
   "metadata": {
    "ExecuteTime": {
     "end_time": "2022-02-12T13:46:04.316753Z",
     "start_time": "2022-02-12T13:46:04.288551Z"
    },
    "hidden": true,
    "scrolled": true
   },
   "outputs": [
    {
     "data": {
      "text/html": [
       "<div>\n",
       "<style scoped>\n",
       "    .dataframe tbody tr th:only-of-type {\n",
       "        vertical-align: middle;\n",
       "    }\n",
       "\n",
       "    .dataframe tbody tr th {\n",
       "        vertical-align: top;\n",
       "    }\n",
       "\n",
       "    .dataframe thead th {\n",
       "        text-align: right;\n",
       "    }\n",
       "</style>\n",
       "<table border=\"1\" class=\"dataframe\">\n",
       "  <thead>\n",
       "    <tr style=\"text-align: right;\">\n",
       "      <th></th>\n",
       "      <th>gender</th>\n",
       "      <th>region_code</th>\n",
       "      <th>policy_sales_channel</th>\n",
       "      <th>driving_license</th>\n",
       "      <th>vehicle_age</th>\n",
       "      <th>vehicle_damage</th>\n",
       "      <th>vehicle_prev_insured</th>\n",
       "      <th>response</th>\n",
       "    </tr>\n",
       "  </thead>\n",
       "  <tbody>\n",
       "    <tr>\n",
       "      <th>274462</th>\n",
       "      <td>Female</td>\n",
       "      <td>30</td>\n",
       "      <td>152</td>\n",
       "      <td>1</td>\n",
       "      <td>&lt; 1 Year</td>\n",
       "      <td>No</td>\n",
       "      <td>1</td>\n",
       "      <td>0</td>\n",
       "    </tr>\n",
       "    <tr>\n",
       "      <th>341384</th>\n",
       "      <td>Male</td>\n",
       "      <td>29</td>\n",
       "      <td>152</td>\n",
       "      <td>1</td>\n",
       "      <td>&lt; 1 Year</td>\n",
       "      <td>No</td>\n",
       "      <td>1</td>\n",
       "      <td>0</td>\n",
       "    </tr>\n",
       "    <tr>\n",
       "      <th>291224</th>\n",
       "      <td>Female</td>\n",
       "      <td>23</td>\n",
       "      <td>124</td>\n",
       "      <td>1</td>\n",
       "      <td>1-2 Year</td>\n",
       "      <td>Yes</td>\n",
       "      <td>1</td>\n",
       "      <td>1</td>\n",
       "    </tr>\n",
       "    <tr>\n",
       "      <th>343818</th>\n",
       "      <td>Female</td>\n",
       "      <td>33</td>\n",
       "      <td>152</td>\n",
       "      <td>1</td>\n",
       "      <td>&lt; 1 Year</td>\n",
       "      <td>No</td>\n",
       "      <td>1</td>\n",
       "      <td>0</td>\n",
       "    </tr>\n",
       "    <tr>\n",
       "      <th>200828</th>\n",
       "      <td>Male</td>\n",
       "      <td>28</td>\n",
       "      <td>26</td>\n",
       "      <td>1</td>\n",
       "      <td>1-2 Year</td>\n",
       "      <td>Yes</td>\n",
       "      <td>0</td>\n",
       "      <td>1</td>\n",
       "    </tr>\n",
       "  </tbody>\n",
       "</table>\n",
       "</div>"
      ],
      "text/plain": [
       "        gender  region_code  policy_sales_channel  driving_license vehicle_age vehicle_damage  vehicle_prev_insured  response\n",
       "274462  Female           30                   152                1    < 1 Year             No                     1         0\n",
       "341384    Male           29                   152                1    < 1 Year             No                     1         0\n",
       "291224  Female           23                   124                1    1-2 Year            Yes                     1         1\n",
       "343818  Female           33                   152                1    < 1 Year             No                     1         0\n",
       "200828    Male           28                    26                1    1-2 Year            Yes                     0         1"
      ]
     },
     "execution_count": 168,
     "metadata": {},
     "output_type": "execute_result"
    }
   ],
   "source": [
    "cat_attributes.sample(5)"
   ]
  },
  {
   "cell_type": "markdown",
   "id": "5331fe75",
   "metadata": {
    "hidden": true
   },
   "source": [
    "### Numerical Attributes"
   ]
  },
  {
   "cell_type": "code",
   "execution_count": 169,
   "id": "9481fb10",
   "metadata": {
    "ExecuteTime": {
     "end_time": "2022-02-12T13:46:21.110751Z",
     "start_time": "2022-02-12T13:46:20.760546Z"
    },
    "hidden": true
   },
   "outputs": [],
   "source": [
    "#Central tendency metrics: mean and median\n",
    "ct1 = pd.DataFrame( num_attributes.apply( np.mean ) ).T\n",
    "ct2 = pd.DataFrame( num_attributes.apply( np.median ) ).T\n",
    "\n",
    "#Dispersion metrics: standard deviation, min, max, range, skew, kurtosis\n",
    "d1 = pd.DataFrame ( num_attributes.apply ( np.std ) ).T\n",
    "d2 = pd.DataFrame ( num_attributes.apply ( min ) ).T\n",
    "d3 = pd.DataFrame ( num_attributes.apply ( max ) ).T\n",
    "d4 = pd.DataFrame ( num_attributes.apply ( lambda x: x.max() - x.min() ) ).T\n",
    "d5 = pd.DataFrame ( num_attributes.apply ( lambda x: x.skew() ) ).T\n",
    "d6 = pd.DataFrame ( num_attributes.apply ( lambda x: x.kurtosis() ) ).T\n",
    "\n",
    "#concatenate\n",
    "m = pd.concat( [ d2, d3, d4, ct1, ct2, d1, d5, d6 ] ).T.reset_index()\n",
    "m.columns = ['attributes', 'min', 'max', 'range', 'mean', 'median', 'std', 'skew', 'kurtosis' ]"
   ]
  },
  {
   "cell_type": "code",
   "execution_count": 174,
   "id": "f9b935a8",
   "metadata": {
    "ExecuteTime": {
     "end_time": "2022-02-12T13:47:18.609858Z",
     "start_time": "2022-02-12T13:47:07.366081Z"
    },
    "hidden": true
   },
   "outputs": [
    {
     "data": {
      "image/png": "[encoded data removed]",
      "text/plain": [
       "<Figure size 1008x432 with 3 Axes>"
      ]
     },
     "metadata": {},
     "output_type": "display_data"
    }
   ],
   "source": [
    "plt.subplot(2,2,1)\n",
    "sns.histplot(df1['age'], binwidth=1, kde=True);\n",
    "plt.subplot(2,2,2)\n",
    "sns.histplot(df1['health_annual_paid'], kde=True);\n",
    "plt.subplot(2,2,3)\n",
    "sns.histplot(df1['days_associated'], binwidth=1, kde=True);"
   ]
  },
  {
   "cell_type": "code",
   "execution_count": 176,
   "id": "2fe45bd3",
   "metadata": {
    "ExecuteTime": {
     "end_time": "2022-02-12T13:47:32.130846Z",
     "start_time": "2022-02-12T13:47:32.109968Z"
    },
    "hidden": true
   },
   "outputs": [
    {
     "data": {
      "text/html": [
       "<div>\n",
       "<style scoped>\n",
       "    .dataframe tbody tr th:only-of-type {\n",
       "        vertical-align: middle;\n",
       "    }\n",
       "\n",
       "    .dataframe tbody tr th {\n",
       "        vertical-align: top;\n",
       "    }\n",
       "\n",
       "    .dataframe thead th {\n",
       "        text-align: right;\n",
       "    }\n",
       "</style>\n",
       "<table border=\"1\" class=\"dataframe\">\n",
       "  <thead>\n",
       "    <tr style=\"text-align: right;\">\n",
       "      <th></th>\n",
       "      <th>attributes</th>\n",
       "      <th>min</th>\n",
       "      <th>max</th>\n",
       "      <th>range</th>\n",
       "      <th>mean</th>\n",
       "      <th>median</th>\n",
       "      <th>std</th>\n",
       "      <th>skew</th>\n",
       "      <th>kurtosis</th>\n",
       "    </tr>\n",
       "  </thead>\n",
       "  <tbody>\n",
       "    <tr>\n",
       "      <th>0</th>\n",
       "      <td>age</td>\n",
       "      <td>20.0</td>\n",
       "      <td>85.0</td>\n",
       "      <td>65.0</td>\n",
       "      <td>38.822584</td>\n",
       "      <td>36.0</td>\n",
       "      <td>15.511591</td>\n",
       "      <td>0.672539</td>\n",
       "      <td>-0.565655</td>\n",
       "    </tr>\n",
       "    <tr>\n",
       "      <th>1</th>\n",
       "      <td>health_annual_paid</td>\n",
       "      <td>2630.0</td>\n",
       "      <td>540165.0</td>\n",
       "      <td>537535.0</td>\n",
       "      <td>30564.389581</td>\n",
       "      <td>31669.0</td>\n",
       "      <td>17213.132474</td>\n",
       "      <td>1.766087</td>\n",
       "      <td>34.004569</td>\n",
       "    </tr>\n",
       "    <tr>\n",
       "      <th>2</th>\n",
       "      <td>days_associated</td>\n",
       "      <td>10.0</td>\n",
       "      <td>299.0</td>\n",
       "      <td>289.0</td>\n",
       "      <td>154.347397</td>\n",
       "      <td>154.0</td>\n",
       "      <td>83.671194</td>\n",
       "      <td>0.003030</td>\n",
       "      <td>-1.200688</td>\n",
       "    </tr>\n",
       "  </tbody>\n",
       "</table>\n",
       "</div>"
      ],
      "text/plain": [
       "           attributes     min       max     range          mean   median           std      skew   kurtosis\n",
       "0                 age    20.0      85.0      65.0     38.822584     36.0     15.511591  0.672539  -0.565655\n",
       "1  health_annual_paid  2630.0  540165.0  537535.0  30564.389581  31669.0  17213.132474  1.766087  34.004569\n",
       "2     days_associated    10.0     299.0     289.0    154.347397    154.0     83.671194  0.003030  -1.200688"
      ]
     },
     "execution_count": 176,
     "metadata": {},
     "output_type": "execute_result"
    }
   ],
   "source": [
    "m"
   ]
  },
  {
   "cell_type": "markdown",
   "id": "4e3e39ee",
   "metadata": {
    "hidden": true
   },
   "source": [
    "Highlights:\n",
    "\n",
    "age: mean = 36y, 1 std = 15.5  -->  68% of ages are between 20,5 and 51,5 y\n",
    "\n",
    "health_annual_premium: very big range of 537535, high kurtosis, many extreme values.\n",
    "\n",
    "\n",
    "days_associated: The policy paid is for 12 months, thats why the max number of days a customer is health insured is 299. \n"
   ]
  },
  {
   "cell_type": "markdown",
   "id": "8fce4cac",
   "metadata": {
    "ExecuteTime": {
     "end_time": "2022-02-03T10:25:15.902141Z",
     "start_time": "2022-02-03T10:25:15.897058Z"
    },
    "hidden": true
   },
   "source": [
    "### Cathegorical Attributes"
   ]
  },
  {
   "cell_type": "code",
   "execution_count": 178,
   "id": "437c5901",
   "metadata": {
    "ExecuteTime": {
     "end_time": "2022-02-12T13:47:39.560580Z",
     "start_time": "2022-02-12T13:47:39.367497Z"
    },
    "hidden": true
   },
   "outputs": [
    {
     "name": "stdout",
     "output_type": "stream",
     "text": [
      "gender                                                     [Male, Female]\n",
      "region_code             [28, 3, 11, 41, 33, 6, 35, 50, 15, 45, 8, 36, ...\n",
      "policy_sales_channel    [26, 152, 160, 124, 14, 13, 30, 156, 163, 157,...\n",
      "driving_license                                                    [1, 0]\n",
      "vehicle_age                               [> 2 Years, 1-2 Year, < 1 Year]\n",
      "vehicle_damage                                                  [Yes, No]\n",
      "vehicle_prev_insured                                               [0, 1]\n",
      "response                                                           [1, 0]\n",
      "dtype: object \n",
      "\n",
      "gender                    2\n",
      "region_code              53\n",
      "policy_sales_channel    155\n",
      "driving_license           2\n",
      "vehicle_age               3\n",
      "vehicle_damage            2\n",
      "vehicle_prev_insured      2\n",
      "response                  2\n",
      "dtype: int64\n"
     ]
    }
   ],
   "source": [
    "#variations of each column\n",
    "print( cat_attributes.apply( lambda x: x.unique() ) ,'\\n')\n",
    "print( cat_attributes.apply( lambda x: x.unique().shape[0] ) )"
   ]
  },
  {
   "cell_type": "code",
   "execution_count": 179,
   "id": "a91d0b35",
   "metadata": {
    "ExecuteTime": {
     "end_time": "2022-02-12T13:47:51.137581Z",
     "start_time": "2022-02-12T13:47:49.222657Z"
    },
    "hidden": true
   },
   "outputs": [
    {
     "data": {
      "image/png": "[encoded data removed]",
      "text/plain": [
       "<Figure size 1008x432 with 6 Axes>"
      ]
     },
     "metadata": {},
     "output_type": "display_data"
    }
   ],
   "source": [
    "plt.subplots_adjust(top=1.5)\n",
    "\n",
    "plt.subplot (3,2,1)\n",
    "sns.countplot (x = cat_attributes['gender']);\n",
    "\n",
    "plt.subplot (3,2,2)\n",
    "sns.countplot (x = cat_attributes['driving_license']);\n",
    "plt.xticks([0,1],['No','Yes']);\n",
    "\n",
    "plt.subplot (3,2,3)\n",
    "sns.countplot (x = cat_attributes['vehicle_age']);\n",
    "\n",
    "plt.subplot (3,2,4)\n",
    "sns.countplot (x = cat_attributes['vehicle_damage']);\n",
    "\n",
    "plt.subplot (3,2,5)\n",
    "sns.countplot (x = cat_attributes['vehicle_prev_insured']);\n",
    "plt.xticks([0,1],['No','Yes']);\n",
    "\n",
    "plt.subplot (3,2,6)\n",
    "sns.countplot (x = cat_attributes['response']);\n",
    "plt.xticks([0,1],['No','Yes']);"
   ]
  },
  {
   "cell_type": "code",
   "execution_count": 180,
   "id": "18d8b88c",
   "metadata": {
    "ExecuteTime": {
     "end_time": "2022-02-12T13:47:54.795944Z",
     "start_time": "2022-02-12T13:47:54.781037Z"
    },
    "hidden": true
   },
   "outputs": [
    {
     "data": {
      "text/plain": [
       "0    87.74\n",
       "1    12.26\n",
       "Name: response, dtype: float64"
      ]
     },
     "execution_count": 180,
     "metadata": {},
     "output_type": "execute_result"
    }
   ],
   "source": [
    "round(cat_attributes['response'].value_counts() / cat_attributes['response'].shape[0] * 100 ,2)"
   ]
  },
  {
   "cell_type": "markdown",
   "id": "89303429",
   "metadata": {
    "hidden": true
   },
   "source": [
    "Highlights:\n",
    "\n",
    "- 12% of customers answered to be interested in a vehicle insurance.\n",
    "\n"
   ]
  },
  {
   "cell_type": "code",
   "execution_count": 181,
   "id": "6dd8c641",
   "metadata": {
    "ExecuteTime": {
     "end_time": "2022-02-12T13:51:23.561878Z",
     "start_time": "2022-02-12T13:51:23.535521Z"
    },
    "hidden": true
   },
   "outputs": [
    {
     "data": {
      "text/html": [
       "<div>\n",
       "<style scoped>\n",
       "    .dataframe tbody tr th:only-of-type {\n",
       "        vertical-align: middle;\n",
       "    }\n",
       "\n",
       "    .dataframe tbody tr th {\n",
       "        vertical-align: top;\n",
       "    }\n",
       "\n",
       "    .dataframe thead th {\n",
       "        text-align: right;\n",
       "    }\n",
       "</style>\n",
       "<table border=\"1\" class=\"dataframe\">\n",
       "  <thead>\n",
       "    <tr style=\"text-align: right;\">\n",
       "      <th></th>\n",
       "      <th>id</th>\n",
       "      <th>gender</th>\n",
       "      <th>age</th>\n",
       "      <th>region_code</th>\n",
       "      <th>policy_sales_channel</th>\n",
       "      <th>driving_license</th>\n",
       "      <th>vehicle_age</th>\n",
       "      <th>vehicle_damage</th>\n",
       "      <th>vehicle_prev_insured</th>\n",
       "      <th>health_annual_paid</th>\n",
       "      <th>days_associated</th>\n",
       "      <th>response</th>\n",
       "    </tr>\n",
       "  </thead>\n",
       "  <tbody>\n",
       "    <tr>\n",
       "      <th>0</th>\n",
       "      <td>1</td>\n",
       "      <td>Male</td>\n",
       "      <td>44</td>\n",
       "      <td>28</td>\n",
       "      <td>26</td>\n",
       "      <td>1</td>\n",
       "      <td>&gt; 2 Years</td>\n",
       "      <td>Yes</td>\n",
       "      <td>0</td>\n",
       "      <td>40454.0</td>\n",
       "      <td>217</td>\n",
       "      <td>1</td>\n",
       "    </tr>\n",
       "    <tr>\n",
       "      <th>1</th>\n",
       "      <td>2</td>\n",
       "      <td>Male</td>\n",
       "      <td>76</td>\n",
       "      <td>3</td>\n",
       "      <td>26</td>\n",
       "      <td>1</td>\n",
       "      <td>1-2 Year</td>\n",
       "      <td>No</td>\n",
       "      <td>0</td>\n",
       "      <td>33536.0</td>\n",
       "      <td>183</td>\n",
       "      <td>0</td>\n",
       "    </tr>\n",
       "    <tr>\n",
       "      <th>2</th>\n",
       "      <td>3</td>\n",
       "      <td>Male</td>\n",
       "      <td>47</td>\n",
       "      <td>28</td>\n",
       "      <td>26</td>\n",
       "      <td>1</td>\n",
       "      <td>&gt; 2 Years</td>\n",
       "      <td>Yes</td>\n",
       "      <td>0</td>\n",
       "      <td>38294.0</td>\n",
       "      <td>27</td>\n",
       "      <td>1</td>\n",
       "    </tr>\n",
       "    <tr>\n",
       "      <th>3</th>\n",
       "      <td>4</td>\n",
       "      <td>Male</td>\n",
       "      <td>21</td>\n",
       "      <td>11</td>\n",
       "      <td>152</td>\n",
       "      <td>1</td>\n",
       "      <td>&lt; 1 Year</td>\n",
       "      <td>No</td>\n",
       "      <td>1</td>\n",
       "      <td>28619.0</td>\n",
       "      <td>203</td>\n",
       "      <td>0</td>\n",
       "    </tr>\n",
       "    <tr>\n",
       "      <th>4</th>\n",
       "      <td>5</td>\n",
       "      <td>Female</td>\n",
       "      <td>29</td>\n",
       "      <td>41</td>\n",
       "      <td>152</td>\n",
       "      <td>1</td>\n",
       "      <td>&lt; 1 Year</td>\n",
       "      <td>No</td>\n",
       "      <td>1</td>\n",
       "      <td>27496.0</td>\n",
       "      <td>39</td>\n",
       "      <td>0</td>\n",
       "    </tr>\n",
       "    <tr>\n",
       "      <th>...</th>\n",
       "      <td>...</td>\n",
       "      <td>...</td>\n",
       "      <td>...</td>\n",
       "      <td>...</td>\n",
       "      <td>...</td>\n",
       "      <td>...</td>\n",
       "      <td>...</td>\n",
       "      <td>...</td>\n",
       "      <td>...</td>\n",
       "      <td>...</td>\n",
       "      <td>...</td>\n",
       "      <td>...</td>\n",
       "    </tr>\n",
       "    <tr>\n",
       "      <th>381104</th>\n",
       "      <td>381105</td>\n",
       "      <td>Male</td>\n",
       "      <td>74</td>\n",
       "      <td>26</td>\n",
       "      <td>26</td>\n",
       "      <td>1</td>\n",
       "      <td>1-2 Year</td>\n",
       "      <td>No</td>\n",
       "      <td>1</td>\n",
       "      <td>30170.0</td>\n",
       "      <td>88</td>\n",
       "      <td>0</td>\n",
       "    </tr>\n",
       "    <tr>\n",
       "      <th>381105</th>\n",
       "      <td>381106</td>\n",
       "      <td>Male</td>\n",
       "      <td>30</td>\n",
       "      <td>37</td>\n",
       "      <td>152</td>\n",
       "      <td>1</td>\n",
       "      <td>&lt; 1 Year</td>\n",
       "      <td>No</td>\n",
       "      <td>1</td>\n",
       "      <td>40016.0</td>\n",
       "      <td>131</td>\n",
       "      <td>0</td>\n",
       "    </tr>\n",
       "    <tr>\n",
       "      <th>381106</th>\n",
       "      <td>381107</td>\n",
       "      <td>Male</td>\n",
       "      <td>21</td>\n",
       "      <td>30</td>\n",
       "      <td>160</td>\n",
       "      <td>1</td>\n",
       "      <td>&lt; 1 Year</td>\n",
       "      <td>No</td>\n",
       "      <td>1</td>\n",
       "      <td>35118.0</td>\n",
       "      <td>161</td>\n",
       "      <td>0</td>\n",
       "    </tr>\n",
       "    <tr>\n",
       "      <th>381107</th>\n",
       "      <td>381108</td>\n",
       "      <td>Female</td>\n",
       "      <td>68</td>\n",
       "      <td>14</td>\n",
       "      <td>124</td>\n",
       "      <td>1</td>\n",
       "      <td>&gt; 2 Years</td>\n",
       "      <td>Yes</td>\n",
       "      <td>0</td>\n",
       "      <td>44617.0</td>\n",
       "      <td>74</td>\n",
       "      <td>0</td>\n",
       "    </tr>\n",
       "    <tr>\n",
       "      <th>381108</th>\n",
       "      <td>381109</td>\n",
       "      <td>Male</td>\n",
       "      <td>46</td>\n",
       "      <td>29</td>\n",
       "      <td>26</td>\n",
       "      <td>1</td>\n",
       "      <td>1-2 Year</td>\n",
       "      <td>No</td>\n",
       "      <td>0</td>\n",
       "      <td>41777.0</td>\n",
       "      <td>237</td>\n",
       "      <td>0</td>\n",
       "    </tr>\n",
       "  </tbody>\n",
       "</table>\n",
       "<p>381109 rows × 12 columns</p>\n",
       "</div>"
      ],
      "text/plain": [
       "            id  gender  age  region_code  policy_sales_channel  driving_license vehicle_age vehicle_damage  vehicle_prev_insured  health_annual_paid  days_associated  response\n",
       "0            1    Male   44           28                    26                1   > 2 Years            Yes                     0             40454.0              217         1\n",
       "1            2    Male   76            3                    26                1    1-2 Year             No                     0             33536.0              183         0\n",
       "2            3    Male   47           28                    26                1   > 2 Years            Yes                     0             38294.0               27         1\n",
       "3            4    Male   21           11                   152                1    < 1 Year             No                     1             28619.0              203         0\n",
       "4            5  Female   29           41                   152                1    < 1 Year             No                     1             27496.0               39         0\n",
       "...        ...     ...  ...          ...                   ...              ...         ...            ...                   ...                 ...              ...       ...\n",
       "381104  381105    Male   74           26                    26                1    1-2 Year             No                     1             30170.0               88         0\n",
       "381105  381106    Male   30           37                   152                1    < 1 Year             No                     1             40016.0              131         0\n",
       "381106  381107    Male   21           30                   160                1    < 1 Year             No                     1             35118.0              161         0\n",
       "381107  381108  Female   68           14                   124                1   > 2 Years            Yes                     0             44617.0               74         0\n",
       "381108  381109    Male   46           29                    26                1    1-2 Year             No                     0             41777.0              237         0\n",
       "\n",
       "[381109 rows x 12 columns]"
      ]
     },
     "execution_count": 181,
     "metadata": {},
     "output_type": "execute_result"
    }
   ],
   "source": [
    "df1"
   ]
  },
  {
   "cell_type": "code",
   "execution_count": 182,
   "id": "ab94cd23",
   "metadata": {
    "ExecuteTime": {
     "end_time": "2022-02-12T13:51:29.865190Z",
     "start_time": "2022-02-12T13:51:27.610658Z"
    },
    "hidden": true
   },
   "outputs": [],
   "source": [
    "#save dataset \n",
    "df1.to_csv(datapath+'data_description_done.csv', index=False)"
   ]
  },
  {
   "cell_type": "markdown",
   "id": "e7439736",
   "metadata": {
    "ExecuteTime": {
     "end_time": "2022-02-03T11:22:01.696139Z",
     "start_time": "2022-02-03T11:22:01.690966Z"
    },
    "heading_collapsed": true
   },
   "source": [
    "# Feature Engeneering"
   ]
  },
  {
   "cell_type": "code",
   "execution_count": 183,
   "id": "1e0466aa",
   "metadata": {
    "ExecuteTime": {
     "end_time": "2022-02-12T13:55:52.764762Z",
     "start_time": "2022-02-12T13:55:52.284548Z"
    },
    "hidden": true
   },
   "outputs": [
    {
     "data": {
      "text/html": [
       "<div>\n",
       "<style scoped>\n",
       "    .dataframe tbody tr th:only-of-type {\n",
       "        vertical-align: middle;\n",
       "    }\n",
       "\n",
       "    .dataframe tbody tr th {\n",
       "        vertical-align: top;\n",
       "    }\n",
       "\n",
       "    .dataframe thead th {\n",
       "        text-align: right;\n",
       "    }\n",
       "</style>\n",
       "<table border=\"1\" class=\"dataframe\">\n",
       "  <thead>\n",
       "    <tr style=\"text-align: right;\">\n",
       "      <th></th>\n",
       "      <th>id</th>\n",
       "      <th>gender</th>\n",
       "      <th>age</th>\n",
       "      <th>region_code</th>\n",
       "      <th>policy_sales_channel</th>\n",
       "      <th>driving_license</th>\n",
       "      <th>vehicle_age</th>\n",
       "      <th>vehicle_damage</th>\n",
       "      <th>vehicle_prev_insured</th>\n",
       "      <th>health_annual_paid</th>\n",
       "      <th>days_associated</th>\n",
       "      <th>response</th>\n",
       "    </tr>\n",
       "  </thead>\n",
       "  <tbody>\n",
       "    <tr>\n",
       "      <th>0</th>\n",
       "      <td>1</td>\n",
       "      <td>Male</td>\n",
       "      <td>44</td>\n",
       "      <td>28</td>\n",
       "      <td>26</td>\n",
       "      <td>1</td>\n",
       "      <td>&gt; 2 Years</td>\n",
       "      <td>Yes</td>\n",
       "      <td>0</td>\n",
       "      <td>40454.0</td>\n",
       "      <td>217</td>\n",
       "      <td>1</td>\n",
       "    </tr>\n",
       "    <tr>\n",
       "      <th>1</th>\n",
       "      <td>2</td>\n",
       "      <td>Male</td>\n",
       "      <td>76</td>\n",
       "      <td>3</td>\n",
       "      <td>26</td>\n",
       "      <td>1</td>\n",
       "      <td>1-2 Year</td>\n",
       "      <td>No</td>\n",
       "      <td>0</td>\n",
       "      <td>33536.0</td>\n",
       "      <td>183</td>\n",
       "      <td>0</td>\n",
       "    </tr>\n",
       "    <tr>\n",
       "      <th>2</th>\n",
       "      <td>3</td>\n",
       "      <td>Male</td>\n",
       "      <td>47</td>\n",
       "      <td>28</td>\n",
       "      <td>26</td>\n",
       "      <td>1</td>\n",
       "      <td>&gt; 2 Years</td>\n",
       "      <td>Yes</td>\n",
       "      <td>0</td>\n",
       "      <td>38294.0</td>\n",
       "      <td>27</td>\n",
       "      <td>1</td>\n",
       "    </tr>\n",
       "    <tr>\n",
       "      <th>3</th>\n",
       "      <td>4</td>\n",
       "      <td>Male</td>\n",
       "      <td>21</td>\n",
       "      <td>11</td>\n",
       "      <td>152</td>\n",
       "      <td>1</td>\n",
       "      <td>&lt; 1 Year</td>\n",
       "      <td>No</td>\n",
       "      <td>1</td>\n",
       "      <td>28619.0</td>\n",
       "      <td>203</td>\n",
       "      <td>0</td>\n",
       "    </tr>\n",
       "    <tr>\n",
       "      <th>4</th>\n",
       "      <td>5</td>\n",
       "      <td>Female</td>\n",
       "      <td>29</td>\n",
       "      <td>41</td>\n",
       "      <td>152</td>\n",
       "      <td>1</td>\n",
       "      <td>&lt; 1 Year</td>\n",
       "      <td>No</td>\n",
       "      <td>1</td>\n",
       "      <td>27496.0</td>\n",
       "      <td>39</td>\n",
       "      <td>0</td>\n",
       "    </tr>\n",
       "    <tr>\n",
       "      <th>...</th>\n",
       "      <td>...</td>\n",
       "      <td>...</td>\n",
       "      <td>...</td>\n",
       "      <td>...</td>\n",
       "      <td>...</td>\n",
       "      <td>...</td>\n",
       "      <td>...</td>\n",
       "      <td>...</td>\n",
       "      <td>...</td>\n",
       "      <td>...</td>\n",
       "      <td>...</td>\n",
       "      <td>...</td>\n",
       "    </tr>\n",
       "    <tr>\n",
       "      <th>381104</th>\n",
       "      <td>381105</td>\n",
       "      <td>Male</td>\n",
       "      <td>74</td>\n",
       "      <td>26</td>\n",
       "      <td>26</td>\n",
       "      <td>1</td>\n",
       "      <td>1-2 Year</td>\n",
       "      <td>No</td>\n",
       "      <td>1</td>\n",
       "      <td>30170.0</td>\n",
       "      <td>88</td>\n",
       "      <td>0</td>\n",
       "    </tr>\n",
       "    <tr>\n",
       "      <th>381105</th>\n",
       "      <td>381106</td>\n",
       "      <td>Male</td>\n",
       "      <td>30</td>\n",
       "      <td>37</td>\n",
       "      <td>152</td>\n",
       "      <td>1</td>\n",
       "      <td>&lt; 1 Year</td>\n",
       "      <td>No</td>\n",
       "      <td>1</td>\n",
       "      <td>40016.0</td>\n",
       "      <td>131</td>\n",
       "      <td>0</td>\n",
       "    </tr>\n",
       "    <tr>\n",
       "      <th>381106</th>\n",
       "      <td>381107</td>\n",
       "      <td>Male</td>\n",
       "      <td>21</td>\n",
       "      <td>30</td>\n",
       "      <td>160</td>\n",
       "      <td>1</td>\n",
       "      <td>&lt; 1 Year</td>\n",
       "      <td>No</td>\n",
       "      <td>1</td>\n",
       "      <td>35118.0</td>\n",
       "      <td>161</td>\n",
       "      <td>0</td>\n",
       "    </tr>\n",
       "    <tr>\n",
       "      <th>381107</th>\n",
       "      <td>381108</td>\n",
       "      <td>Female</td>\n",
       "      <td>68</td>\n",
       "      <td>14</td>\n",
       "      <td>124</td>\n",
       "      <td>1</td>\n",
       "      <td>&gt; 2 Years</td>\n",
       "      <td>Yes</td>\n",
       "      <td>0</td>\n",
       "      <td>44617.0</td>\n",
       "      <td>74</td>\n",
       "      <td>0</td>\n",
       "    </tr>\n",
       "    <tr>\n",
       "      <th>381108</th>\n",
       "      <td>381109</td>\n",
       "      <td>Male</td>\n",
       "      <td>46</td>\n",
       "      <td>29</td>\n",
       "      <td>26</td>\n",
       "      <td>1</td>\n",
       "      <td>1-2 Year</td>\n",
       "      <td>No</td>\n",
       "      <td>0</td>\n",
       "      <td>41777.0</td>\n",
       "      <td>237</td>\n",
       "      <td>0</td>\n",
       "    </tr>\n",
       "  </tbody>\n",
       "</table>\n",
       "<p>381109 rows × 12 columns</p>\n",
       "</div>"
      ],
      "text/plain": [
       "            id  gender  age  region_code  policy_sales_channel  driving_license vehicle_age vehicle_damage  vehicle_prev_insured  health_annual_paid  days_associated  response\n",
       "0            1    Male   44           28                    26                1   > 2 Years            Yes                     0             40454.0              217         1\n",
       "1            2    Male   76            3                    26                1    1-2 Year             No                     0             33536.0              183         0\n",
       "2            3    Male   47           28                    26                1   > 2 Years            Yes                     0             38294.0               27         1\n",
       "3            4    Male   21           11                   152                1    < 1 Year             No                     1             28619.0              203         0\n",
       "4            5  Female   29           41                   152                1    < 1 Year             No                     1             27496.0               39         0\n",
       "...        ...     ...  ...          ...                   ...              ...         ...            ...                   ...                 ...              ...       ...\n",
       "381104  381105    Male   74           26                    26                1    1-2 Year             No                     1             30170.0               88         0\n",
       "381105  381106    Male   30           37                   152                1    < 1 Year             No                     1             40016.0              131         0\n",
       "381106  381107    Male   21           30                   160                1    < 1 Year             No                     1             35118.0              161         0\n",
       "381107  381108  Female   68           14                   124                1   > 2 Years            Yes                     0             44617.0               74         0\n",
       "381108  381109    Male   46           29                    26                1    1-2 Year             No                     0             41777.0              237         0\n",
       "\n",
       "[381109 rows x 12 columns]"
      ]
     },
     "execution_count": 183,
     "metadata": {},
     "output_type": "execute_result"
    }
   ],
   "source": [
    "df2 = pd.read_csv(datapath+'data_description_done.csv')\n",
    "df2"
   ]
  },
  {
   "cell_type": "markdown",
   "id": "045ffa10",
   "metadata": {
    "hidden": true
   },
   "source": [
    "## Hypotheses mindmap"
   ]
  },
  {
   "cell_type": "code",
   "execution_count": 184,
   "id": "f05ff4b1",
   "metadata": {
    "ExecuteTime": {
     "end_time": "2022-02-12T13:56:10.004890Z",
     "start_time": "2022-02-12T13:56:09.973954Z"
    },
    "hidden": true
   },
   "outputs": [
    {
     "data": {
      "image/png": "[encoded data removed]",
      "text/plain": [
       "<IPython.core.display.Image object>"
      ]
     },
     "execution_count": 184,
     "metadata": {},
     "output_type": "execute_result"
    }
   ],
   "source": [
    "#hypotheses mindmap\n",
    "Image( imagepath+'mindmap_hypotheses.png' )\n"
   ]
  },
  {
   "cell_type": "markdown",
   "id": "ec0201fc",
   "metadata": {
    "hidden": true
   },
   "source": [
    "## Hypotheses creation"
   ]
  },
  {
   "cell_type": "code",
   "execution_count": 186,
   "id": "a94ce867",
   "metadata": {
    "ExecuteTime": {
     "end_time": "2022-02-12T13:57:28.708224Z",
     "start_time": "2022-02-12T13:57:28.688908Z"
    },
    "hidden": true
   },
   "outputs": [
    {
     "data": {
      "text/html": [
       "<div>\n",
       "<style scoped>\n",
       "    .dataframe tbody tr th:only-of-type {\n",
       "        vertical-align: middle;\n",
       "    }\n",
       "\n",
       "    .dataframe tbody tr th {\n",
       "        vertical-align: top;\n",
       "    }\n",
       "\n",
       "    .dataframe thead th {\n",
       "        text-align: right;\n",
       "    }\n",
       "</style>\n",
       "<table border=\"1\" class=\"dataframe\">\n",
       "  <thead>\n",
       "    <tr style=\"text-align: right;\">\n",
       "      <th></th>\n",
       "      <th>id</th>\n",
       "      <th>gender</th>\n",
       "      <th>age</th>\n",
       "      <th>region_code</th>\n",
       "      <th>policy_sales_channel</th>\n",
       "      <th>driving_license</th>\n",
       "      <th>vehicle_age</th>\n",
       "      <th>vehicle_damage</th>\n",
       "      <th>vehicle_prev_insured</th>\n",
       "      <th>health_annual_paid</th>\n",
       "      <th>days_associated</th>\n",
       "      <th>response</th>\n",
       "    </tr>\n",
       "  </thead>\n",
       "  <tbody>\n",
       "    <tr>\n",
       "      <th>0</th>\n",
       "      <td>1</td>\n",
       "      <td>Male</td>\n",
       "      <td>44</td>\n",
       "      <td>28</td>\n",
       "      <td>26</td>\n",
       "      <td>1</td>\n",
       "      <td>&gt; 2 Years</td>\n",
       "      <td>Yes</td>\n",
       "      <td>0</td>\n",
       "      <td>40454.0</td>\n",
       "      <td>217</td>\n",
       "      <td>1</td>\n",
       "    </tr>\n",
       "    <tr>\n",
       "      <th>1</th>\n",
       "      <td>2</td>\n",
       "      <td>Male</td>\n",
       "      <td>76</td>\n",
       "      <td>3</td>\n",
       "      <td>26</td>\n",
       "      <td>1</td>\n",
       "      <td>1-2 Year</td>\n",
       "      <td>No</td>\n",
       "      <td>0</td>\n",
       "      <td>33536.0</td>\n",
       "      <td>183</td>\n",
       "      <td>0</td>\n",
       "    </tr>\n",
       "    <tr>\n",
       "      <th>2</th>\n",
       "      <td>3</td>\n",
       "      <td>Male</td>\n",
       "      <td>47</td>\n",
       "      <td>28</td>\n",
       "      <td>26</td>\n",
       "      <td>1</td>\n",
       "      <td>&gt; 2 Years</td>\n",
       "      <td>Yes</td>\n",
       "      <td>0</td>\n",
       "      <td>38294.0</td>\n",
       "      <td>27</td>\n",
       "      <td>1</td>\n",
       "    </tr>\n",
       "    <tr>\n",
       "      <th>3</th>\n",
       "      <td>4</td>\n",
       "      <td>Male</td>\n",
       "      <td>21</td>\n",
       "      <td>11</td>\n",
       "      <td>152</td>\n",
       "      <td>1</td>\n",
       "      <td>&lt; 1 Year</td>\n",
       "      <td>No</td>\n",
       "      <td>1</td>\n",
       "      <td>28619.0</td>\n",
       "      <td>203</td>\n",
       "      <td>0</td>\n",
       "    </tr>\n",
       "    <tr>\n",
       "      <th>4</th>\n",
       "      <td>5</td>\n",
       "      <td>Female</td>\n",
       "      <td>29</td>\n",
       "      <td>41</td>\n",
       "      <td>152</td>\n",
       "      <td>1</td>\n",
       "      <td>&lt; 1 Year</td>\n",
       "      <td>No</td>\n",
       "      <td>1</td>\n",
       "      <td>27496.0</td>\n",
       "      <td>39</td>\n",
       "      <td>0</td>\n",
       "    </tr>\n",
       "  </tbody>\n",
       "</table>\n",
       "</div>"
      ],
      "text/plain": [
       "   id  gender  age  region_code  policy_sales_channel  driving_license vehicle_age vehicle_damage  vehicle_prev_insured  health_annual_paid  days_associated  response\n",
       "0   1    Male   44           28                    26                1   > 2 Years            Yes                     0             40454.0              217         1\n",
       "1   2    Male   76            3                    26                1    1-2 Year             No                     0             33536.0              183         0\n",
       "2   3    Male   47           28                    26                1   > 2 Years            Yes                     0             38294.0               27         1\n",
       "3   4    Male   21           11                   152                1    < 1 Year             No                     1             28619.0              203         0\n",
       "4   5  Female   29           41                   152                1    < 1 Year             No                     1             27496.0               39         0"
      ]
     },
     "execution_count": 186,
     "metadata": {},
     "output_type": "execute_result"
    }
   ],
   "source": [
    "df2.head()\n"
   ]
  },
  {
   "cell_type": "code",
   "execution_count": 188,
   "id": "ed08c869",
   "metadata": {
    "ExecuteTime": {
     "end_time": "2022-02-12T13:59:06.310659Z",
     "start_time": "2022-02-12T13:59:06.301640Z"
    },
    "hidden": true
   },
   "outputs": [
    {
     "name": "stdout",
     "output_type": "stream",
     "text": [
      "| ID   | Hypotheses                                                              |\n",
      "|:-----|:------------------------------------------------------------------------|\n",
      "| H1   | Customers with AGE HIGHER should be MORE interested.                    |\n",
      "| H2   | Customers with GENDER FEMALE should be MORE interested.                 |\n",
      "| H3   | Customers of CERTAINS REGION should be MORE interested.                 |\n",
      "| H4   | Customers of CERTAIN POLICY SALES CHANEL should be MORE interested.     |\n",
      "| H5   | Customers with MOST RECENT VEHICLE AGE should be MORE interested.       |\n",
      "| H6   | Customers who HAD VEHICLE DAMAGE should be MORE interested.             |\n",
      "| H7   | Customers who HAD VEHICLE PREVIOUSLY INSURED should be MORE interested. |\n",
      "| H8   | Customers with HIGHER ANNUAL HEALTH EXPANSES should be MORE interested. |\n",
      "| H9   | Customers whth MORE DAYS ASSOCIATED should be MORE interested.          |\n"
     ]
    }
   ],
   "source": [
    "#Created hypotheses with available dataset data\n",
    "tab = [['ID', 'Hypotheses'],\n",
    "################################################################################\n",
    "        ['H1', 'Customers with AGE HIGHER should be MORE interested.'],\n",
    "        ['H2', 'Customers with GENDER FEMALE should be MORE interested.'],\n",
    "        ['H3', 'Customers of CERTAINS REGION should be MORE interested.'],\n",
    "        ['H4', 'Customers of CERTAIN POLICY SALES CHANEL should be MORE interested.'],\n",
    "        ['H5', 'Customers with MOST RECENT VEHICLE AGE should be MORE interested.'],\n",
    "        ['H6', 'Customers who HAD VEHICLE DAMAGE should be MORE interested.'],\n",
    "        ['H7', 'Customers who HAD VEHICLE PREVIOUSLY INSURED should be MORE interested.'],\n",
    "        ['H8', 'Customers with HIGHER ANNUAL HEALTH EXPANSES should be MORE interested.'],\n",
    "        ['H9', 'Customers whth MORE DAYS ASSOCIATED should be MORE interested.']]\n",
    "\n",
    "################################################################################\n",
    "print(tabulate(tab, headers='firstrow', stralign='left', tablefmt='pipe')) #tablefmt='pipe', tablefmt='grid'"
   ]
  },
  {
   "cell_type": "markdown",
   "id": "45453ccc",
   "metadata": {
    "hidden": true
   },
   "source": [
    "## Hypotheses priorization"
   ]
  },
  {
   "cell_type": "code",
   "execution_count": 189,
   "id": "c94d0c32",
   "metadata": {
    "ExecuteTime": {
     "end_time": "2022-02-12T13:59:10.624582Z",
     "start_time": "2022-02-12T13:59:10.619815Z"
    },
    "hidden": true
   },
   "outputs": [],
   "source": [
    "#All hypotheses can be analysed on first CRISP cycle\n",
    "pass"
   ]
  },
  {
   "cell_type": "markdown",
   "id": "ac16a71e",
   "metadata": {
    "hidden": true
   },
   "source": [
    "## Feature engeneering\n"
   ]
  },
  {
   "cell_type": "code",
   "execution_count": 10,
   "id": "1301dfef",
   "metadata": {
    "ExecuteTime": {
     "end_time": "2022-02-12T10:25:05.229139Z",
     "start_time": "2022-02-12T10:25:05.187784Z"
    },
    "hidden": true
   },
   "outputs": [
    {
     "data": {
      "text/plain": [
       "1-2 Year     200316\n",
       "< 1 Year     164786\n",
       "> 2 Years     16007\n",
       "Name: vehicle_age, dtype: int64"
      ]
     },
     "execution_count": 10,
     "metadata": {},
     "output_type": "execute_result"
    }
   ],
   "source": [
    "df2['vehicle_age'].value_counts()"
   ]
  },
  {
   "cell_type": "code",
   "execution_count": 190,
   "id": "a7d46a3f",
   "metadata": {
    "ExecuteTime": {
     "end_time": "2022-02-12T14:00:03.281846Z",
     "start_time": "2022-02-12T14:00:03.211033Z"
    },
    "hidden": true
   },
   "outputs": [
    {
     "data": {
      "text/plain": [
       "between_1_2_years    200316\n",
       "below_1_year         164786\n",
       "over_2_years          16007\n",
       "Name: vehicle_age, dtype: int64"
      ]
     },
     "execution_count": 190,
     "metadata": {},
     "output_type": "execute_result"
    }
   ],
   "source": [
    "dict_vehicle_age = { '> 2 Years':'over_2_years', '1-2 Year':'between_1_2_years', '< 1 Year': 'below_1_year' }\n",
    "df2['vehicle_age'] = df2['vehicle_age'].map(dict_vehicle_age)\n",
    "df2['vehicle_age'].value_counts()"
   ]
  },
  {
   "cell_type": "code",
   "execution_count": 191,
   "id": "cd07f5bd",
   "metadata": {
    "ExecuteTime": {
     "end_time": "2022-02-12T14:00:03.891828Z",
     "start_time": "2022-02-12T14:00:03.851896Z"
    },
    "hidden": true
   },
   "outputs": [
    {
     "data": {
      "text/plain": [
       "Yes    192413\n",
       "No     188696\n",
       "Name: vehicle_damage, dtype: int64"
      ]
     },
     "execution_count": 191,
     "metadata": {},
     "output_type": "execute_result"
    }
   ],
   "source": [
    "df2['vehicle_damage'].value_counts()"
   ]
  },
  {
   "cell_type": "code",
   "execution_count": 192,
   "id": "78df3835",
   "metadata": {
    "ExecuteTime": {
     "end_time": "2022-02-12T14:00:12.702061Z",
     "start_time": "2022-02-12T14:00:12.643498Z"
    },
    "hidden": true
   },
   "outputs": [
    {
     "data": {
      "text/plain": [
       "1    192413\n",
       "0    188696\n",
       "Name: vehicle_damage, dtype: int64"
      ]
     },
     "execution_count": 192,
     "metadata": {},
     "output_type": "execute_result"
    }
   ],
   "source": [
    "dict_vehicle_age = {'Yes': 1, 'No':0}\n",
    "df2['vehicle_damage'] = df2['vehicle_damage'].map(dict_vehicle_age)\n",
    "df2['vehicle_damage'].value_counts()"
   ]
  },
  {
   "cell_type": "code",
   "execution_count": 193,
   "id": "d4ea9402",
   "metadata": {
    "ExecuteTime": {
     "end_time": "2022-02-12T14:00:18.269646Z",
     "start_time": "2022-02-12T14:00:18.243449Z"
    },
    "hidden": true,
    "scrolled": true
   },
   "outputs": [
    {
     "data": {
      "text/html": [
       "<div>\n",
       "<style scoped>\n",
       "    .dataframe tbody tr th:only-of-type {\n",
       "        vertical-align: middle;\n",
       "    }\n",
       "\n",
       "    .dataframe tbody tr th {\n",
       "        vertical-align: top;\n",
       "    }\n",
       "\n",
       "    .dataframe thead th {\n",
       "        text-align: right;\n",
       "    }\n",
       "</style>\n",
       "<table border=\"1\" class=\"dataframe\">\n",
       "  <thead>\n",
       "    <tr style=\"text-align: right;\">\n",
       "      <th></th>\n",
       "      <th>id</th>\n",
       "      <th>gender</th>\n",
       "      <th>age</th>\n",
       "      <th>region_code</th>\n",
       "      <th>policy_sales_channel</th>\n",
       "      <th>driving_license</th>\n",
       "      <th>vehicle_age</th>\n",
       "      <th>vehicle_damage</th>\n",
       "      <th>vehicle_prev_insured</th>\n",
       "      <th>health_annual_paid</th>\n",
       "      <th>days_associated</th>\n",
       "      <th>response</th>\n",
       "    </tr>\n",
       "  </thead>\n",
       "  <tbody>\n",
       "    <tr>\n",
       "      <th>0</th>\n",
       "      <td>1</td>\n",
       "      <td>Male</td>\n",
       "      <td>44</td>\n",
       "      <td>28</td>\n",
       "      <td>26</td>\n",
       "      <td>1</td>\n",
       "      <td>over_2_years</td>\n",
       "      <td>1</td>\n",
       "      <td>0</td>\n",
       "      <td>40454.0</td>\n",
       "      <td>217</td>\n",
       "      <td>1</td>\n",
       "    </tr>\n",
       "    <tr>\n",
       "      <th>1</th>\n",
       "      <td>2</td>\n",
       "      <td>Male</td>\n",
       "      <td>76</td>\n",
       "      <td>3</td>\n",
       "      <td>26</td>\n",
       "      <td>1</td>\n",
       "      <td>between_1_2_years</td>\n",
       "      <td>0</td>\n",
       "      <td>0</td>\n",
       "      <td>33536.0</td>\n",
       "      <td>183</td>\n",
       "      <td>0</td>\n",
       "    </tr>\n",
       "    <tr>\n",
       "      <th>2</th>\n",
       "      <td>3</td>\n",
       "      <td>Male</td>\n",
       "      <td>47</td>\n",
       "      <td>28</td>\n",
       "      <td>26</td>\n",
       "      <td>1</td>\n",
       "      <td>over_2_years</td>\n",
       "      <td>1</td>\n",
       "      <td>0</td>\n",
       "      <td>38294.0</td>\n",
       "      <td>27</td>\n",
       "      <td>1</td>\n",
       "    </tr>\n",
       "    <tr>\n",
       "      <th>3</th>\n",
       "      <td>4</td>\n",
       "      <td>Male</td>\n",
       "      <td>21</td>\n",
       "      <td>11</td>\n",
       "      <td>152</td>\n",
       "      <td>1</td>\n",
       "      <td>below_1_year</td>\n",
       "      <td>0</td>\n",
       "      <td>1</td>\n",
       "      <td>28619.0</td>\n",
       "      <td>203</td>\n",
       "      <td>0</td>\n",
       "    </tr>\n",
       "    <tr>\n",
       "      <th>4</th>\n",
       "      <td>5</td>\n",
       "      <td>Female</td>\n",
       "      <td>29</td>\n",
       "      <td>41</td>\n",
       "      <td>152</td>\n",
       "      <td>1</td>\n",
       "      <td>below_1_year</td>\n",
       "      <td>0</td>\n",
       "      <td>1</td>\n",
       "      <td>27496.0</td>\n",
       "      <td>39</td>\n",
       "      <td>0</td>\n",
       "    </tr>\n",
       "    <tr>\n",
       "      <th>...</th>\n",
       "      <td>...</td>\n",
       "      <td>...</td>\n",
       "      <td>...</td>\n",
       "      <td>...</td>\n",
       "      <td>...</td>\n",
       "      <td>...</td>\n",
       "      <td>...</td>\n",
       "      <td>...</td>\n",
       "      <td>...</td>\n",
       "      <td>...</td>\n",
       "      <td>...</td>\n",
       "      <td>...</td>\n",
       "    </tr>\n",
       "    <tr>\n",
       "      <th>381104</th>\n",
       "      <td>381105</td>\n",
       "      <td>Male</td>\n",
       "      <td>74</td>\n",
       "      <td>26</td>\n",
       "      <td>26</td>\n",
       "      <td>1</td>\n",
       "      <td>between_1_2_years</td>\n",
       "      <td>0</td>\n",
       "      <td>1</td>\n",
       "      <td>30170.0</td>\n",
       "      <td>88</td>\n",
       "      <td>0</td>\n",
       "    </tr>\n",
       "    <tr>\n",
       "      <th>381105</th>\n",
       "      <td>381106</td>\n",
       "      <td>Male</td>\n",
       "      <td>30</td>\n",
       "      <td>37</td>\n",
       "      <td>152</td>\n",
       "      <td>1</td>\n",
       "      <td>below_1_year</td>\n",
       "      <td>0</td>\n",
       "      <td>1</td>\n",
       "      <td>40016.0</td>\n",
       "      <td>131</td>\n",
       "      <td>0</td>\n",
       "    </tr>\n",
       "    <tr>\n",
       "      <th>381106</th>\n",
       "      <td>381107</td>\n",
       "      <td>Male</td>\n",
       "      <td>21</td>\n",
       "      <td>30</td>\n",
       "      <td>160</td>\n",
       "      <td>1</td>\n",
       "      <td>below_1_year</td>\n",
       "      <td>0</td>\n",
       "      <td>1</td>\n",
       "      <td>35118.0</td>\n",
       "      <td>161</td>\n",
       "      <td>0</td>\n",
       "    </tr>\n",
       "    <tr>\n",
       "      <th>381107</th>\n",
       "      <td>381108</td>\n",
       "      <td>Female</td>\n",
       "      <td>68</td>\n",
       "      <td>14</td>\n",
       "      <td>124</td>\n",
       "      <td>1</td>\n",
       "      <td>over_2_years</td>\n",
       "      <td>1</td>\n",
       "      <td>0</td>\n",
       "      <td>44617.0</td>\n",
       "      <td>74</td>\n",
       "      <td>0</td>\n",
       "    </tr>\n",
       "    <tr>\n",
       "      <th>381108</th>\n",
       "      <td>381109</td>\n",
       "      <td>Male</td>\n",
       "      <td>46</td>\n",
       "      <td>29</td>\n",
       "      <td>26</td>\n",
       "      <td>1</td>\n",
       "      <td>between_1_2_years</td>\n",
       "      <td>0</td>\n",
       "      <td>0</td>\n",
       "      <td>41777.0</td>\n",
       "      <td>237</td>\n",
       "      <td>0</td>\n",
       "    </tr>\n",
       "  </tbody>\n",
       "</table>\n",
       "<p>381109 rows × 12 columns</p>\n",
       "</div>"
      ],
      "text/plain": [
       "            id  gender  age  region_code  policy_sales_channel  driving_license        vehicle_age  vehicle_damage  vehicle_prev_insured  health_annual_paid  days_associated  response\n",
       "0            1    Male   44           28                    26                1       over_2_years               1                     0             40454.0              217         1\n",
       "1            2    Male   76            3                    26                1  between_1_2_years               0                     0             33536.0              183         0\n",
       "2            3    Male   47           28                    26                1       over_2_years               1                     0             38294.0               27         1\n",
       "3            4    Male   21           11                   152                1       below_1_year               0                     1             28619.0              203         0\n",
       "4            5  Female   29           41                   152                1       below_1_year               0                     1             27496.0               39         0\n",
       "...        ...     ...  ...          ...                   ...              ...                ...             ...                   ...                 ...              ...       ...\n",
       "381104  381105    Male   74           26                    26                1  between_1_2_years               0                     1             30170.0               88         0\n",
       "381105  381106    Male   30           37                   152                1       below_1_year               0                     1             40016.0              131         0\n",
       "381106  381107    Male   21           30                   160                1       below_1_year               0                     1             35118.0              161         0\n",
       "381107  381108  Female   68           14                   124                1       over_2_years               1                     0             44617.0               74         0\n",
       "381108  381109    Male   46           29                    26                1  between_1_2_years               0                     0             41777.0              237         0\n",
       "\n",
       "[381109 rows x 12 columns]"
      ]
     },
     "execution_count": 193,
     "metadata": {},
     "output_type": "execute_result"
    }
   ],
   "source": [
    "df2"
   ]
  },
  {
   "cell_type": "markdown",
   "id": "fffa53fc",
   "metadata": {
    "hidden": true
   },
   "source": [
    "## Variable Filtering"
   ]
  },
  {
   "cell_type": "code",
   "execution_count": 194,
   "id": "f5b95068",
   "metadata": {
    "ExecuteTime": {
     "end_time": "2022-02-12T14:00:37.565100Z",
     "start_time": "2022-02-12T14:00:37.443673Z"
    },
    "hidden": true
   },
   "outputs": [
    {
     "data": {
      "text/html": [
       "<div>\n",
       "<style scoped>\n",
       "    .dataframe tbody tr th:only-of-type {\n",
       "        vertical-align: middle;\n",
       "    }\n",
       "\n",
       "    .dataframe tbody tr th {\n",
       "        vertical-align: top;\n",
       "    }\n",
       "\n",
       "    .dataframe thead th {\n",
       "        text-align: right;\n",
       "    }\n",
       "</style>\n",
       "<table border=\"1\" class=\"dataframe\">\n",
       "  <thead>\n",
       "    <tr style=\"text-align: right;\">\n",
       "      <th></th>\n",
       "      <th>id</th>\n",
       "      <th>gender</th>\n",
       "      <th>age</th>\n",
       "      <th>region_code</th>\n",
       "      <th>policy_sales_channel</th>\n",
       "      <th>vehicle_age</th>\n",
       "      <th>vehicle_damage</th>\n",
       "      <th>vehicle_prev_insured</th>\n",
       "      <th>health_annual_paid</th>\n",
       "      <th>days_associated</th>\n",
       "      <th>response</th>\n",
       "    </tr>\n",
       "  </thead>\n",
       "  <tbody>\n",
       "    <tr>\n",
       "      <th>0</th>\n",
       "      <td>1</td>\n",
       "      <td>Male</td>\n",
       "      <td>44</td>\n",
       "      <td>28</td>\n",
       "      <td>26</td>\n",
       "      <td>over_2_years</td>\n",
       "      <td>1</td>\n",
       "      <td>0</td>\n",
       "      <td>40454.0</td>\n",
       "      <td>217</td>\n",
       "      <td>1</td>\n",
       "    </tr>\n",
       "    <tr>\n",
       "      <th>1</th>\n",
       "      <td>2</td>\n",
       "      <td>Male</td>\n",
       "      <td>76</td>\n",
       "      <td>3</td>\n",
       "      <td>26</td>\n",
       "      <td>between_1_2_years</td>\n",
       "      <td>0</td>\n",
       "      <td>0</td>\n",
       "      <td>33536.0</td>\n",
       "      <td>183</td>\n",
       "      <td>0</td>\n",
       "    </tr>\n",
       "    <tr>\n",
       "      <th>2</th>\n",
       "      <td>3</td>\n",
       "      <td>Male</td>\n",
       "      <td>47</td>\n",
       "      <td>28</td>\n",
       "      <td>26</td>\n",
       "      <td>over_2_years</td>\n",
       "      <td>1</td>\n",
       "      <td>0</td>\n",
       "      <td>38294.0</td>\n",
       "      <td>27</td>\n",
       "      <td>1</td>\n",
       "    </tr>\n",
       "    <tr>\n",
       "      <th>3</th>\n",
       "      <td>4</td>\n",
       "      <td>Male</td>\n",
       "      <td>21</td>\n",
       "      <td>11</td>\n",
       "      <td>152</td>\n",
       "      <td>below_1_year</td>\n",
       "      <td>0</td>\n",
       "      <td>1</td>\n",
       "      <td>28619.0</td>\n",
       "      <td>203</td>\n",
       "      <td>0</td>\n",
       "    </tr>\n",
       "    <tr>\n",
       "      <th>4</th>\n",
       "      <td>5</td>\n",
       "      <td>Female</td>\n",
       "      <td>29</td>\n",
       "      <td>41</td>\n",
       "      <td>152</td>\n",
       "      <td>below_1_year</td>\n",
       "      <td>0</td>\n",
       "      <td>1</td>\n",
       "      <td>27496.0</td>\n",
       "      <td>39</td>\n",
       "      <td>0</td>\n",
       "    </tr>\n",
       "    <tr>\n",
       "      <th>...</th>\n",
       "      <td>...</td>\n",
       "      <td>...</td>\n",
       "      <td>...</td>\n",
       "      <td>...</td>\n",
       "      <td>...</td>\n",
       "      <td>...</td>\n",
       "      <td>...</td>\n",
       "      <td>...</td>\n",
       "      <td>...</td>\n",
       "      <td>...</td>\n",
       "      <td>...</td>\n",
       "    </tr>\n",
       "    <tr>\n",
       "      <th>381104</th>\n",
       "      <td>381105</td>\n",
       "      <td>Male</td>\n",
       "      <td>74</td>\n",
       "      <td>26</td>\n",
       "      <td>26</td>\n",
       "      <td>between_1_2_years</td>\n",
       "      <td>0</td>\n",
       "      <td>1</td>\n",
       "      <td>30170.0</td>\n",
       "      <td>88</td>\n",
       "      <td>0</td>\n",
       "    </tr>\n",
       "    <tr>\n",
       "      <th>381105</th>\n",
       "      <td>381106</td>\n",
       "      <td>Male</td>\n",
       "      <td>30</td>\n",
       "      <td>37</td>\n",
       "      <td>152</td>\n",
       "      <td>below_1_year</td>\n",
       "      <td>0</td>\n",
       "      <td>1</td>\n",
       "      <td>40016.0</td>\n",
       "      <td>131</td>\n",
       "      <td>0</td>\n",
       "    </tr>\n",
       "    <tr>\n",
       "      <th>381106</th>\n",
       "      <td>381107</td>\n",
       "      <td>Male</td>\n",
       "      <td>21</td>\n",
       "      <td>30</td>\n",
       "      <td>160</td>\n",
       "      <td>below_1_year</td>\n",
       "      <td>0</td>\n",
       "      <td>1</td>\n",
       "      <td>35118.0</td>\n",
       "      <td>161</td>\n",
       "      <td>0</td>\n",
       "    </tr>\n",
       "    <tr>\n",
       "      <th>381107</th>\n",
       "      <td>381108</td>\n",
       "      <td>Female</td>\n",
       "      <td>68</td>\n",
       "      <td>14</td>\n",
       "      <td>124</td>\n",
       "      <td>over_2_years</td>\n",
       "      <td>1</td>\n",
       "      <td>0</td>\n",
       "      <td>44617.0</td>\n",
       "      <td>74</td>\n",
       "      <td>0</td>\n",
       "    </tr>\n",
       "    <tr>\n",
       "      <th>381108</th>\n",
       "      <td>381109</td>\n",
       "      <td>Male</td>\n",
       "      <td>46</td>\n",
       "      <td>29</td>\n",
       "      <td>26</td>\n",
       "      <td>between_1_2_years</td>\n",
       "      <td>0</td>\n",
       "      <td>0</td>\n",
       "      <td>41777.0</td>\n",
       "      <td>237</td>\n",
       "      <td>0</td>\n",
       "    </tr>\n",
       "  </tbody>\n",
       "</table>\n",
       "<p>380297 rows × 11 columns</p>\n",
       "</div>"
      ],
      "text/plain": [
       "            id  gender  age  region_code  policy_sales_channel        vehicle_age  vehicle_damage  vehicle_prev_insured  health_annual_paid  days_associated  response\n",
       "0            1    Male   44           28                    26       over_2_years               1                     0             40454.0              217         1\n",
       "1            2    Male   76            3                    26  between_1_2_years               0                     0             33536.0              183         0\n",
       "2            3    Male   47           28                    26       over_2_years               1                     0             38294.0               27         1\n",
       "3            4    Male   21           11                   152       below_1_year               0                     1             28619.0              203         0\n",
       "4            5  Female   29           41                   152       below_1_year               0                     1             27496.0               39         0\n",
       "...        ...     ...  ...          ...                   ...                ...             ...                   ...                 ...              ...       ...\n",
       "381104  381105    Male   74           26                    26  between_1_2_years               0                     1             30170.0               88         0\n",
       "381105  381106    Male   30           37                   152       below_1_year               0                     1             40016.0              131         0\n",
       "381106  381107    Male   21           30                   160       below_1_year               0                     1             35118.0              161         0\n",
       "381107  381108  Female   68           14                   124       over_2_years               1                     0             44617.0               74         0\n",
       "381108  381109    Male   46           29                    26  between_1_2_years               0                     0             41777.0              237         0\n",
       "\n",
       "[380297 rows x 11 columns]"
      ]
     },
     "execution_count": 194,
     "metadata": {},
     "output_type": "execute_result"
    }
   ],
   "source": [
    "#keep just customers with drivers_licence\n",
    "df2_aux = df2[df2['driving_license'] == 1]\n",
    "df2 = df2_aux.drop('driving_license', axis=1)\n",
    "df2"
   ]
  },
  {
   "cell_type": "code",
   "execution_count": 195,
   "id": "2b17520e",
   "metadata": {
    "ExecuteTime": {
     "end_time": "2022-02-12T14:01:00.526665Z",
     "start_time": "2022-02-12T14:01:00.522204Z"
    },
    "hidden": true
   },
   "outputs": [],
   "source": [
    "#no business related data needed to exclude\n",
    "pass"
   ]
  },
  {
   "cell_type": "code",
   "execution_count": 196,
   "id": "a331b5a1",
   "metadata": {
    "ExecuteTime": {
     "end_time": "2022-02-12T14:01:07.027120Z",
     "start_time": "2022-02-12T14:01:05.121808Z"
    },
    "hidden": true
   },
   "outputs": [],
   "source": [
    "df2.to_csv(datapath+'feature_engeneering_done.csv', index=False)"
   ]
  },
  {
   "cell_type": "markdown",
   "id": "39d93ac0",
   "metadata": {},
   "source": [
    "# Exploratory Data Analysism"
   ]
  },
  {
   "cell_type": "code",
   "execution_count": 197,
   "id": "06a143de",
   "metadata": {
    "ExecuteTime": {
     "end_time": "2022-02-12T14:02:31.589469Z",
     "start_time": "2022-02-12T14:02:31.103977Z"
    },
    "scrolled": true
   },
   "outputs": [
    {
     "data": {
      "text/html": [
       "<div>\n",
       "<style scoped>\n",
       "    .dataframe tbody tr th:only-of-type {\n",
       "        vertical-align: middle;\n",
       "    }\n",
       "\n",
       "    .dataframe tbody tr th {\n",
       "        vertical-align: top;\n",
       "    }\n",
       "\n",
       "    .dataframe thead th {\n",
       "        text-align: right;\n",
       "    }\n",
       "</style>\n",
       "<table border=\"1\" class=\"dataframe\">\n",
       "  <thead>\n",
       "    <tr style=\"text-align: right;\">\n",
       "      <th></th>\n",
       "      <th>id</th>\n",
       "      <th>gender</th>\n",
       "      <th>age</th>\n",
       "      <th>region_code</th>\n",
       "      <th>policy_sales_channel</th>\n",
       "      <th>vehicle_age</th>\n",
       "      <th>vehicle_damage</th>\n",
       "      <th>vehicle_prev_insured</th>\n",
       "      <th>health_annual_paid</th>\n",
       "      <th>days_associated</th>\n",
       "      <th>response</th>\n",
       "    </tr>\n",
       "  </thead>\n",
       "  <tbody>\n",
       "    <tr>\n",
       "      <th>0</th>\n",
       "      <td>1</td>\n",
       "      <td>Male</td>\n",
       "      <td>44</td>\n",
       "      <td>28</td>\n",
       "      <td>26</td>\n",
       "      <td>over_2_years</td>\n",
       "      <td>1</td>\n",
       "      <td>0</td>\n",
       "      <td>40454.0</td>\n",
       "      <td>217</td>\n",
       "      <td>1</td>\n",
       "    </tr>\n",
       "    <tr>\n",
       "      <th>1</th>\n",
       "      <td>2</td>\n",
       "      <td>Male</td>\n",
       "      <td>76</td>\n",
       "      <td>3</td>\n",
       "      <td>26</td>\n",
       "      <td>between_1_2_years</td>\n",
       "      <td>0</td>\n",
       "      <td>0</td>\n",
       "      <td>33536.0</td>\n",
       "      <td>183</td>\n",
       "      <td>0</td>\n",
       "    </tr>\n",
       "    <tr>\n",
       "      <th>2</th>\n",
       "      <td>3</td>\n",
       "      <td>Male</td>\n",
       "      <td>47</td>\n",
       "      <td>28</td>\n",
       "      <td>26</td>\n",
       "      <td>over_2_years</td>\n",
       "      <td>1</td>\n",
       "      <td>0</td>\n",
       "      <td>38294.0</td>\n",
       "      <td>27</td>\n",
       "      <td>1</td>\n",
       "    </tr>\n",
       "    <tr>\n",
       "      <th>3</th>\n",
       "      <td>4</td>\n",
       "      <td>Male</td>\n",
       "      <td>21</td>\n",
       "      <td>11</td>\n",
       "      <td>152</td>\n",
       "      <td>below_1_year</td>\n",
       "      <td>0</td>\n",
       "      <td>1</td>\n",
       "      <td>28619.0</td>\n",
       "      <td>203</td>\n",
       "      <td>0</td>\n",
       "    </tr>\n",
       "    <tr>\n",
       "      <th>4</th>\n",
       "      <td>5</td>\n",
       "      <td>Female</td>\n",
       "      <td>29</td>\n",
       "      <td>41</td>\n",
       "      <td>152</td>\n",
       "      <td>below_1_year</td>\n",
       "      <td>0</td>\n",
       "      <td>1</td>\n",
       "      <td>27496.0</td>\n",
       "      <td>39</td>\n",
       "      <td>0</td>\n",
       "    </tr>\n",
       "    <tr>\n",
       "      <th>...</th>\n",
       "      <td>...</td>\n",
       "      <td>...</td>\n",
       "      <td>...</td>\n",
       "      <td>...</td>\n",
       "      <td>...</td>\n",
       "      <td>...</td>\n",
       "      <td>...</td>\n",
       "      <td>...</td>\n",
       "      <td>...</td>\n",
       "      <td>...</td>\n",
       "      <td>...</td>\n",
       "    </tr>\n",
       "    <tr>\n",
       "      <th>380292</th>\n",
       "      <td>381105</td>\n",
       "      <td>Male</td>\n",
       "      <td>74</td>\n",
       "      <td>26</td>\n",
       "      <td>26</td>\n",
       "      <td>between_1_2_years</td>\n",
       "      <td>0</td>\n",
       "      <td>1</td>\n",
       "      <td>30170.0</td>\n",
       "      <td>88</td>\n",
       "      <td>0</td>\n",
       "    </tr>\n",
       "    <tr>\n",
       "      <th>380293</th>\n",
       "      <td>381106</td>\n",
       "      <td>Male</td>\n",
       "      <td>30</td>\n",
       "      <td>37</td>\n",
       "      <td>152</td>\n",
       "      <td>below_1_year</td>\n",
       "      <td>0</td>\n",
       "      <td>1</td>\n",
       "      <td>40016.0</td>\n",
       "      <td>131</td>\n",
       "      <td>0</td>\n",
       "    </tr>\n",
       "    <tr>\n",
       "      <th>380294</th>\n",
       "      <td>381107</td>\n",
       "      <td>Male</td>\n",
       "      <td>21</td>\n",
       "      <td>30</td>\n",
       "      <td>160</td>\n",
       "      <td>below_1_year</td>\n",
       "      <td>0</td>\n",
       "      <td>1</td>\n",
       "      <td>35118.0</td>\n",
       "      <td>161</td>\n",
       "      <td>0</td>\n",
       "    </tr>\n",
       "    <tr>\n",
       "      <th>380295</th>\n",
       "      <td>381108</td>\n",
       "      <td>Female</td>\n",
       "      <td>68</td>\n",
       "      <td>14</td>\n",
       "      <td>124</td>\n",
       "      <td>over_2_years</td>\n",
       "      <td>1</td>\n",
       "      <td>0</td>\n",
       "      <td>44617.0</td>\n",
       "      <td>74</td>\n",
       "      <td>0</td>\n",
       "    </tr>\n",
       "    <tr>\n",
       "      <th>380296</th>\n",
       "      <td>381109</td>\n",
       "      <td>Male</td>\n",
       "      <td>46</td>\n",
       "      <td>29</td>\n",
       "      <td>26</td>\n",
       "      <td>between_1_2_years</td>\n",
       "      <td>0</td>\n",
       "      <td>0</td>\n",
       "      <td>41777.0</td>\n",
       "      <td>237</td>\n",
       "      <td>0</td>\n",
       "    </tr>\n",
       "  </tbody>\n",
       "</table>\n",
       "<p>380297 rows × 11 columns</p>\n",
       "</div>"
      ],
      "text/plain": [
       "            id  gender  age  region_code  policy_sales_channel        vehicle_age  vehicle_damage  vehicle_prev_insured  health_annual_paid  days_associated  response\n",
       "0            1    Male   44           28                    26       over_2_years               1                     0             40454.0              217         1\n",
       "1            2    Male   76            3                    26  between_1_2_years               0                     0             33536.0              183         0\n",
       "2            3    Male   47           28                    26       over_2_years               1                     0             38294.0               27         1\n",
       "3            4    Male   21           11                   152       below_1_year               0                     1             28619.0              203         0\n",
       "4            5  Female   29           41                   152       below_1_year               0                     1             27496.0               39         0\n",
       "...        ...     ...  ...          ...                   ...                ...             ...                   ...                 ...              ...       ...\n",
       "380292  381105    Male   74           26                    26  between_1_2_years               0                     1             30170.0               88         0\n",
       "380293  381106    Male   30           37                   152       below_1_year               0                     1             40016.0              131         0\n",
       "380294  381107    Male   21           30                   160       below_1_year               0                     1             35118.0              161         0\n",
       "380295  381108  Female   68           14                   124       over_2_years               1                     0             44617.0               74         0\n",
       "380296  381109    Male   46           29                    26  between_1_2_years               0                     0             41777.0              237         0\n",
       "\n",
       "[380297 rows x 11 columns]"
      ]
     },
     "execution_count": 197,
     "metadata": {},
     "output_type": "execute_result"
    }
   ],
   "source": [
    "df3 = pd.read_csv(datapath+'feature_engeneering_done.csv')\n",
    "df3"
   ]
  },
  {
   "cell_type": "markdown",
   "id": "891e2225",
   "metadata": {
    "heading_collapsed": true
   },
   "source": [
    "## Univariate Analysis (needed? - review..)\n"
   ]
  },
  {
   "cell_type": "markdown",
   "id": "a1529f37",
   "metadata": {
    "hidden": true
   },
   "source": [
    "- 12% of current customers are interested in vehicle insurance."
   ]
  },
  {
   "cell_type": "code",
   "execution_count": 204,
   "id": "0c6174bc",
   "metadata": {
    "ExecuteTime": {
     "end_time": "2022-02-12T14:04:22.315047Z",
     "start_time": "2022-02-12T14:04:22.063829Z"
    },
    "hidden": true
   },
   "outputs": [
    {
     "data": {
      "image/png": "[encoded data removed]",
      "text/plain": [
       "<Figure size 1008x432 with 1 Axes>"
      ]
     },
     "metadata": {},
     "output_type": "display_data"
    }
   ],
   "source": [
    "uni_resp = sns.countplot(x = 'response', data = df3)\n",
    "uni_resp.set_ylabel('Number of customers')\n",
    "uni_resp.set_xlabel('Interested')\n",
    "uni_resp.set_xticklabels(['No', 'Yes']);\n",
    "uni_resp.set_title('Customers interest in vehicle insurance');"
   ]
  },
  {
   "cell_type": "code",
   "execution_count": 883,
   "id": "12dd0e27",
   "metadata": {
    "ExecuteTime": {
     "end_time": "2022-02-07T08:52:00.052402Z",
     "start_time": "2022-02-07T08:52:00.028518Z"
    },
    "hidden": true
   },
   "outputs": [
    {
     "data": {
      "text/plain": [
       "0    87.73\n",
       "1    12.27\n",
       "Name: response, dtype: float64"
      ]
     },
     "execution_count": 883,
     "metadata": {},
     "output_type": "execute_result"
    }
   ],
   "source": [
    "#proportion\n",
    "round(df3['response'].value_counts() / df3.shape[0] * 100 ,2)"
   ]
  },
  {
   "cell_type": "code",
   "execution_count": null,
   "id": "d8390a9c",
   "metadata": {
    "hidden": true
   },
   "outputs": [],
   "source": [
    "FAÇO IGUAL A UNIVARIADA, SENDO QUE JÁ FIZ ISSO NA DESCRIPTIPTIVE STATISTICAL?"
   ]
  },
  {
   "cell_type": "markdown",
   "id": "55e93bb1",
   "metadata": {
    "heading_collapsed": true,
    "hidden": true
   },
   "source": [
    "### Response variable"
   ]
  },
  {
   "cell_type": "code",
   "execution_count": 126,
   "id": "0f53f374",
   "metadata": {
    "ExecuteTime": {
     "end_time": "2022-02-06T11:48:48.809471Z",
     "start_time": "2022-02-06T11:48:47.898752Z"
    },
    "hidden": true
   },
   "outputs": [
    {
     "data": {
      "image/png": "[encoded data removed]",
      "text/plain": [
       "<Figure size 360x360 with 1 Axes>"
      ]
     },
     "metadata": {},
     "output_type": "display_data"
    }
   ],
   "source": [
    "sns.displot(df3['vehicle_insurance_response']);"
   ]
  },
  {
   "cell_type": "markdown",
   "id": "08f98be9",
   "metadata": {
    "heading_collapsed": true,
    "hidden": true
   },
   "source": [
    "### Numerical variables"
   ]
  },
  {
   "cell_type": "code",
   "execution_count": 130,
   "id": "f565497a",
   "metadata": {
    "ExecuteTime": {
     "end_time": "2022-02-06T11:50:35.393316Z",
     "start_time": "2022-02-06T11:50:33.599248Z"
    },
    "hidden": true
   },
   "outputs": [
    {
     "data": {
      "image/png": "[encoded data removed]",
      "text/plain": [
       "<Figure size 1008x432 with 4 Axes>"
      ]
     },
     "metadata": {},
     "output_type": "display_data"
    }
   ],
   "source": [
    "num_attributes.hist( bins=50 )\n",
    "plt.tight_layout()"
   ]
  },
  {
   "cell_type": "markdown",
   "id": "5343e3af",
   "metadata": {
    "heading_collapsed": true,
    "hidden": true
   },
   "source": [
    "### Cathegorical Variables"
   ]
  },
  {
   "cell_type": "code",
   "execution_count": 131,
   "id": "3f489f11",
   "metadata": {
    "ExecuteTime": {
     "end_time": "2022-02-06T11:53:00.472489Z",
     "start_time": "2022-02-06T11:53:00.453522Z"
    },
    "hidden": true
   },
   "outputs": [
    {
     "data": {
      "text/html": [
       "<div>\n",
       "<style scoped>\n",
       "    .dataframe tbody tr th:only-of-type {\n",
       "        vertical-align: middle;\n",
       "    }\n",
       "\n",
       "    .dataframe tbody tr th {\n",
       "        vertical-align: top;\n",
       "    }\n",
       "\n",
       "    .dataframe thead th {\n",
       "        text-align: right;\n",
       "    }\n",
       "</style>\n",
       "<table border=\"1\" class=\"dataframe\">\n",
       "  <thead>\n",
       "    <tr style=\"text-align: right;\">\n",
       "      <th></th>\n",
       "      <th>gender</th>\n",
       "      <th>region_code</th>\n",
       "      <th>id_contact_code</th>\n",
       "      <th>driving_license</th>\n",
       "      <th>vehicle_age</th>\n",
       "      <th>vehicle_damage</th>\n",
       "      <th>vehicle_previously_insured</th>\n",
       "      <th>vehicle_insurance_response</th>\n",
       "    </tr>\n",
       "  </thead>\n",
       "  <tbody>\n",
       "    <tr>\n",
       "      <th>0</th>\n",
       "      <td>Male</td>\n",
       "      <td>28.0</td>\n",
       "      <td>26.0</td>\n",
       "      <td>1</td>\n",
       "      <td>&gt; 2 Years</td>\n",
       "      <td>Yes</td>\n",
       "      <td>0</td>\n",
       "      <td>1</td>\n",
       "    </tr>\n",
       "    <tr>\n",
       "      <th>1</th>\n",
       "      <td>Male</td>\n",
       "      <td>3.0</td>\n",
       "      <td>26.0</td>\n",
       "      <td>1</td>\n",
       "      <td>1-2 Year</td>\n",
       "      <td>No</td>\n",
       "      <td>0</td>\n",
       "      <td>0</td>\n",
       "    </tr>\n",
       "    <tr>\n",
       "      <th>2</th>\n",
       "      <td>Male</td>\n",
       "      <td>28.0</td>\n",
       "      <td>26.0</td>\n",
       "      <td>1</td>\n",
       "      <td>&gt; 2 Years</td>\n",
       "      <td>Yes</td>\n",
       "      <td>0</td>\n",
       "      <td>1</td>\n",
       "    </tr>\n",
       "    <tr>\n",
       "      <th>3</th>\n",
       "      <td>Male</td>\n",
       "      <td>11.0</td>\n",
       "      <td>152.0</td>\n",
       "      <td>1</td>\n",
       "      <td>&lt; 1 Year</td>\n",
       "      <td>No</td>\n",
       "      <td>1</td>\n",
       "      <td>0</td>\n",
       "    </tr>\n",
       "    <tr>\n",
       "      <th>4</th>\n",
       "      <td>Female</td>\n",
       "      <td>41.0</td>\n",
       "      <td>152.0</td>\n",
       "      <td>1</td>\n",
       "      <td>&lt; 1 Year</td>\n",
       "      <td>No</td>\n",
       "      <td>1</td>\n",
       "      <td>0</td>\n",
       "    </tr>\n",
       "  </tbody>\n",
       "</table>\n",
       "</div>"
      ],
      "text/plain": [
       "   gender  region_code  id_contact_code  driving_license vehicle_age vehicle_damage  vehicle_previously_insured  vehicle_insurance_response\n",
       "0    Male         28.0             26.0                1   > 2 Years            Yes                           0                           1\n",
       "1    Male          3.0             26.0                1    1-2 Year             No                           0                           0\n",
       "2    Male         28.0             26.0                1   > 2 Years            Yes                           0                           1\n",
       "3    Male         11.0            152.0                1    < 1 Year             No                           1                           0\n",
       "4  Female         41.0            152.0                1    < 1 Year             No                           1                           0"
      ]
     },
     "execution_count": 131,
     "metadata": {},
     "output_type": "execute_result"
    }
   ],
   "source": [
    "cat_attributes.head()"
   ]
  },
  {
   "cell_type": "code",
   "execution_count": 150,
   "id": "ac24978b",
   "metadata": {
    "ExecuteTime": {
     "end_time": "2022-02-06T12:14:44.912547Z",
     "start_time": "2022-02-06T12:14:40.848742Z"
    },
    "hidden": true
   },
   "outputs": [
    {
     "data": {
      "image/png": "[encoded data removed]",
      "text/plain": [
       "<Figure size 1008x432 with 2 Axes>"
      ]
     },
     "metadata": {},
     "output_type": "display_data"
    }
   ],
   "source": [
    "plt.subplot( 2,2,1 )\n",
    "sns.countplot( x=df3['gender'] );\n",
    "\n",
    "plt.subplot( 2,2,2 )\n",
    "sns.kdeplot( df3[df3['gender']=='Male']['vehicle_insurance_response'], shade=True, label='Male');\n",
    "sns.kdeplot( df3[df3['gender']=='Female']['vehicle_insurance_response'], shade=True, label='Female');\n"
   ]
  },
  {
   "cell_type": "code",
   "execution_count": 160,
   "id": "54d9d764",
   "metadata": {
    "ExecuteTime": {
     "end_time": "2022-02-06T12:24:35.979436Z",
     "start_time": "2022-02-06T12:24:33.814488Z"
    },
    "hidden": true
   },
   "outputs": [
    {
     "data": {
      "image/png": "[encoded data removed]",
      "text/plain": [
       "<Figure size 1008x432 with 1 Axes>"
      ]
     },
     "metadata": {},
     "output_type": "display_data"
    }
   ],
   "source": [
    "sns.countplot(x= df3['region_code'] )\n",
    "plt.xticks(rotation=70);\n"
   ]
  },
  {
   "cell_type": "code",
   "execution_count": null,
   "id": "983810e6",
   "metadata": {
    "hidden": true
   },
   "outputs": [],
   "source": []
  },
  {
   "cell_type": "markdown",
   "id": "cf8a3aec",
   "metadata": {},
   "source": [
    "## Bivariate Analysis"
   ]
  },
  {
   "cell_type": "markdown",
   "id": "e4381dae",
   "metadata": {},
   "source": [
    "Validate hypotheses:\n",
    "\n",
    "| ID   | Hypotheses                                                              |\n",
    "|:-----|:------------------------------------------------------------------------|\n",
    "| H1   | Customers with AGE HIGHER should be MORE interested.                    |\n",
    "| H2   | Customers with GENDER FEMALE should be MORE interested.                 |\n",
    "| H3   | Customers of CERTAINS REGION should be MORE interested.                 |\n",
    "| H4   | Customers of CERTAIN POLICY SALES CHANEL should be MORE interested.     | \n",
    "| H5   | Customers with MOST RECENT VEHICLE AGE should be MORE interested.       |\n",
    "| H6   | Customers who HAD VEHICLE DAMAGE should be MORE interested.             |\n",
    "| H7   | Customers who HAD VEHICLE PREVIOUSLY INSURED should be MORE interested. |\n",
    "| H8   | Customers with HIGHER ANNUAL HEALTH EXPANSES should be MORE interested. |\n",
    "| H9   | Customers whth MORE DAYS ASSOCIATED should be MORE interested.          |\n"
   ]
  },
  {
   "cell_type": "markdown",
   "id": "3df38e24",
   "metadata": {
    "heading_collapsed": true
   },
   "source": [
    "### H1   | Customers with AGE HIGHER should be MORE interested. (=>  false)"
   ]
  },
  {
   "cell_type": "markdown",
   "id": "ef5c7b43",
   "metadata": {
    "hidden": true
   },
   "source": [
    "- Middle Age customers are the most interested in vehicle insurance. Their mean age is 43 years."
   ]
  },
  {
   "cell_type": "code",
   "execution_count": 694,
   "id": "dbf7307d",
   "metadata": {
    "ExecuteTime": {
     "end_time": "2022-02-06T18:25:31.455074Z",
     "start_time": "2022-02-06T18:25:31.172435Z"
    },
    "code_folding": [],
    "hidden": true
   },
   "outputs": [
    {
     "data": {
      "image/png": "[encoded data removed]",
      "text/plain": [
       "<Figure size 1008x432 with 1 Axes>"
      ]
     },
     "metadata": {},
     "output_type": "display_data"
    }
   ],
   "source": [
    "#distribution of interested by age\n",
    "box_h1 = sns.boxplot(x = 'response', y= 'age', data = df3)\n",
    "box_h1.set_xticklabels(['Not interested', 'Interested']);\n",
    "box_h1.set_ylabel('Age')\n",
    "box_h1.set_xlabel('Interest')\n",
    "box_h1.set_title('Interest in vehicle insurance per age');"
   ]
  },
  {
   "cell_type": "code",
   "execution_count": 908,
   "id": "2707197d",
   "metadata": {
    "ExecuteTime": {
     "end_time": "2022-02-07T09:09:59.951044Z",
     "start_time": "2022-02-07T09:09:59.931532Z"
    },
    "code_folding": [],
    "hidden": true
   },
   "outputs": [
    {
     "data": {
      "text/plain": [
       "43.4"
      ]
     },
     "execution_count": 908,
     "metadata": {},
     "output_type": "execute_result"
    }
   ],
   "source": [
    "#mean age of interested\n",
    "df3_resp_yes = df3[df3['response']==1]\n",
    "round(df3_resp_yes['age'].mean() ,1)"
   ]
  },
  {
   "cell_type": "code",
   "execution_count": 962,
   "id": "ef8a5c7d",
   "metadata": {
    "ExecuteTime": {
     "end_time": "2022-02-07T10:07:59.365386Z",
     "start_time": "2022-02-07T10:07:56.060227Z"
    },
    "code_folding": [],
    "hidden": true
   },
   "outputs": [
    {
     "data": {
      "image/png": "[encoded data removed]",
      "text/plain": [
       "<Figure size 1080x432 with 1 Axes>"
      ]
     },
     "metadata": {},
     "output_type": "display_data"
    }
   ],
   "source": [
    "#analyse just interested customers and group by age\n",
    "aux_h1 = df3[['age', 'response']].groupby('age').sum().reset_index()\n",
    "bar_h1 = sns.barplot( x='age', y='response', data=aux_h1 )\n",
    "bar_h1.set_xlabel('Age')\n",
    "bar_h1.set_ylabel('Number of interested customers')\n",
    "bar_h1.set_title('Number of interested customers per age')\n",
    "plt.xticks( rotation=90 );"
   ]
  },
  {
   "cell_type": "markdown",
   "id": "b54f5afa",
   "metadata": {
    "heading_collapsed": true
   },
   "source": [
    "### H2   | Customers with GENDER FEMALE should be MORE interested. (=> false)"
   ]
  },
  {
   "cell_type": "markdown",
   "id": "5a104b5e",
   "metadata": {
    "hidden": true
   },
   "source": [
    "-  54% of customers are male. 61% of interested customers in vehicle insurance are male."
   ]
  },
  {
   "cell_type": "code",
   "execution_count": 965,
   "id": "288bfa27",
   "metadata": {
    "ExecuteTime": {
     "end_time": "2022-02-07T10:09:01.187330Z",
     "start_time": "2022-02-07T10:09:00.586332Z"
    },
    "code_folding": [],
    "hidden": true
   },
   "outputs": [
    {
     "data": {
      "image/png": "[encoded data removed]",
      "text/plain": [
       "<Figure size 1080x432 with 3 Axes>"
      ]
     },
     "metadata": {},
     "output_type": "display_data"
    }
   ],
   "source": [
    "#charts size\n",
    "plt.rcParams[\"figure.figsize\"] = (15, 6)\n",
    "\n",
    "#percentage of customers per gender\n",
    "pie1_h2 = plt.subplot (1,3,1)\n",
    "pie1_h2.set_title('Proportion of customers per gender')\n",
    "perc_m, perc_f = df3['gender'].value_counts() / df3.shape[0] * 100\n",
    "pie1_h2.pie([perc_m, perc_f], explode=(0, 0.1), labels=['Male', 'Female'], autopct='%1.1f%%', shadow=True, startangle=90)\n",
    "\n",
    "# percentage of interested customers per gender\n",
    "pie2_h2 = plt.subplot (1,3,2)\n",
    "pie2_h2.set_title('Proportion of interested customers per gender')\n",
    "aux_h2 = df3[['gender', 'response']].groupby('gender').sum().reset_index()\n",
    "perc_int_f  = round( aux_h2['response'][0] / df3.shape[0] * 100 ,2)\n",
    "perc_int_m = round( aux_h2['response'][1] / df3.shape[0] * 100 ,2)           \n",
    "pie2_h2.pie([perc_int_m, perc_int_f], explode=(0, 0.1), labels=['Male', 'Female'], autopct='%1.1f%%', shadow=True, startangle=90);\n",
    "\n",
    "#now absolute number of interested customers per gender\n",
    "bar_h2 = plt.subplot (1,3,3)\n",
    "bar_h2.set_title('Number of Interested customers per gender')\n",
    "bar_h2 = sns.barplot( x='gender', y='response', data=aux_h2);\n",
    "bar_h2.set_xlabel('Gender')\n",
    "bar_h2.set_ylabel('Number of interested customers')\n",
    "\n",
    "plt.tight_layout(pad=3)"
   ]
  },
  {
   "cell_type": "markdown",
   "id": "e5982321",
   "metadata": {
    "heading_collapsed": true
   },
   "source": [
    "### H3   | Customers of CERTAINS REGION should be MORE interested. (=> true)"
   ]
  },
  {
   "cell_type": "markdown",
   "id": "c36b568d",
   "metadata": {
    "hidden": true
   },
   "source": [
    "- Region 28 has 28% of total customers, and 43% of interested customers!"
   ]
  },
  {
   "cell_type": "code",
   "execution_count": 1073,
   "id": "79063524",
   "metadata": {
    "ExecuteTime": {
     "end_time": "2022-02-07T10:59:53.315797Z",
     "start_time": "2022-02-07T10:59:50.283129Z"
    },
    "code_folding": [],
    "hidden": true
   },
   "outputs": [
    {
     "data": {
      "image/png": "[encoded data removed]",
      "text/plain": [
       "<Figure size 1440x720 with 1 Axes>"
      ]
     },
     "metadata": {},
     "output_type": "display_data"
    }
   ],
   "source": [
    "#total vs interested customers per region code\n",
    "width = 0.8\n",
    "tot_cust_raw = df3[['region_code', 'response']].groupby('region_code').count().reset_index()\n",
    "tot_cust = list(tot_cust_raw['response'])\n",
    "int_cust_raw = df3[['region_code', 'response']].groupby('region_code').sum().reset_index()\n",
    "int_cust = list(int_cust_raw['response'])\n",
    "indices = np.arange(len(tot_cust))\n",
    "\n",
    "plt.bar(indices, tot_cust, width=width, color='b', label='Total Customers')\n",
    "plt.bar([i+0.01*width for i in indices], int_cust, width=0.5*width, color='r', alpha=0.5, label='Interested Customers')\n",
    "plt.xticks(indices+width/100,[' {}'.format(i) for i in range(len(tot_cust))] )\n",
    "plt.xticks( rotation=90 );\n",
    "plt.title('Total vs Interested customers per region code')\n",
    "plt.xlabel('Region Code')\n",
    "plt.ylabel('Total Customers / Interested Customers')\n",
    "\n",
    "plt.legend()\n",
    "plt.show()"
   ]
  },
  {
   "cell_type": "code",
   "execution_count": 1180,
   "id": "a694d419",
   "metadata": {
    "ExecuteTime": {
     "end_time": "2022-02-07T11:43:45.241319Z",
     "start_time": "2022-02-07T11:43:45.224212Z"
    },
    "hidden": true
   },
   "outputs": [
    {
     "name": "stdout",
     "output_type": "stream",
     "text": [
      "Region 28 - Percentage of total customers: 27.9%\n",
      "Region 28 - Percentage of interested: 42.6% \n"
     ]
    }
   ],
   "source": [
    "print(f\"Region 28 - Percentage of total customers: {round(tot_cust[28] / df3.shape[0] *100 ,1) }%\")#27,9%\n",
    "print(f\"Region 28 - Percentage of interested: {round(int_cust[28] / df3[df3['response']==1].shape[0] * 100 ,1) }% \") #42.6"
   ]
  },
  {
   "cell_type": "markdown",
   "id": "ce9d2820",
   "metadata": {
    "heading_collapsed": true
   },
   "source": [
    "### H5   | Customers with MOST RECENT VEHICLE AGE should be MORE interested. (=> false)"
   ]
  },
  {
   "cell_type": "markdown",
   "id": "4253c1b1",
   "metadata": {
    "hidden": true
   },
   "source": [
    "- Taking proportion in account, the OLDER the vehicle age, the more interested in vehicle insurance the customer is, .\n",
    "\n",
    "\n"
   ]
  },
  {
   "cell_type": "code",
   "execution_count": 86,
   "id": "d3b42f97",
   "metadata": {
    "ExecuteTime": {
     "end_time": "2022-02-12T12:34:41.800029Z",
     "start_time": "2022-02-12T12:34:41.080319Z"
    },
    "hidden": true
   },
   "outputs": [
    {
     "data": {
      "image/png": "[encoded data removed]",
      "text/plain": [
       "<Figure size 1440x504 with 3 Axes>"
      ]
     },
     "metadata": {},
     "output_type": "display_data"
    }
   ],
   "source": [
    "plt.rcParams[\"figure.figsize\"] = (20, 7)\n",
    "\n",
    "plt.subplot (1,3,1)\n",
    "h5_df_below = df3.loc[df3['vehicle_age'] == 'below_1_year']\n",
    "h5_int_below = h5_df_below[['vehicle_age', 'response']].groupby('response').count().reset_index()\n",
    "fig_below_h5 = sns.barplot (x = 'response', y='vehicle_age', data=h5_int_below);\n",
    "fig_below_h5.set_xlabel('Interest in Vehicle Insurance')\n",
    "fig_below_h5.set_ylabel('Number of customers')\n",
    "fig_below_h5.set_title('Number of customers - Below 1 year');\n",
    "fig_below_h5.set_xticklabels(['No', 'Yes']);\n",
    "\n",
    "plt.subplot (1,3,2)\n",
    "h5_df_between = df3.loc[df3['vehicle_age'] == 'between_1_2_years']\n",
    "h5_int_between = h5_df_between[['vehicle_age', 'response']].groupby('response').count().reset_index()\n",
    "fig_between_h5 = sns.barplot (x = 'response', y='vehicle_age', data=h5_int_between);\n",
    "fig_between_h5.set_xlabel('Interest in Vehicle Insurance')\n",
    "fig_between_h5.set_ylabel('Number of customers')\n",
    "fig_between_h5.set_title('Number of customers - Between 1 and 2 years');\n",
    "fig_between_h5.set_xticklabels(['No', 'Yes']);\n",
    "\n",
    "plt.subplot (1,3,3)\n",
    "h5_df_over = df3.loc[df3['vehicle_age'] == 'over_2_years']\n",
    "h5_int_over = h5_df_over[['vehicle_age', 'response']].groupby('response').count().reset_index()\n",
    "\n",
    "fig_over_h5 = sns.barplot (x = 'response', y='vehicle_age', data=h5_int_over);\n",
    "fig_over_h5.set_xlabel('Interest in Vehicle Insurance')\n",
    "fig_over_h5.set_ylabel('Number of customers')\n",
    "fig_over_h5.set_title('Number of customers - Over 2 years');\n",
    "fig_over_h5.set_xticklabels(['No', 'Yes']);"
   ]
  },
  {
   "cell_type": "markdown",
   "id": "1a922e73",
   "metadata": {
    "heading_collapsed": true
   },
   "source": [
    "### H6   | Customers who HAD VEHICLE DAMAGE should be MORE interested. (=> true)\n",
    "\n"
   ]
  },
  {
   "cell_type": "markdown",
   "id": "7fd5f40d",
   "metadata": {
    "hidden": true
   },
   "source": [
    "- Only 0.5% of customers how didn't have vehicle damaged are interestes in vehicle insurance\n",
    "- 24% of customers how havd vehicle damaged are interested in vehicle insurance\n"
   ]
  },
  {
   "cell_type": "code",
   "execution_count": 118,
   "id": "68432eea",
   "metadata": {
    "ExecuteTime": {
     "end_time": "2022-02-12T13:12:06.508437Z",
     "start_time": "2022-02-12T13:12:06.080188Z"
    },
    "hidden": true,
    "scrolled": true
   },
   "outputs": [
    {
     "data": {
      "image/png": "[encoded data removed]",
      "text/plain": [
       "<Figure size 1440x504 with 2 Axes>"
      ]
     },
     "metadata": {},
     "output_type": "display_data"
    }
   ],
   "source": [
    "#get just interested and group by vehicle age \n",
    "# aux_h6 = df3[['vehicle_damage', 'vehicle_insurance_response']].groupby('vehicle_damage').count().reset_index()\n",
    "#----------------\n",
    "\n",
    "#vehicle_damage == 0(no): interested / not interested\n",
    "plt.subplot (1,2,1)\n",
    "h6_df_not_damaged = df3.loc[df3['vehicle_damage'] == 0]\n",
    "h6_int_not_damaged = h6_df_not_damaged[['vehicle_damage', 'response']].groupby('response').count().reset_index()\n",
    "fig_not_damaged_h6 = sns.barplot (x = 'response', y='vehicle_damage', data=h6_int_not_damaged);\n",
    "fig_not_damaged_h6.set_xlabel('Interested in Vehicle Insurance')\n",
    "fig_not_damaged_h6.set_ylabel('Number of customers')\n",
    "fig_not_damaged_h6.set_title('Interest in Vehicle Insurance when customer didn\\'t have Vehicle Damage');\n",
    "fig_not_damaged_h6.set_xticklabels(['No', 'Yes']);\n",
    "\n",
    "#vehicle_damage == 1(yes): interested / not interested\n",
    "plt.subplot (1,2,2)\n",
    "h6_df_damaged = df3.loc[df3['vehicle_damage'] == 1]\n",
    "h6_int_damaged = h6_df_damaged[['vehicle_damage', 'response']].groupby('response').count().reset_index()\n",
    "fig_damaged_h6 = sns.barplot (x = 'response', y='vehicle_damage', data=h6_int_damaged);\n",
    "fig_damaged_h6.set_xlabel('Interested in Vehicle Insurance')\n",
    "fig_damaged_h6.set_ylabel('Number of customers')\n",
    "fig_damaged_h6.set_title('Interest in Vehicle Insurance when customer had Vehicle Damage');\n",
    "fig_damaged_h6.set_xticklabels(['No', 'Yes']);"
   ]
  },
  {
   "cell_type": "code",
   "execution_count": 133,
   "id": "53d49ea6",
   "metadata": {
    "ExecuteTime": {
     "end_time": "2022-02-12T13:15:57.642112Z",
     "start_time": "2022-02-12T13:15:57.629732Z"
    },
    "hidden": true
   },
   "outputs": [
    {
     "data": {
      "text/plain": [
       "0    99.478879\n",
       "1     0.521121\n",
       "Name: response, dtype: float64"
      ]
     },
     "execution_count": 133,
     "metadata": {},
     "output_type": "execute_result"
    }
   ],
   "source": [
    "h6_df_not_damaged['response'].value_counts() / h6_df_not_damaged.shape[0] *100\n",
    "# Only 0.5% of customers how didn't have vehicle damage are interestes in vehicle insurance"
   ]
  },
  {
   "cell_type": "code",
   "execution_count": 135,
   "id": "6610477a",
   "metadata": {
    "ExecuteTime": {
     "end_time": "2022-02-12T13:17:42.302628Z",
     "start_time": "2022-02-12T13:17:42.290217Z"
    },
    "hidden": true
   },
   "outputs": [
    {
     "data": {
      "text/plain": [
       "0    76.186952\n",
       "1    23.813048\n",
       "Name: response, dtype: float64"
      ]
     },
     "execution_count": 135,
     "metadata": {},
     "output_type": "execute_result"
    }
   ],
   "source": [
    "h6_df_damaged['response'].value_counts() / h6_df_damaged.shape[0] *100\n",
    "# 24% of customers how havd vehicle damage are interested in vehicle insurance"
   ]
  },
  {
   "cell_type": "markdown",
   "id": "8aacdebd",
   "metadata": {
    "heading_collapsed": true
   },
   "source": [
    "### H7   | Customers who HAD VEHICLE PREVIOUSLY INSURED should be MORE interested. (=> false)\n"
   ]
  },
  {
   "cell_type": "markdown",
   "id": "8dddca11",
   "metadata": {
    "hidden": true
   },
   "source": [
    "- 22% of customers who didn't have vehicle previously insured are interested in vehicle insurance.\n",
    "- Only 1% of customers who had vehicle previously insured are interested in vehicle insurance.\n"
   ]
  },
  {
   "cell_type": "code",
   "execution_count": 116,
   "id": "9c0500c5",
   "metadata": {
    "ExecuteTime": {
     "end_time": "2022-02-12T13:07:25.274759Z",
     "start_time": "2022-02-12T13:07:24.852699Z"
    },
    "code_folding": [
     0
    ],
    "hidden": true
   },
   "outputs": [
    {
     "data": {
      "image/png": "[encoded data removed]",
      "text/plain": [
       "<Figure size 1440x504 with 2 Axes>"
      ]
     },
     "metadata": {},
     "output_type": "display_data"
    }
   ],
   "source": [
    "#vehicle_previously_insured == 1(yes): interested / not interested\n",
    "plt.subplot (1,2,1)\n",
    "h7_df_insured = df3.loc[df3['vehicle_previously_insured'] == 1]\n",
    "h7_int_insured = h7_df_insured[['vehicle_previously_insured', 'response']].groupby('response').count().reset_index()\n",
    "fig_insured_h7 = sns.barplot (x = 'response', y='vehicle_previously_insured', data=h7_int_insured);\n",
    "fig_insured_h7.set_xlabel('Interested in Vehicle Insurance')\n",
    "fig_insured_h7.set_ylabel('Number of customers')\n",
    "fig_insured_h7.set_title('Interest in Vehicle Insurance when customer had Vehicle Insurance');\n",
    "fig_insured_h7.set_xticklabels(['No', 'Yes']);\n",
    "\n",
    "#vehicle_previously_insured == 0(no): interested / not interested\n",
    "plt.subplot (1,2,2)\n",
    "h7_df_not_insured = df3.loc[df3['vehicle_previously_insured'] == 0]\n",
    "h7_int_not_insured = h7_df_not_insured[['vehicle_previously_insured', 'response']].groupby('response').count().reset_index()\n",
    "fig_not_insured_h7 = sns.barplot (x = 'response', y='vehicle_previously_insured', data=h7_int_not_insured);\n",
    "fig_not_insured_h7.set_xlabel('Interested in Vehicle Insurance')\n",
    "fig_not_insured_h7.set_ylabel('Number of customers')\n",
    "fig_not_insured_h7.set_title('Interest in Vehicle Insurance when customer didn\\'t have Vehicle Insurance');\n",
    "\n",
    "\n",
    "\n",
    "\n",
    "fig_not_insured_h7.set_xticklabels(['No', 'Yes']);"
   ]
  },
  {
   "cell_type": "code",
   "execution_count": 114,
   "id": "3aa71e68",
   "metadata": {
    "ExecuteTime": {
     "end_time": "2022-02-12T13:06:39.125489Z",
     "start_time": "2022-02-12T13:06:39.112808Z"
    },
    "hidden": true
   },
   "outputs": [
    {
     "data": {
      "text/plain": [
       "0    99.909397\n",
       "1     0.090603\n",
       "Name: response, dtype: float64"
      ]
     },
     "execution_count": 114,
     "metadata": {},
     "output_type": "execute_result"
    }
   ],
   "source": [
    "h7_df_insured['response'].value_counts() / h7_df_insured['response'].shape[0] *100\n",
    "#1% of customers who had vehicle previously insured are interested in vehicle insurance."
   ]
  },
  {
   "cell_type": "code",
   "execution_count": 115,
   "id": "c18176e3",
   "metadata": {
    "ExecuteTime": {
     "end_time": "2022-02-12T13:06:39.571805Z",
     "start_time": "2022-02-12T13:06:39.558051Z"
    },
    "hidden": true
   },
   "outputs": [
    {
     "data": {
      "text/plain": [
       "0    77.411976\n",
       "1    22.588024\n",
       "Name: response, dtype: float64"
      ]
     },
     "execution_count": 115,
     "metadata": {},
     "output_type": "execute_result"
    }
   ],
   "source": [
    "h7_df_not_insured['response'].value_counts() / h7_df_not_insured['response'].shape[0] *100\n",
    "#22% of customers who didn't have vehicle previously insured are interested in vehicle insurance."
   ]
  },
  {
   "cell_type": "markdown",
   "id": "27d8ff88",
   "metadata": {},
   "source": [
    "### H8   | Customers with HIGHER ANNUAL HEALTH EXPANSES should be MORE interested."
   ]
  },
  {
   "cell_type": "code",
   "execution_count": null,
   "id": "25ecf16d",
   "metadata": {},
   "outputs": [],
   "source": [
    "#distribution of interested by age\n",
    "box_h8 = sns.boxplot(x = 'response', y= 'health_annual_premium', data = df3)\n",
    "box_h8.set_xticklabels(['Not interested', 'Interested']);\n",
    "box_h8.set_ylabel('Health Annual ')\n",
    "box_h8.set_xlabel('Interest')\n",
    "box_h8.set_title('Interest in vehicle insurance per age');"
   ]
  },
  {
   "cell_type": "code",
   "execution_count": null,
   "id": "26a56824",
   "metadata": {},
   "outputs": [],
   "source": []
  },
  {
   "cell_type": "markdown",
   "id": "84347815",
   "metadata": {
    "heading_collapsed": true
   },
   "source": [
    "### H9   | Customers whth MORE DAYS OF HEALTH INSURANCE should be MORE interested."
   ]
  },
  {
   "cell_type": "code",
   "execution_count": null,
   "id": "4e727d3d",
   "metadata": {
    "hidden": true
   },
   "outputs": [],
   "source": []
  },
  {
   "cell_type": "code",
   "execution_count": null,
   "id": "2c5d5d65",
   "metadata": {
    "hidden": true
   },
   "outputs": [],
   "source": []
  },
  {
   "cell_type": "markdown",
   "id": "311d2b70",
   "metadata": {
    "heading_collapsed": true
   },
   "source": [
    "## Multivariate Analysis"
   ]
  },
  {
   "cell_type": "code",
   "execution_count": null,
   "id": "4115a730",
   "metadata": {
    "hidden": true
   },
   "outputs": [],
   "source": []
  },
  {
   "cell_type": "code",
   "execution_count": null,
   "id": "de6ec7cc",
   "metadata": {
    "hidden": true
   },
   "outputs": [],
   "source": []
  },
  {
   "cell_type": "code",
   "execution_count": null,
   "id": "b1ce80d9",
   "metadata": {
    "hidden": true
   },
   "outputs": [],
   "source": []
  },
  {
   "cell_type": "code",
   "execution_count": null,
   "id": "c342752d",
   "metadata": {
    "hidden": true
   },
   "outputs": [],
   "source": []
  }
 ],
 "metadata": {
  "kernelspec": {
   "display_name": "Python 3 (ipykernel)",
   "language": "python",
   "name": "python3"
  },
  "language_info": {
   "codemirror_mode": {
    "name": "ipython",
    "version": 3
   },
   "file_extension": ".py",
   "mimetype": "text/x-python",
   "name": "python",
   "nbconvert_exporter": "python",
   "pygments_lexer": "ipython3",
   "version": "3.8.12"
  },
  "toc": {
   "base_numbering": 1,
   "nav_menu": {},
   "number_sections": true,
   "sideBar": true,
   "skip_h1_title": false,
   "title_cell": "Table of Contents",
   "title_sidebar": "Contents",
   "toc_cell": false,
   "toc_position": {},
   "toc_section_display": true,
   "toc_window_display": false
  }
 },
 "nbformat": 4,
 "nbformat_minor": 5
}
