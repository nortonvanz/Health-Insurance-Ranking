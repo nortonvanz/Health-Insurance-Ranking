{
 "cells": [
  {
   "cell_type": "markdown",
   "id": "03484fbd",
   "metadata": {},
   "source": [
    "# Environment Preparation"
   ]
  },
  {
   "cell_type": "markdown",
   "id": "ae51291b",
   "metadata": {},
   "source": [
    "## Imports"
   ]
  },
  {
   "cell_type": "code",
   "execution_count": 28,
   "id": "244e08dc",
   "metadata": {
    "ExecuteTime": {
     "end_time": "2022-03-28T11:14:22.459772Z",
     "start_time": "2022-03-28T11:14:22.447271Z"
    }
   },
   "outputs": [],
   "source": [
    "import pandas as pd\n",
    "import numpy as np\n",
    "import cross_validation as cv\n",
    "import random\n",
    "from IPython.core.display   import HTML\n",
    "\n",
    "from tabulate import tabulate\n",
    "from cross_validation import runCrossValidation\n",
    "from sklearn import neighbors as nh"
   ]
  },
  {
   "cell_type": "markdown",
   "id": "3aaf8909",
   "metadata": {},
   "source": [
    "## Path Handlers"
   ]
  },
  {
   "cell_type": "code",
   "execution_count": 29,
   "id": "5be7fec1",
   "metadata": {
    "ExecuteTime": {
     "end_time": "2022-03-28T11:14:24.002509Z",
     "start_time": "2022-03-28T11:14:23.992139Z"
    }
   },
   "outputs": [
    {
     "data": {
      "text/html": [
       "<style>.container { width:100% !important; }</style>"
      ],
      "text/plain": [
       "<IPython.core.display.HTML object>"
      ]
     },
     "metadata": {},
     "output_type": "display_data"
    }
   ],
   "source": [
    "datapath = '../data/'\n",
    "display( HTML( '<style>.container { width:100% !important; }</style>') )"
   ]
  },
  {
   "cell_type": "markdown",
   "id": "ea2225d1",
   "metadata": {},
   "source": [
    " # Load data"
   ]
  },
  {
   "cell_type": "code",
   "execution_count": 30,
   "id": "7ef2338a",
   "metadata": {
    "ExecuteTime": {
     "end_time": "2022-03-28T11:14:25.875053Z",
     "start_time": "2022-03-28T11:14:25.232182Z"
    }
   },
   "outputs": [],
   "source": [
    "#train\n",
    "x_train = pd.read_csv(datapath+'x_train.csv', index_col=0)\n",
    "y_train = pd.read_csv(datapath+'y_train.csv', index_col=0)\n",
    "\n",
    "#validation\n",
    "x_val = pd.read_csv(datapath+'x_val.csv', index_col=0)\n",
    "y_val = pd.read_csv(datapath+'y_val.csv', index_col=0)"
   ]
  },
  {
   "cell_type": "markdown",
   "id": "f778a82e",
   "metadata": {},
   "source": [
    "# KNN Cross Validation"
   ]
  },
  {
   "cell_type": "markdown",
   "id": "7e577824",
   "metadata": {
    "ExecuteTime": {
     "end_time": "2022-03-26T21:42:18.545748Z",
     "start_time": "2022-03-26T21:42:18.536328Z"
    }
   },
   "source": [
    "Run 2 KNN models with random hyperparameter setups, and perform a cross-validation on each one, with 10 different cuts in the data, to get the best setup possible."
   ]
  },
  {
   "cell_type": "code",
   "execution_count": 20,
   "id": "3f489d80",
   "metadata": {
    "ExecuteTime": {
     "end_time": "2022-03-27T09:11:39.445402Z",
     "start_time": "2022-03-26T21:42:21.720406Z"
    },
    "scrolled": true
   },
   "outputs": [
    {
     "name": "stdout",
     "output_type": "stream",
     "text": [
      "{'n_neighbors': 8, 'weights': 'distance', 'algorithm': 'brute', 'leaf_size': 40, 'p': 2}\n"
     ]
    },
    {
     "name": "stderr",
     "output_type": "stream",
     "text": [
      "/Users/home/opt/anaconda3/lib/python3.8/site-packages/sklearn/neighbors/_classification.py:179: DataConversionWarning: A column-vector y was passed when a 1d array was expected. Please change the shape of y to (n_samples,), for example using ravel().\n",
      "  return self._fit(X, y)\n",
      "/Users/home/opt/anaconda3/lib/python3.8/site-packages/sklearn/neighbors/_classification.py:179: DataConversionWarning: A column-vector y was passed when a 1d array was expected. Please change the shape of y to (n_samples,), for example using ravel().\n",
      "  return self._fit(X, y)\n",
      "/Users/home/opt/anaconda3/lib/python3.8/site-packages/sklearn/neighbors/_classification.py:179: DataConversionWarning: A column-vector y was passed when a 1d array was expected. Please change the shape of y to (n_samples,), for example using ravel().\n",
      "  return self._fit(X, y)\n",
      "/Users/home/opt/anaconda3/lib/python3.8/site-packages/sklearn/neighbors/_classification.py:179: DataConversionWarning: A column-vector y was passed when a 1d array was expected. Please change the shape of y to (n_samples,), for example using ravel().\n",
      "  return self._fit(X, y)\n",
      "/Users/home/opt/anaconda3/lib/python3.8/site-packages/sklearn/neighbors/_classification.py:179: DataConversionWarning: A column-vector y was passed when a 1d array was expected. Please change the shape of y to (n_samples,), for example using ravel().\n",
      "  return self._fit(X, y)\n",
      "/Users/home/opt/anaconda3/lib/python3.8/site-packages/sklearn/neighbors/_classification.py:179: DataConversionWarning: A column-vector y was passed when a 1d array was expected. Please change the shape of y to (n_samples,), for example using ravel().\n",
      "  return self._fit(X, y)\n",
      "/Users/home/opt/anaconda3/lib/python3.8/site-packages/sklearn/neighbors/_classification.py:179: DataConversionWarning: A column-vector y was passed when a 1d array was expected. Please change the shape of y to (n_samples,), for example using ravel().\n",
      "  return self._fit(X, y)\n",
      "/Users/home/opt/anaconda3/lib/python3.8/site-packages/sklearn/neighbors/_classification.py:179: DataConversionWarning: A column-vector y was passed when a 1d array was expected. Please change the shape of y to (n_samples,), for example using ravel().\n",
      "  return self._fit(X, y)\n",
      "/Users/home/opt/anaconda3/lib/python3.8/site-packages/sklearn/neighbors/_classification.py:179: DataConversionWarning: A column-vector y was passed when a 1d array was expected. Please change the shape of y to (n_samples,), for example using ravel().\n",
      "  return self._fit(X, y)\n",
      "/Users/home/opt/anaconda3/lib/python3.8/site-packages/sklearn/neighbors/_classification.py:179: DataConversionWarning: A column-vector y was passed when a 1d array was expected. Please change the shape of y to (n_samples,), for example using ravel().\n",
      "  return self._fit(X, y)\n",
      "/Users/home/opt/anaconda3/lib/python3.8/site-packages/sklearn/neighbors/_classification.py:179: DataConversionWarning: A column-vector y was passed when a 1d array was expected. Please change the shape of y to (n_samples,), for example using ravel().\n",
      "  return self._fit(X, y)\n",
      "/Users/home/opt/anaconda3/lib/python3.8/site-packages/sklearn/neighbors/_classification.py:179: DataConversionWarning: A column-vector y was passed when a 1d array was expected. Please change the shape of y to (n_samples,), for example using ravel().\n",
      "  return self._fit(X, y)\n",
      "/Users/home/opt/anaconda3/lib/python3.8/site-packages/sklearn/neighbors/_classification.py:179: DataConversionWarning: A column-vector y was passed when a 1d array was expected. Please change the shape of y to (n_samples,), for example using ravel().\n",
      "  return self._fit(X, y)\n",
      "/Users/home/opt/anaconda3/lib/python3.8/site-packages/sklearn/neighbors/_classification.py:179: DataConversionWarning: A column-vector y was passed when a 1d array was expected. Please change the shape of y to (n_samples,), for example using ravel().\n",
      "  return self._fit(X, y)\n",
      "/Users/home/opt/anaconda3/lib/python3.8/site-packages/sklearn/neighbors/_classification.py:179: DataConversionWarning: A column-vector y was passed when a 1d array was expected. Please change the shape of y to (n_samples,), for example using ravel().\n",
      "  return self._fit(X, y)\n",
      "/Users/home/opt/anaconda3/lib/python3.8/site-packages/sklearn/neighbors/_classification.py:179: DataConversionWarning: A column-vector y was passed when a 1d array was expected. Please change the shape of y to (n_samples,), for example using ravel().\n",
      "  return self._fit(X, y)\n",
      "/Users/home/opt/anaconda3/lib/python3.8/site-packages/sklearn/neighbors/_classification.py:179: DataConversionWarning: A column-vector y was passed when a 1d array was expected. Please change the shape of y to (n_samples,), for example using ravel().\n",
      "  return self._fit(X, y)\n",
      "/Users/home/opt/anaconda3/lib/python3.8/site-packages/sklearn/neighbors/_classification.py:179: DataConversionWarning: A column-vector y was passed when a 1d array was expected. Please change the shape of y to (n_samples,), for example using ravel().\n",
      "  return self._fit(X, y)\n",
      "/Users/home/opt/anaconda3/lib/python3.8/site-packages/sklearn/neighbors/_classification.py:179: DataConversionWarning: A column-vector y was passed when a 1d array was expected. Please change the shape of y to (n_samples,), for example using ravel().\n",
      "  return self._fit(X, y)\n",
      "/Users/home/opt/anaconda3/lib/python3.8/site-packages/sklearn/neighbors/_classification.py:179: DataConversionWarning: A column-vector y was passed when a 1d array was expected. Please change the shape of y to (n_samples,), for example using ravel().\n",
      "  return self._fit(X, y)\n"
     ]
    },
    {
     "data": {
      "text/html": [
       "<div>\n",
       "<style scoped>\n",
       "    .dataframe tbody tr th:only-of-type {\n",
       "        vertical-align: middle;\n",
       "    }\n",
       "\n",
       "    .dataframe tbody tr th {\n",
       "        vertical-align: top;\n",
       "    }\n",
       "\n",
       "    .dataframe thead th {\n",
       "        text-align: right;\n",
       "    }\n",
       "</style>\n",
       "<table border=\"1\" class=\"dataframe\">\n",
       "  <thead>\n",
       "    <tr style=\"text-align: right;\">\n",
       "      <th></th>\n",
       "      <th>mean</th>\n",
       "      <th>std</th>\n",
       "    </tr>\n",
       "  </thead>\n",
       "  <tbody>\n",
       "    <tr>\n",
       "      <th>precision_at_k</th>\n",
       "      <td>0.263053</td>\n",
       "      <td>0.001595</td>\n",
       "    </tr>\n",
       "    <tr>\n",
       "      <th>recall_at_k</th>\n",
       "      <td>0.858823</td>\n",
       "      <td>0.005240</td>\n",
       "    </tr>\n",
       "  </tbody>\n",
       "</table>\n",
       "</div>"
      ],
      "text/plain": [
       "                    mean       std\n",
       "precision_at_k  0.263053  0.001595\n",
       "recall_at_k     0.858823  0.005240"
      ]
     },
     "metadata": {},
     "output_type": "display_data"
    },
    {
     "name": "stdout",
     "output_type": "stream",
     "text": [
      "{'n_neighbors': 2, 'weights': 'distance', 'algorithm': 'brute', 'leaf_size': 20, 'p': 2}\n"
     ]
    },
    {
     "name": "stderr",
     "output_type": "stream",
     "text": [
      "/Users/home/opt/anaconda3/lib/python3.8/site-packages/sklearn/neighbors/_classification.py:179: DataConversionWarning: A column-vector y was passed when a 1d array was expected. Please change the shape of y to (n_samples,), for example using ravel().\n",
      "  return self._fit(X, y)\n",
      "/Users/home/opt/anaconda3/lib/python3.8/site-packages/sklearn/neighbors/_classification.py:179: DataConversionWarning: A column-vector y was passed when a 1d array was expected. Please change the shape of y to (n_samples,), for example using ravel().\n",
      "  return self._fit(X, y)\n",
      "/Users/home/opt/anaconda3/lib/python3.8/site-packages/sklearn/neighbors/_classification.py:179: DataConversionWarning: A column-vector y was passed when a 1d array was expected. Please change the shape of y to (n_samples,), for example using ravel().\n",
      "  return self._fit(X, y)\n",
      "/Users/home/opt/anaconda3/lib/python3.8/site-packages/sklearn/neighbors/_classification.py:179: DataConversionWarning: A column-vector y was passed when a 1d array was expected. Please change the shape of y to (n_samples,), for example using ravel().\n",
      "  return self._fit(X, y)\n",
      "/Users/home/opt/anaconda3/lib/python3.8/site-packages/sklearn/neighbors/_classification.py:179: DataConversionWarning: A column-vector y was passed when a 1d array was expected. Please change the shape of y to (n_samples,), for example using ravel().\n",
      "  return self._fit(X, y)\n",
      "/Users/home/opt/anaconda3/lib/python3.8/site-packages/sklearn/neighbors/_classification.py:179: DataConversionWarning: A column-vector y was passed when a 1d array was expected. Please change the shape of y to (n_samples,), for example using ravel().\n",
      "  return self._fit(X, y)\n",
      "/Users/home/opt/anaconda3/lib/python3.8/site-packages/sklearn/neighbors/_classification.py:179: DataConversionWarning: A column-vector y was passed when a 1d array was expected. Please change the shape of y to (n_samples,), for example using ravel().\n",
      "  return self._fit(X, y)\n",
      "/Users/home/opt/anaconda3/lib/python3.8/site-packages/sklearn/neighbors/_classification.py:179: DataConversionWarning: A column-vector y was passed when a 1d array was expected. Please change the shape of y to (n_samples,), for example using ravel().\n",
      "  return self._fit(X, y)\n",
      "/Users/home/opt/anaconda3/lib/python3.8/site-packages/sklearn/neighbors/_classification.py:179: DataConversionWarning: A column-vector y was passed when a 1d array was expected. Please change the shape of y to (n_samples,), for example using ravel().\n",
      "  return self._fit(X, y)\n",
      "/Users/home/opt/anaconda3/lib/python3.8/site-packages/sklearn/neighbors/_classification.py:179: DataConversionWarning: A column-vector y was passed when a 1d array was expected. Please change the shape of y to (n_samples,), for example using ravel().\n",
      "  return self._fit(X, y)\n",
      "/Users/home/opt/anaconda3/lib/python3.8/site-packages/sklearn/neighbors/_classification.py:179: DataConversionWarning: A column-vector y was passed when a 1d array was expected. Please change the shape of y to (n_samples,), for example using ravel().\n",
      "  return self._fit(X, y)\n",
      "/Users/home/opt/anaconda3/lib/python3.8/site-packages/sklearn/neighbors/_classification.py:179: DataConversionWarning: A column-vector y was passed when a 1d array was expected. Please change the shape of y to (n_samples,), for example using ravel().\n",
      "  return self._fit(X, y)\n",
      "/Users/home/opt/anaconda3/lib/python3.8/site-packages/sklearn/neighbors/_classification.py:179: DataConversionWarning: A column-vector y was passed when a 1d array was expected. Please change the shape of y to (n_samples,), for example using ravel().\n",
      "  return self._fit(X, y)\n",
      "/Users/home/opt/anaconda3/lib/python3.8/site-packages/sklearn/neighbors/_classification.py:179: DataConversionWarning: A column-vector y was passed when a 1d array was expected. Please change the shape of y to (n_samples,), for example using ravel().\n",
      "  return self._fit(X, y)\n",
      "/Users/home/opt/anaconda3/lib/python3.8/site-packages/sklearn/neighbors/_classification.py:179: DataConversionWarning: A column-vector y was passed when a 1d array was expected. Please change the shape of y to (n_samples,), for example using ravel().\n",
      "  return self._fit(X, y)\n",
      "/Users/home/opt/anaconda3/lib/python3.8/site-packages/sklearn/neighbors/_classification.py:179: DataConversionWarning: A column-vector y was passed when a 1d array was expected. Please change the shape of y to (n_samples,), for example using ravel().\n",
      "  return self._fit(X, y)\n",
      "/Users/home/opt/anaconda3/lib/python3.8/site-packages/sklearn/neighbors/_classification.py:179: DataConversionWarning: A column-vector y was passed when a 1d array was expected. Please change the shape of y to (n_samples,), for example using ravel().\n",
      "  return self._fit(X, y)\n",
      "/Users/home/opt/anaconda3/lib/python3.8/site-packages/sklearn/neighbors/_classification.py:179: DataConversionWarning: A column-vector y was passed when a 1d array was expected. Please change the shape of y to (n_samples,), for example using ravel().\n",
      "  return self._fit(X, y)\n",
      "/Users/home/opt/anaconda3/lib/python3.8/site-packages/sklearn/neighbors/_classification.py:179: DataConversionWarning: A column-vector y was passed when a 1d array was expected. Please change the shape of y to (n_samples,), for example using ravel().\n",
      "  return self._fit(X, y)\n",
      "/Users/home/opt/anaconda3/lib/python3.8/site-packages/sklearn/neighbors/_classification.py:179: DataConversionWarning: A column-vector y was passed when a 1d array was expected. Please change the shape of y to (n_samples,), for example using ravel().\n",
      "  return self._fit(X, y)\n"
     ]
    },
    {
     "data": {
      "text/html": [
       "<div>\n",
       "<style scoped>\n",
       "    .dataframe tbody tr th:only-of-type {\n",
       "        vertical-align: middle;\n",
       "    }\n",
       "\n",
       "    .dataframe tbody tr th {\n",
       "        vertical-align: top;\n",
       "    }\n",
       "\n",
       "    .dataframe thead th {\n",
       "        text-align: right;\n",
       "    }\n",
       "</style>\n",
       "<table border=\"1\" class=\"dataframe\">\n",
       "  <thead>\n",
       "    <tr style=\"text-align: right;\">\n",
       "      <th></th>\n",
       "      <th>mean</th>\n",
       "      <th>std</th>\n",
       "    </tr>\n",
       "  </thead>\n",
       "  <tbody>\n",
       "    <tr>\n",
       "      <th>precision_at_k</th>\n",
       "      <td>0.185357</td>\n",
       "      <td>0.002291</td>\n",
       "    </tr>\n",
       "    <tr>\n",
       "      <th>recall_at_k</th>\n",
       "      <td>0.605157</td>\n",
       "      <td>0.007523</td>\n",
       "    </tr>\n",
       "  </tbody>\n",
       "</table>\n",
       "</div>"
      ],
      "text/plain": [
       "                    mean       std\n",
       "precision_at_k  0.185357  0.002291\n",
       "recall_at_k     0.605157  0.007523"
      ]
     },
     "metadata": {},
     "output_type": "display_data"
    }
   ],
   "source": [
    "## session with high processing time: 11h 29m (max_eval = 2, n_splits = 10)\n",
    "## results compiled in the following table\n",
    "\n",
    "param = {\n",
    "    'n_neighbors':  [2, 5, 8], \n",
    "    'weights':  ['uniform', 'distance'], \n",
    "    'algorithm': ['ball_tree', 'kd_tree', 'brute'],\n",
    "    'leaf_size': [20, 40],\n",
    "    'p': [1,2]\n",
    "}\n",
    "\n",
    "max_eval = 2\n",
    "\n",
    "for i in range(max_eval):\n",
    "    # random choice of dictionary values\n",
    "    hp = {k: random.sample(v,1)[0] for k, v in param.items()}\n",
    "    print(hp)\n",
    "\n",
    "    # model definition\n",
    "    knn_model = nh.KNeighborsClassifier(n_neighbors=hp['n_neighbors'],\n",
    "                                               weights = hp['weights'],\n",
    "                                               algorithm=hp['algorithm'],\n",
    "                                               leaf_size = hp['leaf_size'], \n",
    "                                               p =hp['p'], \n",
    "                                               n_jobs= -1)\n",
    "    \n",
    "    \n",
    "    display(cv.runCrossValidation(knn_model, x_train, x_val, y_train, y_val, n_splits = 10, n_repeats = 2, top_k = 12200))"
   ]
  },
  {
   "cell_type": "markdown",
   "id": "7d6afd58",
   "metadata": {},
   "source": [
    "Results of the 2 models and their hyperparameters"
   ]
  },
  {
   "cell_type": "code",
   "execution_count": 23,
   "id": "f0d21172",
   "metadata": {
    "ExecuteTime": {
     "end_time": "2022-03-27T10:22:09.473707Z",
     "start_time": "2022-03-27T10:22:09.464690Z"
    },
    "code_folding": [
     0
    ]
   },
   "outputs": [
    {
     "name": "stdout",
     "output_type": "stream",
     "text": [
      "╒═════════╤═══════════════════════╤═══════════════════════╤════════════════════════════════════════════════════════════════════════════════════════╕\n",
      "│ model   │ precision@k           │ recall@k              │ hyperparameters                                                                        │\n",
      "╞═════════╪═══════════════════════╪═══════════════════════╪════════════════════════════════════════════════════════════════════════════════════════╡\n",
      "│ #1      │ 0.263053 +/- 0.001595 │ 0.858823 +/- 0.005240 │ 'n_neighbors': 8, 'weights': 'distance', 'algorithm': 'brute', 'leaf_size': 40, 'p': 2 │\n",
      "├─────────┼───────────────────────┼───────────────────────┼────────────────────────────────────────────────────────────────────────────────────────┤\n",
      "│ #2      │ 0.185357 +/- 0.002291 │ 0.605157 +/- 0.007523 │ 'n_neighbors': 2, 'weights': 'distance', 'algorithm': 'brute', 'leaf_size': 20, 'p': 2 │\n",
      "╘═════════╧═══════════════════════╧═══════════════════════╧════════════════════════════════════════════════════════════════════════════════════════╛\n"
     ]
    }
   ],
   "source": [
    "final_results = {'model':['#1', '#2'],\n",
    "                 'precision_at_k': ['0.263053 +/- 0.001595',\n",
    "                                    '0.185357 +/- 0.002291'],\n",
    "                 'recall_at_k': ['0.858823 +/- 0.005240',\n",
    "                                 '0.605157 +/- 0.007523'],\n",
    "                 'parameters': [\"'n_neighbors': 8, 'weights': 'distance', 'algorithm': 'brute', 'leaf_size': 40, 'p': 2\",   \n",
    "                                \"'n_neighbors': 2, 'weights': 'distance', 'algorithm': 'brute', 'leaf_size': 20, 'p': 2\"]\n",
    "                }\n",
    "\n",
    "print(tabulate(final_results, headers=['model','precision@k','recall@k', 'hyperparameters'], tablefmt=\"fancy_grid\"))"
   ]
  },
  {
   "cell_type": "markdown",
   "id": "6c4077f8",
   "metadata": {},
   "source": [
    "The results of the models varied, and the best performer in precision@k and racall@k was the number #2"
   ]
  },
  {
   "cell_type": "markdown",
   "id": "572ccfe8",
   "metadata": {},
   "source": [
    "# Model training and ranked list export"
   ]
  },
  {
   "cell_type": "markdown",
   "id": "5c5c0fa2",
   "metadata": {
    "ExecuteTime": {
     "end_time": "2022-03-24T20:44:43.576465Z",
     "start_time": "2022-03-24T20:44:43.568988Z"
    }
   },
   "source": [
    "Train, plot gain and lift curves, and metrics of precision@k and recall@k of number #2"
   ]
  },
  {
   "cell_type": "code",
   "execution_count": 31,
   "id": "69e8df87",
   "metadata": {
    "ExecuteTime": {
     "end_time": "2022-03-28T11:22:50.792899Z",
     "start_time": "2022-03-28T11:14:38.119983Z"
    }
   },
   "outputs": [
    {
     "name": "stderr",
     "output_type": "stream",
     "text": [
      "/Users/home/opt/anaconda3/lib/python3.8/site-packages/sklearn/neighbors/_classification.py:179: DataConversionWarning: A column-vector y was passed when a 1d array was expected. Please change the shape of y to (n_samples,), for example using ravel().\n",
      "  return self._fit(X, y)\n"
     ]
    }
   ],
   "source": [
    "# model definition\n",
    "knn_model = nh.KNeighborsClassifier(n_neighbors=8,\n",
    "                                           weights = 'distance',\n",
    "                                           algorithm='brute',\n",
    "                                           leaf_size = 20, \n",
    "                                           p = 2, \n",
    "                                           n_jobs= -1)\n",
    "\n",
    "# model training\n",
    "knn_model.fit(x_train, y_train)\n",
    "\n",
    "# model prediction (proba)\n",
    "yhat_proba = knn_model.predict_proba(x_val)"
   ]
  },
  {
   "cell_type": "code",
   "execution_count": 32,
   "id": "b09fceb1",
   "metadata": {
    "ExecuteTime": {
     "end_time": "2022-03-28T11:22:59.706738Z",
     "start_time": "2022-03-28T11:22:51.192893Z"
    }
   },
   "outputs": [
    {
     "data": {
      "image/png": "[encoded data removed]",
      "text/plain": [
       "<Figure size 576x720 with 2 Axes>"
      ]
     },
     "metadata": {
      "needs_background": "light"
     },
     "output_type": "display_data"
    }
   ],
   "source": [
    "table_knn = cv.gain_lift_curve(yhat_proba, y_val)\n",
    "metrics_knn, new_table_knn = cv.precision_recall_at_k(table_knn, 12200) #12200 = 40% of customers\n",
    "new_table_knn.to_pickle(datapath+'processed/knn_table.pkl')"
   ]
  },
  {
   "cell_type": "code",
   "execution_count": 26,
   "id": "cc4f14ef",
   "metadata": {
    "ExecuteTime": {
     "end_time": "2022-03-27T10:42:58.700313Z",
     "start_time": "2022-03-27T10:42:58.667113Z"
    }
   },
   "outputs": [
    {
     "data": {
      "text/html": [
       "<div>\n",
       "<style scoped>\n",
       "    .dataframe tbody tr th:only-of-type {\n",
       "        vertical-align: middle;\n",
       "    }\n",
       "\n",
       "    .dataframe tbody tr th {\n",
       "        vertical-align: top;\n",
       "    }\n",
       "\n",
       "    .dataframe thead th {\n",
       "        text-align: right;\n",
       "    }\n",
       "</style>\n",
       "<table border=\"1\" class=\"dataframe\">\n",
       "  <thead>\n",
       "    <tr style=\"text-align: right;\">\n",
       "      <th></th>\n",
       "      <th>0</th>\n",
       "      <th>1</th>\n",
       "      <th>target</th>\n",
       "      <th>correct</th>\n",
       "      <th>propensity_score</th>\n",
       "      <th>cumulative_propensity_score</th>\n",
       "      <th>cumulative_porc_base</th>\n",
       "      <th>lift</th>\n",
       "      <th>ranking</th>\n",
       "      <th>precision_at_k</th>\n",
       "      <th>recall_at_k</th>\n",
       "    </tr>\n",
       "  </thead>\n",
       "  <tbody>\n",
       "    <tr>\n",
       "      <th>0</th>\n",
       "      <td>0.0</td>\n",
       "      <td>1.0</td>\n",
       "      <td>1</td>\n",
       "      <td>yes</td>\n",
       "      <td>0.000268</td>\n",
       "      <td>0.000268</td>\n",
       "      <td>0.000033</td>\n",
       "      <td>8.158683</td>\n",
       "      <td>1</td>\n",
       "      <td>1.000000</td>\n",
       "      <td>0.000268</td>\n",
       "    </tr>\n",
       "    <tr>\n",
       "      <th>1</th>\n",
       "      <td>0.0</td>\n",
       "      <td>1.0</td>\n",
       "      <td>0</td>\n",
       "      <td>no</td>\n",
       "      <td>0.000000</td>\n",
       "      <td>0.000268</td>\n",
       "      <td>0.000066</td>\n",
       "      <td>4.079342</td>\n",
       "      <td>2</td>\n",
       "      <td>0.500000</td>\n",
       "      <td>0.000268</td>\n",
       "    </tr>\n",
       "    <tr>\n",
       "      <th>2</th>\n",
       "      <td>0.0</td>\n",
       "      <td>1.0</td>\n",
       "      <td>1</td>\n",
       "      <td>yes</td>\n",
       "      <td>0.000268</td>\n",
       "      <td>0.000535</td>\n",
       "      <td>0.000098</td>\n",
       "      <td>5.439122</td>\n",
       "      <td>3</td>\n",
       "      <td>0.666667</td>\n",
       "      <td>0.000535</td>\n",
       "    </tr>\n",
       "    <tr>\n",
       "      <th>3</th>\n",
       "      <td>0.0</td>\n",
       "      <td>1.0</td>\n",
       "      <td>0</td>\n",
       "      <td>no</td>\n",
       "      <td>0.000000</td>\n",
       "      <td>0.000535</td>\n",
       "      <td>0.000131</td>\n",
       "      <td>4.079342</td>\n",
       "      <td>4</td>\n",
       "      <td>0.500000</td>\n",
       "      <td>0.000535</td>\n",
       "    </tr>\n",
       "    <tr>\n",
       "      <th>4</th>\n",
       "      <td>0.0</td>\n",
       "      <td>1.0</td>\n",
       "      <td>0</td>\n",
       "      <td>no</td>\n",
       "      <td>0.000000</td>\n",
       "      <td>0.000535</td>\n",
       "      <td>0.000164</td>\n",
       "      <td>3.263473</td>\n",
       "      <td>5</td>\n",
       "      <td>0.400000</td>\n",
       "      <td>0.000535</td>\n",
       "    </tr>\n",
       "    <tr>\n",
       "      <th>...</th>\n",
       "      <td>...</td>\n",
       "      <td>...</td>\n",
       "      <td>...</td>\n",
       "      <td>...</td>\n",
       "      <td>...</td>\n",
       "      <td>...</td>\n",
       "      <td>...</td>\n",
       "      <td>...</td>\n",
       "      <td>...</td>\n",
       "      <td>...</td>\n",
       "      <td>...</td>\n",
       "    </tr>\n",
       "    <tr>\n",
       "      <th>30484</th>\n",
       "      <td>1.0</td>\n",
       "      <td>0.0</td>\n",
       "      <td>0</td>\n",
       "      <td>yes</td>\n",
       "      <td>0.000000</td>\n",
       "      <td>0.999732</td>\n",
       "      <td>0.999869</td>\n",
       "      <td>0.999864</td>\n",
       "      <td>30485</td>\n",
       "      <td>0.122552</td>\n",
       "      <td>0.999732</td>\n",
       "    </tr>\n",
       "    <tr>\n",
       "      <th>30485</th>\n",
       "      <td>1.0</td>\n",
       "      <td>0.0</td>\n",
       "      <td>1</td>\n",
       "      <td>no</td>\n",
       "      <td>0.000268</td>\n",
       "      <td>1.000000</td>\n",
       "      <td>0.999902</td>\n",
       "      <td>1.000098</td>\n",
       "      <td>30486</td>\n",
       "      <td>0.122581</td>\n",
       "      <td>1.000000</td>\n",
       "    </tr>\n",
       "    <tr>\n",
       "      <th>30486</th>\n",
       "      <td>1.0</td>\n",
       "      <td>0.0</td>\n",
       "      <td>0</td>\n",
       "      <td>yes</td>\n",
       "      <td>0.000000</td>\n",
       "      <td>1.000000</td>\n",
       "      <td>0.999934</td>\n",
       "      <td>1.000066</td>\n",
       "      <td>30487</td>\n",
       "      <td>0.122577</td>\n",
       "      <td>1.000000</td>\n",
       "    </tr>\n",
       "    <tr>\n",
       "      <th>30487</th>\n",
       "      <td>1.0</td>\n",
       "      <td>0.0</td>\n",
       "      <td>0</td>\n",
       "      <td>yes</td>\n",
       "      <td>0.000000</td>\n",
       "      <td>1.000000</td>\n",
       "      <td>0.999967</td>\n",
       "      <td>1.000033</td>\n",
       "      <td>30488</td>\n",
       "      <td>0.122573</td>\n",
       "      <td>1.000000</td>\n",
       "    </tr>\n",
       "    <tr>\n",
       "      <th>30488</th>\n",
       "      <td>1.0</td>\n",
       "      <td>0.0</td>\n",
       "      <td>0</td>\n",
       "      <td>yes</td>\n",
       "      <td>0.000000</td>\n",
       "      <td>1.000000</td>\n",
       "      <td>1.000000</td>\n",
       "      <td>1.000000</td>\n",
       "      <td>30489</td>\n",
       "      <td>0.122569</td>\n",
       "      <td>1.000000</td>\n",
       "    </tr>\n",
       "  </tbody>\n",
       "</table>\n",
       "<p>30489 rows × 11 columns</p>\n",
       "</div>"
      ],
      "text/plain": [
       "         0    1  target correct  propensity_score  \\\n",
       "0      0.0  1.0       1     yes          0.000268   \n",
       "1      0.0  1.0       0      no          0.000000   \n",
       "2      0.0  1.0       1     yes          0.000268   \n",
       "3      0.0  1.0       0      no          0.000000   \n",
       "4      0.0  1.0       0      no          0.000000   \n",
       "...    ...  ...     ...     ...               ...   \n",
       "30484  1.0  0.0       0     yes          0.000000   \n",
       "30485  1.0  0.0       1      no          0.000268   \n",
       "30486  1.0  0.0       0     yes          0.000000   \n",
       "30487  1.0  0.0       0     yes          0.000000   \n",
       "30488  1.0  0.0       0     yes          0.000000   \n",
       "\n",
       "       cumulative_propensity_score  cumulative_porc_base      lift  ranking  \\\n",
       "0                         0.000268              0.000033  8.158683        1   \n",
       "1                         0.000268              0.000066  4.079342        2   \n",
       "2                         0.000535              0.000098  5.439122        3   \n",
       "3                         0.000535              0.000131  4.079342        4   \n",
       "4                         0.000535              0.000164  3.263473        5   \n",
       "...                            ...                   ...       ...      ...   \n",
       "30484                     0.999732              0.999869  0.999864    30485   \n",
       "30485                     1.000000              0.999902  1.000098    30486   \n",
       "30486                     1.000000              0.999934  1.000066    30487   \n",
       "30487                     1.000000              0.999967  1.000033    30488   \n",
       "30488                     1.000000              1.000000  1.000000    30489   \n",
       "\n",
       "       precision_at_k  recall_at_k  \n",
       "0            1.000000     0.000268  \n",
       "1            0.500000     0.000268  \n",
       "2            0.666667     0.000535  \n",
       "3            0.500000     0.000535  \n",
       "4            0.400000     0.000535  \n",
       "...               ...          ...  \n",
       "30484        0.122552     0.999732  \n",
       "30485        0.122581     1.000000  \n",
       "30486        0.122577     1.000000  \n",
       "30487        0.122573     1.000000  \n",
       "30488        0.122569     1.000000  \n",
       "\n",
       "[30489 rows x 11 columns]"
      ]
     },
     "execution_count": 26,
     "metadata": {},
     "output_type": "execute_result"
    }
   ],
   "source": [
    "#Table of KNN data\n",
    "new_table_knn"
   ]
  },
  {
   "cell_type": "code",
   "execution_count": 27,
   "id": "fb4060ed",
   "metadata": {
    "ExecuteTime": {
     "end_time": "2022-03-27T10:43:02.744401Z",
     "start_time": "2022-03-27T10:43:02.735046Z"
    }
   },
   "outputs": [
    {
     "data": {
      "text/plain": [
       "(0.26295081967213113, 0.8584426010168584)"
      ]
     },
     "execution_count": 27,
     "metadata": {},
     "output_type": "execute_result"
    }
   ],
   "source": [
    "#KNN: Metrics of precision@k and recall@k -> k=12200 (40% of base).\n",
    "metrics_knn"
   ]
  }
 ],
 "metadata": {
  "kernelspec": {
   "display_name": "Python 3 (ipykernel)",
   "language": "python",
   "name": "python3"
  },
  "language_info": {
   "codemirror_mode": {
    "name": "ipython",
    "version": 3
   },
   "file_extension": ".py",
   "mimetype": "text/x-python",
   "name": "python",
   "nbconvert_exporter": "python",
   "pygments_lexer": "ipython3",
   "version": "3.8.12"
  },
  "toc": {
   "base_numbering": 1,
   "nav_menu": {},
   "number_sections": true,
   "sideBar": true,
   "skip_h1_title": false,
   "title_cell": "Table of Contents",
   "title_sidebar": "Contents",
   "toc_cell": false,
   "toc_position": {},
   "toc_section_display": true,
   "toc_window_display": false
  },
  "varInspector": {
   "cols": {
    "lenName": 16,
    "lenType": 16,
    "lenVar": 40
   },
   "kernels_config": {
    "python": {
     "delete_cmd_postfix": "",
     "delete_cmd_prefix": "del ",
     "library": "var_list.py",
     "varRefreshCmd": "print(var_dic_list())"
    },
    "r": {
     "delete_cmd_postfix": ") ",
     "delete_cmd_prefix": "rm(",
     "library": "var_list.r",
     "varRefreshCmd": "cat(var_dic_list()) "
    }
   },
   "types_to_exclude": [
    "module",
    "function",
    "builtin_function_or_method",
    "instance",
    "_Feature"
   ],
   "window_display": false
  }
 },
 "nbformat": 4,
 "nbformat_minor": 5
}
