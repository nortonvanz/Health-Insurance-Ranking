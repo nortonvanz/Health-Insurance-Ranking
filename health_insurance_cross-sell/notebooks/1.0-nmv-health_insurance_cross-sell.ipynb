{
 "cells": [
  {
   "cell_type": "markdown",
   "id": "75850032",
   "metadata": {
    "heading_collapsed": true
   },
   "source": [
    "# Environment Preparation"
   ]
  },
  {
   "cell_type": "markdown",
   "id": "445f139b",
   "metadata": {
    "heading_collapsed": true,
    "hidden": true
   },
   "source": [
    "## Imports\n"
   ]
  },
  {
   "cell_type": "code",
   "execution_count": 137,
   "id": "2d1a16fa",
   "metadata": {
    "ExecuteTime": {
     "end_time": "2022-04-09T19:12:02.325577Z",
     "start_time": "2022-04-09T19:12:02.234522Z"
    },
    "hidden": true
   },
   "outputs": [],
   "source": [
    "#data extraction\n",
    "from sqlalchemy          import create_engine\n",
    "from sqlalchemy_utils    import database_exists, create_database\n",
    "from postgre_credentials import *\n",
    "\n",
    "#plot and handle\n",
    "import pandas            as pd\n",
    "import numpy             as np\n",
    "import seaborn           as sns\n",
    "import scikitplot        as skplt\n",
    "import matplotlib.pyplot as plt\n",
    "import pickle\n",
    "\n",
    "#display\n",
    "import sweetviz                   as sv\n",
    "from tabulate                 import tabulate\n",
    "from IPython.core.display     import HTML\n",
    "from IPython.display          import Image\n",
    "\n",
    "#preparation\n",
    "from sklearn import ensemble        as en\n",
    "from sklearn import model_selection as ms\n",
    "from sklearn import preprocessing   as pp"
   ]
  },
  {
   "cell_type": "markdown",
   "id": "2ba8d1db",
   "metadata": {
    "heading_collapsed": true,
    "hidden": true
   },
   "source": [
    "## Path Handlers"
   ]
  },
  {
   "cell_type": "code",
   "execution_count": 138,
   "id": "208b21f4",
   "metadata": {
    "ExecuteTime": {
     "end_time": "2022-04-09T19:12:05.790839Z",
     "start_time": "2022-04-09T19:12:05.783640Z"
    },
    "hidden": true
   },
   "outputs": [],
   "source": [
    "datapath = '../data/'\n",
    "imagepath = '../images/'\n",
    "reportpath = '../reports/'\n",
    "featurepath = '../src/features/'"
   ]
  },
  {
   "cell_type": "markdown",
   "id": "7bca1a6d",
   "metadata": {
    "heading_collapsed": true,
    "hidden": true
   },
   "source": [
    "## Helper Functions"
   ]
  },
  {
   "cell_type": "code",
   "execution_count": 139,
   "id": "b17d6480",
   "metadata": {
    "ExecuteTime": {
     "end_time": "2022-04-09T19:12:09.638582Z",
     "start_time": "2022-04-09T19:12:09.011070Z"
    },
    "hidden": true
   },
   "outputs": [
    {
     "data": {
      "text/html": [
       "<style>.container { width:100% !important; }</style>"
      ],
      "text/plain": [
       "<IPython.core.display.HTML object>"
      ]
     },
     "metadata": {},
     "output_type": "display_data"
    }
   ],
   "source": [
    "def jupyter_settings():\n",
    "    \"\"\" Optimize general settings, standardize plot sizes, etc. \"\"\"\n",
    "    %matplotlib inline\n",
    "    plt.style.use( 'bmh' )\n",
    "    plt.rcParams['figure.figsize'] = [12, 6]\n",
    "    plt.rcParams['font.size'] = 20\n",
    "    display( HTML( '<style>.container { width:100% !important; }</style>') )\n",
    "    pd.options.display.max_columns = None\n",
    "    pd.options.display.max_rows = None\n",
    "    pd.set_option( 'display.expand_frame_repr', False )\n",
    "    sns.set()\n",
    "    pd.set_option('display.max_columns', 30)\n",
    "    pd.set_option('display.max_rows', 30)\n",
    "jupyter_settings()\n",
    "\n",
    "def psycopg_connect():\n",
    "    \"\"\"\"\" Creates a psycopg connection from file postgre_credentials \"\"\"\"\"\n",
    "    conn = pg.connect(    user = pg_user,\n",
    "                          password = pg_passwd,\n",
    "                          host = pg_host,\n",
    "                          port = pg_port,\n",
    "                          database = pg_db)\n",
    "    return conn"
   ]
  },
  {
   "cell_type": "markdown",
   "id": "43e2140b",
   "metadata": {
    "heading_collapsed": true
   },
   "source": [
    "# Data Collection\n"
   ]
  },
  {
   "cell_type": "markdown",
   "id": "0d3b976f",
   "metadata": {
    "hidden": true
   },
   "source": [
    "Lib sqlalchemy will be used."
   ]
  },
  {
   "cell_type": "code",
   "execution_count": 141,
   "id": "48266c86",
   "metadata": {
    "ExecuteTime": {
     "end_time": "2022-04-09T19:12:20.478088Z",
     "start_time": "2022-04-09T19:12:17.021409Z"
    },
    "hidden": true
   },
   "outputs": [],
   "source": [
    "# load from file postgre_credentials\n",
    "url = 'postgresql://'+pg_user+':'+pg_passwd+'@'+pg_host+':'+pg_port+'/'+pg_db+''\n",
    "\n",
    "if not database_exists(url):\n",
    "    #create_database(url)\n",
    "    print (\"database does not exist!\")\n",
    "engine = create_engine(url, pool_size=50, echo=False)"
   ]
  },
  {
   "cell_type": "code",
   "execution_count": 143,
   "id": "12d31066",
   "metadata": {
    "ExecuteTime": {
     "end_time": "2022-04-09T19:12:32.661494Z",
     "start_time": "2022-04-09T19:12:32.657497Z"
    },
    "hidden": true
   },
   "outputs": [],
   "source": [
    "#connected:\n",
    "#engine.url"
   ]
  },
  {
   "cell_type": "code",
   "execution_count": 144,
   "id": "bb109535",
   "metadata": {
    "ExecuteTime": {
     "end_time": "2022-04-09T19:12:41.486508Z",
     "start_time": "2022-04-09T19:12:37.829690Z"
    },
    "hidden": true
   },
   "outputs": [
    {
     "data": {
      "text/html": [
       "<div>\n",
       "<style scoped>\n",
       "    .dataframe tbody tr th:only-of-type {\n",
       "        vertical-align: middle;\n",
       "    }\n",
       "\n",
       "    .dataframe tbody tr th {\n",
       "        vertical-align: top;\n",
       "    }\n",
       "\n",
       "    .dataframe thead th {\n",
       "        text-align: right;\n",
       "    }\n",
       "</style>\n",
       "<table border=\"1\" class=\"dataframe\">\n",
       "  <thead>\n",
       "    <tr style=\"text-align: right;\">\n",
       "      <th></th>\n",
       "      <th>table_schema</th>\n",
       "    </tr>\n",
       "  </thead>\n",
       "  <tbody>\n",
       "    <tr>\n",
       "      <th>0</th>\n",
       "      <td>public</td>\n",
       "    </tr>\n",
       "    <tr>\n",
       "      <th>1</th>\n",
       "      <td>pg_catalog</td>\n",
       "    </tr>\n",
       "    <tr>\n",
       "      <th>2</th>\n",
       "      <td>information_schema</td>\n",
       "    </tr>\n",
       "    <tr>\n",
       "      <th>3</th>\n",
       "      <td>pa004</td>\n",
       "    </tr>\n",
       "  </tbody>\n",
       "</table>\n",
       "</div>"
      ],
      "text/plain": [
       "         table_schema\n",
       "0              public\n",
       "1          pg_catalog\n",
       "2  information_schema\n",
       "3               pa004"
      ]
     },
     "execution_count": 144,
     "metadata": {},
     "output_type": "execute_result"
    }
   ],
   "source": [
    "#select distinct schemas\n",
    "query = \"SELECT distinct(table_schema) from information_schema.tables\"\n",
    "df = pd.read_sql( query, engine )\n",
    "df.head(10)"
   ]
  },
  {
   "cell_type": "code",
   "execution_count": 145,
   "id": "51477bf0",
   "metadata": {
    "ExecuteTime": {
     "end_time": "2022-04-09T19:12:53.943674Z",
     "start_time": "2022-04-09T19:12:52.905470Z"
    },
    "hidden": true
   },
   "outputs": [
    {
     "data": {
      "text/html": [
       "<div>\n",
       "<style scoped>\n",
       "    .dataframe tbody tr th:only-of-type {\n",
       "        vertical-align: middle;\n",
       "    }\n",
       "\n",
       "    .dataframe tbody tr th {\n",
       "        vertical-align: top;\n",
       "    }\n",
       "\n",
       "    .dataframe thead th {\n",
       "        text-align: right;\n",
       "    }\n",
       "</style>\n",
       "<table border=\"1\" class=\"dataframe\">\n",
       "  <thead>\n",
       "    <tr style=\"text-align: right;\">\n",
       "      <th></th>\n",
       "      <th>table_catalog</th>\n",
       "      <th>table_schema</th>\n",
       "      <th>table_name</th>\n",
       "      <th>table_type</th>\n",
       "      <th>self_referencing_column_name</th>\n",
       "      <th>reference_generation</th>\n",
       "      <th>user_defined_type_catalog</th>\n",
       "      <th>user_defined_type_schema</th>\n",
       "      <th>user_defined_type_name</th>\n",
       "      <th>is_insertable_into</th>\n",
       "      <th>is_typed</th>\n",
       "      <th>commit_action</th>\n",
       "    </tr>\n",
       "  </thead>\n",
       "  <tbody>\n",
       "    <tr>\n",
       "      <th>0</th>\n",
       "      <td>comunidadedsdb</td>\n",
       "      <td>pa004</td>\n",
       "      <td>users</td>\n",
       "      <td>BASE TABLE</td>\n",
       "      <td>None</td>\n",
       "      <td>None</td>\n",
       "      <td>None</td>\n",
       "      <td>None</td>\n",
       "      <td>None</td>\n",
       "      <td>YES</td>\n",
       "      <td>NO</td>\n",
       "      <td>None</td>\n",
       "    </tr>\n",
       "    <tr>\n",
       "      <th>1</th>\n",
       "      <td>comunidadedsdb</td>\n",
       "      <td>pa004</td>\n",
       "      <td>vehicle</td>\n",
       "      <td>BASE TABLE</td>\n",
       "      <td>None</td>\n",
       "      <td>None</td>\n",
       "      <td>None</td>\n",
       "      <td>None</td>\n",
       "      <td>None</td>\n",
       "      <td>YES</td>\n",
       "      <td>NO</td>\n",
       "      <td>None</td>\n",
       "    </tr>\n",
       "    <tr>\n",
       "      <th>2</th>\n",
       "      <td>comunidadedsdb</td>\n",
       "      <td>pa004</td>\n",
       "      <td>insurance</td>\n",
       "      <td>BASE TABLE</td>\n",
       "      <td>None</td>\n",
       "      <td>None</td>\n",
       "      <td>None</td>\n",
       "      <td>None</td>\n",
       "      <td>None</td>\n",
       "      <td>YES</td>\n",
       "      <td>NO</td>\n",
       "      <td>None</td>\n",
       "    </tr>\n",
       "  </tbody>\n",
       "</table>\n",
       "</div>"
      ],
      "text/plain": [
       "    table_catalog table_schema table_name  table_type self_referencing_column_name reference_generation user_defined_type_catalog user_defined_type_schema user_defined_type_name is_insertable_into is_typed commit_action\n",
       "0  comunidadedsdb        pa004      users  BASE TABLE                         None                 None                      None                     None                   None                YES       NO          None\n",
       "1  comunidadedsdb        pa004    vehicle  BASE TABLE                         None                 None                      None                     None                   None                YES       NO          None\n",
       "2  comunidadedsdb        pa004  insurance  BASE TABLE                         None                 None                      None                     None                   None                YES       NO          None"
      ]
     },
     "execution_count": 145,
     "metadata": {},
     "output_type": "execute_result"
    }
   ],
   "source": [
    "#select tables from schema\n",
    "query = \"SELECT * FROM information_schema.tables WHERE table_schema = 'pa004'\"\n",
    "df = pd.read_sql( query, engine )\n",
    "df.head(10)"
   ]
  },
  {
   "cell_type": "code",
   "execution_count": 146,
   "id": "1b42484c",
   "metadata": {
    "ExecuteTime": {
     "end_time": "2022-04-09T19:13:06.364845Z",
     "start_time": "2022-04-09T19:13:00.122648Z"
    },
    "hidden": true
   },
   "outputs": [
    {
     "data": {
      "text/html": [
       "<div>\n",
       "<style scoped>\n",
       "    .dataframe tbody tr th:only-of-type {\n",
       "        vertical-align: middle;\n",
       "    }\n",
       "\n",
       "    .dataframe tbody tr th {\n",
       "        vertical-align: top;\n",
       "    }\n",
       "\n",
       "    .dataframe thead th {\n",
       "        text-align: right;\n",
       "    }\n",
       "</style>\n",
       "<table border=\"1\" class=\"dataframe\">\n",
       "  <thead>\n",
       "    <tr style=\"text-align: right;\">\n",
       "      <th></th>\n",
       "      <th>id</th>\n",
       "      <th>previously_insured</th>\n",
       "      <th>annual_premium</th>\n",
       "      <th>vintage</th>\n",
       "      <th>response</th>\n",
       "    </tr>\n",
       "  </thead>\n",
       "  <tbody>\n",
       "    <tr>\n",
       "      <th>0</th>\n",
       "      <td>1</td>\n",
       "      <td>0</td>\n",
       "      <td>40454.0</td>\n",
       "      <td>217</td>\n",
       "      <td>1</td>\n",
       "    </tr>\n",
       "    <tr>\n",
       "      <th>1</th>\n",
       "      <td>2</td>\n",
       "      <td>0</td>\n",
       "      <td>33536.0</td>\n",
       "      <td>183</td>\n",
       "      <td>0</td>\n",
       "    </tr>\n",
       "    <tr>\n",
       "      <th>2</th>\n",
       "      <td>3</td>\n",
       "      <td>0</td>\n",
       "      <td>38294.0</td>\n",
       "      <td>27</td>\n",
       "      <td>1</td>\n",
       "    </tr>\n",
       "    <tr>\n",
       "      <th>3</th>\n",
       "      <td>4</td>\n",
       "      <td>1</td>\n",
       "      <td>28619.0</td>\n",
       "      <td>203</td>\n",
       "      <td>0</td>\n",
       "    </tr>\n",
       "    <tr>\n",
       "      <th>4</th>\n",
       "      <td>5</td>\n",
       "      <td>1</td>\n",
       "      <td>27496.0</td>\n",
       "      <td>39</td>\n",
       "      <td>0</td>\n",
       "    </tr>\n",
       "  </tbody>\n",
       "</table>\n",
       "</div>"
      ],
      "text/plain": [
       "   id  previously_insured  annual_premium  vintage  response\n",
       "0   1                   0         40454.0      217         1\n",
       "1   2                   0         33536.0      183         0\n",
       "2   3                   0         38294.0       27         1\n",
       "3   4                   1         28619.0      203         0\n",
       "4   5                   1         27496.0       39         0"
      ]
     },
     "execution_count": 146,
     "metadata": {},
     "output_type": "execute_result"
    }
   ],
   "source": [
    "query = \"\"\"SELECT * FROM pa004.insurance \"\"\"\n",
    "df = pd.read_sql( query, engine )\n",
    "df.head()"
   ]
  },
  {
   "cell_type": "code",
   "execution_count": 147,
   "id": "bf2361e5",
   "metadata": {
    "ExecuteTime": {
     "end_time": "2022-04-09T19:13:16.867511Z",
     "start_time": "2022-04-09T19:13:11.283392Z"
    },
    "hidden": true
   },
   "outputs": [
    {
     "data": {
      "text/html": [
       "<div>\n",
       "<style scoped>\n",
       "    .dataframe tbody tr th:only-of-type {\n",
       "        vertical-align: middle;\n",
       "    }\n",
       "\n",
       "    .dataframe tbody tr th {\n",
       "        vertical-align: top;\n",
       "    }\n",
       "\n",
       "    .dataframe thead th {\n",
       "        text-align: right;\n",
       "    }\n",
       "</style>\n",
       "<table border=\"1\" class=\"dataframe\">\n",
       "  <thead>\n",
       "    <tr style=\"text-align: right;\">\n",
       "      <th></th>\n",
       "      <th>id</th>\n",
       "      <th>driving_license</th>\n",
       "      <th>vehicle_age</th>\n",
       "      <th>vehicle_damage</th>\n",
       "    </tr>\n",
       "  </thead>\n",
       "  <tbody>\n",
       "    <tr>\n",
       "      <th>0</th>\n",
       "      <td>1</td>\n",
       "      <td>1</td>\n",
       "      <td>&gt; 2 Years</td>\n",
       "      <td>Yes</td>\n",
       "    </tr>\n",
       "    <tr>\n",
       "      <th>1</th>\n",
       "      <td>2</td>\n",
       "      <td>1</td>\n",
       "      <td>1-2 Year</td>\n",
       "      <td>No</td>\n",
       "    </tr>\n",
       "    <tr>\n",
       "      <th>2</th>\n",
       "      <td>3</td>\n",
       "      <td>1</td>\n",
       "      <td>&gt; 2 Years</td>\n",
       "      <td>Yes</td>\n",
       "    </tr>\n",
       "    <tr>\n",
       "      <th>3</th>\n",
       "      <td>4</td>\n",
       "      <td>1</td>\n",
       "      <td>&lt; 1 Year</td>\n",
       "      <td>No</td>\n",
       "    </tr>\n",
       "    <tr>\n",
       "      <th>4</th>\n",
       "      <td>5</td>\n",
       "      <td>1</td>\n",
       "      <td>&lt; 1 Year</td>\n",
       "      <td>No</td>\n",
       "    </tr>\n",
       "  </tbody>\n",
       "</table>\n",
       "</div>"
      ],
      "text/plain": [
       "   id  driving_license vehicle_age vehicle_damage\n",
       "0   1                1   > 2 Years            Yes\n",
       "1   2                1    1-2 Year             No\n",
       "2   3                1   > 2 Years            Yes\n",
       "3   4                1    < 1 Year             No\n",
       "4   5                1    < 1 Year             No"
      ]
     },
     "execution_count": 147,
     "metadata": {},
     "output_type": "execute_result"
    }
   ],
   "source": [
    "query = \"\"\"SELECT * FROM pa004.vehicle \"\"\"\n",
    "df = pd.read_sql( query, engine )\n",
    "df.head()"
   ]
  },
  {
   "cell_type": "code",
   "execution_count": 148,
   "id": "dd1ceac6",
   "metadata": {
    "ExecuteTime": {
     "end_time": "2022-04-09T19:13:25.656803Z",
     "start_time": "2022-04-09T19:13:19.489895Z"
    },
    "hidden": true
   },
   "outputs": [
    {
     "data": {
      "text/html": [
       "<div>\n",
       "<style scoped>\n",
       "    .dataframe tbody tr th:only-of-type {\n",
       "        vertical-align: middle;\n",
       "    }\n",
       "\n",
       "    .dataframe tbody tr th {\n",
       "        vertical-align: top;\n",
       "    }\n",
       "\n",
       "    .dataframe thead th {\n",
       "        text-align: right;\n",
       "    }\n",
       "</style>\n",
       "<table border=\"1\" class=\"dataframe\">\n",
       "  <thead>\n",
       "    <tr style=\"text-align: right;\">\n",
       "      <th></th>\n",
       "      <th>id</th>\n",
       "      <th>previously_insured</th>\n",
       "      <th>annual_premium</th>\n",
       "      <th>vintage</th>\n",
       "      <th>response</th>\n",
       "    </tr>\n",
       "  </thead>\n",
       "  <tbody>\n",
       "    <tr>\n",
       "      <th>0</th>\n",
       "      <td>1</td>\n",
       "      <td>0</td>\n",
       "      <td>40454.0</td>\n",
       "      <td>217</td>\n",
       "      <td>1</td>\n",
       "    </tr>\n",
       "    <tr>\n",
       "      <th>1</th>\n",
       "      <td>2</td>\n",
       "      <td>0</td>\n",
       "      <td>33536.0</td>\n",
       "      <td>183</td>\n",
       "      <td>0</td>\n",
       "    </tr>\n",
       "    <tr>\n",
       "      <th>2</th>\n",
       "      <td>3</td>\n",
       "      <td>0</td>\n",
       "      <td>38294.0</td>\n",
       "      <td>27</td>\n",
       "      <td>1</td>\n",
       "    </tr>\n",
       "    <tr>\n",
       "      <th>3</th>\n",
       "      <td>4</td>\n",
       "      <td>1</td>\n",
       "      <td>28619.0</td>\n",
       "      <td>203</td>\n",
       "      <td>0</td>\n",
       "    </tr>\n",
       "    <tr>\n",
       "      <th>4</th>\n",
       "      <td>5</td>\n",
       "      <td>1</td>\n",
       "      <td>27496.0</td>\n",
       "      <td>39</td>\n",
       "      <td>0</td>\n",
       "    </tr>\n",
       "  </tbody>\n",
       "</table>\n",
       "</div>"
      ],
      "text/plain": [
       "   id  previously_insured  annual_premium  vintage  response\n",
       "0   1                   0         40454.0      217         1\n",
       "1   2                   0         33536.0      183         0\n",
       "2   3                   0         38294.0       27         1\n",
       "3   4                   1         28619.0      203         0\n",
       "4   5                   1         27496.0       39         0"
      ]
     },
     "execution_count": 148,
     "metadata": {},
     "output_type": "execute_result"
    }
   ],
   "source": [
    "query = \"\"\"SELECT * FROM pa004.insurance \"\"\"\n",
    "df = pd.read_sql( query, engine )\n",
    "df.head()"
   ]
  },
  {
   "cell_type": "code",
   "execution_count": 149,
   "id": "7c3935cf",
   "metadata": {
    "ExecuteTime": {
     "end_time": "2022-04-09T19:13:46.799179Z",
     "start_time": "2022-04-09T19:13:33.331784Z"
    },
    "hidden": true
   },
   "outputs": [
    {
     "data": {
      "text/html": [
       "<div>\n",
       "<style scoped>\n",
       "    .dataframe tbody tr th:only-of-type {\n",
       "        vertical-align: middle;\n",
       "    }\n",
       "\n",
       "    .dataframe tbody tr th {\n",
       "        vertical-align: top;\n",
       "    }\n",
       "\n",
       "    .dataframe thead th {\n",
       "        text-align: right;\n",
       "    }\n",
       "</style>\n",
       "<table border=\"1\" class=\"dataframe\">\n",
       "  <thead>\n",
       "    <tr style=\"text-align: right;\">\n",
       "      <th></th>\n",
       "      <th>id</th>\n",
       "      <th>gender</th>\n",
       "      <th>age</th>\n",
       "      <th>region_code</th>\n",
       "      <th>policy_sales_channel</th>\n",
       "      <th>id</th>\n",
       "      <th>driving_license</th>\n",
       "      <th>vehicle_age</th>\n",
       "      <th>vehicle_damage</th>\n",
       "      <th>id</th>\n",
       "      <th>previously_insured</th>\n",
       "      <th>annual_premium</th>\n",
       "      <th>vintage</th>\n",
       "      <th>response</th>\n",
       "    </tr>\n",
       "  </thead>\n",
       "  <tbody>\n",
       "    <tr>\n",
       "      <th>0</th>\n",
       "      <td>1</td>\n",
       "      <td>Male</td>\n",
       "      <td>44</td>\n",
       "      <td>28.0</td>\n",
       "      <td>26.0</td>\n",
       "      <td>1</td>\n",
       "      <td>1</td>\n",
       "      <td>&gt; 2 Years</td>\n",
       "      <td>Yes</td>\n",
       "      <td>1</td>\n",
       "      <td>0</td>\n",
       "      <td>40454.0</td>\n",
       "      <td>217</td>\n",
       "      <td>1</td>\n",
       "    </tr>\n",
       "    <tr>\n",
       "      <th>1</th>\n",
       "      <td>2</td>\n",
       "      <td>Male</td>\n",
       "      <td>76</td>\n",
       "      <td>3.0</td>\n",
       "      <td>26.0</td>\n",
       "      <td>2</td>\n",
       "      <td>1</td>\n",
       "      <td>1-2 Year</td>\n",
       "      <td>No</td>\n",
       "      <td>2</td>\n",
       "      <td>0</td>\n",
       "      <td>33536.0</td>\n",
       "      <td>183</td>\n",
       "      <td>0</td>\n",
       "    </tr>\n",
       "    <tr>\n",
       "      <th>2</th>\n",
       "      <td>3</td>\n",
       "      <td>Male</td>\n",
       "      <td>47</td>\n",
       "      <td>28.0</td>\n",
       "      <td>26.0</td>\n",
       "      <td>3</td>\n",
       "      <td>1</td>\n",
       "      <td>&gt; 2 Years</td>\n",
       "      <td>Yes</td>\n",
       "      <td>3</td>\n",
       "      <td>0</td>\n",
       "      <td>38294.0</td>\n",
       "      <td>27</td>\n",
       "      <td>1</td>\n",
       "    </tr>\n",
       "    <tr>\n",
       "      <th>3</th>\n",
       "      <td>4</td>\n",
       "      <td>Male</td>\n",
       "      <td>21</td>\n",
       "      <td>11.0</td>\n",
       "      <td>152.0</td>\n",
       "      <td>4</td>\n",
       "      <td>1</td>\n",
       "      <td>&lt; 1 Year</td>\n",
       "      <td>No</td>\n",
       "      <td>4</td>\n",
       "      <td>1</td>\n",
       "      <td>28619.0</td>\n",
       "      <td>203</td>\n",
       "      <td>0</td>\n",
       "    </tr>\n",
       "    <tr>\n",
       "      <th>4</th>\n",
       "      <td>5</td>\n",
       "      <td>Female</td>\n",
       "      <td>29</td>\n",
       "      <td>41.0</td>\n",
       "      <td>152.0</td>\n",
       "      <td>5</td>\n",
       "      <td>1</td>\n",
       "      <td>&lt; 1 Year</td>\n",
       "      <td>No</td>\n",
       "      <td>5</td>\n",
       "      <td>1</td>\n",
       "      <td>27496.0</td>\n",
       "      <td>39</td>\n",
       "      <td>0</td>\n",
       "    </tr>\n",
       "  </tbody>\n",
       "</table>\n",
       "</div>"
      ],
      "text/plain": [
       "   id  gender  age  region_code  policy_sales_channel  id  driving_license vehicle_age vehicle_damage  id  previously_insured  annual_premium  vintage  response\n",
       "0   1    Male   44         28.0                  26.0   1                1   > 2 Years            Yes   1                   0         40454.0      217         1\n",
       "1   2    Male   76          3.0                  26.0   2                1    1-2 Year             No   2                   0         33536.0      183         0\n",
       "2   3    Male   47         28.0                  26.0   3                1   > 2 Years            Yes   3                   0         38294.0       27         1\n",
       "3   4    Male   21         11.0                 152.0   4                1    < 1 Year             No   4                   1         28619.0      203         0\n",
       "4   5  Female   29         41.0                 152.0   5                1    < 1 Year             No   5                   1         27496.0       39         0"
      ]
     },
     "execution_count": 149,
     "metadata": {},
     "output_type": "execute_result"
    }
   ],
   "source": [
    "#build raw dataset:\n",
    "query = \"\"\"\n",
    "SELECT *\n",
    "FROM pa004.users u \n",
    "INNER JOIN pa004.vehicle v on u.id = v.id \n",
    "INNER JOIN pa004.insurance i ON u.id = i.id\n",
    "ORDER BY u.id\n",
    "\"\"\"\n",
    "df = pd.read_sql( query, engine )\n",
    "df.head()"
   ]
  },
  {
   "cell_type": "code",
   "execution_count": 150,
   "id": "acabc69f",
   "metadata": {
    "ExecuteTime": {
     "end_time": "2022-04-09T19:14:02.374191Z",
     "start_time": "2022-04-09T19:13:49.720840Z"
    },
    "hidden": true
   },
   "outputs": [
    {
     "data": {
      "text/html": [
       "<div>\n",
       "<style scoped>\n",
       "    .dataframe tbody tr th:only-of-type {\n",
       "        vertical-align: middle;\n",
       "    }\n",
       "\n",
       "    .dataframe tbody tr th {\n",
       "        vertical-align: top;\n",
       "    }\n",
       "\n",
       "    .dataframe thead th {\n",
       "        text-align: right;\n",
       "    }\n",
       "</style>\n",
       "<table border=\"1\" class=\"dataframe\">\n",
       "  <thead>\n",
       "    <tr style=\"text-align: right;\">\n",
       "      <th></th>\n",
       "      <th>id</th>\n",
       "      <th>gender</th>\n",
       "      <th>age</th>\n",
       "      <th>region_code</th>\n",
       "      <th>policy_sales_channel</th>\n",
       "      <th>driving_license</th>\n",
       "      <th>vehicle_age</th>\n",
       "      <th>vehicle_damage</th>\n",
       "      <th>previously_insured</th>\n",
       "      <th>annual_premium</th>\n",
       "      <th>vintage</th>\n",
       "      <th>response</th>\n",
       "    </tr>\n",
       "  </thead>\n",
       "  <tbody>\n",
       "    <tr>\n",
       "      <th>0</th>\n",
       "      <td>1</td>\n",
       "      <td>Male</td>\n",
       "      <td>44</td>\n",
       "      <td>28.0</td>\n",
       "      <td>26.0</td>\n",
       "      <td>1</td>\n",
       "      <td>&gt; 2 Years</td>\n",
       "      <td>Yes</td>\n",
       "      <td>0</td>\n",
       "      <td>40454.0</td>\n",
       "      <td>217</td>\n",
       "      <td>1</td>\n",
       "    </tr>\n",
       "    <tr>\n",
       "      <th>1</th>\n",
       "      <td>2</td>\n",
       "      <td>Male</td>\n",
       "      <td>76</td>\n",
       "      <td>3.0</td>\n",
       "      <td>26.0</td>\n",
       "      <td>1</td>\n",
       "      <td>1-2 Year</td>\n",
       "      <td>No</td>\n",
       "      <td>0</td>\n",
       "      <td>33536.0</td>\n",
       "      <td>183</td>\n",
       "      <td>0</td>\n",
       "    </tr>\n",
       "    <tr>\n",
       "      <th>2</th>\n",
       "      <td>3</td>\n",
       "      <td>Male</td>\n",
       "      <td>47</td>\n",
       "      <td>28.0</td>\n",
       "      <td>26.0</td>\n",
       "      <td>1</td>\n",
       "      <td>&gt; 2 Years</td>\n",
       "      <td>Yes</td>\n",
       "      <td>0</td>\n",
       "      <td>38294.0</td>\n",
       "      <td>27</td>\n",
       "      <td>1</td>\n",
       "    </tr>\n",
       "    <tr>\n",
       "      <th>3</th>\n",
       "      <td>4</td>\n",
       "      <td>Male</td>\n",
       "      <td>21</td>\n",
       "      <td>11.0</td>\n",
       "      <td>152.0</td>\n",
       "      <td>1</td>\n",
       "      <td>&lt; 1 Year</td>\n",
       "      <td>No</td>\n",
       "      <td>1</td>\n",
       "      <td>28619.0</td>\n",
       "      <td>203</td>\n",
       "      <td>0</td>\n",
       "    </tr>\n",
       "    <tr>\n",
       "      <th>4</th>\n",
       "      <td>5</td>\n",
       "      <td>Female</td>\n",
       "      <td>29</td>\n",
       "      <td>41.0</td>\n",
       "      <td>152.0</td>\n",
       "      <td>1</td>\n",
       "      <td>&lt; 1 Year</td>\n",
       "      <td>No</td>\n",
       "      <td>1</td>\n",
       "      <td>27496.0</td>\n",
       "      <td>39</td>\n",
       "      <td>0</td>\n",
       "    </tr>\n",
       "  </tbody>\n",
       "</table>\n",
       "</div>"
      ],
      "text/plain": [
       "   id  gender  age  region_code  policy_sales_channel  driving_license vehicle_age vehicle_damage  previously_insured  annual_premium  vintage  response\n",
       "0   1    Male   44         28.0                  26.0                1   > 2 Years            Yes                   0         40454.0      217         1\n",
       "1   2    Male   76          3.0                  26.0                1    1-2 Year             No                   0         33536.0      183         0\n",
       "2   3    Male   47         28.0                  26.0                1   > 2 Years            Yes                   0         38294.0       27         1\n",
       "3   4    Male   21         11.0                 152.0                1    < 1 Year             No                   1         28619.0      203         0\n",
       "4   5  Female   29         41.0                 152.0                1    < 1 Year             No                   1         27496.0       39         0"
      ]
     },
     "execution_count": 150,
     "metadata": {},
     "output_type": "execute_result"
    }
   ],
   "source": [
    "# remove duplicate columns (i.e. the 'id' from vehicle and insurance tables)\n",
    "df_raw = pd.read_sql( query, engine )\n",
    "df_raw = df_raw.loc[:,~df_raw.columns.duplicated()]\n",
    "df_raw.head()"
   ]
  },
  {
   "cell_type": "code",
   "execution_count": 151,
   "id": "4da7734d",
   "metadata": {
    "ExecuteTime": {
     "end_time": "2022-04-09T19:14:06.027157Z",
     "start_time": "2022-04-09T19:14:06.005108Z"
    },
    "hidden": true
   },
   "outputs": [
    {
     "data": {
      "text/plain": [
       "(381109, 12)"
      ]
     },
     "execution_count": 151,
     "metadata": {},
     "output_type": "execute_result"
    }
   ],
   "source": [
    "df_raw.shape"
   ]
  },
  {
   "cell_type": "code",
   "execution_count": null,
   "id": "62d3a329",
   "metadata": {
    "hidden": true
   },
   "outputs": [],
   "source": [
    "df_raw.to_csv(datapath+'data_collection_done.csv')"
   ]
  },
  {
   "cell_type": "markdown",
   "id": "60b3f901",
   "metadata": {
    "heading_collapsed": true
   },
   "source": [
    "# Data Description"
   ]
  },
  {
   "cell_type": "code",
   "execution_count": 4,
   "id": "29ed4b0f",
   "metadata": {
    "ExecuteTime": {
     "end_time": "2022-04-05T21:29:43.402434Z",
     "start_time": "2022-04-05T21:29:42.602141Z"
    },
    "hidden": true
   },
   "outputs": [
    {
     "data": {
      "text/html": [
       "<div>\n",
       "<style scoped>\n",
       "    .dataframe tbody tr th:only-of-type {\n",
       "        vertical-align: middle;\n",
       "    }\n",
       "\n",
       "    .dataframe tbody tr th {\n",
       "        vertical-align: top;\n",
       "    }\n",
       "\n",
       "    .dataframe thead th {\n",
       "        text-align: right;\n",
       "    }\n",
       "</style>\n",
       "<table border=\"1\" class=\"dataframe\">\n",
       "  <thead>\n",
       "    <tr style=\"text-align: right;\">\n",
       "      <th></th>\n",
       "      <th>id</th>\n",
       "      <th>gender</th>\n",
       "      <th>age</th>\n",
       "      <th>region_code</th>\n",
       "      <th>policy_sales_channel</th>\n",
       "      <th>driving_license</th>\n",
       "      <th>vehicle_age</th>\n",
       "      <th>vehicle_damage</th>\n",
       "      <th>previously_insured</th>\n",
       "      <th>annual_premium</th>\n",
       "      <th>vintage</th>\n",
       "      <th>response</th>\n",
       "    </tr>\n",
       "  </thead>\n",
       "  <tbody>\n",
       "    <tr>\n",
       "      <th>0</th>\n",
       "      <td>1</td>\n",
       "      <td>Male</td>\n",
       "      <td>44</td>\n",
       "      <td>28.0</td>\n",
       "      <td>26.0</td>\n",
       "      <td>1</td>\n",
       "      <td>&gt; 2 Years</td>\n",
       "      <td>Yes</td>\n",
       "      <td>0</td>\n",
       "      <td>40454.0</td>\n",
       "      <td>217</td>\n",
       "      <td>1</td>\n",
       "    </tr>\n",
       "    <tr>\n",
       "      <th>1</th>\n",
       "      <td>2</td>\n",
       "      <td>Male</td>\n",
       "      <td>76</td>\n",
       "      <td>3.0</td>\n",
       "      <td>26.0</td>\n",
       "      <td>1</td>\n",
       "      <td>1-2 Year</td>\n",
       "      <td>No</td>\n",
       "      <td>0</td>\n",
       "      <td>33536.0</td>\n",
       "      <td>183</td>\n",
       "      <td>0</td>\n",
       "    </tr>\n",
       "    <tr>\n",
       "      <th>2</th>\n",
       "      <td>3</td>\n",
       "      <td>Male</td>\n",
       "      <td>47</td>\n",
       "      <td>28.0</td>\n",
       "      <td>26.0</td>\n",
       "      <td>1</td>\n",
       "      <td>&gt; 2 Years</td>\n",
       "      <td>Yes</td>\n",
       "      <td>0</td>\n",
       "      <td>38294.0</td>\n",
       "      <td>27</td>\n",
       "      <td>1</td>\n",
       "    </tr>\n",
       "    <tr>\n",
       "      <th>3</th>\n",
       "      <td>4</td>\n",
       "      <td>Male</td>\n",
       "      <td>21</td>\n",
       "      <td>11.0</td>\n",
       "      <td>152.0</td>\n",
       "      <td>1</td>\n",
       "      <td>&lt; 1 Year</td>\n",
       "      <td>No</td>\n",
       "      <td>1</td>\n",
       "      <td>28619.0</td>\n",
       "      <td>203</td>\n",
       "      <td>0</td>\n",
       "    </tr>\n",
       "    <tr>\n",
       "      <th>4</th>\n",
       "      <td>5</td>\n",
       "      <td>Female</td>\n",
       "      <td>29</td>\n",
       "      <td>41.0</td>\n",
       "      <td>152.0</td>\n",
       "      <td>1</td>\n",
       "      <td>&lt; 1 Year</td>\n",
       "      <td>No</td>\n",
       "      <td>1</td>\n",
       "      <td>27496.0</td>\n",
       "      <td>39</td>\n",
       "      <td>0</td>\n",
       "    </tr>\n",
       "    <tr>\n",
       "      <th>...</th>\n",
       "      <td>...</td>\n",
       "      <td>...</td>\n",
       "      <td>...</td>\n",
       "      <td>...</td>\n",
       "      <td>...</td>\n",
       "      <td>...</td>\n",
       "      <td>...</td>\n",
       "      <td>...</td>\n",
       "      <td>...</td>\n",
       "      <td>...</td>\n",
       "      <td>...</td>\n",
       "      <td>...</td>\n",
       "    </tr>\n",
       "    <tr>\n",
       "      <th>381104</th>\n",
       "      <td>381105</td>\n",
       "      <td>Male</td>\n",
       "      <td>74</td>\n",
       "      <td>26.0</td>\n",
       "      <td>26.0</td>\n",
       "      <td>1</td>\n",
       "      <td>1-2 Year</td>\n",
       "      <td>No</td>\n",
       "      <td>1</td>\n",
       "      <td>30170.0</td>\n",
       "      <td>88</td>\n",
       "      <td>0</td>\n",
       "    </tr>\n",
       "    <tr>\n",
       "      <th>381105</th>\n",
       "      <td>381106</td>\n",
       "      <td>Male</td>\n",
       "      <td>30</td>\n",
       "      <td>37.0</td>\n",
       "      <td>152.0</td>\n",
       "      <td>1</td>\n",
       "      <td>&lt; 1 Year</td>\n",
       "      <td>No</td>\n",
       "      <td>1</td>\n",
       "      <td>40016.0</td>\n",
       "      <td>131</td>\n",
       "      <td>0</td>\n",
       "    </tr>\n",
       "    <tr>\n",
       "      <th>381106</th>\n",
       "      <td>381107</td>\n",
       "      <td>Male</td>\n",
       "      <td>21</td>\n",
       "      <td>30.0</td>\n",
       "      <td>160.0</td>\n",
       "      <td>1</td>\n",
       "      <td>&lt; 1 Year</td>\n",
       "      <td>No</td>\n",
       "      <td>1</td>\n",
       "      <td>35118.0</td>\n",
       "      <td>161</td>\n",
       "      <td>0</td>\n",
       "    </tr>\n",
       "    <tr>\n",
       "      <th>381107</th>\n",
       "      <td>381108</td>\n",
       "      <td>Female</td>\n",
       "      <td>68</td>\n",
       "      <td>14.0</td>\n",
       "      <td>124.0</td>\n",
       "      <td>1</td>\n",
       "      <td>&gt; 2 Years</td>\n",
       "      <td>Yes</td>\n",
       "      <td>0</td>\n",
       "      <td>44617.0</td>\n",
       "      <td>74</td>\n",
       "      <td>0</td>\n",
       "    </tr>\n",
       "    <tr>\n",
       "      <th>381108</th>\n",
       "      <td>381109</td>\n",
       "      <td>Male</td>\n",
       "      <td>46</td>\n",
       "      <td>29.0</td>\n",
       "      <td>26.0</td>\n",
       "      <td>1</td>\n",
       "      <td>1-2 Year</td>\n",
       "      <td>No</td>\n",
       "      <td>0</td>\n",
       "      <td>41777.0</td>\n",
       "      <td>237</td>\n",
       "      <td>0</td>\n",
       "    </tr>\n",
       "  </tbody>\n",
       "</table>\n",
       "<p>381109 rows × 12 columns</p>\n",
       "</div>"
      ],
      "text/plain": [
       "            id  gender  age  region_code  policy_sales_channel  driving_license vehicle_age vehicle_damage  previously_insured  annual_premium  vintage  response\n",
       "0            1    Male   44         28.0                  26.0                1   > 2 Years            Yes                   0         40454.0      217         1\n",
       "1            2    Male   76          3.0                  26.0                1    1-2 Year             No                   0         33536.0      183         0\n",
       "2            3    Male   47         28.0                  26.0                1   > 2 Years            Yes                   0         38294.0       27         1\n",
       "3            4    Male   21         11.0                 152.0                1    < 1 Year             No                   1         28619.0      203         0\n",
       "4            5  Female   29         41.0                 152.0                1    < 1 Year             No                   1         27496.0       39         0\n",
       "...        ...     ...  ...          ...                   ...              ...         ...            ...                 ...             ...      ...       ...\n",
       "381104  381105    Male   74         26.0                  26.0                1    1-2 Year             No                   1         30170.0       88         0\n",
       "381105  381106    Male   30         37.0                 152.0                1    < 1 Year             No                   1         40016.0      131         0\n",
       "381106  381107    Male   21         30.0                 160.0                1    < 1 Year             No                   1         35118.0      161         0\n",
       "381107  381108  Female   68         14.0                 124.0                1   > 2 Years            Yes                   0         44617.0       74         0\n",
       "381108  381109    Male   46         29.0                  26.0                1    1-2 Year             No                   0         41777.0      237         0\n",
       "\n",
       "[381109 rows x 12 columns]"
      ]
     },
     "execution_count": 4,
     "metadata": {},
     "output_type": "execute_result"
    }
   ],
   "source": [
    "df1 = pd.read_csv(datapath+'data_collection_done.csv', index_col=0)\n",
    "df1"
   ]
  },
  {
   "cell_type": "code",
   "execution_count": 5,
   "id": "e4b3ca60",
   "metadata": {
    "ExecuteTime": {
     "end_time": "2022-04-05T21:29:46.112546Z",
     "start_time": "2022-04-05T21:29:46.009205Z"
    },
    "hidden": true
   },
   "outputs": [
    {
     "name": "stdout",
     "output_type": "stream",
     "text": [
      "<class 'pandas.core.frame.DataFrame'>\n",
      "Int64Index: 381109 entries, 0 to 381108\n",
      "Data columns (total 12 columns):\n",
      " #   Column                Non-Null Count   Dtype  \n",
      "---  ------                --------------   -----  \n",
      " 0   id                    381109 non-null  int64  \n",
      " 1   gender                381109 non-null  object \n",
      " 2   age                   381109 non-null  int64  \n",
      " 3   region_code           381109 non-null  float64\n",
      " 4   policy_sales_channel  381109 non-null  float64\n",
      " 5   driving_license       381109 non-null  int64  \n",
      " 6   vehicle_age           381109 non-null  object \n",
      " 7   vehicle_damage        381109 non-null  object \n",
      " 8   previously_insured    381109 non-null  int64  \n",
      " 9   annual_premium        381109 non-null  float64\n",
      " 10  vintage               381109 non-null  int64  \n",
      " 11  response              381109 non-null  int64  \n",
      "dtypes: float64(3), int64(6), object(3)\n",
      "memory usage: 37.8+ MB\n"
     ]
    }
   ],
   "source": [
    "df1.info()"
   ]
  },
  {
   "cell_type": "markdown",
   "id": "f9726057",
   "metadata": {
    "hidden": true
   },
   "source": [
    "## Rename Columns"
   ]
  },
  {
   "cell_type": "code",
   "execution_count": 6,
   "id": "318d7482",
   "metadata": {
    "ExecuteTime": {
     "end_time": "2022-04-05T21:29:47.429284Z",
     "start_time": "2022-04-05T21:29:47.420049Z"
    },
    "hidden": true
   },
   "outputs": [
    {
     "data": {
      "text/plain": [
       "Index(['id', 'gender', 'age', 'region_code', 'policy_sales_channel',\n",
       "       'driving_license', 'vehicle_age', 'vehicle_damage',\n",
       "       'previously_insured', 'annual_premium', 'vintage', 'response'],\n",
       "      dtype='object')"
      ]
     },
     "execution_count": 6,
     "metadata": {},
     "output_type": "execute_result"
    }
   ],
   "source": [
    "df1.columns"
   ]
  },
  {
   "cell_type": "code",
   "execution_count": 7,
   "id": "d42c5417",
   "metadata": {
    "ExecuteTime": {
     "end_time": "2022-04-05T21:29:48.370199Z",
     "start_time": "2022-04-05T21:29:48.303346Z"
    },
    "hidden": true
   },
   "outputs": [
    {
     "data": {
      "text/html": [
       "<div>\n",
       "<style scoped>\n",
       "    .dataframe tbody tr th:only-of-type {\n",
       "        vertical-align: middle;\n",
       "    }\n",
       "\n",
       "    .dataframe tbody tr th {\n",
       "        vertical-align: top;\n",
       "    }\n",
       "\n",
       "    .dataframe thead th {\n",
       "        text-align: right;\n",
       "    }\n",
       "</style>\n",
       "<table border=\"1\" class=\"dataframe\">\n",
       "  <thead>\n",
       "    <tr style=\"text-align: right;\">\n",
       "      <th></th>\n",
       "      <th>id</th>\n",
       "      <th>gender</th>\n",
       "      <th>age</th>\n",
       "      <th>region_code</th>\n",
       "      <th>policy_sales_channel</th>\n",
       "      <th>driving_license</th>\n",
       "      <th>vehicle_age</th>\n",
       "      <th>vehicle_damage</th>\n",
       "      <th>vehicle_prev_insured</th>\n",
       "      <th>health_annual_paid</th>\n",
       "      <th>days_associated</th>\n",
       "      <th>response</th>\n",
       "    </tr>\n",
       "  </thead>\n",
       "  <tbody>\n",
       "    <tr>\n",
       "      <th>0</th>\n",
       "      <td>1</td>\n",
       "      <td>Male</td>\n",
       "      <td>44</td>\n",
       "      <td>28.0</td>\n",
       "      <td>26.0</td>\n",
       "      <td>1</td>\n",
       "      <td>&gt; 2 Years</td>\n",
       "      <td>Yes</td>\n",
       "      <td>0</td>\n",
       "      <td>40454.0</td>\n",
       "      <td>217</td>\n",
       "      <td>1</td>\n",
       "    </tr>\n",
       "    <tr>\n",
       "      <th>1</th>\n",
       "      <td>2</td>\n",
       "      <td>Male</td>\n",
       "      <td>76</td>\n",
       "      <td>3.0</td>\n",
       "      <td>26.0</td>\n",
       "      <td>1</td>\n",
       "      <td>1-2 Year</td>\n",
       "      <td>No</td>\n",
       "      <td>0</td>\n",
       "      <td>33536.0</td>\n",
       "      <td>183</td>\n",
       "      <td>0</td>\n",
       "    </tr>\n",
       "    <tr>\n",
       "      <th>2</th>\n",
       "      <td>3</td>\n",
       "      <td>Male</td>\n",
       "      <td>47</td>\n",
       "      <td>28.0</td>\n",
       "      <td>26.0</td>\n",
       "      <td>1</td>\n",
       "      <td>&gt; 2 Years</td>\n",
       "      <td>Yes</td>\n",
       "      <td>0</td>\n",
       "      <td>38294.0</td>\n",
       "      <td>27</td>\n",
       "      <td>1</td>\n",
       "    </tr>\n",
       "    <tr>\n",
       "      <th>3</th>\n",
       "      <td>4</td>\n",
       "      <td>Male</td>\n",
       "      <td>21</td>\n",
       "      <td>11.0</td>\n",
       "      <td>152.0</td>\n",
       "      <td>1</td>\n",
       "      <td>&lt; 1 Year</td>\n",
       "      <td>No</td>\n",
       "      <td>1</td>\n",
       "      <td>28619.0</td>\n",
       "      <td>203</td>\n",
       "      <td>0</td>\n",
       "    </tr>\n",
       "    <tr>\n",
       "      <th>4</th>\n",
       "      <td>5</td>\n",
       "      <td>Female</td>\n",
       "      <td>29</td>\n",
       "      <td>41.0</td>\n",
       "      <td>152.0</td>\n",
       "      <td>1</td>\n",
       "      <td>&lt; 1 Year</td>\n",
       "      <td>No</td>\n",
       "      <td>1</td>\n",
       "      <td>27496.0</td>\n",
       "      <td>39</td>\n",
       "      <td>0</td>\n",
       "    </tr>\n",
       "    <tr>\n",
       "      <th>...</th>\n",
       "      <td>...</td>\n",
       "      <td>...</td>\n",
       "      <td>...</td>\n",
       "      <td>...</td>\n",
       "      <td>...</td>\n",
       "      <td>...</td>\n",
       "      <td>...</td>\n",
       "      <td>...</td>\n",
       "      <td>...</td>\n",
       "      <td>...</td>\n",
       "      <td>...</td>\n",
       "      <td>...</td>\n",
       "    </tr>\n",
       "    <tr>\n",
       "      <th>381104</th>\n",
       "      <td>381105</td>\n",
       "      <td>Male</td>\n",
       "      <td>74</td>\n",
       "      <td>26.0</td>\n",
       "      <td>26.0</td>\n",
       "      <td>1</td>\n",
       "      <td>1-2 Year</td>\n",
       "      <td>No</td>\n",
       "      <td>1</td>\n",
       "      <td>30170.0</td>\n",
       "      <td>88</td>\n",
       "      <td>0</td>\n",
       "    </tr>\n",
       "    <tr>\n",
       "      <th>381105</th>\n",
       "      <td>381106</td>\n",
       "      <td>Male</td>\n",
       "      <td>30</td>\n",
       "      <td>37.0</td>\n",
       "      <td>152.0</td>\n",
       "      <td>1</td>\n",
       "      <td>&lt; 1 Year</td>\n",
       "      <td>No</td>\n",
       "      <td>1</td>\n",
       "      <td>40016.0</td>\n",
       "      <td>131</td>\n",
       "      <td>0</td>\n",
       "    </tr>\n",
       "    <tr>\n",
       "      <th>381106</th>\n",
       "      <td>381107</td>\n",
       "      <td>Male</td>\n",
       "      <td>21</td>\n",
       "      <td>30.0</td>\n",
       "      <td>160.0</td>\n",
       "      <td>1</td>\n",
       "      <td>&lt; 1 Year</td>\n",
       "      <td>No</td>\n",
       "      <td>1</td>\n",
       "      <td>35118.0</td>\n",
       "      <td>161</td>\n",
       "      <td>0</td>\n",
       "    </tr>\n",
       "    <tr>\n",
       "      <th>381107</th>\n",
       "      <td>381108</td>\n",
       "      <td>Female</td>\n",
       "      <td>68</td>\n",
       "      <td>14.0</td>\n",
       "      <td>124.0</td>\n",
       "      <td>1</td>\n",
       "      <td>&gt; 2 Years</td>\n",
       "      <td>Yes</td>\n",
       "      <td>0</td>\n",
       "      <td>44617.0</td>\n",
       "      <td>74</td>\n",
       "      <td>0</td>\n",
       "    </tr>\n",
       "    <tr>\n",
       "      <th>381108</th>\n",
       "      <td>381109</td>\n",
       "      <td>Male</td>\n",
       "      <td>46</td>\n",
       "      <td>29.0</td>\n",
       "      <td>26.0</td>\n",
       "      <td>1</td>\n",
       "      <td>1-2 Year</td>\n",
       "      <td>No</td>\n",
       "      <td>0</td>\n",
       "      <td>41777.0</td>\n",
       "      <td>237</td>\n",
       "      <td>0</td>\n",
       "    </tr>\n",
       "  </tbody>\n",
       "</table>\n",
       "<p>381109 rows × 12 columns</p>\n",
       "</div>"
      ],
      "text/plain": [
       "            id  gender  age  region_code  policy_sales_channel  driving_license vehicle_age vehicle_damage  vehicle_prev_insured  health_annual_paid  days_associated  response\n",
       "0            1    Male   44         28.0                  26.0                1   > 2 Years            Yes                     0             40454.0              217         1\n",
       "1            2    Male   76          3.0                  26.0                1    1-2 Year             No                     0             33536.0              183         0\n",
       "2            3    Male   47         28.0                  26.0                1   > 2 Years            Yes                     0             38294.0               27         1\n",
       "3            4    Male   21         11.0                 152.0                1    < 1 Year             No                     1             28619.0              203         0\n",
       "4            5  Female   29         41.0                 152.0                1    < 1 Year             No                     1             27496.0               39         0\n",
       "...        ...     ...  ...          ...                   ...              ...         ...            ...                   ...                 ...              ...       ...\n",
       "381104  381105    Male   74         26.0                  26.0                1    1-2 Year             No                     1             30170.0               88         0\n",
       "381105  381106    Male   30         37.0                 152.0                1    < 1 Year             No                     1             40016.0              131         0\n",
       "381106  381107    Male   21         30.0                 160.0                1    < 1 Year             No                     1             35118.0              161         0\n",
       "381107  381108  Female   68         14.0                 124.0                1   > 2 Years            Yes                     0             44617.0               74         0\n",
       "381108  381109    Male   46         29.0                  26.0                1    1-2 Year             No                     0             41777.0              237         0\n",
       "\n",
       "[381109 rows x 12 columns]"
      ]
     },
     "execution_count": 7,
     "metadata": {},
     "output_type": "execute_result"
    }
   ],
   "source": [
    "df1 = df1.rename(columns={'previously_insured': 'vehicle_prev_insured',\n",
    "                        'annual_premium': 'health_annual_paid',\n",
    "                        'vintage': 'days_associated'})\n",
    "df1"
   ]
  },
  {
   "cell_type": "markdown",
   "id": "c25e7b46",
   "metadata": {
    "hidden": true
   },
   "source": [
    "## Columns Description"
   ]
  },
  {
   "cell_type": "code",
   "execution_count": 126,
   "id": "a6bed5ac",
   "metadata": {
    "ExecuteTime": {
     "end_time": "2022-04-09T16:37:16.291757Z",
     "start_time": "2022-04-09T16:37:16.278564Z"
    },
    "code_folding": [],
    "hidden": true
   },
   "outputs": [
    {
     "name": "stdout",
     "output_type": "stream",
     "text": [
      "=====================  =========================================================================================================================\n",
      "Column                 Meaning\n",
      "=====================  =========================================================================================================================\n",
      "id                     unique customer identifier.\n",
      "gender                 client gender: Male / Female.\n",
      "age                    customer age.\n",
      "region_code            customer region code.\n",
      "policy_sales_channel   Anonymized Code for the channel of outreaching to the customer. Ie: Over Mail, Over Phone, In Person, etc..\n",
      "driving_license        0 = customer does not have DL, 1 = already have DL\n",
      "vehicle_age            vehicle age: < 1 Year, 1-2 Year, > 2 Years\n",
      "vehicle_damage         No = customer has never had their vehicle damaged in the past, Yes = has had it.\n",
      "vehicle_prev_insured   0 = customer does not have vehicle insurance, 1= already has vehicle insurance.\n",
      "health_annual_premium  annual amount paid by the customer to the company for health insurance. Currency: Rs(Pakistani rupee, R$1.00 = ± Rs0.03).\n",
      "days_associated        number of days since the customer joined the company by purchasing health insurance. The policy is annual.\n",
      "response               0 = customer is not interested, 1 = customer is interested.\n",
      "=====================  =========================================================================================================================\n"
     ]
    }
   ],
   "source": [
    "#Double check understanding of each column\n",
    "\n",
    "tab_meanings = [['Column', 'Meaning'],\n",
    "    #####################################################  \n",
    "        ['id', 'unique customer identifier.'],\n",
    "        ['gender', 'client gender: Male / Female.'],\n",
    "        ['age', 'customer age.'],\n",
    "        ['region_code', 'customer region code.'],\n",
    "        ['policy_sales_channel', 'Anonymized Code for the channel of outreaching to the customer. Ie: Over Mail, Over Phone, In Person, etc..'],\n",
    "        ['driving_license', '0 = customer does not have DL, 1 = already have DL'],\n",
    "        ['vehicle_age', 'vehicle age: < 1 Year, 1-2 Year, > 2 Years'],\n",
    "        ['vehicle_damage', 'No = customer has never had their vehicle damaged in the past, Yes = has had it.'],\n",
    "        ['vehicle_prev_insured', '0 = customer does not have vehicle insurance, 1= already has vehicle insurance.'],\n",
    "        ['health_annual_premium', 'annual amount paid by the customer to the company for health insurance. Currency: Rs(Pakistani rupee, R$1.00 = ± Rs0.03).'],\n",
    "        ['days_associated', 'number of days since the customer joined the company by purchasing health insurance. The policy is annual.'],\n",
    "        ['response', '0 = customer is not interested, 1 = customer is interested.']\n",
    "      ]\n",
    "print(tabulate(tab_meanings, headers='firstrow', stralign='left', tablefmt='rst'))"
   ]
  },
  {
   "cell_type": "markdown",
   "id": "0d09850b",
   "metadata": {
    "hidden": true
   },
   "source": [
    "## Data Dimension"
   ]
  },
  {
   "cell_type": "code",
   "execution_count": 9,
   "id": "412718a5",
   "metadata": {
    "ExecuteTime": {
     "end_time": "2022-04-05T21:29:50.355514Z",
     "start_time": "2022-04-05T21:29:50.348737Z"
    },
    "hidden": true
   },
   "outputs": [
    {
     "name": "stdout",
     "output_type": "stream",
     "text": [
      "Number of rows: 381109 \n",
      "Number of columns: 12 \n"
     ]
    }
   ],
   "source": [
    "print(f'Number of rows: {df1.shape[0]} ')\n",
    "print(f'Number of columns: {df1.shape[1]} ')"
   ]
  },
  {
   "cell_type": "markdown",
   "id": "4dffafba",
   "metadata": {
    "hidden": true
   },
   "source": [
    "## Data Types"
   ]
  },
  {
   "cell_type": "code",
   "execution_count": 10,
   "id": "33e0ac42",
   "metadata": {
    "ExecuteTime": {
     "end_time": "2022-04-05T21:29:52.359885Z",
     "start_time": "2022-04-05T21:29:52.349092Z"
    },
    "hidden": true
   },
   "outputs": [
    {
     "data": {
      "text/plain": [
       "id                        int64\n",
       "gender                   object\n",
       "age                       int64\n",
       "region_code             float64\n",
       "policy_sales_channel    float64\n",
       "driving_license           int64\n",
       "vehicle_age              object\n",
       "vehicle_damage           object\n",
       "vehicle_prev_insured      int64\n",
       "health_annual_paid      float64\n",
       "days_associated           int64\n",
       "response                  int64\n",
       "dtype: object"
      ]
     },
     "execution_count": 10,
     "metadata": {},
     "output_type": "execute_result"
    }
   ],
   "source": [
    "df1.dtypes"
   ]
  },
  {
   "cell_type": "code",
   "execution_count": 11,
   "id": "a2d5ba49",
   "metadata": {
    "ExecuteTime": {
     "end_time": "2022-04-05T21:29:54.288903Z",
     "start_time": "2022-04-05T21:29:54.263918Z"
    },
    "hidden": true
   },
   "outputs": [
    {
     "data": {
      "text/plain": [
       "0    28\n",
       "1     3\n",
       "2    28\n",
       "3    11\n",
       "4    41\n",
       "Name: region_code, dtype: int64"
      ]
     },
     "execution_count": 11,
     "metadata": {},
     "output_type": "execute_result"
    }
   ],
   "source": [
    "#convert df['region_code'] to int:\n",
    "#df['region_code'].value_counts()\n",
    "df1['region_code'] = df1['region_code'].astype(int)\n",
    "df1['region_code'].head()"
   ]
  },
  {
   "cell_type": "code",
   "execution_count": 12,
   "id": "1d2062cf",
   "metadata": {
    "ExecuteTime": {
     "end_time": "2022-04-05T21:29:54.661615Z",
     "start_time": "2022-04-05T21:29:54.645321Z"
    },
    "hidden": true
   },
   "outputs": [
    {
     "data": {
      "text/plain": [
       "0     26\n",
       "1     26\n",
       "2     26\n",
       "3    152\n",
       "4    152\n",
       "Name: policy_sales_channel, dtype: int64"
      ]
     },
     "execution_count": 12,
     "metadata": {},
     "output_type": "execute_result"
    }
   ],
   "source": [
    "#convert df['policy_sales_channel'] to int:\n",
    "#df['policy_sales_channel'].value_counts().head(50)\n",
    "df1['policy_sales_channel'] = df1['policy_sales_channel'].astype(int)\n",
    "df1['policy_sales_channel'].head()"
   ]
  },
  {
   "cell_type": "code",
   "execution_count": 13,
   "id": "8c9b37d1",
   "metadata": {
    "ExecuteTime": {
     "end_time": "2022-04-05T21:30:01.856868Z",
     "start_time": "2022-04-05T21:30:01.846672Z"
    },
    "hidden": true
   },
   "outputs": [
    {
     "data": {
      "text/plain": [
       "id                        int64\n",
       "gender                   object\n",
       "age                       int64\n",
       "region_code               int64\n",
       "policy_sales_channel      int64\n",
       "driving_license           int64\n",
       "vehicle_age              object\n",
       "vehicle_damage           object\n",
       "vehicle_prev_insured      int64\n",
       "health_annual_paid      float64\n",
       "days_associated           int64\n",
       "response                  int64\n",
       "dtype: object"
      ]
     },
     "execution_count": 13,
     "metadata": {},
     "output_type": "execute_result"
    }
   ],
   "source": [
    "df1.dtypes"
   ]
  },
  {
   "cell_type": "markdown",
   "id": "bee856ce",
   "metadata": {
    "hidden": true
   },
   "source": [
    "## Check NA"
   ]
  },
  {
   "cell_type": "code",
   "execution_count": 14,
   "id": "9b994b51",
   "metadata": {
    "ExecuteTime": {
     "end_time": "2022-04-05T21:30:04.974373Z",
     "start_time": "2022-04-05T21:30:04.884959Z"
    },
    "hidden": true
   },
   "outputs": [
    {
     "data": {
      "text/plain": [
       "id                      0\n",
       "gender                  0\n",
       "age                     0\n",
       "region_code             0\n",
       "policy_sales_channel    0\n",
       "driving_license         0\n",
       "vehicle_age             0\n",
       "vehicle_damage          0\n",
       "vehicle_prev_insured    0\n",
       "health_annual_paid      0\n",
       "days_associated         0\n",
       "response                0\n",
       "dtype: int64"
      ]
     },
     "execution_count": 14,
     "metadata": {},
     "output_type": "execute_result"
    }
   ],
   "source": [
    "df1.isna().sum()"
   ]
  },
  {
   "cell_type": "markdown",
   "id": "ea3e80ea",
   "metadata": {
    "hidden": true
   },
   "source": [
    "## Fill NA"
   ]
  },
  {
   "cell_type": "code",
   "execution_count": 15,
   "id": "e6225961",
   "metadata": {
    "ExecuteTime": {
     "end_time": "2022-04-05T21:30:07.012071Z",
     "start_time": "2022-04-05T21:30:07.008713Z"
    },
    "hidden": true
   },
   "outputs": [],
   "source": [
    "#Not necessary\n",
    "pass"
   ]
  },
  {
   "cell_type": "markdown",
   "id": "d1ed06d3",
   "metadata": {
    "hidden": true
   },
   "source": [
    "## Descriptive Statistical"
   ]
  },
  {
   "cell_type": "code",
   "execution_count": 16,
   "id": "8b8358ff",
   "metadata": {
    "ExecuteTime": {
     "end_time": "2022-04-05T21:30:08.314574Z",
     "start_time": "2022-04-05T21:30:08.244832Z"
    },
    "hidden": true
   },
   "outputs": [],
   "source": [
    "#separate cathegorical and numerical attributes\n",
    "num_attributes = df1[['age','health_annual_paid','days_associated']]\n",
    "cat_attributes = df1[['gender','region_code','policy_sales_channel','driving_license', 'vehicle_age', 'vehicle_damage', 'vehicle_prev_insured', 'response']]"
   ]
  },
  {
   "cell_type": "code",
   "execution_count": 17,
   "id": "567ec73f",
   "metadata": {
    "ExecuteTime": {
     "end_time": "2022-04-05T21:30:08.772886Z",
     "start_time": "2022-04-05T21:30:08.734686Z"
    },
    "hidden": true
   },
   "outputs": [
    {
     "data": {
      "text/html": [
       "<div>\n",
       "<style scoped>\n",
       "    .dataframe tbody tr th:only-of-type {\n",
       "        vertical-align: middle;\n",
       "    }\n",
       "\n",
       "    .dataframe tbody tr th {\n",
       "        vertical-align: top;\n",
       "    }\n",
       "\n",
       "    .dataframe thead th {\n",
       "        text-align: right;\n",
       "    }\n",
       "</style>\n",
       "<table border=\"1\" class=\"dataframe\">\n",
       "  <thead>\n",
       "    <tr style=\"text-align: right;\">\n",
       "      <th></th>\n",
       "      <th>age</th>\n",
       "      <th>health_annual_paid</th>\n",
       "      <th>days_associated</th>\n",
       "    </tr>\n",
       "  </thead>\n",
       "  <tbody>\n",
       "    <tr>\n",
       "      <th>185858</th>\n",
       "      <td>61</td>\n",
       "      <td>33993.0</td>\n",
       "      <td>214</td>\n",
       "    </tr>\n",
       "    <tr>\n",
       "      <th>29746</th>\n",
       "      <td>22</td>\n",
       "      <td>27377.0</td>\n",
       "      <td>202</td>\n",
       "    </tr>\n",
       "    <tr>\n",
       "      <th>243483</th>\n",
       "      <td>23</td>\n",
       "      <td>21023.0</td>\n",
       "      <td>37</td>\n",
       "    </tr>\n",
       "    <tr>\n",
       "      <th>353825</th>\n",
       "      <td>24</td>\n",
       "      <td>44657.0</td>\n",
       "      <td>207</td>\n",
       "    </tr>\n",
       "    <tr>\n",
       "      <th>356995</th>\n",
       "      <td>50</td>\n",
       "      <td>24905.0</td>\n",
       "      <td>205</td>\n",
       "    </tr>\n",
       "  </tbody>\n",
       "</table>\n",
       "</div>"
      ],
      "text/plain": [
       "        age  health_annual_paid  days_associated\n",
       "185858   61             33993.0              214\n",
       "29746    22             27377.0              202\n",
       "243483   23             21023.0               37\n",
       "353825   24             44657.0              207\n",
       "356995   50             24905.0              205"
      ]
     },
     "execution_count": 17,
     "metadata": {},
     "output_type": "execute_result"
    }
   ],
   "source": [
    "num_attributes.sample(5)"
   ]
  },
  {
   "cell_type": "code",
   "execution_count": 18,
   "id": "79f8b70b",
   "metadata": {
    "ExecuteTime": {
     "end_time": "2022-04-05T21:30:09.496568Z",
     "start_time": "2022-04-05T21:30:09.461716Z"
    },
    "hidden": true
   },
   "outputs": [
    {
     "data": {
      "text/html": [
       "<div>\n",
       "<style scoped>\n",
       "    .dataframe tbody tr th:only-of-type {\n",
       "        vertical-align: middle;\n",
       "    }\n",
       "\n",
       "    .dataframe tbody tr th {\n",
       "        vertical-align: top;\n",
       "    }\n",
       "\n",
       "    .dataframe thead th {\n",
       "        text-align: right;\n",
       "    }\n",
       "</style>\n",
       "<table border=\"1\" class=\"dataframe\">\n",
       "  <thead>\n",
       "    <tr style=\"text-align: right;\">\n",
       "      <th></th>\n",
       "      <th>gender</th>\n",
       "      <th>region_code</th>\n",
       "      <th>policy_sales_channel</th>\n",
       "      <th>driving_license</th>\n",
       "      <th>vehicle_age</th>\n",
       "      <th>vehicle_damage</th>\n",
       "      <th>vehicle_prev_insured</th>\n",
       "      <th>response</th>\n",
       "    </tr>\n",
       "  </thead>\n",
       "  <tbody>\n",
       "    <tr>\n",
       "      <th>281857</th>\n",
       "      <td>Male</td>\n",
       "      <td>49</td>\n",
       "      <td>152</td>\n",
       "      <td>1</td>\n",
       "      <td>1-2 Year</td>\n",
       "      <td>No</td>\n",
       "      <td>1</td>\n",
       "      <td>0</td>\n",
       "    </tr>\n",
       "    <tr>\n",
       "      <th>139037</th>\n",
       "      <td>Male</td>\n",
       "      <td>11</td>\n",
       "      <td>157</td>\n",
       "      <td>1</td>\n",
       "      <td>1-2 Year</td>\n",
       "      <td>Yes</td>\n",
       "      <td>0</td>\n",
       "      <td>0</td>\n",
       "    </tr>\n",
       "    <tr>\n",
       "      <th>220908</th>\n",
       "      <td>Female</td>\n",
       "      <td>46</td>\n",
       "      <td>26</td>\n",
       "      <td>1</td>\n",
       "      <td>&lt; 1 Year</td>\n",
       "      <td>Yes</td>\n",
       "      <td>0</td>\n",
       "      <td>0</td>\n",
       "    </tr>\n",
       "    <tr>\n",
       "      <th>306241</th>\n",
       "      <td>Male</td>\n",
       "      <td>8</td>\n",
       "      <td>163</td>\n",
       "      <td>1</td>\n",
       "      <td>&gt; 2 Years</td>\n",
       "      <td>Yes</td>\n",
       "      <td>0</td>\n",
       "      <td>0</td>\n",
       "    </tr>\n",
       "    <tr>\n",
       "      <th>310752</th>\n",
       "      <td>Female</td>\n",
       "      <td>45</td>\n",
       "      <td>124</td>\n",
       "      <td>1</td>\n",
       "      <td>1-2 Year</td>\n",
       "      <td>No</td>\n",
       "      <td>0</td>\n",
       "      <td>0</td>\n",
       "    </tr>\n",
       "  </tbody>\n",
       "</table>\n",
       "</div>"
      ],
      "text/plain": [
       "        gender  region_code  policy_sales_channel  driving_license vehicle_age vehicle_damage  vehicle_prev_insured  response\n",
       "281857    Male           49                   152                1    1-2 Year             No                     1         0\n",
       "139037    Male           11                   157                1    1-2 Year            Yes                     0         0\n",
       "220908  Female           46                    26                1    < 1 Year            Yes                     0         0\n",
       "306241    Male            8                   163                1   > 2 Years            Yes                     0         0\n",
       "310752  Female           45                   124                1    1-2 Year             No                     0         0"
      ]
     },
     "execution_count": 18,
     "metadata": {},
     "output_type": "execute_result"
    }
   ],
   "source": [
    "cat_attributes.sample(5)"
   ]
  },
  {
   "cell_type": "markdown",
   "id": "5331fe75",
   "metadata": {
    "hidden": true
   },
   "source": [
    "### Numerical Attributes"
   ]
  },
  {
   "cell_type": "code",
   "execution_count": 19,
   "id": "cdaf462b",
   "metadata": {
    "ExecuteTime": {
     "end_time": "2022-04-05T21:30:15.066546Z",
     "start_time": "2022-04-05T21:30:14.581474Z"
    },
    "hidden": true
   },
   "outputs": [],
   "source": [
    "#Central tendency metrics: mean and median\n",
    "ct1 = pd.DataFrame( num_attributes.apply( np.mean ) ).T\n",
    "ct2 = pd.DataFrame( num_attributes.apply( np.median ) ).T\n",
    "\n",
    "#Dispersion metrics: standard deviation, min, max, range, skew, kurtosis\n",
    "d1 = pd.DataFrame ( num_attributes.apply ( np.std ) ).T\n",
    "d2 = pd.DataFrame ( num_attributes.apply ( min ) ).T\n",
    "d3 = pd.DataFrame ( num_attributes.apply ( max ) ).T\n",
    "d4 = pd.DataFrame ( num_attributes.apply ( lambda x: x.max() - x.min() ) ).T\n",
    "d5 = pd.DataFrame ( num_attributes.apply ( lambda x: x.skew() ) ).T\n",
    "d6 = pd.DataFrame ( num_attributes.apply ( lambda x: x.kurtosis() ) ).T\n",
    "\n",
    "#Concatenate\n",
    "m = pd.concat( [ d2, d3, d4, ct1, ct2, d1, d5, d6 ] ).T.reset_index()\n",
    "m.columns = ['attributes', 'min', 'max', 'range', 'mean', 'median', 'std', 'skew', 'kurtosis' ]"
   ]
  },
  {
   "cell_type": "code",
   "execution_count": 20,
   "id": "4a2a34b8",
   "metadata": {
    "ExecuteTime": {
     "end_time": "2022-04-05T21:30:15.786611Z",
     "start_time": "2022-04-05T21:30:15.755388Z"
    },
    "hidden": true
   },
   "outputs": [
    {
     "data": {
      "text/html": [
       "<div>\n",
       "<style scoped>\n",
       "    .dataframe tbody tr th:only-of-type {\n",
       "        vertical-align: middle;\n",
       "    }\n",
       "\n",
       "    .dataframe tbody tr th {\n",
       "        vertical-align: top;\n",
       "    }\n",
       "\n",
       "    .dataframe thead th {\n",
       "        text-align: right;\n",
       "    }\n",
       "</style>\n",
       "<table border=\"1\" class=\"dataframe\">\n",
       "  <thead>\n",
       "    <tr style=\"text-align: right;\">\n",
       "      <th></th>\n",
       "      <th>attributes</th>\n",
       "      <th>min</th>\n",
       "      <th>max</th>\n",
       "      <th>range</th>\n",
       "      <th>mean</th>\n",
       "      <th>median</th>\n",
       "      <th>std</th>\n",
       "      <th>skew</th>\n",
       "      <th>kurtosis</th>\n",
       "    </tr>\n",
       "  </thead>\n",
       "  <tbody>\n",
       "    <tr>\n",
       "      <th>0</th>\n",
       "      <td>age</td>\n",
       "      <td>20.0</td>\n",
       "      <td>85.0</td>\n",
       "      <td>65.0</td>\n",
       "      <td>38.822584</td>\n",
       "      <td>36.0</td>\n",
       "      <td>15.511591</td>\n",
       "      <td>0.672539</td>\n",
       "      <td>-0.565655</td>\n",
       "    </tr>\n",
       "    <tr>\n",
       "      <th>1</th>\n",
       "      <td>health_annual_paid</td>\n",
       "      <td>2630.0</td>\n",
       "      <td>540165.0</td>\n",
       "      <td>537535.0</td>\n",
       "      <td>30564.389581</td>\n",
       "      <td>31669.0</td>\n",
       "      <td>17213.132474</td>\n",
       "      <td>1.766087</td>\n",
       "      <td>34.004569</td>\n",
       "    </tr>\n",
       "    <tr>\n",
       "      <th>2</th>\n",
       "      <td>days_associated</td>\n",
       "      <td>10.0</td>\n",
       "      <td>299.0</td>\n",
       "      <td>289.0</td>\n",
       "      <td>154.347397</td>\n",
       "      <td>154.0</td>\n",
       "      <td>83.671194</td>\n",
       "      <td>0.003030</td>\n",
       "      <td>-1.200688</td>\n",
       "    </tr>\n",
       "  </tbody>\n",
       "</table>\n",
       "</div>"
      ],
      "text/plain": [
       "           attributes     min       max     range          mean   median           std      skew   kurtosis\n",
       "0                 age    20.0      85.0      65.0     38.822584     36.0     15.511591  0.672539  -0.565655\n",
       "1  health_annual_paid  2630.0  540165.0  537535.0  30564.389581  31669.0  17213.132474  1.766087  34.004569\n",
       "2     days_associated    10.0     299.0     289.0    154.347397    154.0     83.671194  0.003030  -1.200688"
      ]
     },
     "execution_count": 20,
     "metadata": {},
     "output_type": "execute_result"
    }
   ],
   "source": [
    "m"
   ]
  },
  {
   "cell_type": "code",
   "execution_count": 21,
   "id": "f9b935a8",
   "metadata": {
    "ExecuteTime": {
     "end_time": "2022-04-05T21:30:29.948592Z",
     "start_time": "2022-04-05T21:30:17.919472Z"
    },
    "code_folding": [
     0
    ],
    "hidden": true
   },
   "outputs": [
    {
     "data": {
      "image/png": "[encoded data removed]",
      "text/plain": [
       "<Figure size 1440x1008 with 3 Axes>"
      ]
     },
     "metadata": {},
     "output_type": "display_data"
    }
   ],
   "source": [
    "#Num Attributes plot\n",
    "plt.figure(figsize=(20,14))\n",
    "\n",
    "plt.subplot(3,3,1)\n",
    "age_hist = sns.histplot(df1['age'], binwidth=1, kde=True);\n",
    "age_hist.set_ylabel('Customers')\n",
    "age_hist.set_xlabel('Age')\n",
    "age_hist.set_title('Customers by Age');\n",
    "\n",
    "plt.subplot(3,3,2)\n",
    "hap_hist = sns.histplot(df1['health_annual_paid'], kde=True);\n",
    "hap_hist.set_ylabel('Customers')\n",
    "hap_hist.set_xlabel('Health Annual Paid')\n",
    "hap_hist.set_title('Customers by Health Annual Paid');\n",
    "\n",
    "plt.subplot(3,3,3)\n",
    "da_hist = sns.histplot(df1['days_associated'], binwidth=1, kde=True);\n",
    "da_hist.set_ylabel('Customers')\n",
    "da_hist.set_xlabel('Days Associated')\n",
    "da_hist.set_title('Customers by Days Associated');"
   ]
  },
  {
   "cell_type": "markdown",
   "id": "4e3e39ee",
   "metadata": {
    "hidden": true
   },
   "source": [
    "Highlights:\n",
    "\n",
    "- age: mean = 36y, 1 std = 15.5  -->  68% of ages are between 20,5 and 51,5 y\n",
    "\n",
    "- health_annual_premium: very big range of 537535, high kurtosis, many extreme values.\n",
    "\n",
    "- days_associated: very uniform, probably will not help much."
   ]
  },
  {
   "cell_type": "markdown",
   "id": "8fce4cac",
   "metadata": {
    "hidden": true
   },
   "source": [
    "### Cathegorical Attributes\n"
   ]
  },
  {
   "cell_type": "code",
   "execution_count": 22,
   "id": "437c5901",
   "metadata": {
    "ExecuteTime": {
     "end_time": "2022-04-05T21:30:30.780913Z",
     "start_time": "2022-04-05T21:30:30.577286Z"
    },
    "hidden": true
   },
   "outputs": [
    {
     "name": "stdout",
     "output_type": "stream",
     "text": [
      "- Distinct values:\n",
      "gender                    2\n",
      "region_code              53\n",
      "policy_sales_channel    155\n",
      "driving_license           2\n",
      "vehicle_age               3\n",
      "vehicle_damage            2\n",
      "vehicle_prev_insured      2\n",
      "response                  2\n",
      "dtype: int64 \n",
      "\n",
      "- Variations:\n",
      "gender                                                     [Male, Female]\n",
      "region_code             [28, 3, 11, 41, 33, 6, 35, 50, 15, 45, 8, 36, ...\n",
      "policy_sales_channel    [26, 152, 160, 124, 14, 13, 30, 156, 163, 157,...\n",
      "driving_license                                                    [1, 0]\n",
      "vehicle_age                               [> 2 Years, 1-2 Year, < 1 Year]\n",
      "vehicle_damage                                                  [Yes, No]\n",
      "vehicle_prev_insured                                               [0, 1]\n",
      "response                                                           [1, 0]\n",
      "dtype: object \n"
     ]
    }
   ],
   "source": [
    "#variations of each column\n",
    "print(f\"- Distinct values:\\n{cat_attributes.apply( lambda x: x.unique().shape[0] ) } \\n\" )\n",
    "print(f\"- Variations:\\n{cat_attributes.apply( lambda x: x.unique() ) } \" )"
   ]
  },
  {
   "cell_type": "code",
   "execution_count": 155,
   "id": "a91d0b35",
   "metadata": {
    "ExecuteTime": {
     "end_time": "2022-04-09T19:21:14.333459Z",
     "start_time": "2022-04-09T19:21:05.612764Z"
    },
    "hidden": true
   },
   "outputs": [
    {
     "data": {
      "image/png": "[encoded data removed]",
      "text/plain": [
       "<Figure size 1152x864 with 8 Axes>"
      ]
     },
     "metadata": {},
     "output_type": "display_data"
    }
   ],
   "source": [
    "plt.figure(figsize=(16,12))\n",
    "\n",
    "plt.subplot (3,3,1)\n",
    "sns.countplot (x = cat_attributes['gender']);\n",
    "\n",
    "plt.subplot (3,3,2)\n",
    "sns.countplot (x = cat_attributes['region_code']);\n",
    "\n",
    "plt.subplot (3,3,3)\n",
    "sns.countplot (x = cat_attributes['policy_sales_channel']);\n",
    "\n",
    "plt.subplot (3,3,4)\n",
    "sns.countplot (x = cat_attributes['driving_license']);\n",
    "plt.xticks([0,1],['No','Yes']);\n",
    "\n",
    "plt.subplot (3,3,5)\n",
    "sns.countplot (x = cat_attributes['vehicle_age']);\n",
    "\n",
    "plt.subplot (3,3,6)\n",
    "sns.countplot (x = cat_attributes['vehicle_damage']);\n",
    "\n",
    "plt.subplot (3,3,7)\n",
    "sns.countplot (x = cat_attributes['vehicle_prev_insured']);\n",
    "plt.xticks([0,1],['No','Yes']);\n",
    "\n",
    "plt.subplot (3,3,8)\n",
    "sns.countplot (x = cat_attributes['response']);\n",
    "plt.xticks([0,1],['No','Yes']);"
   ]
  },
  {
   "cell_type": "code",
   "execution_count": 25,
   "id": "43b544b0",
   "metadata": {
    "ExecuteTime": {
     "end_time": "2022-04-05T21:31:13.603113Z",
     "start_time": "2022-04-05T21:31:13.587617Z"
    },
    "hidden": true
   },
   "outputs": [
    {
     "data": {
      "text/plain": [
       "0    87.74\n",
       "1    12.26\n",
       "Name: response, dtype: float64"
      ]
     },
     "execution_count": 25,
     "metadata": {},
     "output_type": "execute_result"
    }
   ],
   "source": [
    "round(cat_attributes['response'].value_counts(normalize=True) *100 ,2)"
   ]
  },
  {
   "cell_type": "markdown",
   "id": "89303429",
   "metadata": {
    "hidden": true
   },
   "source": [
    "Highlights:\n",
    "\n",
    "- Target Attribute: 12% of customers answered to be interested in a vehicle insurance."
   ]
  },
  {
   "cell_type": "markdown",
   "id": "78634a93",
   "metadata": {
    "hidden": true
   },
   "source": [
    "## Test Data Extraction\n"
   ]
  },
  {
   "cell_type": "code",
   "execution_count": 26,
   "id": "a11d9cfc",
   "metadata": {
    "ExecuteTime": {
     "end_time": "2022-04-05T21:31:41.126486Z",
     "start_time": "2022-04-05T21:31:41.115763Z"
    },
    "hidden": true
   },
   "outputs": [
    {
     "data": {
      "text/plain": [
       "(381109, 12)"
      ]
     },
     "execution_count": 26,
     "metadata": {},
     "output_type": "execute_result"
    }
   ],
   "source": [
    "df1.shape"
   ]
  },
  {
   "cell_type": "code",
   "execution_count": 27,
   "id": "d2bf4836",
   "metadata": {
    "ExecuteTime": {
     "end_time": "2022-04-05T21:31:44.171199Z",
     "start_time": "2022-04-05T21:31:43.660882Z"
    },
    "hidden": true
   },
   "outputs": [],
   "source": [
    "# Test Dataset Extraction\n",
    "X = df1.drop('response', axis = 1).copy()\n",
    "y = df1['response'].copy()\n",
    "\n",
    "x_train, x_test, y_train, y_test = ms.train_test_split(X, y, stratify = y, test_size = 0.20, random_state = 45)\n",
    "\n",
    "# df2 is the new dataset, and will be used to train and validate the models\n",
    "df2 = pd.concat([x_train, y_train], axis = 1)\n",
    "\n",
    "# df_test is a separate dataset, and will be used to perfomr the final evaluation of the trained model\n",
    "df_test = pd.concat([x_test, y_test], axis = 1)"
   ]
  },
  {
   "cell_type": "code",
   "execution_count": 28,
   "id": "90d027a6",
   "metadata": {
    "ExecuteTime": {
     "end_time": "2022-04-05T21:31:47.159649Z",
     "start_time": "2022-04-05T21:31:47.147863Z"
    },
    "hidden": true
   },
   "outputs": [
    {
     "data": {
      "text/plain": [
       "0    0.877437\n",
       "1    0.122563\n",
       "Name: response, dtype: float64"
      ]
     },
     "execution_count": 28,
     "metadata": {},
     "output_type": "execute_result"
    }
   ],
   "source": [
    "#Check test stratify\n",
    "df_test['response'].value_counts() / df_test['response'].count() "
   ]
  },
  {
   "cell_type": "code",
   "execution_count": 29,
   "id": "e475f9e8",
   "metadata": {
    "ExecuteTime": {
     "end_time": "2022-04-05T21:31:50.300021Z",
     "start_time": "2022-04-05T21:31:50.283857Z"
    },
    "hidden": true
   },
   "outputs": [
    {
     "data": {
      "text/plain": [
       "0    0.877437\n",
       "1    0.122563\n",
       "Name: response, dtype: float64"
      ]
     },
     "execution_count": 29,
     "metadata": {},
     "output_type": "execute_result"
    }
   ],
   "source": [
    "#Check train stratify\n",
    "df1['response'].value_counts() / df1['response'].count() "
   ]
  },
  {
   "cell_type": "code",
   "execution_count": 30,
   "id": "11b62e4d",
   "metadata": {
    "ExecuteTime": {
     "end_time": "2022-04-05T21:31:52.013251Z",
     "start_time": "2022-04-05T21:31:51.940147Z"
    },
    "hidden": true
   },
   "outputs": [
    {
     "data": {
      "text/plain": [
       "id                      0\n",
       "gender                  0\n",
       "age                     0\n",
       "region_code             0\n",
       "policy_sales_channel    0\n",
       "driving_license         0\n",
       "vehicle_age             0\n",
       "vehicle_damage          0\n",
       "vehicle_prev_insured    0\n",
       "health_annual_paid      0\n",
       "days_associated         0\n",
       "dtype: int64"
      ]
     },
     "execution_count": 30,
     "metadata": {},
     "output_type": "execute_result"
    }
   ],
   "source": [
    "x_train.isna().sum()"
   ]
  },
  {
   "cell_type": "code",
   "execution_count": 31,
   "id": "01d83393",
   "metadata": {
    "ExecuteTime": {
     "end_time": "2022-04-05T21:31:55.319873Z",
     "start_time": "2022-04-05T21:31:55.293661Z"
    },
    "hidden": true
   },
   "outputs": [
    {
     "data": {
      "text/plain": [
       "id                      0\n",
       "gender                  0\n",
       "age                     0\n",
       "region_code             0\n",
       "policy_sales_channel    0\n",
       "driving_license         0\n",
       "vehicle_age             0\n",
       "vehicle_damage          0\n",
       "vehicle_prev_insured    0\n",
       "health_annual_paid      0\n",
       "days_associated         0\n",
       "dtype: int64"
      ]
     },
     "execution_count": 31,
     "metadata": {},
     "output_type": "execute_result"
    }
   ],
   "source": [
    "x_test.isna().sum()"
   ]
  },
  {
   "cell_type": "code",
   "execution_count": 32,
   "id": "36f4f7c0",
   "metadata": {
    "ExecuteTime": {
     "end_time": "2022-04-05T21:31:59.517887Z",
     "start_time": "2022-04-05T21:31:59.509499Z"
    },
    "hidden": true
   },
   "outputs": [
    {
     "data": {
      "text/plain": [
       "(304887, 12)"
      ]
     },
     "execution_count": 32,
     "metadata": {},
     "output_type": "execute_result"
    }
   ],
   "source": [
    "df2.shape"
   ]
  },
  {
   "cell_type": "code",
   "execution_count": 33,
   "id": "eef3fc3d",
   "metadata": {
    "ExecuteTime": {
     "end_time": "2022-04-05T21:32:00.491894Z",
     "start_time": "2022-04-05T21:32:00.482552Z"
    },
    "hidden": true
   },
   "outputs": [
    {
     "data": {
      "text/plain": [
       "(76222, 12)"
      ]
     },
     "execution_count": 33,
     "metadata": {},
     "output_type": "execute_result"
    }
   ],
   "source": [
    "df_test.shape"
   ]
  },
  {
   "cell_type": "code",
   "execution_count": 34,
   "id": "07d4c86d",
   "metadata": {
    "ExecuteTime": {
     "end_time": "2022-04-05T21:32:03.204303Z",
     "start_time": "2022-04-05T21:32:03.178330Z"
    },
    "hidden": true
   },
   "outputs": [
    {
     "data": {
      "text/html": [
       "<div>\n",
       "<style scoped>\n",
       "    .dataframe tbody tr th:only-of-type {\n",
       "        vertical-align: middle;\n",
       "    }\n",
       "\n",
       "    .dataframe tbody tr th {\n",
       "        vertical-align: top;\n",
       "    }\n",
       "\n",
       "    .dataframe thead th {\n",
       "        text-align: right;\n",
       "    }\n",
       "</style>\n",
       "<table border=\"1\" class=\"dataframe\">\n",
       "  <thead>\n",
       "    <tr style=\"text-align: right;\">\n",
       "      <th></th>\n",
       "      <th>id</th>\n",
       "      <th>gender</th>\n",
       "      <th>age</th>\n",
       "      <th>region_code</th>\n",
       "      <th>policy_sales_channel</th>\n",
       "      <th>driving_license</th>\n",
       "      <th>vehicle_age</th>\n",
       "      <th>vehicle_damage</th>\n",
       "      <th>vehicle_prev_insured</th>\n",
       "      <th>health_annual_paid</th>\n",
       "      <th>days_associated</th>\n",
       "      <th>response</th>\n",
       "    </tr>\n",
       "  </thead>\n",
       "  <tbody>\n",
       "    <tr>\n",
       "      <th>275163</th>\n",
       "      <td>275164</td>\n",
       "      <td>Female</td>\n",
       "      <td>24</td>\n",
       "      <td>41</td>\n",
       "      <td>152</td>\n",
       "      <td>1</td>\n",
       "      <td>&lt; 1 Year</td>\n",
       "      <td>No</td>\n",
       "      <td>1</td>\n",
       "      <td>31696.0</td>\n",
       "      <td>62</td>\n",
       "      <td>0</td>\n",
       "    </tr>\n",
       "    <tr>\n",
       "      <th>228955</th>\n",
       "      <td>228956</td>\n",
       "      <td>Female</td>\n",
       "      <td>39</td>\n",
       "      <td>41</td>\n",
       "      <td>124</td>\n",
       "      <td>1</td>\n",
       "      <td>1-2 Year</td>\n",
       "      <td>Yes</td>\n",
       "      <td>0</td>\n",
       "      <td>34202.0</td>\n",
       "      <td>188</td>\n",
       "      <td>0</td>\n",
       "    </tr>\n",
       "    <tr>\n",
       "      <th>183986</th>\n",
       "      <td>183987</td>\n",
       "      <td>Female</td>\n",
       "      <td>25</td>\n",
       "      <td>39</td>\n",
       "      <td>152</td>\n",
       "      <td>1</td>\n",
       "      <td>&lt; 1 Year</td>\n",
       "      <td>No</td>\n",
       "      <td>0</td>\n",
       "      <td>31140.0</td>\n",
       "      <td>200</td>\n",
       "      <td>0</td>\n",
       "    </tr>\n",
       "    <tr>\n",
       "      <th>272782</th>\n",
       "      <td>272783</td>\n",
       "      <td>Female</td>\n",
       "      <td>67</td>\n",
       "      <td>28</td>\n",
       "      <td>26</td>\n",
       "      <td>1</td>\n",
       "      <td>&gt; 2 Years</td>\n",
       "      <td>Yes</td>\n",
       "      <td>0</td>\n",
       "      <td>2630.0</td>\n",
       "      <td>17</td>\n",
       "      <td>0</td>\n",
       "    </tr>\n",
       "    <tr>\n",
       "      <th>24900</th>\n",
       "      <td>24901</td>\n",
       "      <td>Male</td>\n",
       "      <td>23</td>\n",
       "      <td>46</td>\n",
       "      <td>152</td>\n",
       "      <td>1</td>\n",
       "      <td>&lt; 1 Year</td>\n",
       "      <td>No</td>\n",
       "      <td>1</td>\n",
       "      <td>32159.0</td>\n",
       "      <td>149</td>\n",
       "      <td>0</td>\n",
       "    </tr>\n",
       "    <tr>\n",
       "      <th>...</th>\n",
       "      <td>...</td>\n",
       "      <td>...</td>\n",
       "      <td>...</td>\n",
       "      <td>...</td>\n",
       "      <td>...</td>\n",
       "      <td>...</td>\n",
       "      <td>...</td>\n",
       "      <td>...</td>\n",
       "      <td>...</td>\n",
       "      <td>...</td>\n",
       "      <td>...</td>\n",
       "      <td>...</td>\n",
       "    </tr>\n",
       "    <tr>\n",
       "      <th>327865</th>\n",
       "      <td>327866</td>\n",
       "      <td>Male</td>\n",
       "      <td>27</td>\n",
       "      <td>33</td>\n",
       "      <td>152</td>\n",
       "      <td>1</td>\n",
       "      <td>&lt; 1 Year</td>\n",
       "      <td>No</td>\n",
       "      <td>1</td>\n",
       "      <td>32955.0</td>\n",
       "      <td>23</td>\n",
       "      <td>0</td>\n",
       "    </tr>\n",
       "    <tr>\n",
       "      <th>18930</th>\n",
       "      <td>18931</td>\n",
       "      <td>Male</td>\n",
       "      <td>49</td>\n",
       "      <td>40</td>\n",
       "      <td>124</td>\n",
       "      <td>1</td>\n",
       "      <td>&gt; 2 Years</td>\n",
       "      <td>Yes</td>\n",
       "      <td>0</td>\n",
       "      <td>2630.0</td>\n",
       "      <td>277</td>\n",
       "      <td>0</td>\n",
       "    </tr>\n",
       "    <tr>\n",
       "      <th>135229</th>\n",
       "      <td>135230</td>\n",
       "      <td>Male</td>\n",
       "      <td>24</td>\n",
       "      <td>27</td>\n",
       "      <td>152</td>\n",
       "      <td>1</td>\n",
       "      <td>&lt; 1 Year</td>\n",
       "      <td>No</td>\n",
       "      <td>0</td>\n",
       "      <td>26595.0</td>\n",
       "      <td>277</td>\n",
       "      <td>0</td>\n",
       "    </tr>\n",
       "    <tr>\n",
       "      <th>105049</th>\n",
       "      <td>105050</td>\n",
       "      <td>Male</td>\n",
       "      <td>22</td>\n",
       "      <td>29</td>\n",
       "      <td>152</td>\n",
       "      <td>1</td>\n",
       "      <td>&lt; 1 Year</td>\n",
       "      <td>No</td>\n",
       "      <td>1</td>\n",
       "      <td>42844.0</td>\n",
       "      <td>140</td>\n",
       "      <td>0</td>\n",
       "    </tr>\n",
       "    <tr>\n",
       "      <th>187934</th>\n",
       "      <td>187935</td>\n",
       "      <td>Female</td>\n",
       "      <td>32</td>\n",
       "      <td>50</td>\n",
       "      <td>152</td>\n",
       "      <td>1</td>\n",
       "      <td>&lt; 1 Year</td>\n",
       "      <td>No</td>\n",
       "      <td>1</td>\n",
       "      <td>27098.0</td>\n",
       "      <td>236</td>\n",
       "      <td>0</td>\n",
       "    </tr>\n",
       "  </tbody>\n",
       "</table>\n",
       "<p>76222 rows × 12 columns</p>\n",
       "</div>"
      ],
      "text/plain": [
       "            id  gender  age  region_code  policy_sales_channel  driving_license vehicle_age vehicle_damage  vehicle_prev_insured  health_annual_paid  days_associated  response\n",
       "275163  275164  Female   24           41                   152                1    < 1 Year             No                     1             31696.0               62         0\n",
       "228955  228956  Female   39           41                   124                1    1-2 Year            Yes                     0             34202.0              188         0\n",
       "183986  183987  Female   25           39                   152                1    < 1 Year             No                     0             31140.0              200         0\n",
       "272782  272783  Female   67           28                    26                1   > 2 Years            Yes                     0              2630.0               17         0\n",
       "24900    24901    Male   23           46                   152                1    < 1 Year             No                     1             32159.0              149         0\n",
       "...        ...     ...  ...          ...                   ...              ...         ...            ...                   ...                 ...              ...       ...\n",
       "327865  327866    Male   27           33                   152                1    < 1 Year             No                     1             32955.0               23         0\n",
       "18930    18931    Male   49           40                   124                1   > 2 Years            Yes                     0              2630.0              277         0\n",
       "135229  135230    Male   24           27                   152                1    < 1 Year             No                     0             26595.0              277         0\n",
       "105049  105050    Male   22           29                   152                1    < 1 Year             No                     1             42844.0              140         0\n",
       "187934  187935  Female   32           50                   152                1    < 1 Year             No                     1             27098.0              236         0\n",
       "\n",
       "[76222 rows x 12 columns]"
      ]
     },
     "execution_count": 34,
     "metadata": {},
     "output_type": "execute_result"
    }
   ],
   "source": [
    "df_test"
   ]
  },
  {
   "cell_type": "code",
   "execution_count": 35,
   "id": "2f8a9699",
   "metadata": {
    "ExecuteTime": {
     "end_time": "2022-04-05T21:32:11.680103Z",
     "start_time": "2022-04-05T21:32:08.766080Z"
    },
    "hidden": true
   },
   "outputs": [],
   "source": [
    "#save datasets \n",
    "df2.to_csv(datapath+'df2_data_description_done.csv')\n",
    "df_test.to_csv(datapath+'full_test_data.csv')"
   ]
  },
  {
   "cell_type": "markdown",
   "id": "e7439736",
   "metadata": {
    "heading_collapsed": true
   },
   "source": [
    "# Feature Engeneering"
   ]
  },
  {
   "cell_type": "code",
   "execution_count": 36,
   "id": "1e0466aa",
   "metadata": {
    "ExecuteTime": {
     "end_time": "2022-04-05T21:32:32.065785Z",
     "start_time": "2022-04-05T21:32:31.421930Z"
    },
    "hidden": true
   },
   "outputs": [
    {
     "data": {
      "text/html": [
       "<div>\n",
       "<style scoped>\n",
       "    .dataframe tbody tr th:only-of-type {\n",
       "        vertical-align: middle;\n",
       "    }\n",
       "\n",
       "    .dataframe tbody tr th {\n",
       "        vertical-align: top;\n",
       "    }\n",
       "\n",
       "    .dataframe thead th {\n",
       "        text-align: right;\n",
       "    }\n",
       "</style>\n",
       "<table border=\"1\" class=\"dataframe\">\n",
       "  <thead>\n",
       "    <tr style=\"text-align: right;\">\n",
       "      <th></th>\n",
       "      <th>id</th>\n",
       "      <th>gender</th>\n",
       "      <th>age</th>\n",
       "      <th>region_code</th>\n",
       "      <th>policy_sales_channel</th>\n",
       "      <th>driving_license</th>\n",
       "      <th>vehicle_age</th>\n",
       "      <th>vehicle_damage</th>\n",
       "      <th>vehicle_prev_insured</th>\n",
       "      <th>health_annual_paid</th>\n",
       "      <th>days_associated</th>\n",
       "      <th>response</th>\n",
       "    </tr>\n",
       "  </thead>\n",
       "  <tbody>\n",
       "    <tr>\n",
       "      <th>332579</th>\n",
       "      <td>332580</td>\n",
       "      <td>Female</td>\n",
       "      <td>37</td>\n",
       "      <td>2</td>\n",
       "      <td>156</td>\n",
       "      <td>1</td>\n",
       "      <td>1-2 Year</td>\n",
       "      <td>Yes</td>\n",
       "      <td>0</td>\n",
       "      <td>2630.0</td>\n",
       "      <td>229</td>\n",
       "      <td>0</td>\n",
       "    </tr>\n",
       "    <tr>\n",
       "      <th>318275</th>\n",
       "      <td>318276</td>\n",
       "      <td>Female</td>\n",
       "      <td>28</td>\n",
       "      <td>33</td>\n",
       "      <td>152</td>\n",
       "      <td>1</td>\n",
       "      <td>&lt; 1 Year</td>\n",
       "      <td>No</td>\n",
       "      <td>1</td>\n",
       "      <td>28509.0</td>\n",
       "      <td>188</td>\n",
       "      <td>0</td>\n",
       "    </tr>\n",
       "    <tr>\n",
       "      <th>192458</th>\n",
       "      <td>192459</td>\n",
       "      <td>Female</td>\n",
       "      <td>40</td>\n",
       "      <td>28</td>\n",
       "      <td>124</td>\n",
       "      <td>1</td>\n",
       "      <td>1-2 Year</td>\n",
       "      <td>No</td>\n",
       "      <td>0</td>\n",
       "      <td>28499.0</td>\n",
       "      <td>238</td>\n",
       "      <td>0</td>\n",
       "    </tr>\n",
       "    <tr>\n",
       "      <th>126596</th>\n",
       "      <td>126597</td>\n",
       "      <td>Female</td>\n",
       "      <td>25</td>\n",
       "      <td>11</td>\n",
       "      <td>152</td>\n",
       "      <td>1</td>\n",
       "      <td>&lt; 1 Year</td>\n",
       "      <td>No</td>\n",
       "      <td>1</td>\n",
       "      <td>69023.0</td>\n",
       "      <td>264</td>\n",
       "      <td>0</td>\n",
       "    </tr>\n",
       "    <tr>\n",
       "      <th>318789</th>\n",
       "      <td>318790</td>\n",
       "      <td>Female</td>\n",
       "      <td>20</td>\n",
       "      <td>25</td>\n",
       "      <td>160</td>\n",
       "      <td>1</td>\n",
       "      <td>&lt; 1 Year</td>\n",
       "      <td>No</td>\n",
       "      <td>1</td>\n",
       "      <td>2630.0</td>\n",
       "      <td>102</td>\n",
       "      <td>0</td>\n",
       "    </tr>\n",
       "    <tr>\n",
       "      <th>...</th>\n",
       "      <td>...</td>\n",
       "      <td>...</td>\n",
       "      <td>...</td>\n",
       "      <td>...</td>\n",
       "      <td>...</td>\n",
       "      <td>...</td>\n",
       "      <td>...</td>\n",
       "      <td>...</td>\n",
       "      <td>...</td>\n",
       "      <td>...</td>\n",
       "      <td>...</td>\n",
       "      <td>...</td>\n",
       "    </tr>\n",
       "    <tr>\n",
       "      <th>95668</th>\n",
       "      <td>95669</td>\n",
       "      <td>Male</td>\n",
       "      <td>24</td>\n",
       "      <td>14</td>\n",
       "      <td>152</td>\n",
       "      <td>1</td>\n",
       "      <td>&lt; 1 Year</td>\n",
       "      <td>No</td>\n",
       "      <td>1</td>\n",
       "      <td>27831.0</td>\n",
       "      <td>256</td>\n",
       "      <td>0</td>\n",
       "    </tr>\n",
       "    <tr>\n",
       "      <th>67756</th>\n",
       "      <td>67757</td>\n",
       "      <td>Female</td>\n",
       "      <td>23</td>\n",
       "      <td>48</td>\n",
       "      <td>152</td>\n",
       "      <td>1</td>\n",
       "      <td>&lt; 1 Year</td>\n",
       "      <td>Yes</td>\n",
       "      <td>0</td>\n",
       "      <td>2630.0</td>\n",
       "      <td>174</td>\n",
       "      <td>1</td>\n",
       "    </tr>\n",
       "    <tr>\n",
       "      <th>235038</th>\n",
       "      <td>235039</td>\n",
       "      <td>Male</td>\n",
       "      <td>21</td>\n",
       "      <td>46</td>\n",
       "      <td>160</td>\n",
       "      <td>1</td>\n",
       "      <td>&lt; 1 Year</td>\n",
       "      <td>No</td>\n",
       "      <td>1</td>\n",
       "      <td>27712.0</td>\n",
       "      <td>16</td>\n",
       "      <td>0</td>\n",
       "    </tr>\n",
       "    <tr>\n",
       "      <th>157375</th>\n",
       "      <td>157376</td>\n",
       "      <td>Male</td>\n",
       "      <td>49</td>\n",
       "      <td>26</td>\n",
       "      <td>124</td>\n",
       "      <td>1</td>\n",
       "      <td>1-2 Year</td>\n",
       "      <td>Yes</td>\n",
       "      <td>0</td>\n",
       "      <td>36467.0</td>\n",
       "      <td>17</td>\n",
       "      <td>0</td>\n",
       "    </tr>\n",
       "    <tr>\n",
       "      <th>161430</th>\n",
       "      <td>161431</td>\n",
       "      <td>Male</td>\n",
       "      <td>24</td>\n",
       "      <td>50</td>\n",
       "      <td>152</td>\n",
       "      <td>1</td>\n",
       "      <td>&lt; 1 Year</td>\n",
       "      <td>No</td>\n",
       "      <td>1</td>\n",
       "      <td>2630.0</td>\n",
       "      <td>205</td>\n",
       "      <td>0</td>\n",
       "    </tr>\n",
       "  </tbody>\n",
       "</table>\n",
       "<p>304887 rows × 12 columns</p>\n",
       "</div>"
      ],
      "text/plain": [
       "            id  gender  age  region_code  policy_sales_channel  driving_license vehicle_age vehicle_damage  vehicle_prev_insured  health_annual_paid  days_associated  response\n",
       "332579  332580  Female   37            2                   156                1    1-2 Year            Yes                     0              2630.0              229         0\n",
       "318275  318276  Female   28           33                   152                1    < 1 Year             No                     1             28509.0              188         0\n",
       "192458  192459  Female   40           28                   124                1    1-2 Year             No                     0             28499.0              238         0\n",
       "126596  126597  Female   25           11                   152                1    < 1 Year             No                     1             69023.0              264         0\n",
       "318789  318790  Female   20           25                   160                1    < 1 Year             No                     1              2630.0              102         0\n",
       "...        ...     ...  ...          ...                   ...              ...         ...            ...                   ...                 ...              ...       ...\n",
       "95668    95669    Male   24           14                   152                1    < 1 Year             No                     1             27831.0              256         0\n",
       "67756    67757  Female   23           48                   152                1    < 1 Year            Yes                     0              2630.0              174         1\n",
       "235038  235039    Male   21           46                   160                1    < 1 Year             No                     1             27712.0               16         0\n",
       "157375  157376    Male   49           26                   124                1    1-2 Year            Yes                     0             36467.0               17         0\n",
       "161430  161431    Male   24           50                   152                1    < 1 Year             No                     1              2630.0              205         0\n",
       "\n",
       "[304887 rows x 12 columns]"
      ]
     },
     "execution_count": 36,
     "metadata": {},
     "output_type": "execute_result"
    }
   ],
   "source": [
    "df2 = pd.read_csv(datapath+'df2_data_description_done.csv', index_col=0)\n",
    "df2"
   ]
  },
  {
   "cell_type": "markdown",
   "id": "24fe9ec9",
   "metadata": {
    "heading_collapsed": true,
    "hidden": true
   },
   "source": [
    "## Hypotheses Creation"
   ]
  },
  {
   "cell_type": "code",
   "execution_count": 37,
   "id": "c374debd",
   "metadata": {
    "ExecuteTime": {
     "end_time": "2022-04-05T21:32:44.242671Z",
     "start_time": "2022-04-05T21:32:44.197015Z"
    },
    "hidden": true,
    "scrolled": true
   },
   "outputs": [
    {
     "data": {
      "image/png": "[encoded data removed]",
      "text/plain": [
       "<IPython.core.display.Image object>"
      ]
     },
     "execution_count": 37,
     "metadata": {},
     "output_type": "execute_result"
    }
   ],
   "source": [
    "#hypotheses mindmap\n",
    "Image( imagepath+'mindmap_hypotheses.png' )"
   ]
  },
  {
   "cell_type": "markdown",
   "id": "5a6e10b8",
   "metadata": {
    "hidden": true
   },
   "source": [
    "Hypotheses Customers:\n",
    "- H1) Interest is greater in customers with HIGHER AGE.\n",
    "- H2) Interest is greater in FEMALE CUSTOMERS.\n",
    "\n",
    "Hypotheses Vehicle Insurance:\n",
    "- H3) Interest is greater in customers WITH MOST RECENT VEHICLE AGE.\n",
    "- H4) Interest is greater in customers who HAD VEHICLE DAMAGE.\n",
    "- H5) Interest is greater in Customers who HAD VEHICLE PREVIOUSLY INSURED.\n",
    "\n",
    "Hypotheses Health Insurance:\n",
    "- H6) Interest is greater in customers with HIGHER ANNUAL HEALTH EXPANSES.\n",
    "- H7) Interest is greater in customers whth MORE DAYS ASSOCIATED.\n",
    "\n",
    "Hypotheses Offer Melhods: (no data available)\n",
    "\n",
    "Hypotheses Vehicle: (no data available)\n",
    "\n",
    "Hypotheses Seasonality: (no data available)\n",
    "\n",
    "*Prioritization of Hypotheses: all can be validated on first crisp cycle."
   ]
  },
  {
   "cell_type": "markdown",
   "id": "d69a6b51",
   "metadata": {
    "heading_collapsed": true,
    "hidden": true
   },
   "source": [
    "## Feature Engeneering"
   ]
  },
  {
   "cell_type": "code",
   "execution_count": 38,
   "id": "1301dfef",
   "metadata": {
    "ExecuteTime": {
     "end_time": "2022-04-05T21:32:46.021898Z",
     "start_time": "2022-04-05T21:32:45.942711Z"
    },
    "hidden": true
   },
   "outputs": [
    {
     "data": {
      "text/plain": [
       "1-2 Year     160204\n",
       "< 1 Year     131877\n",
       "> 2 Years     12806\n",
       "Name: vehicle_age, dtype: int64"
      ]
     },
     "execution_count": 38,
     "metadata": {},
     "output_type": "execute_result"
    }
   ],
   "source": [
    "df2['vehicle_age'].value_counts()"
   ]
  },
  {
   "cell_type": "code",
   "execution_count": 39,
   "id": "a7d46a3f",
   "metadata": {
    "ExecuteTime": {
     "end_time": "2022-04-05T21:32:47.976433Z",
     "start_time": "2022-04-05T21:32:47.839587Z"
    },
    "hidden": true
   },
   "outputs": [
    {
     "data": {
      "text/plain": [
       "between_1_2_years    160204\n",
       "below_1_year         131877\n",
       "over_2_years          12806\n",
       "Name: vehicle_age, dtype: int64"
      ]
     },
     "execution_count": 39,
     "metadata": {},
     "output_type": "execute_result"
    }
   ],
   "source": [
    "dict_vehicle_age = { '> 2 Years':'over_2_years', '1-2 Year':'between_1_2_years', '< 1 Year': 'below_1_year' }\n",
    "df2['vehicle_age'] = df2['vehicle_age'].map(dict_vehicle_age)\n",
    "df2['vehicle_age'].value_counts()"
   ]
  },
  {
   "cell_type": "code",
   "execution_count": 40,
   "id": "cd07f5bd",
   "metadata": {
    "ExecuteTime": {
     "end_time": "2022-04-05T21:32:48.067701Z",
     "start_time": "2022-04-05T21:32:48.003265Z"
    },
    "hidden": true
   },
   "outputs": [
    {
     "data": {
      "text/plain": [
       "Yes    153936\n",
       "No     150951\n",
       "Name: vehicle_damage, dtype: int64"
      ]
     },
     "execution_count": 40,
     "metadata": {},
     "output_type": "execute_result"
    }
   ],
   "source": [
    "df2['vehicle_damage'].value_counts()"
   ]
  },
  {
   "cell_type": "code",
   "execution_count": 41,
   "id": "78df3835",
   "metadata": {
    "ExecuteTime": {
     "end_time": "2022-04-05T21:32:48.994522Z",
     "start_time": "2022-04-05T21:32:48.949129Z"
    },
    "hidden": true
   },
   "outputs": [
    {
     "data": {
      "text/plain": [
       "1    153936\n",
       "0    150951\n",
       "Name: vehicle_damage, dtype: int64"
      ]
     },
     "execution_count": 41,
     "metadata": {},
     "output_type": "execute_result"
    }
   ],
   "source": [
    "dict_vehicle_damage = {'Yes': 1, 'No':0}\n",
    "df2['vehicle_damage'] = df2['vehicle_damage'].map(dict_vehicle_damage)\n",
    "df2['vehicle_damage'].value_counts()"
   ]
  },
  {
   "cell_type": "code",
   "execution_count": 43,
   "id": "a331b5a1",
   "metadata": {
    "ExecuteTime": {
     "end_time": "2022-04-05T21:33:00.061406Z",
     "start_time": "2022-04-05T21:32:57.520483Z"
    },
    "hidden": true
   },
   "outputs": [],
   "source": [
    "df2.to_csv(datapath+'df3_feature_engeneering_done.csv')"
   ]
  },
  {
   "cell_type": "markdown",
   "id": "fffa53fc",
   "metadata": {
    "heading_collapsed": true
   },
   "source": [
    "# Variable Filtering\n",
    "\n"
   ]
  },
  {
   "cell_type": "code",
   "execution_count": 44,
   "id": "2b17520e",
   "metadata": {
    "ExecuteTime": {
     "end_time": "2022-04-05T21:33:02.065384Z",
     "start_time": "2022-04-05T21:33:02.060463Z"
    },
    "hidden": true
   },
   "outputs": [],
   "source": [
    "#no business related data evaluated as needed to exclude looking at Data Description\n",
    "pass"
   ]
  },
  {
   "cell_type": "markdown",
   "id": "39d93ac0",
   "metadata": {
    "heading_collapsed": true
   },
   "source": [
    "# Exploratory Data Analysis\n"
   ]
  },
  {
   "cell_type": "code",
   "execution_count": 104,
   "id": "06a143de",
   "metadata": {
    "ExecuteTime": {
     "end_time": "2022-04-02T21:57:05.171622Z",
     "start_time": "2022-04-02T21:57:04.568602Z"
    },
    "hidden": true
   },
   "outputs": [
    {
     "data": {
      "text/html": [
       "<div>\n",
       "<style scoped>\n",
       "    .dataframe tbody tr th:only-of-type {\n",
       "        vertical-align: middle;\n",
       "    }\n",
       "\n",
       "    .dataframe tbody tr th {\n",
       "        vertical-align: top;\n",
       "    }\n",
       "\n",
       "    .dataframe thead th {\n",
       "        text-align: right;\n",
       "    }\n",
       "</style>\n",
       "<table border=\"1\" class=\"dataframe\">\n",
       "  <thead>\n",
       "    <tr style=\"text-align: right;\">\n",
       "      <th></th>\n",
       "      <th>id</th>\n",
       "      <th>gender</th>\n",
       "      <th>age</th>\n",
       "      <th>region_code</th>\n",
       "      <th>policy_sales_channel</th>\n",
       "      <th>driving_license</th>\n",
       "      <th>vehicle_age</th>\n",
       "      <th>vehicle_damage</th>\n",
       "      <th>vehicle_prev_insured</th>\n",
       "      <th>health_annual_paid</th>\n",
       "      <th>days_associated</th>\n",
       "      <th>response</th>\n",
       "    </tr>\n",
       "  </thead>\n",
       "  <tbody>\n",
       "    <tr>\n",
       "      <th>332579</th>\n",
       "      <td>332580</td>\n",
       "      <td>Female</td>\n",
       "      <td>37</td>\n",
       "      <td>2</td>\n",
       "      <td>156</td>\n",
       "      <td>1</td>\n",
       "      <td>between_1_2_years</td>\n",
       "      <td>1</td>\n",
       "      <td>0</td>\n",
       "      <td>2630.0</td>\n",
       "      <td>229</td>\n",
       "      <td>0</td>\n",
       "    </tr>\n",
       "    <tr>\n",
       "      <th>318275</th>\n",
       "      <td>318276</td>\n",
       "      <td>Female</td>\n",
       "      <td>28</td>\n",
       "      <td>33</td>\n",
       "      <td>152</td>\n",
       "      <td>1</td>\n",
       "      <td>below_1_year</td>\n",
       "      <td>0</td>\n",
       "      <td>1</td>\n",
       "      <td>28509.0</td>\n",
       "      <td>188</td>\n",
       "      <td>0</td>\n",
       "    </tr>\n",
       "    <tr>\n",
       "      <th>192458</th>\n",
       "      <td>192459</td>\n",
       "      <td>Female</td>\n",
       "      <td>40</td>\n",
       "      <td>28</td>\n",
       "      <td>124</td>\n",
       "      <td>1</td>\n",
       "      <td>between_1_2_years</td>\n",
       "      <td>0</td>\n",
       "      <td>0</td>\n",
       "      <td>28499.0</td>\n",
       "      <td>238</td>\n",
       "      <td>0</td>\n",
       "    </tr>\n",
       "    <tr>\n",
       "      <th>126596</th>\n",
       "      <td>126597</td>\n",
       "      <td>Female</td>\n",
       "      <td>25</td>\n",
       "      <td>11</td>\n",
       "      <td>152</td>\n",
       "      <td>1</td>\n",
       "      <td>below_1_year</td>\n",
       "      <td>0</td>\n",
       "      <td>1</td>\n",
       "      <td>69023.0</td>\n",
       "      <td>264</td>\n",
       "      <td>0</td>\n",
       "    </tr>\n",
       "    <tr>\n",
       "      <th>318789</th>\n",
       "      <td>318790</td>\n",
       "      <td>Female</td>\n",
       "      <td>20</td>\n",
       "      <td>25</td>\n",
       "      <td>160</td>\n",
       "      <td>1</td>\n",
       "      <td>below_1_year</td>\n",
       "      <td>0</td>\n",
       "      <td>1</td>\n",
       "      <td>2630.0</td>\n",
       "      <td>102</td>\n",
       "      <td>0</td>\n",
       "    </tr>\n",
       "    <tr>\n",
       "      <th>...</th>\n",
       "      <td>...</td>\n",
       "      <td>...</td>\n",
       "      <td>...</td>\n",
       "      <td>...</td>\n",
       "      <td>...</td>\n",
       "      <td>...</td>\n",
       "      <td>...</td>\n",
       "      <td>...</td>\n",
       "      <td>...</td>\n",
       "      <td>...</td>\n",
       "      <td>...</td>\n",
       "      <td>...</td>\n",
       "    </tr>\n",
       "    <tr>\n",
       "      <th>95668</th>\n",
       "      <td>95669</td>\n",
       "      <td>Male</td>\n",
       "      <td>24</td>\n",
       "      <td>14</td>\n",
       "      <td>152</td>\n",
       "      <td>1</td>\n",
       "      <td>below_1_year</td>\n",
       "      <td>0</td>\n",
       "      <td>1</td>\n",
       "      <td>27831.0</td>\n",
       "      <td>256</td>\n",
       "      <td>0</td>\n",
       "    </tr>\n",
       "    <tr>\n",
       "      <th>67756</th>\n",
       "      <td>67757</td>\n",
       "      <td>Female</td>\n",
       "      <td>23</td>\n",
       "      <td>48</td>\n",
       "      <td>152</td>\n",
       "      <td>1</td>\n",
       "      <td>below_1_year</td>\n",
       "      <td>1</td>\n",
       "      <td>0</td>\n",
       "      <td>2630.0</td>\n",
       "      <td>174</td>\n",
       "      <td>1</td>\n",
       "    </tr>\n",
       "    <tr>\n",
       "      <th>235038</th>\n",
       "      <td>235039</td>\n",
       "      <td>Male</td>\n",
       "      <td>21</td>\n",
       "      <td>46</td>\n",
       "      <td>160</td>\n",
       "      <td>1</td>\n",
       "      <td>below_1_year</td>\n",
       "      <td>0</td>\n",
       "      <td>1</td>\n",
       "      <td>27712.0</td>\n",
       "      <td>16</td>\n",
       "      <td>0</td>\n",
       "    </tr>\n",
       "    <tr>\n",
       "      <th>157375</th>\n",
       "      <td>157376</td>\n",
       "      <td>Male</td>\n",
       "      <td>49</td>\n",
       "      <td>26</td>\n",
       "      <td>124</td>\n",
       "      <td>1</td>\n",
       "      <td>between_1_2_years</td>\n",
       "      <td>1</td>\n",
       "      <td>0</td>\n",
       "      <td>36467.0</td>\n",
       "      <td>17</td>\n",
       "      <td>0</td>\n",
       "    </tr>\n",
       "    <tr>\n",
       "      <th>161430</th>\n",
       "      <td>161431</td>\n",
       "      <td>Male</td>\n",
       "      <td>24</td>\n",
       "      <td>50</td>\n",
       "      <td>152</td>\n",
       "      <td>1</td>\n",
       "      <td>below_1_year</td>\n",
       "      <td>0</td>\n",
       "      <td>1</td>\n",
       "      <td>2630.0</td>\n",
       "      <td>205</td>\n",
       "      <td>0</td>\n",
       "    </tr>\n",
       "  </tbody>\n",
       "</table>\n",
       "<p>304887 rows × 12 columns</p>\n",
       "</div>"
      ],
      "text/plain": [
       "            id  gender  age  region_code  policy_sales_channel  driving_license        vehicle_age  vehicle_damage  vehicle_prev_insured  health_annual_paid  days_associated  response\n",
       "332579  332580  Female   37            2                   156                1  between_1_2_years               1                     0              2630.0              229         0\n",
       "318275  318276  Female   28           33                   152                1       below_1_year               0                     1             28509.0              188         0\n",
       "192458  192459  Female   40           28                   124                1  between_1_2_years               0                     0             28499.0              238         0\n",
       "126596  126597  Female   25           11                   152                1       below_1_year               0                     1             69023.0              264         0\n",
       "318789  318790  Female   20           25                   160                1       below_1_year               0                     1              2630.0              102         0\n",
       "...        ...     ...  ...          ...                   ...              ...                ...             ...                   ...                 ...              ...       ...\n",
       "95668    95669    Male   24           14                   152                1       below_1_year               0                     1             27831.0              256         0\n",
       "67756    67757  Female   23           48                   152                1       below_1_year               1                     0              2630.0              174         1\n",
       "235038  235039    Male   21           46                   160                1       below_1_year               0                     1             27712.0               16         0\n",
       "157375  157376    Male   49           26                   124                1  between_1_2_years               1                     0             36467.0               17         0\n",
       "161430  161431    Male   24           50                   152                1       below_1_year               0                     1              2630.0              205         0\n",
       "\n",
       "[304887 rows x 12 columns]"
      ]
     },
     "execution_count": 104,
     "metadata": {},
     "output_type": "execute_result"
    }
   ],
   "source": [
    "df3 = pd.read_csv(datapath+'df3_feature_engeneering_done.csv', index_col=0)\n",
    "df3"
   ]
  },
  {
   "cell_type": "markdown",
   "id": "a406fe80",
   "metadata": {
    "heading_collapsed": true,
    "hidden": true
   },
   "source": [
    "## Univariate Analysis - with SweetViz\n"
   ]
  },
  {
   "cell_type": "code",
   "execution_count": 105,
   "id": "f9db5acd",
   "metadata": {
    "ExecuteTime": {
     "end_time": "2022-04-02T21:57:42.740843Z",
     "start_time": "2022-04-02T21:57:09.933376Z"
    },
    "hidden": true
   },
   "outputs": [
    {
     "data": {
      "application/vnd.jupyter.widget-view+json": {
       "model_id": "29d6d349c32449c5ac4bf5b560ec5d65",
       "version_major": 2,
       "version_minor": 0
      },
      "text/plain": [
       "                                             |      | [  0%]   00:00 -> (? left)"
      ]
     },
     "metadata": {},
     "output_type": "display_data"
    },
    {
     "name": "stdout",
     "output_type": "stream",
     "text": [
      "Report ../reports/sweetviz_report.html was generated! NOTEBOOK/COLAB USERS: the web browser MAY not pop up, regardless, the report IS saved in your notebook/colab files.\n"
     ]
    }
   ],
   "source": [
    "# Generate report\n",
    "report = sv.analyze(df3, target_feat='response')\n",
    "\n",
    "# Save and show on browser\n",
    "report.show_html(filepath=reportpath+'sweetviz_report.html',open_browser=True)\n",
    "#Report ../reports/sweetviz_report.html was generated."
   ]
  },
  {
   "cell_type": "code",
   "execution_count": null,
   "id": "5f988ae8",
   "metadata": {
    "code_folding": [],
    "hidden": true
   },
   "outputs": [],
   "source": [
    "# Display report on notebook\n",
    "#report.show_notebook(w=None, h=None,scale=None,layout='vertical')"
   ]
  },
  {
   "cell_type": "markdown",
   "id": "133a1917",
   "metadata": {
    "hidden": true
   },
   "source": [
    "## Bivariate Analysis"
   ]
  },
  {
   "cell_type": "markdown",
   "id": "9a3918ba",
   "metadata": {
    "hidden": true
   },
   "source": [
    "Here, the hypotheses created previously will be validated, and Insights will be generated on the most relevant attributes of customers interested in purchasing vehicle insurance."
   ]
  },
  {
   "cell_type": "markdown",
   "id": "283eba12",
   "metadata": {
    "ExecuteTime": {
     "end_time": "2022-04-02T22:38:44.391768Z",
     "start_time": "2022-04-02T22:38:44.387762Z"
    },
    "hidden": true
   },
   "source": [
    "### H1) Interest is greater in customers with HIGHER AGE."
   ]
  },
  {
   "cell_type": "code",
   "execution_count": 175,
   "id": "b2013521",
   "metadata": {
    "ExecuteTime": {
     "end_time": "2022-04-03T10:51:25.953019Z",
     "start_time": "2022-04-03T10:51:25.681471Z"
    },
    "code_folding": [],
    "hidden": true
   },
   "outputs": [
    {
     "data": {
      "image/png": "[encoded data removed]",
      "text/plain": [
       "<Figure size 1440x504 with 1 Axes>"
      ]
     },
     "metadata": {},
     "output_type": "display_data"
    }
   ],
   "source": [
    "# Distribution of interested by age\n",
    "eda_age = sns.boxplot(x = 'response', y= 'age', data = df3)\n",
    "eda_age.set_xticklabels(['No', 'Yes'])\n",
    "eda_age.set_ylabel('Age')\n",
    "eda_age.set_xlabel('Interest')\n",
    "eda_age.set_title('Interested Customers by Age');"
   ]
  },
  {
   "cell_type": "code",
   "execution_count": 123,
   "id": "66350053",
   "metadata": {
    "ExecuteTime": {
     "end_time": "2022-04-02T22:39:22.176997Z",
     "start_time": "2022-04-02T22:39:22.161283Z"
    },
    "hidden": true
   },
   "outputs": [
    {
     "data": {
      "text/plain": [
       "43.4"
      ]
     },
     "execution_count": 123,
     "metadata": {},
     "output_type": "execute_result"
    }
   ],
   "source": [
    "#mean age of interested\n",
    "df3_resp_yes = df3[df3['response']==1]\n",
    "round(df3_resp_yes['age'].mean() ,1)"
   ]
  },
  {
   "cell_type": "code",
   "execution_count": 177,
   "id": "051e6d2c",
   "metadata": {
    "ExecuteTime": {
     "end_time": "2022-04-03T10:52:40.795119Z",
     "start_time": "2022-04-03T10:52:38.443151Z"
    },
    "code_folding": [
     0
    ],
    "hidden": true
   },
   "outputs": [
    {
     "data": {
      "image/png": "[encoded data removed]",
      "text/plain": [
       "<Figure size 1080x432 with 1 Axes>"
      ]
     },
     "metadata": {},
     "output_type": "display_data"
    }
   ],
   "source": [
    "# Analyse just interested customers by age\n",
    "plt.figure(figsize=(15,6))\n",
    "aux_age2 = df3[['age', 'response']].groupby('age').sum().reset_index()\n",
    "eda_age2 = sns.barplot( x='age', y='response', data=aux_age2 )\n",
    "eda_age2.set_title('Interested Customers by Age')\n",
    "eda_age2.set_xlabel('Age')\n",
    "eda_age2.set_ylabel('Interested')\n",
    "plt.xticks( rotation=90 );"
   ]
  },
  {
   "cell_type": "markdown",
   "id": "b7cc2d88",
   "metadata": {
    "hidden": true
   },
   "source": [
    "False hypothesis: Customers between 40-45 years old are the most interested in vehicle insurance. \n",
    "Interest in vehicle insurance decreases between 24-27 years old and after 44 years old."
   ]
  },
  {
   "cell_type": "markdown",
   "id": "3ab61940",
   "metadata": {
    "hidden": true
   },
   "source": [
    "### H2) Interest is greater in FEMALE CUSTOMERS."
   ]
  },
  {
   "cell_type": "code",
   "execution_count": 173,
   "id": "dd007340",
   "metadata": {
    "ExecuteTime": {
     "end_time": "2022-04-03T10:49:49.325406Z",
     "start_time": "2022-04-03T10:49:48.906577Z"
    },
    "code_folding": [],
    "hidden": true
   },
   "outputs": [
    {
     "data": {
      "image/png": "[encoded data removed]",
      "text/plain": [
       "<Figure size 864x432 with 2 Axes>"
      ]
     },
     "metadata": {},
     "output_type": "display_data"
    }
   ],
   "source": [
    "# Gender Interest Dashboard\n",
    "#percentage of customers per gender\n",
    "plt.figure(figsize=(12,6))\n",
    "pie1_gen = plt.subplot (1,2,1)\n",
    "\n",
    "pie1_gen.set_title('Customers by Gender')\n",
    "perc_m, perc_f = df3['gender'].value_counts() / df3.shape[0] * 100\n",
    "pie1_gen.pie([perc_m, perc_f], explode=(0, 0.1), labels=['Male', 'Female'], autopct='%1.1f%%', shadow=True, startangle=90)\n",
    "\n",
    "#interested customers per gender\n",
    "bar_gen = plt.subplot (1,2,2)\n",
    "\n",
    "# labels\n",
    "gen_true = df3.loc[df3['response'] == True]\n",
    "gen_res = sns.countplot(x=gen_true['gender'],\n",
    "                   order=gen_true['gender'].value_counts(ascending=False).index);\n",
    "abs_values = gen_true['gender'].value_counts(ascending=False)    \n",
    "rel_values = gen_true['gender'].value_counts(ascending=False, normalize=True).values * 100\n",
    "\n",
    "lbls = [f'{p[0]} ({p[1]:.0f}%)' for p in zip(abs_values, rel_values)]\n",
    "gen_res.bar_label(container=gen_res.containers[0], labels=lbls);\n",
    "\n",
    "bar_gen.set_title('Interested Customers by Gender')\n",
    "bar_gen.set_xlabel('Gender')\n",
    "bar_gen.set_ylabel('Interested customers')\n",
    "plt.tight_layout(pad=4)"
   ]
  },
  {
   "cell_type": "markdown",
   "id": "2f11053f",
   "metadata": {
    "hidden": true
   },
   "source": [
    "False hypothesis: 54% of customers are male, and 61% of interested customers in vehicle insurance are male. "
   ]
  },
  {
   "cell_type": "markdown",
   "id": "1d28d471",
   "metadata": {
    "ExecuteTime": {
     "end_time": "2022-04-02T22:49:19.205005Z",
     "start_time": "2022-04-02T22:49:19.201051Z"
    },
    "hidden": true
   },
   "source": [
    "### H3) Interest is greater in customers WITH MOST RECENT VEHICLE AGE."
   ]
  },
  {
   "cell_type": "code",
   "execution_count": 135,
   "id": "c4ffb9c7",
   "metadata": {
    "ExecuteTime": {
     "end_time": "2022-04-02T22:51:57.829342Z",
     "start_time": "2022-04-02T22:51:57.091927Z"
    },
    "hidden": true
   },
   "outputs": [
    {
     "data": {
      "image/png": "[encoded data removed]",
      "text/plain": [
       "<Figure size 1440x504 with 3 Axes>"
      ]
     },
     "metadata": {},
     "output_type": "display_data"
    }
   ],
   "source": [
    "plt.rcParams[\"figure.figsize\"] = (20, 7)\n",
    "\n",
    "plt.subplot (1,3,1)\n",
    "h3_df_below = df3.loc[df3['vehicle_age'] == 'below_1_year']\n",
    "h3_int_below = h3_df_below[['vehicle_age', 'response']].groupby('response').count().reset_index()\n",
    "fig_below_h3 = sns.barplot (x = 'response', y='vehicle_age', data=h3_int_below);\n",
    "fig_below_h3.set_xlabel('Interest in Vehicle Insurance')\n",
    "fig_below_h3.set_ylabel('Number of customers')\n",
    "fig_below_h3.set_title('Interest in Vehicle Insurance when vehicle Age < 1 year');\n",
    "fig_below_h3.set_xticklabels(['No', 'Yes']);\n",
    "\n",
    "plt.subplot (1,3,2)\n",
    "h3_df_between = df3.loc[df3['vehicle_age'] == 'between_1_2_years']\n",
    "h3_int_between = h3_df_between[['vehicle_age', 'response']].groupby('response').count().reset_index()\n",
    "fig_between_h3 = sns.barplot (x = 'response', y='vehicle_age', data=h3_int_between);\n",
    "fig_between_h3.set_xlabel('Interest in Vehicle Insurance')\n",
    "fig_between_h3.set_ylabel('Number of customers')\n",
    "fig_between_h3.set_title('Interest in Vehicle Insurance when vehicle Age between 1 - 2 years');\n",
    "\n",
    "fig_between_h3.set_xticklabels(['No', 'Yes']);\n",
    "\n",
    "plt.subplot (1,3,3)\n",
    "h3_df_over = df3.loc[df3['vehicle_age'] == 'over_2_years']\n",
    "h3_int_over = h3_df_over[['vehicle_age', 'response']].groupby('response').count().reset_index()\n",
    "\n",
    "fig_over_h3 = sns.barplot (x = 'response', y='vehicle_age', data=h3_int_over);\n",
    "fig_over_h3.set_xlabel('Interest in Vehicle Insurance')\n",
    "fig_over_h3.set_ylabel('Number of customers')\n",
    "fig_over_h3.set_title('Interest in Vehicle Insurance when vehicle Age > 2 years');\n",
    "\n",
    "fig_over_h3.set_xticklabels(['No', 'Yes']);"
   ]
  },
  {
   "cell_type": "code",
   "execution_count": 143,
   "id": "1d425472",
   "metadata": {
    "ExecuteTime": {
     "end_time": "2022-04-02T23:03:07.255635Z",
     "start_time": "2022-04-02T23:03:07.243456Z"
    },
    "hidden": true
   },
   "outputs": [
    {
     "data": {
      "text/plain": [
       "0    95.639877\n",
       "1     4.360123\n",
       "Name: response, dtype: float64"
      ]
     },
     "execution_count": 143,
     "metadata": {},
     "output_type": "execute_result"
    }
   ],
   "source": [
    "# 4% of customers with vehicles below 1 year are interested\n",
    "h3_df_below['response'].value_counts() / h3_df_below['response'].shape[0] *100"
   ]
  },
  {
   "cell_type": "code",
   "execution_count": 144,
   "id": "4f320869",
   "metadata": {
    "ExecuteTime": {
     "end_time": "2022-04-02T23:03:25.057401Z",
     "start_time": "2022-04-02T23:03:25.044874Z"
    },
    "hidden": true
   },
   "outputs": [
    {
     "data": {
      "text/plain": [
       "0    82.612169\n",
       "1    17.387831\n",
       "Name: response, dtype: float64"
      ]
     },
     "execution_count": 144,
     "metadata": {},
     "output_type": "execute_result"
    }
   ],
   "source": [
    "# 17% of customers with vehicles between 1 and 2 years are interested\n",
    "h3_df_between['response'].value_counts() / h3_df_between['response'].shape[0] *100"
   ]
  },
  {
   "cell_type": "code",
   "execution_count": 146,
   "id": "197f348a",
   "metadata": {
    "ExecuteTime": {
     "end_time": "2022-04-02T23:03:46.303363Z",
     "start_time": "2022-04-02T23:03:46.290810Z"
    },
    "hidden": true
   },
   "outputs": [
    {
     "data": {
      "text/plain": [
       "0    70.623145\n",
       "1    29.376855\n",
       "Name: response, dtype: float64"
      ]
     },
     "execution_count": 146,
     "metadata": {},
     "output_type": "execute_result"
    }
   ],
   "source": [
    "# 29% of customers with vehicles over 2 years are interested\n",
    "h3_df_over['response'].value_counts() / h3_df_over['response'].shape[0] *100"
   ]
  },
  {
   "cell_type": "markdown",
   "id": "17c7df2f",
   "metadata": {
    "hidden": true
   },
   "source": [
    "False hypothesis: interest is greater in customers with older vehicle age:\n",
    "- 29% of customers with vehicles over 2 years are interested.\n",
    "- 17% of customers with vehicles between 1 and 2 years are interested.\n",
    "- 4% of customers with vehicles below 1 year are interested."
   ]
  },
  {
   "cell_type": "markdown",
   "id": "32cd8497",
   "metadata": {
    "ExecuteTime": {
     "end_time": "2022-04-02T22:56:15.387302Z",
     "start_time": "2022-04-02T22:56:15.381743Z"
    },
    "hidden": true
   },
   "source": [
    "### H4) Interest is greater in customers who HAD VEHICLE DAMAGE."
   ]
  },
  {
   "cell_type": "code",
   "execution_count": 137,
   "id": "dd733302",
   "metadata": {
    "ExecuteTime": {
     "end_time": "2022-04-02T22:58:10.994755Z",
     "start_time": "2022-04-02T22:58:10.545954Z"
    },
    "hidden": true
   },
   "outputs": [
    {
     "data": {
      "image/png": "[encoded data removed]",
      "text/plain": [
       "<Figure size 1440x504 with 2 Axes>"
      ]
     },
     "metadata": {},
     "output_type": "display_data"
    }
   ],
   "source": [
    "#vehicle_damage == 0(no): interested / not interested\n",
    "plt.subplot (1,2,1)\n",
    "h4_df_not_damaged = df3.loc[df3['vehicle_damage'] == 0]\n",
    "h4_int_not_damaged = h4_df_not_damaged[['vehicle_damage', 'response']].groupby('response').count().reset_index()\n",
    "fig_not_damaged_h4 = sns.barplot (x = 'response', y='vehicle_damage', data=h4_int_not_damaged);\n",
    "fig_not_damaged_h4.set_xlabel('Interested in Vehicle Insurance')\n",
    "fig_not_damaged_h4.set_ylabel('Number of customers')\n",
    "fig_not_damaged_h4.set_title('Interest in Vehicle Insurance when customer didn\\'t have Vehicle Damage');\n",
    "fig_not_damaged_h4.set_xticklabels(['No', 'Yes']);\n",
    "\n",
    "#vehicle_damage == 1(yes): interested / not interested\n",
    "plt.subplot (1,2,2)\n",
    "h4_df_damaged = df3.loc[df3['vehicle_damage'] == 1]\n",
    "h4_int_damaged = h4_df_damaged[['vehicle_damage', 'response']].groupby('response').count().reset_index()\n",
    "fig_damaged_h4 = sns.barplot (x = 'response', y='vehicle_damage', data=h4_int_damaged);\n",
    "fig_damaged_h4.set_xlabel('Interested in Vehicle Insurance')\n",
    "fig_damaged_h4.set_ylabel('Number of customers')\n",
    "fig_damaged_h4.set_title('Interest in Vehicle Insurance when customer had Vehicle Damage');\n",
    "fig_damaged_h4.set_xticklabels(['No', 'Yes']);"
   ]
  },
  {
   "cell_type": "code",
   "execution_count": 139,
   "id": "84d6cfe5",
   "metadata": {
    "ExecuteTime": {
     "end_time": "2022-04-02T22:59:11.804216Z",
     "start_time": "2022-04-02T22:59:11.792949Z"
    },
    "hidden": true
   },
   "outputs": [
    {
     "data": {
      "text/plain": [
       "0    99.477314\n",
       "1     0.522686\n",
       "Name: response, dtype: float64"
      ]
     },
     "execution_count": 139,
     "metadata": {},
     "output_type": "execute_result"
    }
   ],
   "source": [
    "# Only 0.5% of customers how didn't have vehicle damage are interestet in vehicle insurance\n",
    "h4_df_not_damaged['response'].value_counts() / h4_df_not_damaged.shape[0] *100"
   ]
  },
  {
   "cell_type": "code",
   "execution_count": 141,
   "id": "6ceb2e29",
   "metadata": {
    "ExecuteTime": {
     "end_time": "2022-04-02T22:59:53.540944Z",
     "start_time": "2022-04-02T22:59:53.528698Z"
    },
    "hidden": true
   },
   "outputs": [
    {
     "data": {
      "text/plain": [
       "0    76.237527\n",
       "1    23.762473\n",
       "Name: response, dtype: float64"
      ]
     },
     "execution_count": 141,
     "metadata": {},
     "output_type": "execute_result"
    }
   ],
   "source": [
    "# 24% of customers how had vehicle damage are interested in vehicle insurance\n",
    "h4_df_damaged['response'].value_counts() / h4_df_damaged.shape[0] *100"
   ]
  },
  {
   "cell_type": "markdown",
   "id": "daa0f71e",
   "metadata": {
    "hidden": true
   },
   "source": [
    "True hypothesis: 24% of customers how had vehicle damage are interested in vehicle insurance, while only 0.5% of those who didn't have vehicle damage are interestet."
   ]
  },
  {
   "cell_type": "markdown",
   "id": "a5b1345e",
   "metadata": {
    "hidden": true
   },
   "source": [
    "### H5) Interest is greater in Customers who HAD VEHICLE PREVIOUSLY INSURED."
   ]
  },
  {
   "cell_type": "code",
   "execution_count": 152,
   "id": "c3da4b5d",
   "metadata": {
    "ExecuteTime": {
     "end_time": "2022-04-02T23:09:09.359660Z",
     "start_time": "2022-04-02T23:09:08.923637Z"
    },
    "hidden": true
   },
   "outputs": [
    {
     "data": {
      "image/png": "[encoded data removed]",
      "text/plain": [
       "<Figure size 1440x504 with 2 Axes>"
      ]
     },
     "metadata": {},
     "output_type": "display_data"
    }
   ],
   "source": [
    "#vehicle_previously_insured == 1(yes): interested / not interested\n",
    "plt.subplot (1,2,1)\n",
    "h5_df_insured = df3.loc[df3['vehicle_prev_insured'] == 1]\n",
    "h5_int_insured = h5_df_insured[['vehicle_prev_insured', 'response']].groupby('response').count().reset_index()\n",
    "fig_insured_h5 = sns.barplot (x = 'response', y='vehicle_prev_insured', data=h5_int_insured);\n",
    "fig_insured_h5.set_xlabel('Interested in Vehicle Insurance')\n",
    "fig_insured_h5.set_ylabel('Number of customers')\n",
    "fig_insured_h5.set_title('Interest in Vehicle Insurance when customer had Vehicle Insurance');\n",
    "fig_insured_h5.set_xticklabels(['No', 'Yes']);\n",
    "\n",
    "#vehicle_previously_insured == 0(no): interested / not interested\n",
    "plt.subplot (1,2,2)\n",
    "h5_df_not_insured = df3.loc[df3['vehicle_prev_insured'] == 0]\n",
    "h5_int_not_insured = h5_df_not_insured[['vehicle_prev_insured', 'response']].groupby('response').count().reset_index()\n",
    "fig_not_insured_h5 = sns.barplot (x = 'response', y='vehicle_prev_insured', data=h5_int_not_insured);\n",
    "fig_not_insured_h5.set_xlabel('Interested in Vehicle Insurance')\n",
    "fig_not_insured_h5.set_ylabel('Number of customers')\n",
    "fig_not_insured_h5.set_title('Interest in Vehicle Insurance when customer didn\\'t have Vehicle Insurance');\n",
    "fig_not_insured_h5.set_xticklabels(['No', 'Yes']);"
   ]
  },
  {
   "cell_type": "code",
   "execution_count": 154,
   "id": "40979752",
   "metadata": {
    "ExecuteTime": {
     "end_time": "2022-04-02T23:10:15.168304Z",
     "start_time": "2022-04-02T23:10:15.154330Z"
    },
    "hidden": true
   },
   "outputs": [
    {
     "data": {
      "text/plain": [
       "0    99.903342\n",
       "1     0.096658\n",
       "Name: response, dtype: float64"
      ]
     },
     "execution_count": 154,
     "metadata": {},
     "output_type": "execute_result"
    }
   ],
   "source": [
    "#1% of customers who had vehicle previously insured are interested in vehicle insurance.\n",
    "h5_df_insured['response'].value_counts() / h5_df_insured['response'].shape[0] *100"
   ]
  },
  {
   "cell_type": "code",
   "execution_count": 155,
   "id": "797566cd",
   "metadata": {
    "ExecuteTime": {
     "end_time": "2022-04-02T23:10:26.245551Z",
     "start_time": "2022-04-02T23:10:26.228865Z"
    },
    "hidden": true,
    "scrolled": true
   },
   "outputs": [
    {
     "data": {
      "text/plain": [
       "0    77.464593\n",
       "1    22.535407\n",
       "Name: response, dtype: float64"
      ]
     },
     "execution_count": 155,
     "metadata": {},
     "output_type": "execute_result"
    }
   ],
   "source": [
    "#22% of customers who didn't have vehicle previously insured are interested in vehicle insurance.\n",
    "h5_df_not_insured['response'].value_counts() / h5_df_not_insured['response'].shape[0] *100"
   ]
  },
  {
   "cell_type": "markdown",
   "id": "b1c866b8",
   "metadata": {
    "hidden": true
   },
   "source": [
    "False hypothesis: 22% of customers who didn't have vehicle previously insured are interested in vehicle insurance, while only 1% of customers who had vehicle previously insured are interested."
   ]
  },
  {
   "cell_type": "markdown",
   "id": "a4190de6",
   "metadata": {
    "hidden": true
   },
   "source": [
    "### H6) Interest is greater in customers with HIGHER ANNUAL HEALTH EXPANSES."
   ]
  },
  {
   "cell_type": "code",
   "execution_count": 156,
   "id": "4f36f9b6",
   "metadata": {
    "ExecuteTime": {
     "end_time": "2022-04-02T23:12:37.903827Z",
     "start_time": "2022-04-02T23:12:37.341452Z"
    },
    "hidden": true
   },
   "outputs": [
    {
     "data": {
      "image/png": "[encoded data removed]",
      "text/plain": [
       "<Figure size 1440x504 with 1 Axes>"
      ]
     },
     "metadata": {},
     "output_type": "display_data"
    }
   ],
   "source": [
    "aux_h6 = df3[['health_annual_paid', 'response']].groupby('response').count().reset_index()\n",
    "fig_h6 = sns.regplot (x= 'health_annual_paid', y='response', data=aux_h6)\n",
    "fig_h6.set_xlabel('Anuual Health Expanses');\n",
    "fig_h6.set_ylabel('Interested (1) / Not interested (0)')\n",
    "fig_h6.set_title('Interest in Vehicle Insurance vs annual health expances');"
   ]
  },
  {
   "cell_type": "markdown",
   "id": "bb7132a9",
   "metadata": {
    "hidden": true
   },
   "source": [
    "False hypothesis: There is a decrease on interest of a vehicle insurance on higher annual health expenses."
   ]
  },
  {
   "cell_type": "markdown",
   "id": "18d8e033",
   "metadata": {
    "hidden": true
   },
   "source": [
    "### H7) Interest is greater in customers whth MORE DAYS ASSOCIATED."
   ]
  },
  {
   "cell_type": "code",
   "execution_count": 157,
   "id": "2518c17d",
   "metadata": {
    "ExecuteTime": {
     "end_time": "2022-04-02T23:14:07.596278Z",
     "start_time": "2022-04-02T23:14:06.909561Z"
    },
    "hidden": true
   },
   "outputs": [
    {
     "data": {
      "image/png": "[encoded data removed]",
      "text/plain": [
       "<Figure size 1440x504 with 1 Axes>"
      ]
     },
     "metadata": {},
     "output_type": "display_data"
    }
   ],
   "source": [
    "# get just the interested customers\n",
    "aux_h7 = df3[['days_associated', 'response']].groupby('days_associated').sum().reset_index()\n",
    "fig_h7 = sns.regplot (x= 'days_associated', y='response', data=aux_h7)\n",
    "fig_h7.set_xlabel('Days Associated');\n",
    "fig_h7.set_ylabel('Number of Interested Customers')\n",
    "fig_h7.set_title('Interest in Vehicle Insurance vs Days Associated');"
   ]
  },
  {
   "cell_type": "markdown",
   "id": "79251829",
   "metadata": {
    "hidden": true
   },
   "source": [
    "False hypothesis: Customers with more days of health insurance (more days associated) have a bit less interest in vehicle insurance."
   ]
  },
  {
   "cell_type": "markdown",
   "id": "a9469507",
   "metadata": {
    "hidden": true
   },
   "source": [
    "## Hypothesis conclusion"
   ]
  },
  {
   "cell_type": "markdown",
   "id": "2aa67ae2",
   "metadata": {
    "hidden": true
   },
   "source": [
    "Good features in a Classification Project have a natural separation. The model aims to discover a cut in space to separate two classes. \"Estimated Relevance\" is a preliminary analysis, to be used later in Feature Selection."
   ]
  },
  {
   "cell_type": "code",
   "execution_count": 134,
   "id": "d6c0eec6",
   "metadata": {
    "ExecuteTime": {
     "end_time": "2022-04-09T16:54:25.337824Z",
     "start_time": "2022-04-09T16:54:25.326351Z"
    },
    "code_folding": [
     0
    ],
    "hidden": true
   },
   "outputs": [
    {
     "name": "stdout",
     "output_type": "stream",
     "text": [
      "=========================================================================  ============  =====================\n",
      "Hypoteses                                                                  Conclusion    Estimated Relevance\n",
      "=========================================================================  ============  =====================\n",
      "H1 - Interest is greater in customers with HIGHER AGE.                     False         Medium\n",
      "H2 - Interest is greater in FEMALE CUSTOMERS.                              False         Low\n",
      "H3 - Interest is greater in customers WITH MOST RECENT VEHICLE AGE.        False         High\n",
      "H4 - Interest is greater in customers who HAD VEHICLE DAMAGE.              True          High\n",
      "H5 - Interest is greater in Customers who HAD VEHICLE PREVIOUSLY INSURED.  False         High\n",
      "H6 - Interest is greater in customers with HIGHER ANNUAL HEALTH EXPANSES.  False         Low\n",
      "H7 - Interest is greater in customers whth MORE DAYS ASSOCIATED            False         Low\n",
      "=========================================================================  ============  =====================\n"
     ]
    }
   ],
   "source": [
    "#hypothesis tab\n",
    "hyp_tab = [['Hypoteses', 'Conclusion', 'Estimated Relevance'],\n",
    "       ['H1 - Interest is greater in customers with HIGHER AGE.', 'False', 'Medium'],\n",
    "       ['H2 - Interest is greater in FEMALE CUSTOMERS.', 'False', 'Low'],\n",
    "       ['H3 - Interest is greater in customers WITH MOST RECENT VEHICLE AGE.', 'False', 'High'],\n",
    "       ['H4 - Interest is greater in customers who HAD VEHICLE DAMAGE.', 'True', 'High'],\n",
    "       ['H5 - Interest is greater in Customers who HAD VEHICLE PREVIOUSLY INSURED.', 'False', 'High'],\n",
    "       ['H6 - Interest is greater in customers with HIGHER ANNUAL HEALTH EXPANSES.', 'False', 'Low'],\n",
    "       ['H7 - Interest is greater in customers whth MORE DAYS ASSOCIATED', 'False', 'Low'],\n",
    "      ]\n",
    "print(tabulate(hyp_tab, headers='firstrow', stralign='left', tablefmt='rst'))"
   ]
  },
  {
   "cell_type": "markdown",
   "id": "067efa93",
   "metadata": {
    "heading_collapsed": true
   },
   "source": [
    "# Data Preparation\n"
   ]
  },
  {
   "cell_type": "code",
   "execution_count": 97,
   "id": "8d8f246e",
   "metadata": {
    "ExecuteTime": {
     "end_time": "2022-04-06T20:06:40.162976Z",
     "start_time": "2022-04-06T20:06:39.621124Z"
    },
    "code_folding": [],
    "hidden": true
   },
   "outputs": [
    {
     "data": {
      "text/html": [
       "<div>\n",
       "<style scoped>\n",
       "    .dataframe tbody tr th:only-of-type {\n",
       "        vertical-align: middle;\n",
       "    }\n",
       "\n",
       "    .dataframe tbody tr th {\n",
       "        vertical-align: top;\n",
       "    }\n",
       "\n",
       "    .dataframe thead th {\n",
       "        text-align: right;\n",
       "    }\n",
       "</style>\n",
       "<table border=\"1\" class=\"dataframe\">\n",
       "  <thead>\n",
       "    <tr style=\"text-align: right;\">\n",
       "      <th></th>\n",
       "      <th>id</th>\n",
       "      <th>gender</th>\n",
       "      <th>age</th>\n",
       "      <th>region_code</th>\n",
       "      <th>policy_sales_channel</th>\n",
       "      <th>driving_license</th>\n",
       "      <th>vehicle_age</th>\n",
       "      <th>vehicle_damage</th>\n",
       "      <th>vehicle_prev_insured</th>\n",
       "      <th>health_annual_paid</th>\n",
       "      <th>days_associated</th>\n",
       "      <th>response</th>\n",
       "    </tr>\n",
       "  </thead>\n",
       "  <tbody>\n",
       "    <tr>\n",
       "      <th>332579</th>\n",
       "      <td>332580</td>\n",
       "      <td>Female</td>\n",
       "      <td>37</td>\n",
       "      <td>2</td>\n",
       "      <td>156</td>\n",
       "      <td>1</td>\n",
       "      <td>between_1_2_years</td>\n",
       "      <td>1</td>\n",
       "      <td>0</td>\n",
       "      <td>2630.0</td>\n",
       "      <td>229</td>\n",
       "      <td>0</td>\n",
       "    </tr>\n",
       "    <tr>\n",
       "      <th>318275</th>\n",
       "      <td>318276</td>\n",
       "      <td>Female</td>\n",
       "      <td>28</td>\n",
       "      <td>33</td>\n",
       "      <td>152</td>\n",
       "      <td>1</td>\n",
       "      <td>below_1_year</td>\n",
       "      <td>0</td>\n",
       "      <td>1</td>\n",
       "      <td>28509.0</td>\n",
       "      <td>188</td>\n",
       "      <td>0</td>\n",
       "    </tr>\n",
       "    <tr>\n",
       "      <th>192458</th>\n",
       "      <td>192459</td>\n",
       "      <td>Female</td>\n",
       "      <td>40</td>\n",
       "      <td>28</td>\n",
       "      <td>124</td>\n",
       "      <td>1</td>\n",
       "      <td>between_1_2_years</td>\n",
       "      <td>0</td>\n",
       "      <td>0</td>\n",
       "      <td>28499.0</td>\n",
       "      <td>238</td>\n",
       "      <td>0</td>\n",
       "    </tr>\n",
       "    <tr>\n",
       "      <th>126596</th>\n",
       "      <td>126597</td>\n",
       "      <td>Female</td>\n",
       "      <td>25</td>\n",
       "      <td>11</td>\n",
       "      <td>152</td>\n",
       "      <td>1</td>\n",
       "      <td>below_1_year</td>\n",
       "      <td>0</td>\n",
       "      <td>1</td>\n",
       "      <td>69023.0</td>\n",
       "      <td>264</td>\n",
       "      <td>0</td>\n",
       "    </tr>\n",
       "    <tr>\n",
       "      <th>318789</th>\n",
       "      <td>318790</td>\n",
       "      <td>Female</td>\n",
       "      <td>20</td>\n",
       "      <td>25</td>\n",
       "      <td>160</td>\n",
       "      <td>1</td>\n",
       "      <td>below_1_year</td>\n",
       "      <td>0</td>\n",
       "      <td>1</td>\n",
       "      <td>2630.0</td>\n",
       "      <td>102</td>\n",
       "      <td>0</td>\n",
       "    </tr>\n",
       "    <tr>\n",
       "      <th>...</th>\n",
       "      <td>...</td>\n",
       "      <td>...</td>\n",
       "      <td>...</td>\n",
       "      <td>...</td>\n",
       "      <td>...</td>\n",
       "      <td>...</td>\n",
       "      <td>...</td>\n",
       "      <td>...</td>\n",
       "      <td>...</td>\n",
       "      <td>...</td>\n",
       "      <td>...</td>\n",
       "      <td>...</td>\n",
       "    </tr>\n",
       "    <tr>\n",
       "      <th>95668</th>\n",
       "      <td>95669</td>\n",
       "      <td>Male</td>\n",
       "      <td>24</td>\n",
       "      <td>14</td>\n",
       "      <td>152</td>\n",
       "      <td>1</td>\n",
       "      <td>below_1_year</td>\n",
       "      <td>0</td>\n",
       "      <td>1</td>\n",
       "      <td>27831.0</td>\n",
       "      <td>256</td>\n",
       "      <td>0</td>\n",
       "    </tr>\n",
       "    <tr>\n",
       "      <th>67756</th>\n",
       "      <td>67757</td>\n",
       "      <td>Female</td>\n",
       "      <td>23</td>\n",
       "      <td>48</td>\n",
       "      <td>152</td>\n",
       "      <td>1</td>\n",
       "      <td>below_1_year</td>\n",
       "      <td>1</td>\n",
       "      <td>0</td>\n",
       "      <td>2630.0</td>\n",
       "      <td>174</td>\n",
       "      <td>1</td>\n",
       "    </tr>\n",
       "    <tr>\n",
       "      <th>235038</th>\n",
       "      <td>235039</td>\n",
       "      <td>Male</td>\n",
       "      <td>21</td>\n",
       "      <td>46</td>\n",
       "      <td>160</td>\n",
       "      <td>1</td>\n",
       "      <td>below_1_year</td>\n",
       "      <td>0</td>\n",
       "      <td>1</td>\n",
       "      <td>27712.0</td>\n",
       "      <td>16</td>\n",
       "      <td>0</td>\n",
       "    </tr>\n",
       "    <tr>\n",
       "      <th>157375</th>\n",
       "      <td>157376</td>\n",
       "      <td>Male</td>\n",
       "      <td>49</td>\n",
       "      <td>26</td>\n",
       "      <td>124</td>\n",
       "      <td>1</td>\n",
       "      <td>between_1_2_years</td>\n",
       "      <td>1</td>\n",
       "      <td>0</td>\n",
       "      <td>36467.0</td>\n",
       "      <td>17</td>\n",
       "      <td>0</td>\n",
       "    </tr>\n",
       "    <tr>\n",
       "      <th>161430</th>\n",
       "      <td>161431</td>\n",
       "      <td>Male</td>\n",
       "      <td>24</td>\n",
       "      <td>50</td>\n",
       "      <td>152</td>\n",
       "      <td>1</td>\n",
       "      <td>below_1_year</td>\n",
       "      <td>0</td>\n",
       "      <td>1</td>\n",
       "      <td>2630.0</td>\n",
       "      <td>205</td>\n",
       "      <td>0</td>\n",
       "    </tr>\n",
       "  </tbody>\n",
       "</table>\n",
       "<p>304887 rows × 12 columns</p>\n",
       "</div>"
      ],
      "text/plain": [
       "            id  gender  age  region_code  policy_sales_channel  driving_license        vehicle_age  vehicle_damage  vehicle_prev_insured  health_annual_paid  days_associated  response\n",
       "332579  332580  Female   37            2                   156                1  between_1_2_years               1                     0              2630.0              229         0\n",
       "318275  318276  Female   28           33                   152                1       below_1_year               0                     1             28509.0              188         0\n",
       "192458  192459  Female   40           28                   124                1  between_1_2_years               0                     0             28499.0              238         0\n",
       "126596  126597  Female   25           11                   152                1       below_1_year               0                     1             69023.0              264         0\n",
       "318789  318790  Female   20           25                   160                1       below_1_year               0                     1              2630.0              102         0\n",
       "...        ...     ...  ...          ...                   ...              ...                ...             ...                   ...                 ...              ...       ...\n",
       "95668    95669    Male   24           14                   152                1       below_1_year               0                     1             27831.0              256         0\n",
       "67756    67757  Female   23           48                   152                1       below_1_year               1                     0              2630.0              174         1\n",
       "235038  235039    Male   21           46                   160                1       below_1_year               0                     1             27712.0               16         0\n",
       "157375  157376    Male   49           26                   124                1  between_1_2_years               1                     0             36467.0               17         0\n",
       "161430  161431    Male   24           50                   152                1       below_1_year               0                     1              2630.0              205         0\n",
       "\n",
       "[304887 rows x 12 columns]"
      ]
     },
     "execution_count": 97,
     "metadata": {},
     "output_type": "execute_result"
    }
   ],
   "source": [
    "df4 = pd.read_csv(datapath+'df3_feature_engeneering_done.csv', index_col=0)\n",
    "df4"
   ]
  },
  {
   "cell_type": "markdown",
   "id": "84b7d513",
   "metadata": {
    "hidden": true
   },
   "source": [
    "## Standardization"
   ]
  },
  {
   "cell_type": "markdown",
   "id": "814ebb53",
   "metadata": {
    "hidden": true
   },
   "source": [
    "For numeric vars with normal distribution.\n",
    "\n",
    "- health_annual_paid has normal distribution, as filtered previously (health_annual_paid < 80000).\n",
    "\n",
    "Values outside this range could be removed if considered outliers, but it is not clear if they are.\n",
    "\n",
    "Let's standardise them in 1st Crisp cycle then."
   ]
  },
  {
   "cell_type": "code",
   "execution_count": 82,
   "id": "b2c26bde",
   "metadata": {
    "ExecuteTime": {
     "end_time": "2022-04-06T20:03:42.108057Z",
     "start_time": "2022-04-06T20:03:42.081629Z"
    },
    "hidden": true
   },
   "outputs": [],
   "source": [
    "#health_annual_paid -> StandardScaler\n",
    "ss = pp.StandardScaler()\n",
    "df4['health_annual_paid'] = ss.fit_transform( df4[['health_annual_paid']].values )\n",
    "pickle.dump (ss, open (featurepath+'health_annual_paid_scaler.pkl', 'wb') )"
   ]
  },
  {
   "cell_type": "markdown",
   "id": "05acdafa",
   "metadata": {
    "hidden": true
   },
   "source": [
    "## Rescaling\n"
   ]
  },
  {
   "cell_type": "markdown",
   "id": "9d216efd",
   "metadata": {
    "hidden": true
   },
   "source": [
    "For numeric vars with NOT normal distribution."
   ]
  },
  {
   "cell_type": "code",
   "execution_count": 52,
   "id": "82db005d",
   "metadata": {
    "ExecuteTime": {
     "end_time": "2022-04-05T21:35:49.090400Z",
     "start_time": "2022-04-05T21:35:48.965682Z"
    },
    "hidden": true
   },
   "outputs": [],
   "source": [
    "# MinMaxScaler (few outliers)\n",
    "mms_age = pp.MinMaxScaler()\n",
    "mms_days_assoc = pp.MinMaxScaler()\n",
    "\n",
    "#age\n",
    "df4['age'] = mms_age.fit_transform( df4[['age']].values )\n",
    "pickle.dump (mms_age, open (featurepath+'age_scaler.pkl', 'wb') )\n",
    "\n",
    "#days_associated\n",
    "df4['days_associated'] = mms_days_assoc.fit_transform( df4[['days_associated']].values )\n",
    "pickle.dump (mms_days_assoc, open (featurepath+'days_assoc_scaler.pkl', 'wb') )"
   ]
  },
  {
   "cell_type": "markdown",
   "id": "96714b55",
   "metadata": {
    "hidden": true
   },
   "source": [
    "## Encoding"
   ]
  },
  {
   "cell_type": "markdown",
   "id": "0b42a830",
   "metadata": {
    "hidden": true
   },
   "source": [
    "Transform categorical variables into numeric.\n",
    "\n",
    "Some variables are aleready encoded (0 and 1): driving_license, vehicle_prev_insured, vehicle_damage"
   ]
  },
  {
   "cell_type": "code",
   "execution_count": 53,
   "id": "829ad6a5",
   "metadata": {
    "ExecuteTime": {
     "end_time": "2022-04-05T21:35:55.552524Z",
     "start_time": "2022-04-05T21:35:55.277783Z"
    },
    "hidden": true
   },
   "outputs": [],
   "source": [
    "#gender: one hot encoder / target encoder (let's use target encoding)\n",
    "gender_target_encoder = df4.groupby('gender')['response'].mean()\n",
    "df4.loc[:,'gender'] = df4['gender'].map(gender_target_encoder)\n",
    "pickle.dump (gender_target_encoder, open (featurepath+'gender_target_encoder.pkl', 'wb') )\n",
    "\n",
    "#region_code: requency encoding / target encoding / weighted target encoding  (let's use target encoding)\n",
    "region_code_target_encoder = df4.groupby('region_code')['response'].mean()\n",
    "df4.loc[:,'region_code'] = df4['region_code'].map(region_code_target_encoder)\n",
    "pickle.dump (region_code_target_encoder, open (featurepath+'region_code_target_encoder.pkl', 'wb') )\n",
    "\n",
    "#vehicle_age: one hot encoding / Label Encoding / frequency encoding (let's use one hot encoding)\n",
    "df4 = pd.get_dummies( df4, prefix='vehicle_age', columns=['vehicle_age'] )\n",
    "\n",
    "#policy_sales_channel: frequency encoding / target encoding (let's use frequency encoding)\n",
    "policy_sales_freq_encoder = df4.groupby('policy_sales_channel').size() / len (df4)\n",
    "df4.loc[:,'policy_sales_channel'] = df4['policy_sales_channel'].map(policy_sales_freq_encoder)\n",
    "pickle.dump (policy_sales_freq_encoder, open (featurepath+'policy_sales_freq_encoder.pkl', 'wb') )"
   ]
  },
  {
   "cell_type": "code",
   "execution_count": 54,
   "id": "ceae0ffc",
   "metadata": {
    "ExecuteTime": {
     "end_time": "2022-04-05T21:35:59.604399Z",
     "start_time": "2022-04-05T21:35:59.574711Z"
    },
    "hidden": true
   },
   "outputs": [
    {
     "data": {
      "text/html": [
       "<div>\n",
       "<style scoped>\n",
       "    .dataframe tbody tr th:only-of-type {\n",
       "        vertical-align: middle;\n",
       "    }\n",
       "\n",
       "    .dataframe tbody tr th {\n",
       "        vertical-align: top;\n",
       "    }\n",
       "\n",
       "    .dataframe thead th {\n",
       "        text-align: right;\n",
       "    }\n",
       "</style>\n",
       "<table border=\"1\" class=\"dataframe\">\n",
       "  <thead>\n",
       "    <tr style=\"text-align: right;\">\n",
       "      <th></th>\n",
       "      <th>id</th>\n",
       "      <th>gender</th>\n",
       "      <th>age</th>\n",
       "      <th>region_code</th>\n",
       "      <th>policy_sales_channel</th>\n",
       "      <th>driving_license</th>\n",
       "      <th>vehicle_damage</th>\n",
       "      <th>vehicle_prev_insured</th>\n",
       "      <th>health_annual_paid</th>\n",
       "      <th>days_associated</th>\n",
       "      <th>response</th>\n",
       "      <th>vehicle_age_below_1_year</th>\n",
       "      <th>vehicle_age_between_1_2_years</th>\n",
       "      <th>vehicle_age_over_2_years</th>\n",
       "    </tr>\n",
       "  </thead>\n",
       "  <tbody>\n",
       "    <tr>\n",
       "      <th>332579</th>\n",
       "      <td>332580</td>\n",
       "      <td>0.103991</td>\n",
       "      <td>0.261538</td>\n",
       "      <td>0.070701</td>\n",
       "      <td>0.028076</td>\n",
       "      <td>1</td>\n",
       "      <td>1</td>\n",
       "      <td>0</td>\n",
       "      <td>-1.625561</td>\n",
       "      <td>0.757785</td>\n",
       "      <td>0</td>\n",
       "      <td>0</td>\n",
       "      <td>1</td>\n",
       "      <td>0</td>\n",
       "    </tr>\n",
       "    <tr>\n",
       "      <th>318275</th>\n",
       "      <td>318276</td>\n",
       "      <td>0.103991</td>\n",
       "      <td>0.123077</td>\n",
       "      <td>0.101226</td>\n",
       "      <td>0.353482</td>\n",
       "      <td>1</td>\n",
       "      <td>0</td>\n",
       "      <td>1</td>\n",
       "      <td>-0.119045</td>\n",
       "      <td>0.615917</td>\n",
       "      <td>0</td>\n",
       "      <td>1</td>\n",
       "      <td>0</td>\n",
       "      <td>0</td>\n",
       "    </tr>\n",
       "    <tr>\n",
       "      <th>192458</th>\n",
       "      <td>192459</td>\n",
       "      <td>0.103991</td>\n",
       "      <td>0.307692</td>\n",
       "      <td>0.186638</td>\n",
       "      <td>0.193626</td>\n",
       "      <td>1</td>\n",
       "      <td>0</td>\n",
       "      <td>0</td>\n",
       "      <td>-0.119627</td>\n",
       "      <td>0.788927</td>\n",
       "      <td>0</td>\n",
       "      <td>0</td>\n",
       "      <td>1</td>\n",
       "      <td>0</td>\n",
       "    </tr>\n",
       "    <tr>\n",
       "      <th>126596</th>\n",
       "      <td>126597</td>\n",
       "      <td>0.103991</td>\n",
       "      <td>0.076923</td>\n",
       "      <td>0.116003</td>\n",
       "      <td>0.353482</td>\n",
       "      <td>1</td>\n",
       "      <td>0</td>\n",
       "      <td>1</td>\n",
       "      <td>2.239430</td>\n",
       "      <td>0.878893</td>\n",
       "      <td>0</td>\n",
       "      <td>1</td>\n",
       "      <td>0</td>\n",
       "      <td>0</td>\n",
       "    </tr>\n",
       "    <tr>\n",
       "      <th>318789</th>\n",
       "      <td>318790</td>\n",
       "      <td>0.103991</td>\n",
       "      <td>0.000000</td>\n",
       "      <td>0.041289</td>\n",
       "      <td>0.057067</td>\n",
       "      <td>1</td>\n",
       "      <td>0</td>\n",
       "      <td>1</td>\n",
       "      <td>-1.625561</td>\n",
       "      <td>0.318339</td>\n",
       "      <td>0</td>\n",
       "      <td>1</td>\n",
       "      <td>0</td>\n",
       "      <td>0</td>\n",
       "    </tr>\n",
       "    <tr>\n",
       "      <th>...</th>\n",
       "      <td>...</td>\n",
       "      <td>...</td>\n",
       "      <td>...</td>\n",
       "      <td>...</td>\n",
       "      <td>...</td>\n",
       "      <td>...</td>\n",
       "      <td>...</td>\n",
       "      <td>...</td>\n",
       "      <td>...</td>\n",
       "      <td>...</td>\n",
       "      <td>...</td>\n",
       "      <td>...</td>\n",
       "      <td>...</td>\n",
       "      <td>...</td>\n",
       "    </tr>\n",
       "    <tr>\n",
       "      <th>95668</th>\n",
       "      <td>95669</td>\n",
       "      <td>0.138355</td>\n",
       "      <td>0.061538</td>\n",
       "      <td>0.090812</td>\n",
       "      <td>0.353482</td>\n",
       "      <td>1</td>\n",
       "      <td>0</td>\n",
       "      <td>1</td>\n",
       "      <td>-0.158514</td>\n",
       "      <td>0.851211</td>\n",
       "      <td>0</td>\n",
       "      <td>1</td>\n",
       "      <td>0</td>\n",
       "      <td>0</td>\n",
       "    </tr>\n",
       "    <tr>\n",
       "      <th>67756</th>\n",
       "      <td>67757</td>\n",
       "      <td>0.103991</td>\n",
       "      <td>0.046154</td>\n",
       "      <td>0.101256</td>\n",
       "      <td>0.353482</td>\n",
       "      <td>1</td>\n",
       "      <td>1</td>\n",
       "      <td>0</td>\n",
       "      <td>-1.625561</td>\n",
       "      <td>0.567474</td>\n",
       "      <td>1</td>\n",
       "      <td>1</td>\n",
       "      <td>0</td>\n",
       "      <td>0</td>\n",
       "    </tr>\n",
       "    <tr>\n",
       "      <th>235038</th>\n",
       "      <td>235039</td>\n",
       "      <td>0.138355</td>\n",
       "      <td>0.015385</td>\n",
       "      <td>0.103851</td>\n",
       "      <td>0.057067</td>\n",
       "      <td>1</td>\n",
       "      <td>0</td>\n",
       "      <td>1</td>\n",
       "      <td>-0.165441</td>\n",
       "      <td>0.020761</td>\n",
       "      <td>0</td>\n",
       "      <td>1</td>\n",
       "      <td>0</td>\n",
       "      <td>0</td>\n",
       "    </tr>\n",
       "    <tr>\n",
       "      <th>157375</th>\n",
       "      <td>157376</td>\n",
       "      <td>0.138355</td>\n",
       "      <td>0.446154</td>\n",
       "      <td>0.071463</td>\n",
       "      <td>0.193626</td>\n",
       "      <td>1</td>\n",
       "      <td>1</td>\n",
       "      <td>0</td>\n",
       "      <td>0.344221</td>\n",
       "      <td>0.024221</td>\n",
       "      <td>0</td>\n",
       "      <td>0</td>\n",
       "      <td>1</td>\n",
       "      <td>0</td>\n",
       "    </tr>\n",
       "    <tr>\n",
       "      <th>161430</th>\n",
       "      <td>161431</td>\n",
       "      <td>0.138355</td>\n",
       "      <td>0.061538</td>\n",
       "      <td>0.063506</td>\n",
       "      <td>0.353482</td>\n",
       "      <td>1</td>\n",
       "      <td>0</td>\n",
       "      <td>1</td>\n",
       "      <td>-1.625561</td>\n",
       "      <td>0.674740</td>\n",
       "      <td>0</td>\n",
       "      <td>1</td>\n",
       "      <td>0</td>\n",
       "      <td>0</td>\n",
       "    </tr>\n",
       "  </tbody>\n",
       "</table>\n",
       "<p>304887 rows × 14 columns</p>\n",
       "</div>"
      ],
      "text/plain": [
       "            id    gender       age  region_code  policy_sales_channel  driving_license  vehicle_damage  vehicle_prev_insured  health_annual_paid  days_associated  response  vehicle_age_below_1_year  vehicle_age_between_1_2_years  vehicle_age_over_2_years\n",
       "332579  332580  0.103991  0.261538     0.070701              0.028076                1               1                     0           -1.625561         0.757785         0                         0                              1                         0\n",
       "318275  318276  0.103991  0.123077     0.101226              0.353482                1               0                     1           -0.119045         0.615917         0                         1                              0                         0\n",
       "192458  192459  0.103991  0.307692     0.186638              0.193626                1               0                     0           -0.119627         0.788927         0                         0                              1                         0\n",
       "126596  126597  0.103991  0.076923     0.116003              0.353482                1               0                     1            2.239430         0.878893         0                         1                              0                         0\n",
       "318789  318790  0.103991  0.000000     0.041289              0.057067                1               0                     1           -1.625561         0.318339         0                         1                              0                         0\n",
       "...        ...       ...       ...          ...                   ...              ...             ...                   ...                 ...              ...       ...                       ...                            ...                       ...\n",
       "95668    95669  0.138355  0.061538     0.090812              0.353482                1               0                     1           -0.158514         0.851211         0                         1                              0                         0\n",
       "67756    67757  0.103991  0.046154     0.101256              0.353482                1               1                     0           -1.625561         0.567474         1                         1                              0                         0\n",
       "235038  235039  0.138355  0.015385     0.103851              0.057067                1               0                     1           -0.165441         0.020761         0                         1                              0                         0\n",
       "157375  157376  0.138355  0.446154     0.071463              0.193626                1               1                     0            0.344221         0.024221         0                         0                              1                         0\n",
       "161430  161431  0.138355  0.061538     0.063506              0.353482                1               0                     1           -1.625561         0.674740         0                         1                              0                         0\n",
       "\n",
       "[304887 rows x 14 columns]"
      ]
     },
     "execution_count": 54,
     "metadata": {},
     "output_type": "execute_result"
    }
   ],
   "source": [
    "# Prepared Training dataset:\n",
    "df4"
   ]
  },
  {
   "cell_type": "markdown",
   "id": "80af122f",
   "metadata": {
    "hidden": true
   },
   "source": [
    "## Test Preparation"
   ]
  },
  {
   "cell_type": "markdown",
   "id": "dd4d3784",
   "metadata": {
    "hidden": true
   },
   "source": [
    "Replicate the transformation done in Training(df4) to x_test dataset."
   ]
  },
  {
   "cell_type": "code",
   "execution_count": 55,
   "id": "a271c1d3",
   "metadata": {
    "ExecuteTime": {
     "end_time": "2022-04-05T21:36:31.776868Z",
     "start_time": "2022-04-05T21:36:31.724770Z"
    },
    "hidden": true
   },
   "outputs": [
    {
     "data": {
      "text/html": [
       "<div>\n",
       "<style scoped>\n",
       "    .dataframe tbody tr th:only-of-type {\n",
       "        vertical-align: middle;\n",
       "    }\n",
       "\n",
       "    .dataframe tbody tr th {\n",
       "        vertical-align: top;\n",
       "    }\n",
       "\n",
       "    .dataframe thead th {\n",
       "        text-align: right;\n",
       "    }\n",
       "</style>\n",
       "<table border=\"1\" class=\"dataframe\">\n",
       "  <thead>\n",
       "    <tr style=\"text-align: right;\">\n",
       "      <th></th>\n",
       "      <th>id</th>\n",
       "      <th>gender</th>\n",
       "      <th>age</th>\n",
       "      <th>region_code</th>\n",
       "      <th>policy_sales_channel</th>\n",
       "      <th>driving_license</th>\n",
       "      <th>vehicle_age</th>\n",
       "      <th>vehicle_damage</th>\n",
       "      <th>vehicle_prev_insured</th>\n",
       "      <th>health_annual_paid</th>\n",
       "      <th>days_associated</th>\n",
       "    </tr>\n",
       "  </thead>\n",
       "  <tbody>\n",
       "    <tr>\n",
       "      <th>275163</th>\n",
       "      <td>275164</td>\n",
       "      <td>Female</td>\n",
       "      <td>24</td>\n",
       "      <td>41</td>\n",
       "      <td>152</td>\n",
       "      <td>1</td>\n",
       "      <td>&lt; 1 Year</td>\n",
       "      <td>No</td>\n",
       "      <td>1</td>\n",
       "      <td>31696.0</td>\n",
       "      <td>62</td>\n",
       "    </tr>\n",
       "    <tr>\n",
       "      <th>228955</th>\n",
       "      <td>228956</td>\n",
       "      <td>Female</td>\n",
       "      <td>39</td>\n",
       "      <td>41</td>\n",
       "      <td>124</td>\n",
       "      <td>1</td>\n",
       "      <td>1-2 Year</td>\n",
       "      <td>Yes</td>\n",
       "      <td>0</td>\n",
       "      <td>34202.0</td>\n",
       "      <td>188</td>\n",
       "    </tr>\n",
       "    <tr>\n",
       "      <th>183986</th>\n",
       "      <td>183987</td>\n",
       "      <td>Female</td>\n",
       "      <td>25</td>\n",
       "      <td>39</td>\n",
       "      <td>152</td>\n",
       "      <td>1</td>\n",
       "      <td>&lt; 1 Year</td>\n",
       "      <td>No</td>\n",
       "      <td>0</td>\n",
       "      <td>31140.0</td>\n",
       "      <td>200</td>\n",
       "    </tr>\n",
       "    <tr>\n",
       "      <th>272782</th>\n",
       "      <td>272783</td>\n",
       "      <td>Female</td>\n",
       "      <td>67</td>\n",
       "      <td>28</td>\n",
       "      <td>26</td>\n",
       "      <td>1</td>\n",
       "      <td>&gt; 2 Years</td>\n",
       "      <td>Yes</td>\n",
       "      <td>0</td>\n",
       "      <td>2630.0</td>\n",
       "      <td>17</td>\n",
       "    </tr>\n",
       "    <tr>\n",
       "      <th>24900</th>\n",
       "      <td>24901</td>\n",
       "      <td>Male</td>\n",
       "      <td>23</td>\n",
       "      <td>46</td>\n",
       "      <td>152</td>\n",
       "      <td>1</td>\n",
       "      <td>&lt; 1 Year</td>\n",
       "      <td>No</td>\n",
       "      <td>1</td>\n",
       "      <td>32159.0</td>\n",
       "      <td>149</td>\n",
       "    </tr>\n",
       "    <tr>\n",
       "      <th>...</th>\n",
       "      <td>...</td>\n",
       "      <td>...</td>\n",
       "      <td>...</td>\n",
       "      <td>...</td>\n",
       "      <td>...</td>\n",
       "      <td>...</td>\n",
       "      <td>...</td>\n",
       "      <td>...</td>\n",
       "      <td>...</td>\n",
       "      <td>...</td>\n",
       "      <td>...</td>\n",
       "    </tr>\n",
       "    <tr>\n",
       "      <th>327865</th>\n",
       "      <td>327866</td>\n",
       "      <td>Male</td>\n",
       "      <td>27</td>\n",
       "      <td>33</td>\n",
       "      <td>152</td>\n",
       "      <td>1</td>\n",
       "      <td>&lt; 1 Year</td>\n",
       "      <td>No</td>\n",
       "      <td>1</td>\n",
       "      <td>32955.0</td>\n",
       "      <td>23</td>\n",
       "    </tr>\n",
       "    <tr>\n",
       "      <th>18930</th>\n",
       "      <td>18931</td>\n",
       "      <td>Male</td>\n",
       "      <td>49</td>\n",
       "      <td>40</td>\n",
       "      <td>124</td>\n",
       "      <td>1</td>\n",
       "      <td>&gt; 2 Years</td>\n",
       "      <td>Yes</td>\n",
       "      <td>0</td>\n",
       "      <td>2630.0</td>\n",
       "      <td>277</td>\n",
       "    </tr>\n",
       "    <tr>\n",
       "      <th>135229</th>\n",
       "      <td>135230</td>\n",
       "      <td>Male</td>\n",
       "      <td>24</td>\n",
       "      <td>27</td>\n",
       "      <td>152</td>\n",
       "      <td>1</td>\n",
       "      <td>&lt; 1 Year</td>\n",
       "      <td>No</td>\n",
       "      <td>0</td>\n",
       "      <td>26595.0</td>\n",
       "      <td>277</td>\n",
       "    </tr>\n",
       "    <tr>\n",
       "      <th>105049</th>\n",
       "      <td>105050</td>\n",
       "      <td>Male</td>\n",
       "      <td>22</td>\n",
       "      <td>29</td>\n",
       "      <td>152</td>\n",
       "      <td>1</td>\n",
       "      <td>&lt; 1 Year</td>\n",
       "      <td>No</td>\n",
       "      <td>1</td>\n",
       "      <td>42844.0</td>\n",
       "      <td>140</td>\n",
       "    </tr>\n",
       "    <tr>\n",
       "      <th>187934</th>\n",
       "      <td>187935</td>\n",
       "      <td>Female</td>\n",
       "      <td>32</td>\n",
       "      <td>50</td>\n",
       "      <td>152</td>\n",
       "      <td>1</td>\n",
       "      <td>&lt; 1 Year</td>\n",
       "      <td>No</td>\n",
       "      <td>1</td>\n",
       "      <td>27098.0</td>\n",
       "      <td>236</td>\n",
       "    </tr>\n",
       "  </tbody>\n",
       "</table>\n",
       "<p>76222 rows × 11 columns</p>\n",
       "</div>"
      ],
      "text/plain": [
       "            id  gender  age  region_code  policy_sales_channel  driving_license vehicle_age vehicle_damage  vehicle_prev_insured  health_annual_paid  days_associated\n",
       "275163  275164  Female   24           41                   152                1    < 1 Year             No                     1             31696.0               62\n",
       "228955  228956  Female   39           41                   124                1    1-2 Year            Yes                     0             34202.0              188\n",
       "183986  183987  Female   25           39                   152                1    < 1 Year             No                     0             31140.0              200\n",
       "272782  272783  Female   67           28                    26                1   > 2 Years            Yes                     0              2630.0               17\n",
       "24900    24901    Male   23           46                   152                1    < 1 Year             No                     1             32159.0              149\n",
       "...        ...     ...  ...          ...                   ...              ...         ...            ...                   ...                 ...              ...\n",
       "327865  327866    Male   27           33                   152                1    < 1 Year             No                     1             32955.0               23\n",
       "18930    18931    Male   49           40                   124                1   > 2 Years            Yes                     0              2630.0              277\n",
       "135229  135230    Male   24           27                   152                1    < 1 Year             No                     0             26595.0              277\n",
       "105049  105050    Male   22           29                   152                1    < 1 Year             No                     1             42844.0              140\n",
       "187934  187935  Female   32           50                   152                1    < 1 Year             No                     1             27098.0              236\n",
       "\n",
       "[76222 rows x 11 columns]"
      ]
     },
     "execution_count": 55,
     "metadata": {},
     "output_type": "execute_result"
    }
   ],
   "source": [
    "#load x_test and y_test from test data.\n",
    "#x_test = pd.read_csv(datapath+'full_test_data.csv.csv', index_col=0)\n",
    "x_test = df_test\n",
    "y_test = x_test['response']\n",
    "x_test = x_test.drop('response', axis=1)\n",
    "x_test"
   ]
  },
  {
   "cell_type": "code",
   "execution_count": 56,
   "id": "f9d433c1",
   "metadata": {
    "ExecuteTime": {
     "end_time": "2022-04-05T21:36:34.442050Z",
     "start_time": "2022-04-05T21:36:34.412708Z"
    },
    "hidden": true
   },
   "outputs": [
    {
     "data": {
      "text/html": [
       "<div>\n",
       "<style scoped>\n",
       "    .dataframe tbody tr th:only-of-type {\n",
       "        vertical-align: middle;\n",
       "    }\n",
       "\n",
       "    .dataframe tbody tr th {\n",
       "        vertical-align: top;\n",
       "    }\n",
       "\n",
       "    .dataframe thead th {\n",
       "        text-align: right;\n",
       "    }\n",
       "</style>\n",
       "<table border=\"1\" class=\"dataframe\">\n",
       "  <thead>\n",
       "    <tr style=\"text-align: right;\">\n",
       "      <th></th>\n",
       "      <th>id</th>\n",
       "      <th>gender</th>\n",
       "      <th>age</th>\n",
       "      <th>region_code</th>\n",
       "      <th>policy_sales_channel</th>\n",
       "      <th>driving_license</th>\n",
       "      <th>vehicle_age</th>\n",
       "      <th>vehicle_damage</th>\n",
       "      <th>vehicle_prev_insured</th>\n",
       "      <th>health_annual_paid</th>\n",
       "      <th>days_associated</th>\n",
       "    </tr>\n",
       "  </thead>\n",
       "  <tbody>\n",
       "    <tr>\n",
       "      <th>275163</th>\n",
       "      <td>275164</td>\n",
       "      <td>Female</td>\n",
       "      <td>24</td>\n",
       "      <td>41</td>\n",
       "      <td>152</td>\n",
       "      <td>1</td>\n",
       "      <td>&lt; 1 Year</td>\n",
       "      <td>No</td>\n",
       "      <td>1</td>\n",
       "      <td>31696.0</td>\n",
       "      <td>62</td>\n",
       "    </tr>\n",
       "    <tr>\n",
       "      <th>228955</th>\n",
       "      <td>228956</td>\n",
       "      <td>Female</td>\n",
       "      <td>39</td>\n",
       "      <td>41</td>\n",
       "      <td>124</td>\n",
       "      <td>1</td>\n",
       "      <td>1-2 Year</td>\n",
       "      <td>Yes</td>\n",
       "      <td>0</td>\n",
       "      <td>34202.0</td>\n",
       "      <td>188</td>\n",
       "    </tr>\n",
       "    <tr>\n",
       "      <th>183986</th>\n",
       "      <td>183987</td>\n",
       "      <td>Female</td>\n",
       "      <td>25</td>\n",
       "      <td>39</td>\n",
       "      <td>152</td>\n",
       "      <td>1</td>\n",
       "      <td>&lt; 1 Year</td>\n",
       "      <td>No</td>\n",
       "      <td>0</td>\n",
       "      <td>31140.0</td>\n",
       "      <td>200</td>\n",
       "    </tr>\n",
       "    <tr>\n",
       "      <th>272782</th>\n",
       "      <td>272783</td>\n",
       "      <td>Female</td>\n",
       "      <td>67</td>\n",
       "      <td>28</td>\n",
       "      <td>26</td>\n",
       "      <td>1</td>\n",
       "      <td>&gt; 2 Years</td>\n",
       "      <td>Yes</td>\n",
       "      <td>0</td>\n",
       "      <td>2630.0</td>\n",
       "      <td>17</td>\n",
       "    </tr>\n",
       "    <tr>\n",
       "      <th>24900</th>\n",
       "      <td>24901</td>\n",
       "      <td>Male</td>\n",
       "      <td>23</td>\n",
       "      <td>46</td>\n",
       "      <td>152</td>\n",
       "      <td>1</td>\n",
       "      <td>&lt; 1 Year</td>\n",
       "      <td>No</td>\n",
       "      <td>1</td>\n",
       "      <td>32159.0</td>\n",
       "      <td>149</td>\n",
       "    </tr>\n",
       "    <tr>\n",
       "      <th>...</th>\n",
       "      <td>...</td>\n",
       "      <td>...</td>\n",
       "      <td>...</td>\n",
       "      <td>...</td>\n",
       "      <td>...</td>\n",
       "      <td>...</td>\n",
       "      <td>...</td>\n",
       "      <td>...</td>\n",
       "      <td>...</td>\n",
       "      <td>...</td>\n",
       "      <td>...</td>\n",
       "    </tr>\n",
       "    <tr>\n",
       "      <th>327865</th>\n",
       "      <td>327866</td>\n",
       "      <td>Male</td>\n",
       "      <td>27</td>\n",
       "      <td>33</td>\n",
       "      <td>152</td>\n",
       "      <td>1</td>\n",
       "      <td>&lt; 1 Year</td>\n",
       "      <td>No</td>\n",
       "      <td>1</td>\n",
       "      <td>32955.0</td>\n",
       "      <td>23</td>\n",
       "    </tr>\n",
       "    <tr>\n",
       "      <th>18930</th>\n",
       "      <td>18931</td>\n",
       "      <td>Male</td>\n",
       "      <td>49</td>\n",
       "      <td>40</td>\n",
       "      <td>124</td>\n",
       "      <td>1</td>\n",
       "      <td>&gt; 2 Years</td>\n",
       "      <td>Yes</td>\n",
       "      <td>0</td>\n",
       "      <td>2630.0</td>\n",
       "      <td>277</td>\n",
       "    </tr>\n",
       "    <tr>\n",
       "      <th>135229</th>\n",
       "      <td>135230</td>\n",
       "      <td>Male</td>\n",
       "      <td>24</td>\n",
       "      <td>27</td>\n",
       "      <td>152</td>\n",
       "      <td>1</td>\n",
       "      <td>&lt; 1 Year</td>\n",
       "      <td>No</td>\n",
       "      <td>0</td>\n",
       "      <td>26595.0</td>\n",
       "      <td>277</td>\n",
       "    </tr>\n",
       "    <tr>\n",
       "      <th>105049</th>\n",
       "      <td>105050</td>\n",
       "      <td>Male</td>\n",
       "      <td>22</td>\n",
       "      <td>29</td>\n",
       "      <td>152</td>\n",
       "      <td>1</td>\n",
       "      <td>&lt; 1 Year</td>\n",
       "      <td>No</td>\n",
       "      <td>1</td>\n",
       "      <td>42844.0</td>\n",
       "      <td>140</td>\n",
       "    </tr>\n",
       "    <tr>\n",
       "      <th>187934</th>\n",
       "      <td>187935</td>\n",
       "      <td>Female</td>\n",
       "      <td>32</td>\n",
       "      <td>50</td>\n",
       "      <td>152</td>\n",
       "      <td>1</td>\n",
       "      <td>&lt; 1 Year</td>\n",
       "      <td>No</td>\n",
       "      <td>1</td>\n",
       "      <td>27098.0</td>\n",
       "      <td>236</td>\n",
       "    </tr>\n",
       "  </tbody>\n",
       "</table>\n",
       "<p>76222 rows × 11 columns</p>\n",
       "</div>"
      ],
      "text/plain": [
       "            id  gender  age  region_code  policy_sales_channel  driving_license vehicle_age vehicle_damage  vehicle_prev_insured  health_annual_paid  days_associated\n",
       "275163  275164  Female   24           41                   152                1    < 1 Year             No                     1             31696.0               62\n",
       "228955  228956  Female   39           41                   124                1    1-2 Year            Yes                     0             34202.0              188\n",
       "183986  183987  Female   25           39                   152                1    < 1 Year             No                     0             31140.0              200\n",
       "272782  272783  Female   67           28                    26                1   > 2 Years            Yes                     0              2630.0               17\n",
       "24900    24901    Male   23           46                   152                1    < 1 Year             No                     1             32159.0              149\n",
       "...        ...     ...  ...          ...                   ...              ...         ...            ...                   ...                 ...              ...\n",
       "327865  327866    Male   27           33                   152                1    < 1 Year             No                     1             32955.0               23\n",
       "18930    18931    Male   49           40                   124                1   > 2 Years            Yes                     0              2630.0              277\n",
       "135229  135230    Male   24           27                   152                1    < 1 Year             No                     0             26595.0              277\n",
       "105049  105050    Male   22           29                   152                1    < 1 Year             No                     1             42844.0              140\n",
       "187934  187935  Female   32           50                   152                1    < 1 Year             No                     1             27098.0              236\n",
       "\n",
       "[76222 rows x 11 columns]"
      ]
     },
     "execution_count": 56,
     "metadata": {},
     "output_type": "execute_result"
    }
   ],
   "source": [
    "x_test"
   ]
  },
  {
   "cell_type": "code",
   "execution_count": 57,
   "id": "16ae1f90",
   "metadata": {
    "ExecuteTime": {
     "end_time": "2022-04-05T21:36:35.612620Z",
     "start_time": "2022-04-05T21:36:35.575703Z"
    },
    "hidden": true
   },
   "outputs": [
    {
     "data": {
      "text/html": [
       "<div>\n",
       "<style scoped>\n",
       "    .dataframe tbody tr th:only-of-type {\n",
       "        vertical-align: middle;\n",
       "    }\n",
       "\n",
       "    .dataframe tbody tr th {\n",
       "        vertical-align: top;\n",
       "    }\n",
       "\n",
       "    .dataframe thead th {\n",
       "        text-align: right;\n",
       "    }\n",
       "</style>\n",
       "<table border=\"1\" class=\"dataframe\">\n",
       "  <thead>\n",
       "    <tr style=\"text-align: right;\">\n",
       "      <th></th>\n",
       "      <th>id</th>\n",
       "      <th>gender</th>\n",
       "      <th>age</th>\n",
       "      <th>region_code</th>\n",
       "      <th>policy_sales_channel</th>\n",
       "      <th>driving_license</th>\n",
       "      <th>vehicle_age</th>\n",
       "      <th>vehicle_damage</th>\n",
       "      <th>vehicle_prev_insured</th>\n",
       "      <th>health_annual_paid</th>\n",
       "      <th>days_associated</th>\n",
       "      <th>response</th>\n",
       "    </tr>\n",
       "  </thead>\n",
       "  <tbody>\n",
       "    <tr>\n",
       "      <th>275163</th>\n",
       "      <td>275164</td>\n",
       "      <td>Female</td>\n",
       "      <td>24</td>\n",
       "      <td>41</td>\n",
       "      <td>152</td>\n",
       "      <td>1</td>\n",
       "      <td>&lt; 1 Year</td>\n",
       "      <td>No</td>\n",
       "      <td>1</td>\n",
       "      <td>31696.0</td>\n",
       "      <td>62</td>\n",
       "      <td>0</td>\n",
       "    </tr>\n",
       "    <tr>\n",
       "      <th>228955</th>\n",
       "      <td>228956</td>\n",
       "      <td>Female</td>\n",
       "      <td>39</td>\n",
       "      <td>41</td>\n",
       "      <td>124</td>\n",
       "      <td>1</td>\n",
       "      <td>1-2 Year</td>\n",
       "      <td>Yes</td>\n",
       "      <td>0</td>\n",
       "      <td>34202.0</td>\n",
       "      <td>188</td>\n",
       "      <td>0</td>\n",
       "    </tr>\n",
       "    <tr>\n",
       "      <th>183986</th>\n",
       "      <td>183987</td>\n",
       "      <td>Female</td>\n",
       "      <td>25</td>\n",
       "      <td>39</td>\n",
       "      <td>152</td>\n",
       "      <td>1</td>\n",
       "      <td>&lt; 1 Year</td>\n",
       "      <td>No</td>\n",
       "      <td>0</td>\n",
       "      <td>31140.0</td>\n",
       "      <td>200</td>\n",
       "      <td>0</td>\n",
       "    </tr>\n",
       "    <tr>\n",
       "      <th>272782</th>\n",
       "      <td>272783</td>\n",
       "      <td>Female</td>\n",
       "      <td>67</td>\n",
       "      <td>28</td>\n",
       "      <td>26</td>\n",
       "      <td>1</td>\n",
       "      <td>&gt; 2 Years</td>\n",
       "      <td>Yes</td>\n",
       "      <td>0</td>\n",
       "      <td>2630.0</td>\n",
       "      <td>17</td>\n",
       "      <td>0</td>\n",
       "    </tr>\n",
       "    <tr>\n",
       "      <th>24900</th>\n",
       "      <td>24901</td>\n",
       "      <td>Male</td>\n",
       "      <td>23</td>\n",
       "      <td>46</td>\n",
       "      <td>152</td>\n",
       "      <td>1</td>\n",
       "      <td>&lt; 1 Year</td>\n",
       "      <td>No</td>\n",
       "      <td>1</td>\n",
       "      <td>32159.0</td>\n",
       "      <td>149</td>\n",
       "      <td>0</td>\n",
       "    </tr>\n",
       "    <tr>\n",
       "      <th>...</th>\n",
       "      <td>...</td>\n",
       "      <td>...</td>\n",
       "      <td>...</td>\n",
       "      <td>...</td>\n",
       "      <td>...</td>\n",
       "      <td>...</td>\n",
       "      <td>...</td>\n",
       "      <td>...</td>\n",
       "      <td>...</td>\n",
       "      <td>...</td>\n",
       "      <td>...</td>\n",
       "      <td>...</td>\n",
       "    </tr>\n",
       "    <tr>\n",
       "      <th>327865</th>\n",
       "      <td>327866</td>\n",
       "      <td>Male</td>\n",
       "      <td>27</td>\n",
       "      <td>33</td>\n",
       "      <td>152</td>\n",
       "      <td>1</td>\n",
       "      <td>&lt; 1 Year</td>\n",
       "      <td>No</td>\n",
       "      <td>1</td>\n",
       "      <td>32955.0</td>\n",
       "      <td>23</td>\n",
       "      <td>0</td>\n",
       "    </tr>\n",
       "    <tr>\n",
       "      <th>18930</th>\n",
       "      <td>18931</td>\n",
       "      <td>Male</td>\n",
       "      <td>49</td>\n",
       "      <td>40</td>\n",
       "      <td>124</td>\n",
       "      <td>1</td>\n",
       "      <td>&gt; 2 Years</td>\n",
       "      <td>Yes</td>\n",
       "      <td>0</td>\n",
       "      <td>2630.0</td>\n",
       "      <td>277</td>\n",
       "      <td>0</td>\n",
       "    </tr>\n",
       "    <tr>\n",
       "      <th>135229</th>\n",
       "      <td>135230</td>\n",
       "      <td>Male</td>\n",
       "      <td>24</td>\n",
       "      <td>27</td>\n",
       "      <td>152</td>\n",
       "      <td>1</td>\n",
       "      <td>&lt; 1 Year</td>\n",
       "      <td>No</td>\n",
       "      <td>0</td>\n",
       "      <td>26595.0</td>\n",
       "      <td>277</td>\n",
       "      <td>0</td>\n",
       "    </tr>\n",
       "    <tr>\n",
       "      <th>105049</th>\n",
       "      <td>105050</td>\n",
       "      <td>Male</td>\n",
       "      <td>22</td>\n",
       "      <td>29</td>\n",
       "      <td>152</td>\n",
       "      <td>1</td>\n",
       "      <td>&lt; 1 Year</td>\n",
       "      <td>No</td>\n",
       "      <td>1</td>\n",
       "      <td>42844.0</td>\n",
       "      <td>140</td>\n",
       "      <td>0</td>\n",
       "    </tr>\n",
       "    <tr>\n",
       "      <th>187934</th>\n",
       "      <td>187935</td>\n",
       "      <td>Female</td>\n",
       "      <td>32</td>\n",
       "      <td>50</td>\n",
       "      <td>152</td>\n",
       "      <td>1</td>\n",
       "      <td>&lt; 1 Year</td>\n",
       "      <td>No</td>\n",
       "      <td>1</td>\n",
       "      <td>27098.0</td>\n",
       "      <td>236</td>\n",
       "      <td>0</td>\n",
       "    </tr>\n",
       "  </tbody>\n",
       "</table>\n",
       "<p>76222 rows × 12 columns</p>\n",
       "</div>"
      ],
      "text/plain": [
       "            id  gender  age  region_code  policy_sales_channel  driving_license vehicle_age vehicle_damage  vehicle_prev_insured  health_annual_paid  days_associated  response\n",
       "275163  275164  Female   24           41                   152                1    < 1 Year             No                     1             31696.0               62         0\n",
       "228955  228956  Female   39           41                   124                1    1-2 Year            Yes                     0             34202.0              188         0\n",
       "183986  183987  Female   25           39                   152                1    < 1 Year             No                     0             31140.0              200         0\n",
       "272782  272783  Female   67           28                    26                1   > 2 Years            Yes                     0              2630.0               17         0\n",
       "24900    24901    Male   23           46                   152                1    < 1 Year             No                     1             32159.0              149         0\n",
       "...        ...     ...  ...          ...                   ...              ...         ...            ...                   ...                 ...              ...       ...\n",
       "327865  327866    Male   27           33                   152                1    < 1 Year             No                     1             32955.0               23         0\n",
       "18930    18931    Male   49           40                   124                1   > 2 Years            Yes                     0              2630.0              277         0\n",
       "135229  135230    Male   24           27                   152                1    < 1 Year             No                     0             26595.0              277         0\n",
       "105049  105050    Male   22           29                   152                1    < 1 Year             No                     1             42844.0              140         0\n",
       "187934  187935  Female   32           50                   152                1    < 1 Year             No                     1             27098.0              236         0\n",
       "\n",
       "[76222 rows x 12 columns]"
      ]
     },
     "execution_count": 57,
     "metadata": {},
     "output_type": "execute_result"
    }
   ],
   "source": [
    "df_test"
   ]
  },
  {
   "cell_type": "code",
   "execution_count": 58,
   "id": "c098340c",
   "metadata": {
    "ExecuteTime": {
     "end_time": "2022-04-05T21:36:36.656059Z",
     "start_time": "2022-04-05T21:36:36.642994Z"
    },
    "hidden": true
   },
   "outputs": [
    {
     "data": {
      "text/plain": [
       "275163    0\n",
       "228955    0\n",
       "183986    0\n",
       "272782    0\n",
       "24900     0\n",
       "         ..\n",
       "327865    0\n",
       "18930     0\n",
       "135229    0\n",
       "105049    0\n",
       "187934    0\n",
       "Name: response, Length: 76222, dtype: int64"
      ]
     },
     "execution_count": 58,
     "metadata": {},
     "output_type": "execute_result"
    }
   ],
   "source": [
    "y_test"
   ]
  },
  {
   "cell_type": "code",
   "execution_count": 59,
   "id": "32740234",
   "metadata": {
    "ExecuteTime": {
     "end_time": "2022-04-05T21:36:40.124739Z",
     "start_time": "2022-04-05T21:36:40.037828Z"
    },
    "hidden": true
   },
   "outputs": [],
   "source": [
    "# ----- Feature Engeneering ----- \n",
    "#vehicle_damage\n",
    "x_test['vehicle_damage'] = x_test['vehicle_damage'].map(dict_vehicle_damage)\n",
    "#vehicle_age\n",
    "x_test['vehicle_age'] = x_test['vehicle_age'].map(dict_vehicle_age)\n",
    "\n",
    "# ----- Data Preparation - Standardization ----- \n",
    "#health_annual_paid: StandardScaler\n",
    "x_test['health_annual_paid'] = ss.transform(x_test[['health_annual_paid']].values)\n",
    "    #If we used fit_transform() on our test data too, we would compute a new mean and variance, that is a new scale for each feature, and would let our model learn about our test data too. Using transform() we use the same mean and variance as it is calculated from our training data to transform our test data.\n",
    "\n",
    "# ----- Data Preparation - Rescaling ----- \n",
    "#age: MinMaxScaler\n",
    "x_test['age'] = mms_age.transform( x_test[['age']].values )\n",
    "#days_associated: MinMaxScaler\n",
    "x_test['days_associated'] = mms_days_assoc.transform( x_test[['days_associated']].values )\n",
    "\n",
    "# ----- Data Preparation - Encoding ----- \n",
    "#vehicle_age: one hot encoding \n",
    "x_test = pd.get_dummies( x_test, prefix='vehicle_age', columns=['vehicle_age'] ) \n",
    "#gender: target encoding\n",
    "x_test.loc[:,'gender'] = x_test.loc[:,'gender'].map(gender_target_encoder)\n",
    "#region_code: target encoding\n",
    "x_test.loc[:,'region_code'] = x_test.loc[:,'region_code'].map(region_code_target_encoder)\n",
    "#policy_sales_channel: frequency encoding\n",
    "x_test.loc[:,'policy_sales_channel'] = x_test['policy_sales_channel'].map(policy_sales_freq_encoder)  "
   ]
  },
  {
   "cell_type": "markdown",
   "id": "e81577cc",
   "metadata": {
    "heading_collapsed": true,
    "hidden": true
   },
   "source": [
    "### Check Test"
   ]
  },
  {
   "cell_type": "markdown",
   "id": "7fa6e744",
   "metadata": {
    "hidden": true
   },
   "source": [
    "Check if x_test dataset is now like Training (df4). Exception: response var."
   ]
  },
  {
   "cell_type": "code",
   "execution_count": 60,
   "id": "22992c1b",
   "metadata": {
    "ExecuteTime": {
     "end_time": "2022-04-05T21:36:44.257774Z",
     "start_time": "2022-04-05T21:36:44.198990Z"
    },
    "hidden": true
   },
   "outputs": [
    {
     "data": {
      "text/html": [
       "<div>\n",
       "<style scoped>\n",
       "    .dataframe tbody tr th:only-of-type {\n",
       "        vertical-align: middle;\n",
       "    }\n",
       "\n",
       "    .dataframe tbody tr th {\n",
       "        vertical-align: top;\n",
       "    }\n",
       "\n",
       "    .dataframe thead th {\n",
       "        text-align: right;\n",
       "    }\n",
       "</style>\n",
       "<table border=\"1\" class=\"dataframe\">\n",
       "  <thead>\n",
       "    <tr style=\"text-align: right;\">\n",
       "      <th></th>\n",
       "      <th>id</th>\n",
       "      <th>gender</th>\n",
       "      <th>age</th>\n",
       "      <th>region_code</th>\n",
       "      <th>policy_sales_channel</th>\n",
       "      <th>driving_license</th>\n",
       "      <th>vehicle_damage</th>\n",
       "      <th>vehicle_prev_insured</th>\n",
       "      <th>health_annual_paid</th>\n",
       "      <th>days_associated</th>\n",
       "      <th>vehicle_age_below_1_year</th>\n",
       "      <th>vehicle_age_between_1_2_years</th>\n",
       "      <th>vehicle_age_over_2_years</th>\n",
       "    </tr>\n",
       "  </thead>\n",
       "  <tbody>\n",
       "    <tr>\n",
       "      <th>275163</th>\n",
       "      <td>275164</td>\n",
       "      <td>0.103991</td>\n",
       "      <td>0.061538</td>\n",
       "      <td>0.122890</td>\n",
       "      <td>0.353482</td>\n",
       "      <td>1</td>\n",
       "      <td>0</td>\n",
       "      <td>1</td>\n",
       "      <td>31696.0</td>\n",
       "      <td>0.179931</td>\n",
       "      <td>1</td>\n",
       "      <td>0</td>\n",
       "      <td>0</td>\n",
       "    </tr>\n",
       "    <tr>\n",
       "      <th>228955</th>\n",
       "      <td>228956</td>\n",
       "      <td>0.103991</td>\n",
       "      <td>0.292308</td>\n",
       "      <td>0.122890</td>\n",
       "      <td>0.193626</td>\n",
       "      <td>1</td>\n",
       "      <td>1</td>\n",
       "      <td>0</td>\n",
       "      <td>34202.0</td>\n",
       "      <td>0.615917</td>\n",
       "      <td>0</td>\n",
       "      <td>1</td>\n",
       "      <td>0</td>\n",
       "    </tr>\n",
       "    <tr>\n",
       "      <th>183986</th>\n",
       "      <td>183987</td>\n",
       "      <td>0.103991</td>\n",
       "      <td>0.076923</td>\n",
       "      <td>0.123620</td>\n",
       "      <td>0.353482</td>\n",
       "      <td>1</td>\n",
       "      <td>0</td>\n",
       "      <td>0</td>\n",
       "      <td>31140.0</td>\n",
       "      <td>0.657439</td>\n",
       "      <td>1</td>\n",
       "      <td>0</td>\n",
       "      <td>0</td>\n",
       "    </tr>\n",
       "    <tr>\n",
       "      <th>272782</th>\n",
       "      <td>272783</td>\n",
       "      <td>0.103991</td>\n",
       "      <td>0.723077</td>\n",
       "      <td>0.186638</td>\n",
       "      <td>0.209901</td>\n",
       "      <td>1</td>\n",
       "      <td>1</td>\n",
       "      <td>0</td>\n",
       "      <td>2630.0</td>\n",
       "      <td>0.024221</td>\n",
       "      <td>0</td>\n",
       "      <td>0</td>\n",
       "      <td>1</td>\n",
       "    </tr>\n",
       "    <tr>\n",
       "      <th>24900</th>\n",
       "      <td>24901</td>\n",
       "      <td>0.138355</td>\n",
       "      <td>0.046154</td>\n",
       "      <td>0.103851</td>\n",
       "      <td>0.353482</td>\n",
       "      <td>1</td>\n",
       "      <td>0</td>\n",
       "      <td>1</td>\n",
       "      <td>32159.0</td>\n",
       "      <td>0.480969</td>\n",
       "      <td>1</td>\n",
       "      <td>0</td>\n",
       "      <td>0</td>\n",
       "    </tr>\n",
       "    <tr>\n",
       "      <th>...</th>\n",
       "      <td>...</td>\n",
       "      <td>...</td>\n",
       "      <td>...</td>\n",
       "      <td>...</td>\n",
       "      <td>...</td>\n",
       "      <td>...</td>\n",
       "      <td>...</td>\n",
       "      <td>...</td>\n",
       "      <td>...</td>\n",
       "      <td>...</td>\n",
       "      <td>...</td>\n",
       "      <td>...</td>\n",
       "      <td>...</td>\n",
       "    </tr>\n",
       "    <tr>\n",
       "      <th>327865</th>\n",
       "      <td>327866</td>\n",
       "      <td>0.138355</td>\n",
       "      <td>0.107692</td>\n",
       "      <td>0.101226</td>\n",
       "      <td>0.353482</td>\n",
       "      <td>1</td>\n",
       "      <td>0</td>\n",
       "      <td>1</td>\n",
       "      <td>32955.0</td>\n",
       "      <td>0.044983</td>\n",
       "      <td>1</td>\n",
       "      <td>0</td>\n",
       "      <td>0</td>\n",
       "    </tr>\n",
       "    <tr>\n",
       "      <th>18930</th>\n",
       "      <td>18931</td>\n",
       "      <td>0.138355</td>\n",
       "      <td>0.446154</td>\n",
       "      <td>0.120316</td>\n",
       "      <td>0.193626</td>\n",
       "      <td>1</td>\n",
       "      <td>1</td>\n",
       "      <td>0</td>\n",
       "      <td>2630.0</td>\n",
       "      <td>0.923875</td>\n",
       "      <td>0</td>\n",
       "      <td>0</td>\n",
       "      <td>1</td>\n",
       "    </tr>\n",
       "    <tr>\n",
       "      <th>135229</th>\n",
       "      <td>135230</td>\n",
       "      <td>0.138355</td>\n",
       "      <td>0.061538</td>\n",
       "      <td>0.073861</td>\n",
       "      <td>0.353482</td>\n",
       "      <td>1</td>\n",
       "      <td>0</td>\n",
       "      <td>0</td>\n",
       "      <td>26595.0</td>\n",
       "      <td>0.923875</td>\n",
       "      <td>1</td>\n",
       "      <td>0</td>\n",
       "      <td>0</td>\n",
       "    </tr>\n",
       "    <tr>\n",
       "      <th>105049</th>\n",
       "      <td>105050</td>\n",
       "      <td>0.138355</td>\n",
       "      <td>0.030769</td>\n",
       "      <td>0.123155</td>\n",
       "      <td>0.353482</td>\n",
       "      <td>1</td>\n",
       "      <td>0</td>\n",
       "      <td>1</td>\n",
       "      <td>42844.0</td>\n",
       "      <td>0.449827</td>\n",
       "      <td>1</td>\n",
       "      <td>0</td>\n",
       "      <td>0</td>\n",
       "    </tr>\n",
       "    <tr>\n",
       "      <th>187934</th>\n",
       "      <td>187935</td>\n",
       "      <td>0.103991</td>\n",
       "      <td>0.184615</td>\n",
       "      <td>0.063506</td>\n",
       "      <td>0.353482</td>\n",
       "      <td>1</td>\n",
       "      <td>0</td>\n",
       "      <td>1</td>\n",
       "      <td>27098.0</td>\n",
       "      <td>0.782007</td>\n",
       "      <td>1</td>\n",
       "      <td>0</td>\n",
       "      <td>0</td>\n",
       "    </tr>\n",
       "  </tbody>\n",
       "</table>\n",
       "<p>76222 rows × 13 columns</p>\n",
       "</div>"
      ],
      "text/plain": [
       "            id    gender       age  region_code  policy_sales_channel  driving_license  vehicle_damage  vehicle_prev_insured  health_annual_paid  days_associated  vehicle_age_below_1_year  vehicle_age_between_1_2_years  vehicle_age_over_2_years\n",
       "275163  275164  0.103991  0.061538     0.122890              0.353482                1               0                     1             31696.0         0.179931                         1                              0                         0\n",
       "228955  228956  0.103991  0.292308     0.122890              0.193626                1               1                     0             34202.0         0.615917                         0                              1                         0\n",
       "183986  183987  0.103991  0.076923     0.123620              0.353482                1               0                     0             31140.0         0.657439                         1                              0                         0\n",
       "272782  272783  0.103991  0.723077     0.186638              0.209901                1               1                     0              2630.0         0.024221                         0                              0                         1\n",
       "24900    24901  0.138355  0.046154     0.103851              0.353482                1               0                     1             32159.0         0.480969                         1                              0                         0\n",
       "...        ...       ...       ...          ...                   ...              ...             ...                   ...                 ...              ...                       ...                            ...                       ...\n",
       "327865  327866  0.138355  0.107692     0.101226              0.353482                1               0                     1             32955.0         0.044983                         1                              0                         0\n",
       "18930    18931  0.138355  0.446154     0.120316              0.193626                1               1                     0              2630.0         0.923875                         0                              0                         1\n",
       "135229  135230  0.138355  0.061538     0.073861              0.353482                1               0                     0             26595.0         0.923875                         1                              0                         0\n",
       "105049  105050  0.138355  0.030769     0.123155              0.353482                1               0                     1             42844.0         0.449827                         1                              0                         0\n",
       "187934  187935  0.103991  0.184615     0.063506              0.353482                1               0                     1             27098.0         0.782007                         1                              0                         0\n",
       "\n",
       "[76222 rows x 13 columns]"
      ]
     },
     "execution_count": 60,
     "metadata": {},
     "output_type": "execute_result"
    }
   ],
   "source": [
    "x_test"
   ]
  },
  {
   "cell_type": "code",
   "execution_count": 61,
   "id": "c82f7655",
   "metadata": {
    "ExecuteTime": {
     "end_time": "2022-04-05T21:36:45.553287Z",
     "start_time": "2022-04-05T21:36:45.523568Z"
    },
    "hidden": true
   },
   "outputs": [
    {
     "data": {
      "text/html": [
       "<div>\n",
       "<style scoped>\n",
       "    .dataframe tbody tr th:only-of-type {\n",
       "        vertical-align: middle;\n",
       "    }\n",
       "\n",
       "    .dataframe tbody tr th {\n",
       "        vertical-align: top;\n",
       "    }\n",
       "\n",
       "    .dataframe thead th {\n",
       "        text-align: right;\n",
       "    }\n",
       "</style>\n",
       "<table border=\"1\" class=\"dataframe\">\n",
       "  <thead>\n",
       "    <tr style=\"text-align: right;\">\n",
       "      <th></th>\n",
       "      <th>id</th>\n",
       "      <th>gender</th>\n",
       "      <th>age</th>\n",
       "      <th>region_code</th>\n",
       "      <th>policy_sales_channel</th>\n",
       "      <th>driving_license</th>\n",
       "      <th>vehicle_damage</th>\n",
       "      <th>vehicle_prev_insured</th>\n",
       "      <th>health_annual_paid</th>\n",
       "      <th>days_associated</th>\n",
       "      <th>response</th>\n",
       "      <th>vehicle_age_below_1_year</th>\n",
       "      <th>vehicle_age_between_1_2_years</th>\n",
       "      <th>vehicle_age_over_2_years</th>\n",
       "    </tr>\n",
       "  </thead>\n",
       "  <tbody>\n",
       "    <tr>\n",
       "      <th>332579</th>\n",
       "      <td>332580</td>\n",
       "      <td>0.103991</td>\n",
       "      <td>0.261538</td>\n",
       "      <td>0.070701</td>\n",
       "      <td>0.028076</td>\n",
       "      <td>1</td>\n",
       "      <td>1</td>\n",
       "      <td>0</td>\n",
       "      <td>-1.625561</td>\n",
       "      <td>0.757785</td>\n",
       "      <td>0</td>\n",
       "      <td>0</td>\n",
       "      <td>1</td>\n",
       "      <td>0</td>\n",
       "    </tr>\n",
       "    <tr>\n",
       "      <th>318275</th>\n",
       "      <td>318276</td>\n",
       "      <td>0.103991</td>\n",
       "      <td>0.123077</td>\n",
       "      <td>0.101226</td>\n",
       "      <td>0.353482</td>\n",
       "      <td>1</td>\n",
       "      <td>0</td>\n",
       "      <td>1</td>\n",
       "      <td>-0.119045</td>\n",
       "      <td>0.615917</td>\n",
       "      <td>0</td>\n",
       "      <td>1</td>\n",
       "      <td>0</td>\n",
       "      <td>0</td>\n",
       "    </tr>\n",
       "    <tr>\n",
       "      <th>192458</th>\n",
       "      <td>192459</td>\n",
       "      <td>0.103991</td>\n",
       "      <td>0.307692</td>\n",
       "      <td>0.186638</td>\n",
       "      <td>0.193626</td>\n",
       "      <td>1</td>\n",
       "      <td>0</td>\n",
       "      <td>0</td>\n",
       "      <td>-0.119627</td>\n",
       "      <td>0.788927</td>\n",
       "      <td>0</td>\n",
       "      <td>0</td>\n",
       "      <td>1</td>\n",
       "      <td>0</td>\n",
       "    </tr>\n",
       "    <tr>\n",
       "      <th>126596</th>\n",
       "      <td>126597</td>\n",
       "      <td>0.103991</td>\n",
       "      <td>0.076923</td>\n",
       "      <td>0.116003</td>\n",
       "      <td>0.353482</td>\n",
       "      <td>1</td>\n",
       "      <td>0</td>\n",
       "      <td>1</td>\n",
       "      <td>2.239430</td>\n",
       "      <td>0.878893</td>\n",
       "      <td>0</td>\n",
       "      <td>1</td>\n",
       "      <td>0</td>\n",
       "      <td>0</td>\n",
       "    </tr>\n",
       "    <tr>\n",
       "      <th>318789</th>\n",
       "      <td>318790</td>\n",
       "      <td>0.103991</td>\n",
       "      <td>0.000000</td>\n",
       "      <td>0.041289</td>\n",
       "      <td>0.057067</td>\n",
       "      <td>1</td>\n",
       "      <td>0</td>\n",
       "      <td>1</td>\n",
       "      <td>-1.625561</td>\n",
       "      <td>0.318339</td>\n",
       "      <td>0</td>\n",
       "      <td>1</td>\n",
       "      <td>0</td>\n",
       "      <td>0</td>\n",
       "    </tr>\n",
       "    <tr>\n",
       "      <th>...</th>\n",
       "      <td>...</td>\n",
       "      <td>...</td>\n",
       "      <td>...</td>\n",
       "      <td>...</td>\n",
       "      <td>...</td>\n",
       "      <td>...</td>\n",
       "      <td>...</td>\n",
       "      <td>...</td>\n",
       "      <td>...</td>\n",
       "      <td>...</td>\n",
       "      <td>...</td>\n",
       "      <td>...</td>\n",
       "      <td>...</td>\n",
       "      <td>...</td>\n",
       "    </tr>\n",
       "    <tr>\n",
       "      <th>95668</th>\n",
       "      <td>95669</td>\n",
       "      <td>0.138355</td>\n",
       "      <td>0.061538</td>\n",
       "      <td>0.090812</td>\n",
       "      <td>0.353482</td>\n",
       "      <td>1</td>\n",
       "      <td>0</td>\n",
       "      <td>1</td>\n",
       "      <td>-0.158514</td>\n",
       "      <td>0.851211</td>\n",
       "      <td>0</td>\n",
       "      <td>1</td>\n",
       "      <td>0</td>\n",
       "      <td>0</td>\n",
       "    </tr>\n",
       "    <tr>\n",
       "      <th>67756</th>\n",
       "      <td>67757</td>\n",
       "      <td>0.103991</td>\n",
       "      <td>0.046154</td>\n",
       "      <td>0.101256</td>\n",
       "      <td>0.353482</td>\n",
       "      <td>1</td>\n",
       "      <td>1</td>\n",
       "      <td>0</td>\n",
       "      <td>-1.625561</td>\n",
       "      <td>0.567474</td>\n",
       "      <td>1</td>\n",
       "      <td>1</td>\n",
       "      <td>0</td>\n",
       "      <td>0</td>\n",
       "    </tr>\n",
       "    <tr>\n",
       "      <th>235038</th>\n",
       "      <td>235039</td>\n",
       "      <td>0.138355</td>\n",
       "      <td>0.015385</td>\n",
       "      <td>0.103851</td>\n",
       "      <td>0.057067</td>\n",
       "      <td>1</td>\n",
       "      <td>0</td>\n",
       "      <td>1</td>\n",
       "      <td>-0.165441</td>\n",
       "      <td>0.020761</td>\n",
       "      <td>0</td>\n",
       "      <td>1</td>\n",
       "      <td>0</td>\n",
       "      <td>0</td>\n",
       "    </tr>\n",
       "    <tr>\n",
       "      <th>157375</th>\n",
       "      <td>157376</td>\n",
       "      <td>0.138355</td>\n",
       "      <td>0.446154</td>\n",
       "      <td>0.071463</td>\n",
       "      <td>0.193626</td>\n",
       "      <td>1</td>\n",
       "      <td>1</td>\n",
       "      <td>0</td>\n",
       "      <td>0.344221</td>\n",
       "      <td>0.024221</td>\n",
       "      <td>0</td>\n",
       "      <td>0</td>\n",
       "      <td>1</td>\n",
       "      <td>0</td>\n",
       "    </tr>\n",
       "    <tr>\n",
       "      <th>161430</th>\n",
       "      <td>161431</td>\n",
       "      <td>0.138355</td>\n",
       "      <td>0.061538</td>\n",
       "      <td>0.063506</td>\n",
       "      <td>0.353482</td>\n",
       "      <td>1</td>\n",
       "      <td>0</td>\n",
       "      <td>1</td>\n",
       "      <td>-1.625561</td>\n",
       "      <td>0.674740</td>\n",
       "      <td>0</td>\n",
       "      <td>1</td>\n",
       "      <td>0</td>\n",
       "      <td>0</td>\n",
       "    </tr>\n",
       "  </tbody>\n",
       "</table>\n",
       "<p>304887 rows × 14 columns</p>\n",
       "</div>"
      ],
      "text/plain": [
       "            id    gender       age  region_code  policy_sales_channel  driving_license  vehicle_damage  vehicle_prev_insured  health_annual_paid  days_associated  response  vehicle_age_below_1_year  vehicle_age_between_1_2_years  vehicle_age_over_2_years\n",
       "332579  332580  0.103991  0.261538     0.070701              0.028076                1               1                     0           -1.625561         0.757785         0                         0                              1                         0\n",
       "318275  318276  0.103991  0.123077     0.101226              0.353482                1               0                     1           -0.119045         0.615917         0                         1                              0                         0\n",
       "192458  192459  0.103991  0.307692     0.186638              0.193626                1               0                     0           -0.119627         0.788927         0                         0                              1                         0\n",
       "126596  126597  0.103991  0.076923     0.116003              0.353482                1               0                     1            2.239430         0.878893         0                         1                              0                         0\n",
       "318789  318790  0.103991  0.000000     0.041289              0.057067                1               0                     1           -1.625561         0.318339         0                         1                              0                         0\n",
       "...        ...       ...       ...          ...                   ...              ...             ...                   ...                 ...              ...       ...                       ...                            ...                       ...\n",
       "95668    95669  0.138355  0.061538     0.090812              0.353482                1               0                     1           -0.158514         0.851211         0                         1                              0                         0\n",
       "67756    67757  0.103991  0.046154     0.101256              0.353482                1               1                     0           -1.625561         0.567474         1                         1                              0                         0\n",
       "235038  235039  0.138355  0.015385     0.103851              0.057067                1               0                     1           -0.165441         0.020761         0                         1                              0                         0\n",
       "157375  157376  0.138355  0.446154     0.071463              0.193626                1               1                     0            0.344221         0.024221         0                         0                              1                         0\n",
       "161430  161431  0.138355  0.061538     0.063506              0.353482                1               0                     1           -1.625561         0.674740         0                         1                              0                         0\n",
       "\n",
       "[304887 rows x 14 columns]"
      ]
     },
     "execution_count": 61,
     "metadata": {},
     "output_type": "execute_result"
    }
   ],
   "source": [
    "df4"
   ]
  },
  {
   "cell_type": "code",
   "execution_count": 62,
   "id": "3299aef3",
   "metadata": {
    "ExecuteTime": {
     "end_time": "2022-04-05T21:36:47.320325Z",
     "start_time": "2022-04-05T21:36:47.300623Z"
    },
    "hidden": true
   },
   "outputs": [
    {
     "name": "stdout",
     "output_type": "stream",
     "text": [
      "Check NA:\n"
     ]
    },
    {
     "data": {
      "text/plain": [
       "id                               0\n",
       "gender                           0\n",
       "age                              0\n",
       "region_code                      0\n",
       "policy_sales_channel             2\n",
       "driving_license                  0\n",
       "vehicle_damage                   0\n",
       "vehicle_prev_insured             0\n",
       "health_annual_paid               0\n",
       "days_associated                  0\n",
       "vehicle_age_below_1_year         0\n",
       "vehicle_age_between_1_2_years    0\n",
       "vehicle_age_over_2_years         0\n",
       "dtype: int64"
      ]
     },
     "execution_count": 62,
     "metadata": {},
     "output_type": "execute_result"
    }
   ],
   "source": [
    "print('Check NA:')\n",
    "x_test.isna().sum()"
   ]
  },
  {
   "cell_type": "code",
   "execution_count": 63,
   "id": "146e00b0",
   "metadata": {
    "ExecuteTime": {
     "end_time": "2022-04-05T21:36:58.940278Z",
     "start_time": "2022-04-05T21:36:58.896123Z"
    },
    "hidden": true
   },
   "outputs": [
    {
     "data": {
      "text/html": [
       "<div>\n",
       "<style scoped>\n",
       "    .dataframe tbody tr th:only-of-type {\n",
       "        vertical-align: middle;\n",
       "    }\n",
       "\n",
       "    .dataframe tbody tr th {\n",
       "        vertical-align: top;\n",
       "    }\n",
       "\n",
       "    .dataframe thead th {\n",
       "        text-align: right;\n",
       "    }\n",
       "</style>\n",
       "<table border=\"1\" class=\"dataframe\">\n",
       "  <thead>\n",
       "    <tr style=\"text-align: right;\">\n",
       "      <th></th>\n",
       "      <th>id</th>\n",
       "      <th>gender</th>\n",
       "      <th>age</th>\n",
       "      <th>region_code</th>\n",
       "      <th>policy_sales_channel</th>\n",
       "      <th>driving_license</th>\n",
       "      <th>vehicle_damage</th>\n",
       "      <th>vehicle_prev_insured</th>\n",
       "      <th>health_annual_paid</th>\n",
       "      <th>days_associated</th>\n",
       "      <th>vehicle_age_below_1_year</th>\n",
       "      <th>vehicle_age_between_1_2_years</th>\n",
       "      <th>vehicle_age_over_2_years</th>\n",
       "    </tr>\n",
       "  </thead>\n",
       "  <tbody>\n",
       "    <tr>\n",
       "      <th>228805</th>\n",
       "      <td>228806</td>\n",
       "      <td>0.138355</td>\n",
       "      <td>0.384615</td>\n",
       "      <td>0.186638</td>\n",
       "      <td>NaN</td>\n",
       "      <td>1</td>\n",
       "      <td>1</td>\n",
       "      <td>0</td>\n",
       "      <td>57744.0</td>\n",
       "      <td>0.923875</td>\n",
       "      <td>0</td>\n",
       "      <td>1</td>\n",
       "      <td>0</td>\n",
       "    </tr>\n",
       "    <tr>\n",
       "      <th>24016</th>\n",
       "      <td>24017</td>\n",
       "      <td>0.103991</td>\n",
       "      <td>0.384615</td>\n",
       "      <td>0.186638</td>\n",
       "      <td>NaN</td>\n",
       "      <td>1</td>\n",
       "      <td>1</td>\n",
       "      <td>0</td>\n",
       "      <td>47383.0</td>\n",
       "      <td>0.737024</td>\n",
       "      <td>0</td>\n",
       "      <td>1</td>\n",
       "      <td>0</td>\n",
       "    </tr>\n",
       "  </tbody>\n",
       "</table>\n",
       "</div>"
      ],
      "text/plain": [
       "            id    gender       age  region_code  policy_sales_channel  driving_license  vehicle_damage  vehicle_prev_insured  health_annual_paid  days_associated  vehicle_age_below_1_year  vehicle_age_between_1_2_years  vehicle_age_over_2_years\n",
       "228805  228806  0.138355  0.384615     0.186638                   NaN                1               1                     0             57744.0         0.923875                         0                              1                         0\n",
       "24016    24017  0.103991  0.384615     0.186638                   NaN                1               1                     0             47383.0         0.737024                         0                              1                         0"
      ]
     },
     "execution_count": 63,
     "metadata": {},
     "output_type": "execute_result"
    }
   ],
   "source": [
    "# Check the rows with NaN\n",
    "x_test.loc[x_test['policy_sales_channel'].isna()]"
   ]
  },
  {
   "cell_type": "code",
   "execution_count": 64,
   "id": "5851fc9d",
   "metadata": {
    "ExecuteTime": {
     "end_time": "2022-04-05T21:37:11.114055Z",
     "start_time": "2022-04-05T21:37:11.093308Z"
    },
    "hidden": true
   },
   "outputs": [
    {
     "data": {
      "text/plain": [
       "(76220, 13)"
      ]
     },
     "execution_count": 64,
     "metadata": {},
     "output_type": "execute_result"
    }
   ],
   "source": [
    "# Remove these indexes on x_test\n",
    "x_test = x_test.drop(index = [228805,24016] )\n",
    "x_test.shape"
   ]
  },
  {
   "cell_type": "code",
   "execution_count": 65,
   "id": "a4ef3c0b",
   "metadata": {
    "ExecuteTime": {
     "end_time": "2022-04-05T21:37:14.154943Z",
     "start_time": "2022-04-05T21:37:14.139989Z"
    },
    "hidden": true
   },
   "outputs": [
    {
     "data": {
      "text/plain": [
       "(76220,)"
      ]
     },
     "execution_count": 65,
     "metadata": {},
     "output_type": "execute_result"
    }
   ],
   "source": [
    "# Remove these indexes on y_test\n",
    "y_test = y_test.drop(index = [228805,24016] )\n",
    "y_test.shape"
   ]
  },
  {
   "cell_type": "code",
   "execution_count": 66,
   "id": "66fc6f64",
   "metadata": {
    "ExecuteTime": {
     "end_time": "2022-04-05T21:37:20.607514Z",
     "start_time": "2022-04-05T21:37:20.589127Z"
    },
    "hidden": true
   },
   "outputs": [
    {
     "name": "stdout",
     "output_type": "stream",
     "text": [
      "Check NA:\n"
     ]
    },
    {
     "data": {
      "text/plain": [
       "id                               0\n",
       "gender                           0\n",
       "age                              0\n",
       "region_code                      0\n",
       "policy_sales_channel             0\n",
       "driving_license                  0\n",
       "vehicle_damage                   0\n",
       "vehicle_prev_insured             0\n",
       "health_annual_paid               0\n",
       "days_associated                  0\n",
       "vehicle_age_below_1_year         0\n",
       "vehicle_age_between_1_2_years    0\n",
       "vehicle_age_over_2_years         0\n",
       "dtype: int64"
      ]
     },
     "execution_count": 66,
     "metadata": {},
     "output_type": "execute_result"
    }
   ],
   "source": [
    "print('Check NA:')\n",
    "x_test.isna().sum()"
   ]
  },
  {
   "cell_type": "markdown",
   "id": "54220418",
   "metadata": {
    "hidden": true
   },
   "source": [
    "All set with x_test dataset!"
   ]
  },
  {
   "cell_type": "code",
   "execution_count": null,
   "id": "0de8d30b",
   "metadata": {
    "hidden": true
   },
   "outputs": [],
   "source": [
    "#Export Training\n",
    "df4.to_csv(datapath+'df4_data_prep_done.csv') #contains x_train + y_train\n",
    "#Export Test\n",
    "x_test.to_csv(datapath+'x_test.csv') #x_test\n",
    "y_test.to_csv(datapath+'y_test.csv') #y_test"
   ]
  },
  {
   "cell_type": "code",
   "execution_count": null,
   "id": "807acf1e",
   "metadata": {
    "hidden": true
   },
   "outputs": [],
   "source": [
    "#não é útil o x_test sem id! mantive pra entender onde era necessário.. posso carregar ele do x_test.csv que tem o id!\n",
    "\n",
    "#drop id, won't be used by models, but will be usefull in future, so already exported.\n",
    "# x_test = x_test.drop('id', axis=1)\n",
    "# x_test"
   ]
  },
  {
   "cell_type": "markdown",
   "id": "e83cb134",
   "metadata": {
    "heading_collapsed": true
   },
   "source": [
    "# Feature Selection"
   ]
  },
  {
   "cell_type": "code",
   "execution_count": 156,
   "id": "dfcc47bb",
   "metadata": {
    "ExecuteTime": {
     "end_time": "2022-04-09T19:28:05.719347Z",
     "start_time": "2022-04-09T19:28:04.613444Z"
    },
    "hidden": true
   },
   "outputs": [
    {
     "data": {
      "text/html": [
       "<div>\n",
       "<style scoped>\n",
       "    .dataframe tbody tr th:only-of-type {\n",
       "        vertical-align: middle;\n",
       "    }\n",
       "\n",
       "    .dataframe tbody tr th {\n",
       "        vertical-align: top;\n",
       "    }\n",
       "\n",
       "    .dataframe thead th {\n",
       "        text-align: right;\n",
       "    }\n",
       "</style>\n",
       "<table border=\"1\" class=\"dataframe\">\n",
       "  <thead>\n",
       "    <tr style=\"text-align: right;\">\n",
       "      <th></th>\n",
       "      <th>id</th>\n",
       "      <th>gender</th>\n",
       "      <th>age</th>\n",
       "      <th>region_code</th>\n",
       "      <th>policy_sales_channel</th>\n",
       "      <th>driving_license</th>\n",
       "      <th>vehicle_damage</th>\n",
       "      <th>vehicle_prev_insured</th>\n",
       "      <th>health_annual_paid</th>\n",
       "      <th>days_associated</th>\n",
       "      <th>response</th>\n",
       "      <th>vehicle_age_below_1_year</th>\n",
       "      <th>vehicle_age_between_1_2_years</th>\n",
       "      <th>vehicle_age_over_2_years</th>\n",
       "    </tr>\n",
       "  </thead>\n",
       "  <tbody>\n",
       "    <tr>\n",
       "      <th>332579</th>\n",
       "      <td>332580</td>\n",
       "      <td>0.103991</td>\n",
       "      <td>0.261538</td>\n",
       "      <td>0.070701</td>\n",
       "      <td>0.028076</td>\n",
       "      <td>1</td>\n",
       "      <td>1</td>\n",
       "      <td>0</td>\n",
       "      <td>-1.625561</td>\n",
       "      <td>0.757785</td>\n",
       "      <td>0</td>\n",
       "      <td>0</td>\n",
       "      <td>1</td>\n",
       "      <td>0</td>\n",
       "    </tr>\n",
       "    <tr>\n",
       "      <th>318275</th>\n",
       "      <td>318276</td>\n",
       "      <td>0.103991</td>\n",
       "      <td>0.123077</td>\n",
       "      <td>0.101226</td>\n",
       "      <td>0.353482</td>\n",
       "      <td>1</td>\n",
       "      <td>0</td>\n",
       "      <td>1</td>\n",
       "      <td>-0.119045</td>\n",
       "      <td>0.615917</td>\n",
       "      <td>0</td>\n",
       "      <td>1</td>\n",
       "      <td>0</td>\n",
       "      <td>0</td>\n",
       "    </tr>\n",
       "    <tr>\n",
       "      <th>192458</th>\n",
       "      <td>192459</td>\n",
       "      <td>0.103991</td>\n",
       "      <td>0.307692</td>\n",
       "      <td>0.186638</td>\n",
       "      <td>0.193626</td>\n",
       "      <td>1</td>\n",
       "      <td>0</td>\n",
       "      <td>0</td>\n",
       "      <td>-0.119627</td>\n",
       "      <td>0.788927</td>\n",
       "      <td>0</td>\n",
       "      <td>0</td>\n",
       "      <td>1</td>\n",
       "      <td>0</td>\n",
       "    </tr>\n",
       "    <tr>\n",
       "      <th>126596</th>\n",
       "      <td>126597</td>\n",
       "      <td>0.103991</td>\n",
       "      <td>0.076923</td>\n",
       "      <td>0.116003</td>\n",
       "      <td>0.353482</td>\n",
       "      <td>1</td>\n",
       "      <td>0</td>\n",
       "      <td>1</td>\n",
       "      <td>2.239430</td>\n",
       "      <td>0.878893</td>\n",
       "      <td>0</td>\n",
       "      <td>1</td>\n",
       "      <td>0</td>\n",
       "      <td>0</td>\n",
       "    </tr>\n",
       "    <tr>\n",
       "      <th>318789</th>\n",
       "      <td>318790</td>\n",
       "      <td>0.103991</td>\n",
       "      <td>0.000000</td>\n",
       "      <td>0.041289</td>\n",
       "      <td>0.057067</td>\n",
       "      <td>1</td>\n",
       "      <td>0</td>\n",
       "      <td>1</td>\n",
       "      <td>-1.625561</td>\n",
       "      <td>0.318339</td>\n",
       "      <td>0</td>\n",
       "      <td>1</td>\n",
       "      <td>0</td>\n",
       "      <td>0</td>\n",
       "    </tr>\n",
       "    <tr>\n",
       "      <th>...</th>\n",
       "      <td>...</td>\n",
       "      <td>...</td>\n",
       "      <td>...</td>\n",
       "      <td>...</td>\n",
       "      <td>...</td>\n",
       "      <td>...</td>\n",
       "      <td>...</td>\n",
       "      <td>...</td>\n",
       "      <td>...</td>\n",
       "      <td>...</td>\n",
       "      <td>...</td>\n",
       "      <td>...</td>\n",
       "      <td>...</td>\n",
       "      <td>...</td>\n",
       "    </tr>\n",
       "    <tr>\n",
       "      <th>95668</th>\n",
       "      <td>95669</td>\n",
       "      <td>0.138355</td>\n",
       "      <td>0.061538</td>\n",
       "      <td>0.090812</td>\n",
       "      <td>0.353482</td>\n",
       "      <td>1</td>\n",
       "      <td>0</td>\n",
       "      <td>1</td>\n",
       "      <td>-0.158514</td>\n",
       "      <td>0.851211</td>\n",
       "      <td>0</td>\n",
       "      <td>1</td>\n",
       "      <td>0</td>\n",
       "      <td>0</td>\n",
       "    </tr>\n",
       "    <tr>\n",
       "      <th>67756</th>\n",
       "      <td>67757</td>\n",
       "      <td>0.103991</td>\n",
       "      <td>0.046154</td>\n",
       "      <td>0.101256</td>\n",
       "      <td>0.353482</td>\n",
       "      <td>1</td>\n",
       "      <td>1</td>\n",
       "      <td>0</td>\n",
       "      <td>-1.625561</td>\n",
       "      <td>0.567474</td>\n",
       "      <td>1</td>\n",
       "      <td>1</td>\n",
       "      <td>0</td>\n",
       "      <td>0</td>\n",
       "    </tr>\n",
       "    <tr>\n",
       "      <th>235038</th>\n",
       "      <td>235039</td>\n",
       "      <td>0.138355</td>\n",
       "      <td>0.015385</td>\n",
       "      <td>0.103851</td>\n",
       "      <td>0.057067</td>\n",
       "      <td>1</td>\n",
       "      <td>0</td>\n",
       "      <td>1</td>\n",
       "      <td>-0.165441</td>\n",
       "      <td>0.020761</td>\n",
       "      <td>0</td>\n",
       "      <td>1</td>\n",
       "      <td>0</td>\n",
       "      <td>0</td>\n",
       "    </tr>\n",
       "    <tr>\n",
       "      <th>157375</th>\n",
       "      <td>157376</td>\n",
       "      <td>0.138355</td>\n",
       "      <td>0.446154</td>\n",
       "      <td>0.071463</td>\n",
       "      <td>0.193626</td>\n",
       "      <td>1</td>\n",
       "      <td>1</td>\n",
       "      <td>0</td>\n",
       "      <td>0.344221</td>\n",
       "      <td>0.024221</td>\n",
       "      <td>0</td>\n",
       "      <td>0</td>\n",
       "      <td>1</td>\n",
       "      <td>0</td>\n",
       "    </tr>\n",
       "    <tr>\n",
       "      <th>161430</th>\n",
       "      <td>161431</td>\n",
       "      <td>0.138355</td>\n",
       "      <td>0.061538</td>\n",
       "      <td>0.063506</td>\n",
       "      <td>0.353482</td>\n",
       "      <td>1</td>\n",
       "      <td>0</td>\n",
       "      <td>1</td>\n",
       "      <td>-1.625561</td>\n",
       "      <td>0.674740</td>\n",
       "      <td>0</td>\n",
       "      <td>1</td>\n",
       "      <td>0</td>\n",
       "      <td>0</td>\n",
       "    </tr>\n",
       "  </tbody>\n",
       "</table>\n",
       "<p>304887 rows × 14 columns</p>\n",
       "</div>"
      ],
      "text/plain": [
       "            id    gender       age  region_code  policy_sales_channel  driving_license  vehicle_damage  vehicle_prev_insured  health_annual_paid  days_associated  response  vehicle_age_below_1_year  vehicle_age_between_1_2_years  vehicle_age_over_2_years\n",
       "332579  332580  0.103991  0.261538     0.070701              0.028076                1               1                     0           -1.625561         0.757785         0                         0                              1                         0\n",
       "318275  318276  0.103991  0.123077     0.101226              0.353482                1               0                     1           -0.119045         0.615917         0                         1                              0                         0\n",
       "192458  192459  0.103991  0.307692     0.186638              0.193626                1               0                     0           -0.119627         0.788927         0                         0                              1                         0\n",
       "126596  126597  0.103991  0.076923     0.116003              0.353482                1               0                     1            2.239430         0.878893         0                         1                              0                         0\n",
       "318789  318790  0.103991  0.000000     0.041289              0.057067                1               0                     1           -1.625561         0.318339         0                         1                              0                         0\n",
       "...        ...       ...       ...          ...                   ...              ...             ...                   ...                 ...              ...       ...                       ...                            ...                       ...\n",
       "95668    95669  0.138355  0.061538     0.090812              0.353482                1               0                     1           -0.158514         0.851211         0                         1                              0                         0\n",
       "67756    67757  0.103991  0.046154     0.101256              0.353482                1               1                     0           -1.625561         0.567474         1                         1                              0                         0\n",
       "235038  235039  0.138355  0.015385     0.103851              0.057067                1               0                     1           -0.165441         0.020761         0                         1                              0                         0\n",
       "157375  157376  0.138355  0.446154     0.071463              0.193626                1               1                     0            0.344221         0.024221         0                         0                              1                         0\n",
       "161430  161431  0.138355  0.061538     0.063506              0.353482                1               0                     1           -1.625561         0.674740         0                         1                              0                         0\n",
       "\n",
       "[304887 rows x 14 columns]"
      ]
     },
     "execution_count": 156,
     "metadata": {},
     "output_type": "execute_result"
    }
   ],
   "source": [
    "df5 = pd.read_csv(datapath+'df4_data_prep_done.csv', index_col=0)\n",
    "df5"
   ]
  },
  {
   "cell_type": "markdown",
   "id": "279a3e55",
   "metadata": {
    "hidden": true
   },
   "source": [
    "## Validation Split\n"
   ]
  },
  {
   "cell_type": "markdown",
   "id": "d6ef89a0",
   "metadata": {
    "hidden": true
   },
   "source": [
    "Perform a new data split, now extracting Validation from Training (df5)."
   ]
  },
  {
   "cell_type": "code",
   "execution_count": null,
   "id": "c7de3409",
   "metadata": {
    "hidden": true
   },
   "outputs": [],
   "source": [
    "df5"
   ]
  },
  {
   "cell_type": "code",
   "execution_count": 157,
   "id": "968411ff",
   "metadata": {
    "ExecuteTime": {
     "end_time": "2022-04-09T19:28:19.637631Z",
     "start_time": "2022-04-09T19:28:19.219626Z"
    },
    "hidden": true
   },
   "outputs": [],
   "source": [
    "X = df5.drop(['response', 'id'], axis = 1).copy() # 304887 rows × 12 columns\n",
    "y = df5['response'].copy() #Length: 304887\n",
    "\n",
    "#Split Train into Val:\n",
    "x_train, x_val, y_train, y_val = ms.train_test_split(X, y, stratify = y, test_size=0.10, random_state = 45)"
   ]
  },
  {
   "cell_type": "code",
   "execution_count": 158,
   "id": "ad48c627",
   "metadata": {
    "ExecuteTime": {
     "end_time": "2022-04-09T19:28:22.900348Z",
     "start_time": "2022-04-09T19:28:22.882520Z"
    },
    "hidden": true
   },
   "outputs": [
    {
     "name": "stdout",
     "output_type": "stream",
     "text": [
      "x_train ->  (274398, 12)\n",
      "y_train ->  (274398,)\n",
      "x_val ->  (30489, 12)\n",
      "y_val ->  (30489,)\n"
     ]
    }
   ],
   "source": [
    "#check split\n",
    "print('x_train -> ',x_train.shape)\n",
    "print('y_train -> ',y_train.shape)\n",
    "print('x_val -> ',x_val.shape)\n",
    "print('y_val -> ',y_val.shape)"
   ]
  },
  {
   "cell_type": "markdown",
   "id": "26edc188",
   "metadata": {
    "hidden": true
   },
   "source": [
    "## Extra Trees"
   ]
  },
  {
   "cell_type": "markdown",
   "id": "f0957059",
   "metadata": {
    "hidden": true
   },
   "source": [
    "Lets use Extra Trees to find features importance. Could be a Botura, RandomForest, XGBoost, etc"
   ]
  },
  {
   "cell_type": "code",
   "execution_count": 159,
   "id": "c3e9812f",
   "metadata": {
    "ExecuteTime": {
     "end_time": "2022-04-09T19:29:08.561583Z",
     "start_time": "2022-04-09T19:29:08.556491Z"
    },
    "hidden": true
   },
   "outputs": [],
   "source": [
    "# model definition\n",
    "extra_trees = en.ExtraTreesClassifier( n_estimators=250, random_state=0, n_jobs=-1 )"
   ]
  },
  {
   "cell_type": "code",
   "execution_count": 160,
   "id": "3df9c455",
   "metadata": {
    "ExecuteTime": {
     "end_time": "2022-04-09T19:30:10.370044Z",
     "start_time": "2022-04-09T19:29:11.938390Z"
    },
    "hidden": true
   },
   "outputs": [
    {
     "data": {
      "text/plain": [
       "ExtraTreesClassifier(n_estimators=250, n_jobs=-1, random_state=0)"
      ]
     },
     "execution_count": 160,
     "metadata": {},
     "output_type": "execute_result"
    }
   ],
   "source": [
    "# data preparation\n",
    "x_train_n = x_train # (274398 rows × 12 columns)\n",
    "y_train_n = y_train.values #(274398 rows)\n",
    "extra_trees.fit( x_train_n, y_train_n )"
   ]
  },
  {
   "cell_type": "code",
   "execution_count": 161,
   "id": "e9e20b44",
   "metadata": {
    "ExecuteTime": {
     "end_time": "2022-04-09T19:30:18.705516Z",
     "start_time": "2022-04-09T19:30:14.219797Z"
    },
    "hidden": true
   },
   "outputs": [
    {
     "name": "stdout",
     "output_type": "stream",
     "text": [
      "Feature Ranking:\n",
      "                         feature  importance\n",
      "0                days_associated    0.272126\n",
      "0             health_annual_paid    0.242555\n",
      "0                            age    0.164634\n",
      "0                    region_code    0.107642\n",
      "0                 vehicle_damage    0.068254\n",
      "0           policy_sales_channel    0.060123\n",
      "0           vehicle_prev_insured    0.055809\n",
      "0       vehicle_age_below_1_year    0.014694\n",
      "0  vehicle_age_between_1_2_years    0.006395\n",
      "0                         gender    0.004929\n",
      "0       vehicle_age_over_2_years    0.002318\n",
      "0                driving_license    0.000521\n"
     ]
    },
    {
     "data": {
      "image/png": "[encoded data removed]",
      "text/plain": [
       "<Figure size 864x432 with 1 Axes>"
      ]
     },
     "metadata": {},
     "output_type": "display_data"
    }
   ],
   "source": [
    "importances = extra_trees.feature_importances_\n",
    "std = np.std( [tree.feature_importances_ for tree in extra_trees.estimators_], axis=0 )\n",
    "indices = np.argsort(importances)[::-1] #trees importance ordered by greater value\n",
    "\n",
    "# Print feature ranking\n",
    "print('Feature Ranking:')\n",
    "df_imp = pd.DataFrame()\n",
    "for i, j in zip( x_train_n, extra_trees.feature_importances_ ):\n",
    "    aux = pd.DataFrame( {'feature':i , 'importance': j}, index=[0] )\n",
    "    df_imp = pd.concat( [df_imp, aux], axis=0 )\n",
    "    \n",
    "print(df_imp.sort_values('importance', ascending=False) )\n",
    "\n",
    "# Plot the imputity-based feature importances of the forest\n",
    "plt.figure()\n",
    "plt.title('Feature importances')\n",
    "plt.bar( range(x_train_n.shape[1]), importances[indices], color='r', yerr=std[indices], align='center' )\n",
    "plt.xticks( range(x_train_n.shape[1]), indices )\n",
    "plt.xlim( [-1, x_train_n.shape[1]] )\n",
    "plt.show()"
   ]
  },
  {
   "cell_type": "markdown",
   "id": "a4730e0a",
   "metadata": {
    "hidden": true
   },
   "source": [
    "Let's consider now Extra Trees vs EDA Analisys:"
   ]
  },
  {
   "cell_type": "markdown",
   "id": "92a5ec64",
   "metadata": {
    "hidden": true
   },
   "source": [
    "Features with relevance estimated on EDA:\n",
    "\n",
    "| Variable             | Estimated Relevance   |\n",
    "|:---------------------|:----------------------|\n",
    "| vehicle_damage       | Very High             |\n",
    "| vehicle_prev_insured | Very High             |\n",
    "| vehicle_age          | High                  |\n",
    "| policy_sales_channel | High                  |\n",
    "| age                  | Medium                |\n",
    "| gender               | Low                   |\n",
    "| region_code          | Low                   |\n",
    "| driving_license      | Low                   |\n",
    "| health_annual_paid   | Low                   |\n",
    "| days_associated      | None                  |"
   ]
  },
  {
   "cell_type": "markdown",
   "id": "9fa0d44a",
   "metadata": {
    "hidden": true
   },
   "source": [
    "The most relevant feature of ET (days_associated) with 27% of relevance, was the worst feature on my EDA.\n",
    "\n",
    "On the other hand, vehicle_age looks irreleant (1% to  vehicle_age_below_1_year ), and on EDA was High.\n",
    "\n",
    "Lets Select the top 7 most important features from E.T. on this Crisp cycle, and check model's performance with them. "
   ]
  },
  {
   "cell_type": "code",
   "execution_count": 162,
   "id": "311110e4",
   "metadata": {
    "ExecuteTime": {
     "end_time": "2022-04-09T19:31:38.803999Z",
     "start_time": "2022-04-09T19:31:38.773415Z"
    },
    "code_folding": [],
    "hidden": true
   },
   "outputs": [],
   "source": [
    "cols_selected = ['days_associated','health_annual_paid','age','region_code',\n",
    "                 'vehicle_damage','policy_sales_channel', 'vehicle_prev_insured']\n",
    "\n",
    "#new x data, only with cols selected:\n",
    "x_train = x_train[ cols_selected ]\n",
    "x_val = x_val[ cols_selected ]"
   ]
  },
  {
   "cell_type": "code",
   "execution_count": 164,
   "id": "aaffcd0f",
   "metadata": {
    "ExecuteTime": {
     "end_time": "2022-04-09T19:31:49.572021Z",
     "start_time": "2022-04-09T19:31:49.546861Z"
    },
    "hidden": true
   },
   "outputs": [
    {
     "data": {
      "text/html": [
       "<div>\n",
       "<style scoped>\n",
       "    .dataframe tbody tr th:only-of-type {\n",
       "        vertical-align: middle;\n",
       "    }\n",
       "\n",
       "    .dataframe tbody tr th {\n",
       "        vertical-align: top;\n",
       "    }\n",
       "\n",
       "    .dataframe thead th {\n",
       "        text-align: right;\n",
       "    }\n",
       "</style>\n",
       "<table border=\"1\" class=\"dataframe\">\n",
       "  <thead>\n",
       "    <tr style=\"text-align: right;\">\n",
       "      <th></th>\n",
       "      <th>days_associated</th>\n",
       "      <th>health_annual_paid</th>\n",
       "      <th>age</th>\n",
       "      <th>region_code</th>\n",
       "      <th>vehicle_damage</th>\n",
       "      <th>policy_sales_channel</th>\n",
       "      <th>vehicle_prev_insured</th>\n",
       "    </tr>\n",
       "  </thead>\n",
       "  <tbody>\n",
       "    <tr>\n",
       "      <th>338662</th>\n",
       "      <td>0.792388</td>\n",
       "      <td>-0.035741</td>\n",
       "      <td>0.030769</td>\n",
       "      <td>0.116003</td>\n",
       "      <td>0</td>\n",
       "      <td>0.353482</td>\n",
       "      <td>1</td>\n",
       "    </tr>\n",
       "    <tr>\n",
       "      <th>255559</th>\n",
       "      <td>0.543253</td>\n",
       "      <td>0.537840</td>\n",
       "      <td>0.030769</td>\n",
       "      <td>0.095707</td>\n",
       "      <td>0</td>\n",
       "      <td>0.353482</td>\n",
       "      <td>1</td>\n",
       "    </tr>\n",
       "    <tr>\n",
       "      <th>186485</th>\n",
       "      <td>0.391003</td>\n",
       "      <td>-0.377980</td>\n",
       "      <td>0.046154</td>\n",
       "      <td>0.122368</td>\n",
       "      <td>0</td>\n",
       "      <td>0.209901</td>\n",
       "      <td>0</td>\n",
       "    </tr>\n",
       "    <tr>\n",
       "      <th>192350</th>\n",
       "      <td>0.069204</td>\n",
       "      <td>0.074749</td>\n",
       "      <td>0.046154</td>\n",
       "      <td>0.186638</td>\n",
       "      <td>0</td>\n",
       "      <td>0.057067</td>\n",
       "      <td>1</td>\n",
       "    </tr>\n",
       "    <tr>\n",
       "      <th>59040</th>\n",
       "      <td>0.709343</td>\n",
       "      <td>-0.474091</td>\n",
       "      <td>0.061538</td>\n",
       "      <td>0.122368</td>\n",
       "      <td>0</td>\n",
       "      <td>0.353482</td>\n",
       "      <td>1</td>\n",
       "    </tr>\n",
       "    <tr>\n",
       "      <th>...</th>\n",
       "      <td>...</td>\n",
       "      <td>...</td>\n",
       "      <td>...</td>\n",
       "      <td>...</td>\n",
       "      <td>...</td>\n",
       "      <td>...</td>\n",
       "      <td>...</td>\n",
       "    </tr>\n",
       "    <tr>\n",
       "      <th>328338</th>\n",
       "      <td>0.972318</td>\n",
       "      <td>0.058857</td>\n",
       "      <td>0.523077</td>\n",
       "      <td>0.071869</td>\n",
       "      <td>1</td>\n",
       "      <td>0.209901</td>\n",
       "      <td>0</td>\n",
       "    </tr>\n",
       "    <tr>\n",
       "      <th>359877</th>\n",
       "      <td>0.152249</td>\n",
       "      <td>0.007163</td>\n",
       "      <td>0.030769</td>\n",
       "      <td>0.186638</td>\n",
       "      <td>1</td>\n",
       "      <td>0.353482</td>\n",
       "      <td>0</td>\n",
       "    </tr>\n",
       "    <tr>\n",
       "      <th>212867</th>\n",
       "      <td>0.889273</td>\n",
       "      <td>0.369718</td>\n",
       "      <td>0.230769</td>\n",
       "      <td>0.091418</td>\n",
       "      <td>1</td>\n",
       "      <td>0.193626</td>\n",
       "      <td>0</td>\n",
       "    </tr>\n",
       "    <tr>\n",
       "      <th>245992</th>\n",
       "      <td>0.688581</td>\n",
       "      <td>0.249740</td>\n",
       "      <td>0.476923</td>\n",
       "      <td>0.186638</td>\n",
       "      <td>1</td>\n",
       "      <td>0.193626</td>\n",
       "      <td>0</td>\n",
       "    </tr>\n",
       "    <tr>\n",
       "      <th>297836</th>\n",
       "      <td>0.795848</td>\n",
       "      <td>-1.625561</td>\n",
       "      <td>0.461538</td>\n",
       "      <td>0.122890</td>\n",
       "      <td>1</td>\n",
       "      <td>0.017459</td>\n",
       "      <td>0</td>\n",
       "    </tr>\n",
       "  </tbody>\n",
       "</table>\n",
       "<p>274398 rows × 7 columns</p>\n",
       "</div>"
      ],
      "text/plain": [
       "        days_associated  health_annual_paid       age  region_code  vehicle_damage  policy_sales_channel  vehicle_prev_insured\n",
       "338662         0.792388           -0.035741  0.030769     0.116003               0              0.353482                     1\n",
       "255559         0.543253            0.537840  0.030769     0.095707               0              0.353482                     1\n",
       "186485         0.391003           -0.377980  0.046154     0.122368               0              0.209901                     0\n",
       "192350         0.069204            0.074749  0.046154     0.186638               0              0.057067                     1\n",
       "59040          0.709343           -0.474091  0.061538     0.122368               0              0.353482                     1\n",
       "...                 ...                 ...       ...          ...             ...                   ...                   ...\n",
       "328338         0.972318            0.058857  0.523077     0.071869               1              0.209901                     0\n",
       "359877         0.152249            0.007163  0.030769     0.186638               1              0.353482                     0\n",
       "212867         0.889273            0.369718  0.230769     0.091418               1              0.193626                     0\n",
       "245992         0.688581            0.249740  0.476923     0.186638               1              0.193626                     0\n",
       "297836         0.795848           -1.625561  0.461538     0.122890               1              0.017459                     0\n",
       "\n",
       "[274398 rows x 7 columns]"
      ]
     },
     "execution_count": 164,
     "metadata": {},
     "output_type": "execute_result"
    }
   ],
   "source": [
    "x_train"
   ]
  },
  {
   "cell_type": "code",
   "execution_count": 163,
   "id": "86569869",
   "metadata": {
    "ExecuteTime": {
     "end_time": "2022-04-09T19:31:42.424895Z",
     "start_time": "2022-04-09T19:31:42.415596Z"
    },
    "hidden": true
   },
   "outputs": [
    {
     "data": {
      "text/plain": [
       "357106    0\n",
       "124943    0\n",
       "352930    0\n",
       "16739     0\n",
       "301457    1\n",
       "         ..\n",
       "106893    1\n",
       "216302    0\n",
       "255611    0\n",
       "305876    0\n",
       "51464     0\n",
       "Name: response, Length: 30489, dtype: int64"
      ]
     },
     "execution_count": 163,
     "metadata": {},
     "output_type": "execute_result"
    }
   ],
   "source": [
    "y_val"
   ]
  },
  {
   "cell_type": "code",
   "execution_count": null,
   "id": "e269414d",
   "metadata": {
    "hidden": true
   },
   "outputs": [],
   "source": [
    "#Export Training w/ sel features\n",
    "x_train.to_csv(datapath+'x_train.csv')\n",
    "y_train.to_csv(datapath+'y_train.csv')\n",
    "\n",
    "#Export Validation w/ sel features\n",
    "x_val.to_csv(datapath+'x_val.csv')\n",
    "y_val.to_csv(datapath+'y_val.csv')"
   ]
  }
 ],
 "metadata": {
  "kernelspec": {
   "display_name": "Python 3 (ipykernel)",
   "language": "python",
   "name": "python3"
  },
  "language_info": {
   "codemirror_mode": {
    "name": "ipython",
    "version": 3
   },
   "file_extension": ".py",
   "mimetype": "text/x-python",
   "name": "python",
   "nbconvert_exporter": "python",
   "pygments_lexer": "ipython3",
   "version": "3.8.12"
  },
  "toc": {
   "base_numbering": 1,
   "nav_menu": {},
   "number_sections": true,
   "sideBar": true,
   "skip_h1_title": false,
   "title_cell": "Table of Contents",
   "title_sidebar": "Contents",
   "toc_cell": false,
   "toc_position": {},
   "toc_section_display": true,
   "toc_window_display": false
  },
  "varInspector": {
   "cols": {
    "lenName": 16,
    "lenType": 16,
    "lenVar": 40
   },
   "kernels_config": {
    "python": {
     "delete_cmd_postfix": "",
     "delete_cmd_prefix": "del ",
     "library": "var_list.py",
     "varRefreshCmd": "print(var_dic_list())"
    },
    "r": {
     "delete_cmd_postfix": ") ",
     "delete_cmd_prefix": "rm(",
     "library": "var_list.r",
     "varRefreshCmd": "cat(var_dic_list()) "
    }
   },
   "position": {
    "height": "575.866px",
    "left": "468.537px",
    "right": "20px",
    "top": "89.929px",
    "width": "660.952px"
   },
   "types_to_exclude": [
    "module",
    "function",
    "builtin_function_or_method",
    "instance",
    "_Feature"
   ],
   "window_display": false
  }
 },
 "nbformat": 4,
 "nbformat_minor": 5
}
