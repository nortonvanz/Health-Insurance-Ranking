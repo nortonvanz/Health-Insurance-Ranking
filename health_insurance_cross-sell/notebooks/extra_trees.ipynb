{
 "cells": [
  {
   "cell_type": "markdown",
   "id": "6f57b376",
   "metadata": {},
   "source": [
    "# Environment Preparation"
   ]
  },
  {
   "cell_type": "markdown",
   "id": "863e2f2a",
   "metadata": {
    "heading_collapsed": true
   },
   "source": [
    "## Imports"
   ]
  },
  {
   "cell_type": "code",
   "execution_count": 7,
   "id": "834426d1",
   "metadata": {
    "ExecuteTime": {
     "end_time": "2022-03-28T11:10:24.221351Z",
     "start_time": "2022-03-28T11:10:24.213247Z"
    },
    "hidden": true
   },
   "outputs": [],
   "source": [
    "import pandas as pd\n",
    "import numpy as np\n",
    "import cross_validation as cv\n",
    "import random\n",
    "from IPython.core.display   import HTML\n",
    "\n",
    "from tabulate import tabulate\n",
    "from cross_validation import runCrossValidation\n",
    "from sklearn import ensemble as en"
   ]
  },
  {
   "cell_type": "markdown",
   "id": "8aae4a0d",
   "metadata": {
    "heading_collapsed": true
   },
   "source": [
    "## Path Handlers"
   ]
  },
  {
   "cell_type": "code",
   "execution_count": 8,
   "id": "ee7b109d",
   "metadata": {
    "ExecuteTime": {
     "end_time": "2022-03-28T11:10:27.144916Z",
     "start_time": "2022-03-28T11:10:27.133101Z"
    },
    "hidden": true
   },
   "outputs": [
    {
     "data": {
      "text/html": [
       "<style>.container { width:100% !important; }</style>"
      ],
      "text/plain": [
       "<IPython.core.display.HTML object>"
      ]
     },
     "metadata": {},
     "output_type": "display_data"
    }
   ],
   "source": [
    "datapath = '../data/'\n",
    "display( HTML( '<style>.container { width:100% !important; }</style>') )"
   ]
  },
  {
   "cell_type": "markdown",
   "id": "b926ee3f",
   "metadata": {
    "hidden": true
   },
   "source": [
    " # Load data"
   ]
  },
  {
   "cell_type": "code",
   "execution_count": 9,
   "id": "d9a25878",
   "metadata": {
    "ExecuteTime": {
     "end_time": "2022-03-28T11:10:30.921340Z",
     "start_time": "2022-03-28T11:10:30.317528Z"
    },
    "hidden": true
   },
   "outputs": [],
   "source": [
    "#train\n",
    "x_train = pd.read_csv(datapath+'x_train.csv', index_col=0)\n",
    "y_train = pd.read_csv(datapath+'y_train.csv', index_col=0)\n",
    "\n",
    "#validation\n",
    "x_val = pd.read_csv(datapath+'x_val.csv', index_col=0)\n",
    "y_val = pd.read_csv(datapath+'y_val.csv', index_col=0)"
   ]
  },
  {
   "cell_type": "markdown",
   "id": "7fa0cb9a",
   "metadata": {},
   "source": [
    "# Extra Trees Cross Validation"
   ]
  },
  {
   "cell_type": "markdown",
   "id": "49aee3e6",
   "metadata": {},
   "source": [
    "Run 5 Extra Trees models with random hyperparameter setups, and perform a cross-validation on each one, with 10 different cuts in the data, to get the best setup possible."
   ]
  },
  {
   "cell_type": "code",
   "execution_count": 15,
   "id": "a92d7e2c",
   "metadata": {
    "ExecuteTime": {
     "end_time": "2022-03-24T21:12:16.113692Z",
     "start_time": "2022-03-24T20:47:48.827622Z"
    }
   },
   "outputs": [
    {
     "name": "stdout",
     "output_type": "stream",
     "text": [
      "{'n_estimators': 500, 'min_samples_split': 2, 'max_depth': 5, 'min_samples_leaf': 3, 'class_weight': None}\n"
     ]
    },
    {
     "name": "stderr",
     "output_type": "stream",
     "text": [
      "/Users/home/repos/pa004_health_insurance_cross_sell/health_insurance_cross-sell/notebooks/cross_validation.py:129: DataConversionWarning: A column-vector y was passed when a 1d array was expected. Please change the shape of y to (n_samples,), for example using ravel().\n",
      "  model.fit(x_training, y_training)\n",
      "/Users/home/repos/pa004_health_insurance_cross_sell/health_insurance_cross-sell/notebooks/cross_validation.py:129: DataConversionWarning: A column-vector y was passed when a 1d array was expected. Please change the shape of y to (n_samples,), for example using ravel().\n",
      "  model.fit(x_training, y_training)\n",
      "/Users/home/repos/pa004_health_insurance_cross_sell/health_insurance_cross-sell/notebooks/cross_validation.py:129: DataConversionWarning: A column-vector y was passed when a 1d array was expected. Please change the shape of y to (n_samples,), for example using ravel().\n",
      "  model.fit(x_training, y_training)\n",
      "/Users/home/repos/pa004_health_insurance_cross_sell/health_insurance_cross-sell/notebooks/cross_validation.py:129: DataConversionWarning: A column-vector y was passed when a 1d array was expected. Please change the shape of y to (n_samples,), for example using ravel().\n",
      "  model.fit(x_training, y_training)\n",
      "/Users/home/repos/pa004_health_insurance_cross_sell/health_insurance_cross-sell/notebooks/cross_validation.py:129: DataConversionWarning: A column-vector y was passed when a 1d array was expected. Please change the shape of y to (n_samples,), for example using ravel().\n",
      "  model.fit(x_training, y_training)\n",
      "/Users/home/repos/pa004_health_insurance_cross_sell/health_insurance_cross-sell/notebooks/cross_validation.py:129: DataConversionWarning: A column-vector y was passed when a 1d array was expected. Please change the shape of y to (n_samples,), for example using ravel().\n",
      "  model.fit(x_training, y_training)\n",
      "/Users/home/repos/pa004_health_insurance_cross_sell/health_insurance_cross-sell/notebooks/cross_validation.py:129: DataConversionWarning: A column-vector y was passed when a 1d array was expected. Please change the shape of y to (n_samples,), for example using ravel().\n",
      "  model.fit(x_training, y_training)\n",
      "/Users/home/repos/pa004_health_insurance_cross_sell/health_insurance_cross-sell/notebooks/cross_validation.py:129: DataConversionWarning: A column-vector y was passed when a 1d array was expected. Please change the shape of y to (n_samples,), for example using ravel().\n",
      "  model.fit(x_training, y_training)\n",
      "/Users/home/repos/pa004_health_insurance_cross_sell/health_insurance_cross-sell/notebooks/cross_validation.py:129: DataConversionWarning: A column-vector y was passed when a 1d array was expected. Please change the shape of y to (n_samples,), for example using ravel().\n",
      "  model.fit(x_training, y_training)\n",
      "/Users/home/repos/pa004_health_insurance_cross_sell/health_insurance_cross-sell/notebooks/cross_validation.py:129: DataConversionWarning: A column-vector y was passed when a 1d array was expected. Please change the shape of y to (n_samples,), for example using ravel().\n",
      "  model.fit(x_training, y_training)\n",
      "/Users/home/repos/pa004_health_insurance_cross_sell/health_insurance_cross-sell/notebooks/cross_validation.py:129: DataConversionWarning: A column-vector y was passed when a 1d array was expected. Please change the shape of y to (n_samples,), for example using ravel().\n",
      "  model.fit(x_training, y_training)\n",
      "/Users/home/repos/pa004_health_insurance_cross_sell/health_insurance_cross-sell/notebooks/cross_validation.py:129: DataConversionWarning: A column-vector y was passed when a 1d array was expected. Please change the shape of y to (n_samples,), for example using ravel().\n",
      "  model.fit(x_training, y_training)\n",
      "/Users/home/repos/pa004_health_insurance_cross_sell/health_insurance_cross-sell/notebooks/cross_validation.py:129: DataConversionWarning: A column-vector y was passed when a 1d array was expected. Please change the shape of y to (n_samples,), for example using ravel().\n",
      "  model.fit(x_training, y_training)\n",
      "/Users/home/repos/pa004_health_insurance_cross_sell/health_insurance_cross-sell/notebooks/cross_validation.py:129: DataConversionWarning: A column-vector y was passed when a 1d array was expected. Please change the shape of y to (n_samples,), for example using ravel().\n",
      "  model.fit(x_training, y_training)\n",
      "/Users/home/repos/pa004_health_insurance_cross_sell/health_insurance_cross-sell/notebooks/cross_validation.py:129: DataConversionWarning: A column-vector y was passed when a 1d array was expected. Please change the shape of y to (n_samples,), for example using ravel().\n",
      "  model.fit(x_training, y_training)\n",
      "/Users/home/repos/pa004_health_insurance_cross_sell/health_insurance_cross-sell/notebooks/cross_validation.py:129: DataConversionWarning: A column-vector y was passed when a 1d array was expected. Please change the shape of y to (n_samples,), for example using ravel().\n",
      "  model.fit(x_training, y_training)\n",
      "/Users/home/repos/pa004_health_insurance_cross_sell/health_insurance_cross-sell/notebooks/cross_validation.py:129: DataConversionWarning: A column-vector y was passed when a 1d array was expected. Please change the shape of y to (n_samples,), for example using ravel().\n",
      "  model.fit(x_training, y_training)\n",
      "/Users/home/repos/pa004_health_insurance_cross_sell/health_insurance_cross-sell/notebooks/cross_validation.py:129: DataConversionWarning: A column-vector y was passed when a 1d array was expected. Please change the shape of y to (n_samples,), for example using ravel().\n",
      "  model.fit(x_training, y_training)\n",
      "/Users/home/repos/pa004_health_insurance_cross_sell/health_insurance_cross-sell/notebooks/cross_validation.py:129: DataConversionWarning: A column-vector y was passed when a 1d array was expected. Please change the shape of y to (n_samples,), for example using ravel().\n",
      "  model.fit(x_training, y_training)\n",
      "/Users/home/repos/pa004_health_insurance_cross_sell/health_insurance_cross-sell/notebooks/cross_validation.py:129: DataConversionWarning: A column-vector y was passed when a 1d array was expected. Please change the shape of y to (n_samples,), for example using ravel().\n",
      "  model.fit(x_training, y_training)\n"
     ]
    },
    {
     "data": {
      "text/html": [
       "<div>\n",
       "<style scoped>\n",
       "    .dataframe tbody tr th:only-of-type {\n",
       "        vertical-align: middle;\n",
       "    }\n",
       "\n",
       "    .dataframe tbody tr th {\n",
       "        vertical-align: top;\n",
       "    }\n",
       "\n",
       "    .dataframe thead th {\n",
       "        text-align: right;\n",
       "    }\n",
       "</style>\n",
       "<table border=\"1\" class=\"dataframe\">\n",
       "  <thead>\n",
       "    <tr style=\"text-align: right;\">\n",
       "      <th></th>\n",
       "      <th>mean</th>\n",
       "      <th>std</th>\n",
       "    </tr>\n",
       "  </thead>\n",
       "  <tbody>\n",
       "    <tr>\n",
       "      <th>precision_at_k</th>\n",
       "      <td>0.279447</td>\n",
       "      <td>0.001605</td>\n",
       "    </tr>\n",
       "    <tr>\n",
       "      <th>recall_at_k</th>\n",
       "      <td>0.912345</td>\n",
       "      <td>0.005254</td>\n",
       "    </tr>\n",
       "  </tbody>\n",
       "</table>\n",
       "</div>"
      ],
      "text/plain": [
       "                    mean       std\n",
       "precision_at_k  0.279447  0.001605\n",
       "recall_at_k     0.912345  0.005254"
      ]
     },
     "metadata": {},
     "output_type": "display_data"
    },
    {
     "name": "stdout",
     "output_type": "stream",
     "text": [
      "{'n_estimators': 300, 'min_samples_split': 4, 'max_depth': 9, 'min_samples_leaf': 3, 'class_weight': None}\n"
     ]
    },
    {
     "name": "stderr",
     "output_type": "stream",
     "text": [
      "/Users/home/repos/pa004_health_insurance_cross_sell/health_insurance_cross-sell/notebooks/cross_validation.py:129: DataConversionWarning: A column-vector y was passed when a 1d array was expected. Please change the shape of y to (n_samples,), for example using ravel().\n",
      "  model.fit(x_training, y_training)\n",
      "/Users/home/repos/pa004_health_insurance_cross_sell/health_insurance_cross-sell/notebooks/cross_validation.py:129: DataConversionWarning: A column-vector y was passed when a 1d array was expected. Please change the shape of y to (n_samples,), for example using ravel().\n",
      "  model.fit(x_training, y_training)\n",
      "/Users/home/repos/pa004_health_insurance_cross_sell/health_insurance_cross-sell/notebooks/cross_validation.py:129: DataConversionWarning: A column-vector y was passed when a 1d array was expected. Please change the shape of y to (n_samples,), for example using ravel().\n",
      "  model.fit(x_training, y_training)\n",
      "/Users/home/repos/pa004_health_insurance_cross_sell/health_insurance_cross-sell/notebooks/cross_validation.py:129: DataConversionWarning: A column-vector y was passed when a 1d array was expected. Please change the shape of y to (n_samples,), for example using ravel().\n",
      "  model.fit(x_training, y_training)\n",
      "/Users/home/repos/pa004_health_insurance_cross_sell/health_insurance_cross-sell/notebooks/cross_validation.py:129: DataConversionWarning: A column-vector y was passed when a 1d array was expected. Please change the shape of y to (n_samples,), for example using ravel().\n",
      "  model.fit(x_training, y_training)\n",
      "/Users/home/repos/pa004_health_insurance_cross_sell/health_insurance_cross-sell/notebooks/cross_validation.py:129: DataConversionWarning: A column-vector y was passed when a 1d array was expected. Please change the shape of y to (n_samples,), for example using ravel().\n",
      "  model.fit(x_training, y_training)\n",
      "/Users/home/repos/pa004_health_insurance_cross_sell/health_insurance_cross-sell/notebooks/cross_validation.py:129: DataConversionWarning: A column-vector y was passed when a 1d array was expected. Please change the shape of y to (n_samples,), for example using ravel().\n",
      "  model.fit(x_training, y_training)\n",
      "/Users/home/repos/pa004_health_insurance_cross_sell/health_insurance_cross-sell/notebooks/cross_validation.py:129: DataConversionWarning: A column-vector y was passed when a 1d array was expected. Please change the shape of y to (n_samples,), for example using ravel().\n",
      "  model.fit(x_training, y_training)\n",
      "/Users/home/repos/pa004_health_insurance_cross_sell/health_insurance_cross-sell/notebooks/cross_validation.py:129: DataConversionWarning: A column-vector y was passed when a 1d array was expected. Please change the shape of y to (n_samples,), for example using ravel().\n",
      "  model.fit(x_training, y_training)\n",
      "/Users/home/repos/pa004_health_insurance_cross_sell/health_insurance_cross-sell/notebooks/cross_validation.py:129: DataConversionWarning: A column-vector y was passed when a 1d array was expected. Please change the shape of y to (n_samples,), for example using ravel().\n",
      "  model.fit(x_training, y_training)\n",
      "/Users/home/repos/pa004_health_insurance_cross_sell/health_insurance_cross-sell/notebooks/cross_validation.py:129: DataConversionWarning: A column-vector y was passed when a 1d array was expected. Please change the shape of y to (n_samples,), for example using ravel().\n",
      "  model.fit(x_training, y_training)\n",
      "/Users/home/repos/pa004_health_insurance_cross_sell/health_insurance_cross-sell/notebooks/cross_validation.py:129: DataConversionWarning: A column-vector y was passed when a 1d array was expected. Please change the shape of y to (n_samples,), for example using ravel().\n",
      "  model.fit(x_training, y_training)\n",
      "/Users/home/repos/pa004_health_insurance_cross_sell/health_insurance_cross-sell/notebooks/cross_validation.py:129: DataConversionWarning: A column-vector y was passed when a 1d array was expected. Please change the shape of y to (n_samples,), for example using ravel().\n",
      "  model.fit(x_training, y_training)\n",
      "/Users/home/repos/pa004_health_insurance_cross_sell/health_insurance_cross-sell/notebooks/cross_validation.py:129: DataConversionWarning: A column-vector y was passed when a 1d array was expected. Please change the shape of y to (n_samples,), for example using ravel().\n",
      "  model.fit(x_training, y_training)\n",
      "/Users/home/repos/pa004_health_insurance_cross_sell/health_insurance_cross-sell/notebooks/cross_validation.py:129: DataConversionWarning: A column-vector y was passed when a 1d array was expected. Please change the shape of y to (n_samples,), for example using ravel().\n",
      "  model.fit(x_training, y_training)\n",
      "/Users/home/repos/pa004_health_insurance_cross_sell/health_insurance_cross-sell/notebooks/cross_validation.py:129: DataConversionWarning: A column-vector y was passed when a 1d array was expected. Please change the shape of y to (n_samples,), for example using ravel().\n",
      "  model.fit(x_training, y_training)\n",
      "/Users/home/repos/pa004_health_insurance_cross_sell/health_insurance_cross-sell/notebooks/cross_validation.py:129: DataConversionWarning: A column-vector y was passed when a 1d array was expected. Please change the shape of y to (n_samples,), for example using ravel().\n",
      "  model.fit(x_training, y_training)\n",
      "/Users/home/repos/pa004_health_insurance_cross_sell/health_insurance_cross-sell/notebooks/cross_validation.py:129: DataConversionWarning: A column-vector y was passed when a 1d array was expected. Please change the shape of y to (n_samples,), for example using ravel().\n",
      "  model.fit(x_training, y_training)\n",
      "/Users/home/repos/pa004_health_insurance_cross_sell/health_insurance_cross-sell/notebooks/cross_validation.py:129: DataConversionWarning: A column-vector y was passed when a 1d array was expected. Please change the shape of y to (n_samples,), for example using ravel().\n",
      "  model.fit(x_training, y_training)\n",
      "/Users/home/repos/pa004_health_insurance_cross_sell/health_insurance_cross-sell/notebooks/cross_validation.py:129: DataConversionWarning: A column-vector y was passed when a 1d array was expected. Please change the shape of y to (n_samples,), for example using ravel().\n",
      "  model.fit(x_training, y_training)\n"
     ]
    },
    {
     "data": {
      "text/html": [
       "<div>\n",
       "<style scoped>\n",
       "    .dataframe tbody tr th:only-of-type {\n",
       "        vertical-align: middle;\n",
       "    }\n",
       "\n",
       "    .dataframe tbody tr th {\n",
       "        vertical-align: top;\n",
       "    }\n",
       "\n",
       "    .dataframe thead th {\n",
       "        text-align: right;\n",
       "    }\n",
       "</style>\n",
       "<table border=\"1\" class=\"dataframe\">\n",
       "  <thead>\n",
       "    <tr style=\"text-align: right;\">\n",
       "      <th></th>\n",
       "      <th>mean</th>\n",
       "      <th>std</th>\n",
       "    </tr>\n",
       "  </thead>\n",
       "  <tbody>\n",
       "    <tr>\n",
       "      <th>precision_at_k</th>\n",
       "      <td>0.280934</td>\n",
       "      <td>0.001806</td>\n",
       "    </tr>\n",
       "    <tr>\n",
       "      <th>recall_at_k</th>\n",
       "      <td>0.917202</td>\n",
       "      <td>0.005944</td>\n",
       "    </tr>\n",
       "  </tbody>\n",
       "</table>\n",
       "</div>"
      ],
      "text/plain": [
       "                    mean       std\n",
       "precision_at_k  0.280934  0.001806\n",
       "recall_at_k     0.917202  0.005944"
      ]
     },
     "metadata": {},
     "output_type": "display_data"
    },
    {
     "name": "stdout",
     "output_type": "stream",
     "text": [
      "{'n_estimators': 100, 'min_samples_split': 3, 'max_depth': 5, 'min_samples_leaf': 3, 'class_weight': None}\n"
     ]
    },
    {
     "name": "stderr",
     "output_type": "stream",
     "text": [
      "/Users/home/repos/pa004_health_insurance_cross_sell/health_insurance_cross-sell/notebooks/cross_validation.py:129: DataConversionWarning: A column-vector y was passed when a 1d array was expected. Please change the shape of y to (n_samples,), for example using ravel().\n",
      "  model.fit(x_training, y_training)\n",
      "/Users/home/repos/pa004_health_insurance_cross_sell/health_insurance_cross-sell/notebooks/cross_validation.py:129: DataConversionWarning: A column-vector y was passed when a 1d array was expected. Please change the shape of y to (n_samples,), for example using ravel().\n",
      "  model.fit(x_training, y_training)\n",
      "/Users/home/repos/pa004_health_insurance_cross_sell/health_insurance_cross-sell/notebooks/cross_validation.py:129: DataConversionWarning: A column-vector y was passed when a 1d array was expected. Please change the shape of y to (n_samples,), for example using ravel().\n",
      "  model.fit(x_training, y_training)\n",
      "/Users/home/repos/pa004_health_insurance_cross_sell/health_insurance_cross-sell/notebooks/cross_validation.py:129: DataConversionWarning: A column-vector y was passed when a 1d array was expected. Please change the shape of y to (n_samples,), for example using ravel().\n",
      "  model.fit(x_training, y_training)\n",
      "/Users/home/repos/pa004_health_insurance_cross_sell/health_insurance_cross-sell/notebooks/cross_validation.py:129: DataConversionWarning: A column-vector y was passed when a 1d array was expected. Please change the shape of y to (n_samples,), for example using ravel().\n",
      "  model.fit(x_training, y_training)\n",
      "/Users/home/repos/pa004_health_insurance_cross_sell/health_insurance_cross-sell/notebooks/cross_validation.py:129: DataConversionWarning: A column-vector y was passed when a 1d array was expected. Please change the shape of y to (n_samples,), for example using ravel().\n",
      "  model.fit(x_training, y_training)\n",
      "/Users/home/repos/pa004_health_insurance_cross_sell/health_insurance_cross-sell/notebooks/cross_validation.py:129: DataConversionWarning: A column-vector y was passed when a 1d array was expected. Please change the shape of y to (n_samples,), for example using ravel().\n",
      "  model.fit(x_training, y_training)\n",
      "/Users/home/repos/pa004_health_insurance_cross_sell/health_insurance_cross-sell/notebooks/cross_validation.py:129: DataConversionWarning: A column-vector y was passed when a 1d array was expected. Please change the shape of y to (n_samples,), for example using ravel().\n",
      "  model.fit(x_training, y_training)\n",
      "/Users/home/repos/pa004_health_insurance_cross_sell/health_insurance_cross-sell/notebooks/cross_validation.py:129: DataConversionWarning: A column-vector y was passed when a 1d array was expected. Please change the shape of y to (n_samples,), for example using ravel().\n",
      "  model.fit(x_training, y_training)\n",
      "/Users/home/repos/pa004_health_insurance_cross_sell/health_insurance_cross-sell/notebooks/cross_validation.py:129: DataConversionWarning: A column-vector y was passed when a 1d array was expected. Please change the shape of y to (n_samples,), for example using ravel().\n",
      "  model.fit(x_training, y_training)\n",
      "/Users/home/repos/pa004_health_insurance_cross_sell/health_insurance_cross-sell/notebooks/cross_validation.py:129: DataConversionWarning: A column-vector y was passed when a 1d array was expected. Please change the shape of y to (n_samples,), for example using ravel().\n",
      "  model.fit(x_training, y_training)\n",
      "/Users/home/repos/pa004_health_insurance_cross_sell/health_insurance_cross-sell/notebooks/cross_validation.py:129: DataConversionWarning: A column-vector y was passed when a 1d array was expected. Please change the shape of y to (n_samples,), for example using ravel().\n",
      "  model.fit(x_training, y_training)\n",
      "/Users/home/repos/pa004_health_insurance_cross_sell/health_insurance_cross-sell/notebooks/cross_validation.py:129: DataConversionWarning: A column-vector y was passed when a 1d array was expected. Please change the shape of y to (n_samples,), for example using ravel().\n",
      "  model.fit(x_training, y_training)\n",
      "/Users/home/repos/pa004_health_insurance_cross_sell/health_insurance_cross-sell/notebooks/cross_validation.py:129: DataConversionWarning: A column-vector y was passed when a 1d array was expected. Please change the shape of y to (n_samples,), for example using ravel().\n",
      "  model.fit(x_training, y_training)\n",
      "/Users/home/repos/pa004_health_insurance_cross_sell/health_insurance_cross-sell/notebooks/cross_validation.py:129: DataConversionWarning: A column-vector y was passed when a 1d array was expected. Please change the shape of y to (n_samples,), for example using ravel().\n",
      "  model.fit(x_training, y_training)\n",
      "/Users/home/repos/pa004_health_insurance_cross_sell/health_insurance_cross-sell/notebooks/cross_validation.py:129: DataConversionWarning: A column-vector y was passed when a 1d array was expected. Please change the shape of y to (n_samples,), for example using ravel().\n",
      "  model.fit(x_training, y_training)\n",
      "/Users/home/repos/pa004_health_insurance_cross_sell/health_insurance_cross-sell/notebooks/cross_validation.py:129: DataConversionWarning: A column-vector y was passed when a 1d array was expected. Please change the shape of y to (n_samples,), for example using ravel().\n",
      "  model.fit(x_training, y_training)\n",
      "/Users/home/repos/pa004_health_insurance_cross_sell/health_insurance_cross-sell/notebooks/cross_validation.py:129: DataConversionWarning: A column-vector y was passed when a 1d array was expected. Please change the shape of y to (n_samples,), for example using ravel().\n",
      "  model.fit(x_training, y_training)\n",
      "/Users/home/repos/pa004_health_insurance_cross_sell/health_insurance_cross-sell/notebooks/cross_validation.py:129: DataConversionWarning: A column-vector y was passed when a 1d array was expected. Please change the shape of y to (n_samples,), for example using ravel().\n",
      "  model.fit(x_training, y_training)\n",
      "/Users/home/repos/pa004_health_insurance_cross_sell/health_insurance_cross-sell/notebooks/cross_validation.py:129: DataConversionWarning: A column-vector y was passed when a 1d array was expected. Please change the shape of y to (n_samples,), for example using ravel().\n",
      "  model.fit(x_training, y_training)\n"
     ]
    },
    {
     "data": {
      "text/html": [
       "<div>\n",
       "<style scoped>\n",
       "    .dataframe tbody tr th:only-of-type {\n",
       "        vertical-align: middle;\n",
       "    }\n",
       "\n",
       "    .dataframe tbody tr th {\n",
       "        vertical-align: top;\n",
       "    }\n",
       "\n",
       "    .dataframe thead th {\n",
       "        text-align: right;\n",
       "    }\n",
       "</style>\n",
       "<table border=\"1\" class=\"dataframe\">\n",
       "  <thead>\n",
       "    <tr style=\"text-align: right;\">\n",
       "      <th></th>\n",
       "      <th>mean</th>\n",
       "      <th>std</th>\n",
       "    </tr>\n",
       "  </thead>\n",
       "  <tbody>\n",
       "    <tr>\n",
       "      <th>precision_at_k</th>\n",
       "      <td>0.279238</td>\n",
       "      <td>0.001316</td>\n",
       "    </tr>\n",
       "    <tr>\n",
       "      <th>recall_at_k</th>\n",
       "      <td>0.911663</td>\n",
       "      <td>0.004322</td>\n",
       "    </tr>\n",
       "  </tbody>\n",
       "</table>\n",
       "</div>"
      ],
      "text/plain": [
       "                    mean       std\n",
       "precision_at_k  0.279238  0.001316\n",
       "recall_at_k     0.911663  0.004322"
      ]
     },
     "metadata": {},
     "output_type": "display_data"
    },
    {
     "name": "stdout",
     "output_type": "stream",
     "text": [
      "{'n_estimators': 100, 'min_samples_split': 3, 'max_depth': 3, 'min_samples_leaf': 2, 'class_weight': 'balanced'}\n"
     ]
    },
    {
     "name": "stderr",
     "output_type": "stream",
     "text": [
      "/Users/home/repos/pa004_health_insurance_cross_sell/health_insurance_cross-sell/notebooks/cross_validation.py:129: DataConversionWarning: A column-vector y was passed when a 1d array was expected. Please change the shape of y to (n_samples,), for example using ravel().\n",
      "  model.fit(x_training, y_training)\n",
      "/Users/home/repos/pa004_health_insurance_cross_sell/health_insurance_cross-sell/notebooks/cross_validation.py:129: DataConversionWarning: A column-vector y was passed when a 1d array was expected. Please change the shape of y to (n_samples,), for example using ravel().\n",
      "  model.fit(x_training, y_training)\n",
      "/Users/home/repos/pa004_health_insurance_cross_sell/health_insurance_cross-sell/notebooks/cross_validation.py:129: DataConversionWarning: A column-vector y was passed when a 1d array was expected. Please change the shape of y to (n_samples,), for example using ravel().\n",
      "  model.fit(x_training, y_training)\n",
      "/Users/home/repos/pa004_health_insurance_cross_sell/health_insurance_cross-sell/notebooks/cross_validation.py:129: DataConversionWarning: A column-vector y was passed when a 1d array was expected. Please change the shape of y to (n_samples,), for example using ravel().\n",
      "  model.fit(x_training, y_training)\n",
      "/Users/home/repos/pa004_health_insurance_cross_sell/health_insurance_cross-sell/notebooks/cross_validation.py:129: DataConversionWarning: A column-vector y was passed when a 1d array was expected. Please change the shape of y to (n_samples,), for example using ravel().\n",
      "  model.fit(x_training, y_training)\n",
      "/Users/home/repos/pa004_health_insurance_cross_sell/health_insurance_cross-sell/notebooks/cross_validation.py:129: DataConversionWarning: A column-vector y was passed when a 1d array was expected. Please change the shape of y to (n_samples,), for example using ravel().\n",
      "  model.fit(x_training, y_training)\n",
      "/Users/home/repos/pa004_health_insurance_cross_sell/health_insurance_cross-sell/notebooks/cross_validation.py:129: DataConversionWarning: A column-vector y was passed when a 1d array was expected. Please change the shape of y to (n_samples,), for example using ravel().\n",
      "  model.fit(x_training, y_training)\n",
      "/Users/home/repos/pa004_health_insurance_cross_sell/health_insurance_cross-sell/notebooks/cross_validation.py:129: DataConversionWarning: A column-vector y was passed when a 1d array was expected. Please change the shape of y to (n_samples,), for example using ravel().\n",
      "  model.fit(x_training, y_training)\n",
      "/Users/home/repos/pa004_health_insurance_cross_sell/health_insurance_cross-sell/notebooks/cross_validation.py:129: DataConversionWarning: A column-vector y was passed when a 1d array was expected. Please change the shape of y to (n_samples,), for example using ravel().\n",
      "  model.fit(x_training, y_training)\n",
      "/Users/home/repos/pa004_health_insurance_cross_sell/health_insurance_cross-sell/notebooks/cross_validation.py:129: DataConversionWarning: A column-vector y was passed when a 1d array was expected. Please change the shape of y to (n_samples,), for example using ravel().\n",
      "  model.fit(x_training, y_training)\n",
      "/Users/home/repos/pa004_health_insurance_cross_sell/health_insurance_cross-sell/notebooks/cross_validation.py:129: DataConversionWarning: A column-vector y was passed when a 1d array was expected. Please change the shape of y to (n_samples,), for example using ravel().\n",
      "  model.fit(x_training, y_training)\n",
      "/Users/home/repos/pa004_health_insurance_cross_sell/health_insurance_cross-sell/notebooks/cross_validation.py:129: DataConversionWarning: A column-vector y was passed when a 1d array was expected. Please change the shape of y to (n_samples,), for example using ravel().\n",
      "  model.fit(x_training, y_training)\n",
      "/Users/home/repos/pa004_health_insurance_cross_sell/health_insurance_cross-sell/notebooks/cross_validation.py:129: DataConversionWarning: A column-vector y was passed when a 1d array was expected. Please change the shape of y to (n_samples,), for example using ravel().\n",
      "  model.fit(x_training, y_training)\n",
      "/Users/home/repos/pa004_health_insurance_cross_sell/health_insurance_cross-sell/notebooks/cross_validation.py:129: DataConversionWarning: A column-vector y was passed when a 1d array was expected. Please change the shape of y to (n_samples,), for example using ravel().\n",
      "  model.fit(x_training, y_training)\n",
      "/Users/home/repos/pa004_health_insurance_cross_sell/health_insurance_cross-sell/notebooks/cross_validation.py:129: DataConversionWarning: A column-vector y was passed when a 1d array was expected. Please change the shape of y to (n_samples,), for example using ravel().\n",
      "  model.fit(x_training, y_training)\n",
      "/Users/home/repos/pa004_health_insurance_cross_sell/health_insurance_cross-sell/notebooks/cross_validation.py:129: DataConversionWarning: A column-vector y was passed when a 1d array was expected. Please change the shape of y to (n_samples,), for example using ravel().\n",
      "  model.fit(x_training, y_training)\n",
      "/Users/home/repos/pa004_health_insurance_cross_sell/health_insurance_cross-sell/notebooks/cross_validation.py:129: DataConversionWarning: A column-vector y was passed when a 1d array was expected. Please change the shape of y to (n_samples,), for example using ravel().\n",
      "  model.fit(x_training, y_training)\n",
      "/Users/home/repos/pa004_health_insurance_cross_sell/health_insurance_cross-sell/notebooks/cross_validation.py:129: DataConversionWarning: A column-vector y was passed when a 1d array was expected. Please change the shape of y to (n_samples,), for example using ravel().\n",
      "  model.fit(x_training, y_training)\n",
      "/Users/home/repos/pa004_health_insurance_cross_sell/health_insurance_cross-sell/notebooks/cross_validation.py:129: DataConversionWarning: A column-vector y was passed when a 1d array was expected. Please change the shape of y to (n_samples,), for example using ravel().\n",
      "  model.fit(x_training, y_training)\n",
      "/Users/home/repos/pa004_health_insurance_cross_sell/health_insurance_cross-sell/notebooks/cross_validation.py:129: DataConversionWarning: A column-vector y was passed when a 1d array was expected. Please change the shape of y to (n_samples,), for example using ravel().\n",
      "  model.fit(x_training, y_training)\n"
     ]
    },
    {
     "data": {
      "text/html": [
       "<div>\n",
       "<style scoped>\n",
       "    .dataframe tbody tr th:only-of-type {\n",
       "        vertical-align: middle;\n",
       "    }\n",
       "\n",
       "    .dataframe tbody tr th {\n",
       "        vertical-align: top;\n",
       "    }\n",
       "\n",
       "    .dataframe thead th {\n",
       "        text-align: right;\n",
       "    }\n",
       "</style>\n",
       "<table border=\"1\" class=\"dataframe\">\n",
       "  <thead>\n",
       "    <tr style=\"text-align: right;\">\n",
       "      <th></th>\n",
       "      <th>mean</th>\n",
       "      <th>std</th>\n",
       "    </tr>\n",
       "  </thead>\n",
       "  <tbody>\n",
       "    <tr>\n",
       "      <th>precision_at_k</th>\n",
       "      <td>0.277500</td>\n",
       "      <td>0.001746</td>\n",
       "    </tr>\n",
       "    <tr>\n",
       "      <th>recall_at_k</th>\n",
       "      <td>0.905989</td>\n",
       "      <td>0.005725</td>\n",
       "    </tr>\n",
       "  </tbody>\n",
       "</table>\n",
       "</div>"
      ],
      "text/plain": [
       "                    mean       std\n",
       "precision_at_k  0.277500  0.001746\n",
       "recall_at_k     0.905989  0.005725"
      ]
     },
     "metadata": {},
     "output_type": "display_data"
    },
    {
     "name": "stdout",
     "output_type": "stream",
     "text": [
      "{'n_estimators': 100, 'min_samples_split': 3, 'max_depth': 9, 'min_samples_leaf': 2, 'class_weight': None}\n"
     ]
    },
    {
     "name": "stderr",
     "output_type": "stream",
     "text": [
      "/Users/home/repos/pa004_health_insurance_cross_sell/health_insurance_cross-sell/notebooks/cross_validation.py:129: DataConversionWarning: A column-vector y was passed when a 1d array was expected. Please change the shape of y to (n_samples,), for example using ravel().\n",
      "  model.fit(x_training, y_training)\n",
      "/Users/home/repos/pa004_health_insurance_cross_sell/health_insurance_cross-sell/notebooks/cross_validation.py:129: DataConversionWarning: A column-vector y was passed when a 1d array was expected. Please change the shape of y to (n_samples,), for example using ravel().\n",
      "  model.fit(x_training, y_training)\n",
      "/Users/home/repos/pa004_health_insurance_cross_sell/health_insurance_cross-sell/notebooks/cross_validation.py:129: DataConversionWarning: A column-vector y was passed when a 1d array was expected. Please change the shape of y to (n_samples,), for example using ravel().\n",
      "  model.fit(x_training, y_training)\n",
      "/Users/home/repos/pa004_health_insurance_cross_sell/health_insurance_cross-sell/notebooks/cross_validation.py:129: DataConversionWarning: A column-vector y was passed when a 1d array was expected. Please change the shape of y to (n_samples,), for example using ravel().\n",
      "  model.fit(x_training, y_training)\n",
      "/Users/home/repos/pa004_health_insurance_cross_sell/health_insurance_cross-sell/notebooks/cross_validation.py:129: DataConversionWarning: A column-vector y was passed when a 1d array was expected. Please change the shape of y to (n_samples,), for example using ravel().\n",
      "  model.fit(x_training, y_training)\n",
      "/Users/home/repos/pa004_health_insurance_cross_sell/health_insurance_cross-sell/notebooks/cross_validation.py:129: DataConversionWarning: A column-vector y was passed when a 1d array was expected. Please change the shape of y to (n_samples,), for example using ravel().\n",
      "  model.fit(x_training, y_training)\n",
      "/Users/home/repos/pa004_health_insurance_cross_sell/health_insurance_cross-sell/notebooks/cross_validation.py:129: DataConversionWarning: A column-vector y was passed when a 1d array was expected. Please change the shape of y to (n_samples,), for example using ravel().\n",
      "  model.fit(x_training, y_training)\n",
      "/Users/home/repos/pa004_health_insurance_cross_sell/health_insurance_cross-sell/notebooks/cross_validation.py:129: DataConversionWarning: A column-vector y was passed when a 1d array was expected. Please change the shape of y to (n_samples,), for example using ravel().\n",
      "  model.fit(x_training, y_training)\n",
      "/Users/home/repos/pa004_health_insurance_cross_sell/health_insurance_cross-sell/notebooks/cross_validation.py:129: DataConversionWarning: A column-vector y was passed when a 1d array was expected. Please change the shape of y to (n_samples,), for example using ravel().\n",
      "  model.fit(x_training, y_training)\n",
      "/Users/home/repos/pa004_health_insurance_cross_sell/health_insurance_cross-sell/notebooks/cross_validation.py:129: DataConversionWarning: A column-vector y was passed when a 1d array was expected. Please change the shape of y to (n_samples,), for example using ravel().\n",
      "  model.fit(x_training, y_training)\n",
      "/Users/home/repos/pa004_health_insurance_cross_sell/health_insurance_cross-sell/notebooks/cross_validation.py:129: DataConversionWarning: A column-vector y was passed when a 1d array was expected. Please change the shape of y to (n_samples,), for example using ravel().\n",
      "  model.fit(x_training, y_training)\n",
      "/Users/home/repos/pa004_health_insurance_cross_sell/health_insurance_cross-sell/notebooks/cross_validation.py:129: DataConversionWarning: A column-vector y was passed when a 1d array was expected. Please change the shape of y to (n_samples,), for example using ravel().\n",
      "  model.fit(x_training, y_training)\n",
      "/Users/home/repos/pa004_health_insurance_cross_sell/health_insurance_cross-sell/notebooks/cross_validation.py:129: DataConversionWarning: A column-vector y was passed when a 1d array was expected. Please change the shape of y to (n_samples,), for example using ravel().\n",
      "  model.fit(x_training, y_training)\n",
      "/Users/home/repos/pa004_health_insurance_cross_sell/health_insurance_cross-sell/notebooks/cross_validation.py:129: DataConversionWarning: A column-vector y was passed when a 1d array was expected. Please change the shape of y to (n_samples,), for example using ravel().\n",
      "  model.fit(x_training, y_training)\n",
      "/Users/home/repos/pa004_health_insurance_cross_sell/health_insurance_cross-sell/notebooks/cross_validation.py:129: DataConversionWarning: A column-vector y was passed when a 1d array was expected. Please change the shape of y to (n_samples,), for example using ravel().\n",
      "  model.fit(x_training, y_training)\n",
      "/Users/home/repos/pa004_health_insurance_cross_sell/health_insurance_cross-sell/notebooks/cross_validation.py:129: DataConversionWarning: A column-vector y was passed when a 1d array was expected. Please change the shape of y to (n_samples,), for example using ravel().\n",
      "  model.fit(x_training, y_training)\n",
      "/Users/home/repos/pa004_health_insurance_cross_sell/health_insurance_cross-sell/notebooks/cross_validation.py:129: DataConversionWarning: A column-vector y was passed when a 1d array was expected. Please change the shape of y to (n_samples,), for example using ravel().\n",
      "  model.fit(x_training, y_training)\n",
      "/Users/home/repos/pa004_health_insurance_cross_sell/health_insurance_cross-sell/notebooks/cross_validation.py:129: DataConversionWarning: A column-vector y was passed when a 1d array was expected. Please change the shape of y to (n_samples,), for example using ravel().\n",
      "  model.fit(x_training, y_training)\n",
      "/Users/home/repos/pa004_health_insurance_cross_sell/health_insurance_cross-sell/notebooks/cross_validation.py:129: DataConversionWarning: A column-vector y was passed when a 1d array was expected. Please change the shape of y to (n_samples,), for example using ravel().\n",
      "  model.fit(x_training, y_training)\n",
      "/Users/home/repos/pa004_health_insurance_cross_sell/health_insurance_cross-sell/notebooks/cross_validation.py:129: DataConversionWarning: A column-vector y was passed when a 1d array was expected. Please change the shape of y to (n_samples,), for example using ravel().\n",
      "  model.fit(x_training, y_training)\n"
     ]
    },
    {
     "data": {
      "text/html": [
       "<div>\n",
       "<style scoped>\n",
       "    .dataframe tbody tr th:only-of-type {\n",
       "        vertical-align: middle;\n",
       "    }\n",
       "\n",
       "    .dataframe tbody tr th {\n",
       "        vertical-align: top;\n",
       "    }\n",
       "\n",
       "    .dataframe thead th {\n",
       "        text-align: right;\n",
       "    }\n",
       "</style>\n",
       "<table border=\"1\" class=\"dataframe\">\n",
       "  <thead>\n",
       "    <tr style=\"text-align: right;\">\n",
       "      <th></th>\n",
       "      <th>mean</th>\n",
       "      <th>std</th>\n",
       "    </tr>\n",
       "  </thead>\n",
       "  <tbody>\n",
       "    <tr>\n",
       "      <th>precision_at_k</th>\n",
       "      <td>0.280951</td>\n",
       "      <td>0.001452</td>\n",
       "    </tr>\n",
       "    <tr>\n",
       "      <th>recall_at_k</th>\n",
       "      <td>0.917255</td>\n",
       "      <td>0.004745</td>\n",
       "    </tr>\n",
       "  </tbody>\n",
       "</table>\n",
       "</div>"
      ],
      "text/plain": [
       "                    mean       std\n",
       "precision_at_k  0.280951  0.001452\n",
       "recall_at_k     0.917255  0.004745"
      ]
     },
     "metadata": {},
     "output_type": "display_data"
    }
   ],
   "source": [
    "## session with high processing time: 24m 27s\n",
    "## results compiled in the following table\n",
    "\n",
    "param = {\n",
    "    'n_estimators':  [100, 300, 500], \n",
    "    'min_samples_split':  [2,3,4],\n",
    "    'max_depth':  [3,5,9], \n",
    "    'min_samples_leaf': [1,2,3],\n",
    "    'class_weight': [None, 'balanced','balanced_subsample']\n",
    "}\n",
    "\n",
    "max_eval = 5\n",
    "\n",
    "for i in range(max_eval):\n",
    "    # random choice of dictionary values\n",
    "    hp = {k: random.sample(v,1)[0] for k, v in param.items()}\n",
    "    print(hp)\n",
    "\n",
    "    # model definition\n",
    "    et_model = en.ExtraTreesClassifier(n_estimators = hp['n_estimators'], \n",
    "                                      min_samples_split = hp['min_samples_split'],\n",
    "                                      max_depth = hp['max_depth'],\n",
    "                                      min_samples_leaf = hp['min_samples_leaf'],\n",
    "                                      class_weight = hp['class_weight'],\n",
    "                                      n_jobs = -1)\n",
    "    \n",
    "    display(cv.runCrossValidation(et_model, x_train, x_val, y_train, y_val, n_splits = 10, n_repeats = 2, top_k = 12200))"
   ]
  },
  {
   "cell_type": "markdown",
   "id": "7d6afd58",
   "metadata": {},
   "source": [
    "Results of the 5 models and their hyperparameters"
   ]
  },
  {
   "cell_type": "code",
   "execution_count": 17,
   "id": "f0d21172",
   "metadata": {
    "ExecuteTime": {
     "end_time": "2022-03-24T21:37:25.868136Z",
     "start_time": "2022-03-24T21:37:25.782392Z"
    },
    "code_folding": [
     0
    ]
   },
   "outputs": [
    {
     "name": "stdout",
     "output_type": "stream",
     "text": [
      "╒═════════╤═══════════════════════╤═══════════════════════╤════════════════════════════════════════════════════════════════════════════════════════════════════════════════╕\n",
      "│ model   │ precision@k           │ recall@k              │ hyperparameters                                                                                                │\n",
      "╞═════════╪═══════════════════════╪═══════════════════════╪════════════════════════════════════════════════════════════════════════════════════════════════════════════════╡\n",
      "│ #1      │ 0.279447 +/- 0.001605 │ 0.912345 +/- 0.001452 │ 'n_estimators': 500, 'min_samples_split': 2, 'max_depth': 5, 'min_samples_leaf': 3, 'class_weight': None       │\n",
      "├─────────┼───────────────────────┼───────────────────────┼────────────────────────────────────────────────────────────────────────────────────────────────────────────────┤\n",
      "│ #2      │ 0.280934 +/- 0.001806 │ 0.917202 +/- 0.005944 │ 'n_estimators': 300, 'min_samples_split': 4, 'max_depth': 9, 'min_samples_leaf': 3, 'class_weight': None       │\n",
      "├─────────┼───────────────────────┼───────────────────────┼────────────────────────────────────────────────────────────────────────────────────────────────────────────────┤\n",
      "│ #3      │ 0.279238 +/- 0.001316 │ 0.911663 +/- 0.004322 │ 'n_estimators': 100, 'min_samples_split': 3, 'max_depth': 5, 'min_samples_leaf': 3, 'class_weight': None       │\n",
      "├─────────┼───────────────────────┼───────────────────────┼────────────────────────────────────────────────────────────────────────────────────────────────────────────────┤\n",
      "│ #4      │ 0.277500 +/- 0.001746 │ 0.905989 +/- 0.005725 │ 'n_estimators': 100, 'min_samples_split': 3, 'max_depth': 3, 'min_samples_leaf': 2, 'class_weight': 'balanced' │\n",
      "├─────────┼───────────────────────┼───────────────────────┼────────────────────────────────────────────────────────────────────────────────────────────────────────────────┤\n",
      "│ #5      │ 0.280951 +/- 0.001719 │ 0.917255 +/- 0.004745 │ 'n_estimators': 100, 'min_samples_split': 3, 'max_depth': 9, 'min_samples_leaf': 2, 'class_weight': None       │\n",
      "╘═════════╧═══════════════════════╧═══════════════════════╧════════════════════════════════════════════════════════════════════════════════════════════════════════════════╛\n"
     ]
    }
   ],
   "source": [
    "final_results = {'model':['#1', '#2', '#3', '#4', '#5'],\n",
    "                 'precision_at_k': ['0.279447 +/- 0.001605',\n",
    "                                    '0.280934 +/- 0.001806',\n",
    "                                    '0.279238 +/- 0.001316',\n",
    "                                    '0.277500 +/- 0.001746',\n",
    "                                    '0.280951 +/- 0.001719'],\n",
    "                 'recall_at_k': ['0.912345 +/- 0.001452',\n",
    "                                 '0.917202 +/- 0.005944',\n",
    "                                 '0.911663 +/- 0.004322',\n",
    "                                 '0.905989 +/- 0.005725',\n",
    "                                 '0.917255 +/- 0.004745'],\n",
    "                 'parameters': [\"'n_estimators': 500, 'min_samples_split': 2, 'max_depth': 5, 'min_samples_leaf': 3, 'class_weight': None\",   \n",
    "                                \"'n_estimators': 300, 'min_samples_split': 4, 'max_depth': 9, 'min_samples_leaf': 3, 'class_weight': None\",\n",
    "                                \"'n_estimators': 100, 'min_samples_split': 3, 'max_depth': 5, 'min_samples_leaf': 3, 'class_weight': None\",\n",
    "                                \"'n_estimators': 100, 'min_samples_split': 3, 'max_depth': 3, 'min_samples_leaf': 2, 'class_weight': 'balanced'\",\n",
    "                                \"'n_estimators': 100, 'min_samples_split': 3, 'max_depth': 9, 'min_samples_leaf': 2, 'class_weight': None\"]\n",
    "                }\n",
    "\n",
    "print(tabulate(final_results, headers=['model','precision@k','recall@k', 'hyperparameters'], tablefmt=\"fancy_grid\"))"
   ]
  },
  {
   "cell_type": "markdown",
   "id": "6c4077f8",
   "metadata": {},
   "source": [
    "The results of the models were similar, and the best performer in precision@k and racall@k was the number #5"
   ]
  },
  {
   "cell_type": "markdown",
   "id": "572ccfe8",
   "metadata": {},
   "source": [
    "# Model training and ranked list export"
   ]
  },
  {
   "cell_type": "markdown",
   "id": "5c5c0fa2",
   "metadata": {
    "ExecuteTime": {
     "end_time": "2022-03-24T20:44:43.576465Z",
     "start_time": "2022-03-24T20:44:43.568988Z"
    }
   },
   "source": [
    "Train, plot gain and lift curves, and metrics of precision@k and recall@k of number #5"
   ]
  },
  {
   "cell_type": "code",
   "execution_count": 10,
   "id": "69e8df87",
   "metadata": {
    "ExecuteTime": {
     "end_time": "2022-03-28T11:10:44.468271Z",
     "start_time": "2022-03-28T11:10:36.557381Z"
    }
   },
   "outputs": [
    {
     "name": "stderr",
     "output_type": "stream",
     "text": [
      "/var/folders/z7/spd20rg13kl9j0xgnkbzdrf40000gn/T/ipykernel_5011/266939607.py:11: DataConversionWarning: A column-vector y was passed when a 1d array was expected. Please change the shape of y to (n_samples,), for example using ravel().\n",
      "  et_model.fit(x_train, y_train)\n"
     ]
    }
   ],
   "source": [
    "# model definition       \n",
    "et_model = en.ExtraTreesClassifier(n_estimators = 100, \n",
    "                                      min_samples_split = 3,\n",
    "                                      max_depth = 9,\n",
    "                                      min_samples_leaf = 2,\n",
    "                                      class_weight = None,\n",
    "                                      n_jobs = -1)\n",
    "# model training\n",
    "et_model.fit(x_train, y_train)\n",
    "\n",
    "# model prediction (proba)\n",
    "yhat_proba = et_model.predict_proba(x_val)"
   ]
  },
  {
   "cell_type": "code",
   "execution_count": 11,
   "id": "d47c31ab",
   "metadata": {
    "ExecuteTime": {
     "end_time": "2022-03-28T11:10:52.682088Z",
     "start_time": "2022-03-28T11:10:44.843192Z"
    }
   },
   "outputs": [
    {
     "data": {
      "image/png": "[encoded data removed]",
      "text/plain": [
       "<Figure size 576x720 with 2 Axes>"
      ]
     },
     "metadata": {
      "needs_background": "light"
     },
     "output_type": "display_data"
    }
   ],
   "source": [
    "table_et = cv.gain_lift_curve(yhat_proba, y_val)\n",
    "metrics_et, new_table_et = cv.precision_recall_at_k(table_et, 12200) #12200 = 40% of customers\n",
    "new_table_et.to_pickle(datapath+'processed/et_table.pkl')"
   ]
  },
  {
   "cell_type": "code",
   "execution_count": 12,
   "id": "cc4f14ef",
   "metadata": {
    "ExecuteTime": {
     "end_time": "2022-03-28T11:10:53.144627Z",
     "start_time": "2022-03-28T11:10:53.084911Z"
    }
   },
   "outputs": [
    {
     "data": {
      "text/html": [
       "<div>\n",
       "<style scoped>\n",
       "    .dataframe tbody tr th:only-of-type {\n",
       "        vertical-align: middle;\n",
       "    }\n",
       "\n",
       "    .dataframe tbody tr th {\n",
       "        vertical-align: top;\n",
       "    }\n",
       "\n",
       "    .dataframe thead th {\n",
       "        text-align: right;\n",
       "    }\n",
       "</style>\n",
       "<table border=\"1\" class=\"dataframe\">\n",
       "  <thead>\n",
       "    <tr style=\"text-align: right;\">\n",
       "      <th></th>\n",
       "      <th>0</th>\n",
       "      <th>1</th>\n",
       "      <th>target</th>\n",
       "      <th>correct</th>\n",
       "      <th>propensity_score</th>\n",
       "      <th>cumulative_propensity_score</th>\n",
       "      <th>cumulative_porc_base</th>\n",
       "      <th>lift</th>\n",
       "      <th>ranking</th>\n",
       "      <th>precision_at_k</th>\n",
       "      <th>recall_at_k</th>\n",
       "    </tr>\n",
       "  </thead>\n",
       "  <tbody>\n",
       "    <tr>\n",
       "      <th>0</th>\n",
       "      <td>0.603892</td>\n",
       "      <td>0.396108</td>\n",
       "      <td>0</td>\n",
       "      <td>yes</td>\n",
       "      <td>0.000000</td>\n",
       "      <td>0.000000</td>\n",
       "      <td>0.000033</td>\n",
       "      <td>0.000000</td>\n",
       "      <td>1</td>\n",
       "      <td>0.000000</td>\n",
       "      <td>0.000000</td>\n",
       "    </tr>\n",
       "    <tr>\n",
       "      <th>1</th>\n",
       "      <td>0.622610</td>\n",
       "      <td>0.377390</td>\n",
       "      <td>0</td>\n",
       "      <td>yes</td>\n",
       "      <td>0.000000</td>\n",
       "      <td>0.000000</td>\n",
       "      <td>0.000066</td>\n",
       "      <td>0.000000</td>\n",
       "      <td>2</td>\n",
       "      <td>0.000000</td>\n",
       "      <td>0.000000</td>\n",
       "    </tr>\n",
       "    <tr>\n",
       "      <th>2</th>\n",
       "      <td>0.647787</td>\n",
       "      <td>0.352213</td>\n",
       "      <td>1</td>\n",
       "      <td>no</td>\n",
       "      <td>0.000268</td>\n",
       "      <td>0.000268</td>\n",
       "      <td>0.000098</td>\n",
       "      <td>2.719561</td>\n",
       "      <td>3</td>\n",
       "      <td>0.333333</td>\n",
       "      <td>0.000268</td>\n",
       "    </tr>\n",
       "    <tr>\n",
       "      <th>3</th>\n",
       "      <td>0.648726</td>\n",
       "      <td>0.351274</td>\n",
       "      <td>1</td>\n",
       "      <td>no</td>\n",
       "      <td>0.000268</td>\n",
       "      <td>0.000535</td>\n",
       "      <td>0.000131</td>\n",
       "      <td>4.079342</td>\n",
       "      <td>4</td>\n",
       "      <td>0.500000</td>\n",
       "      <td>0.000535</td>\n",
       "    </tr>\n",
       "    <tr>\n",
       "      <th>4</th>\n",
       "      <td>0.648747</td>\n",
       "      <td>0.351253</td>\n",
       "      <td>1</td>\n",
       "      <td>no</td>\n",
       "      <td>0.000268</td>\n",
       "      <td>0.000803</td>\n",
       "      <td>0.000164</td>\n",
       "      <td>4.895210</td>\n",
       "      <td>5</td>\n",
       "      <td>0.600000</td>\n",
       "      <td>0.000803</td>\n",
       "    </tr>\n",
       "    <tr>\n",
       "      <th>...</th>\n",
       "      <td>...</td>\n",
       "      <td>...</td>\n",
       "      <td>...</td>\n",
       "      <td>...</td>\n",
       "      <td>...</td>\n",
       "      <td>...</td>\n",
       "      <td>...</td>\n",
       "      <td>...</td>\n",
       "      <td>...</td>\n",
       "      <td>...</td>\n",
       "      <td>...</td>\n",
       "    </tr>\n",
       "    <tr>\n",
       "      <th>30484</th>\n",
       "      <td>0.999842</td>\n",
       "      <td>0.000158</td>\n",
       "      <td>0</td>\n",
       "      <td>yes</td>\n",
       "      <td>0.000000</td>\n",
       "      <td>1.000000</td>\n",
       "      <td>0.999869</td>\n",
       "      <td>1.000131</td>\n",
       "      <td>30485</td>\n",
       "      <td>0.122585</td>\n",
       "      <td>1.000000</td>\n",
       "    </tr>\n",
       "    <tr>\n",
       "      <th>30485</th>\n",
       "      <td>0.999843</td>\n",
       "      <td>0.000157</td>\n",
       "      <td>0</td>\n",
       "      <td>yes</td>\n",
       "      <td>0.000000</td>\n",
       "      <td>1.000000</td>\n",
       "      <td>0.999902</td>\n",
       "      <td>1.000098</td>\n",
       "      <td>30486</td>\n",
       "      <td>0.122581</td>\n",
       "      <td>1.000000</td>\n",
       "    </tr>\n",
       "    <tr>\n",
       "      <th>30486</th>\n",
       "      <td>0.999844</td>\n",
       "      <td>0.000156</td>\n",
       "      <td>0</td>\n",
       "      <td>yes</td>\n",
       "      <td>0.000000</td>\n",
       "      <td>1.000000</td>\n",
       "      <td>0.999934</td>\n",
       "      <td>1.000066</td>\n",
       "      <td>30487</td>\n",
       "      <td>0.122577</td>\n",
       "      <td>1.000000</td>\n",
       "    </tr>\n",
       "    <tr>\n",
       "      <th>30487</th>\n",
       "      <td>0.999867</td>\n",
       "      <td>0.000133</td>\n",
       "      <td>0</td>\n",
       "      <td>yes</td>\n",
       "      <td>0.000000</td>\n",
       "      <td>1.000000</td>\n",
       "      <td>0.999967</td>\n",
       "      <td>1.000033</td>\n",
       "      <td>30488</td>\n",
       "      <td>0.122573</td>\n",
       "      <td>1.000000</td>\n",
       "    </tr>\n",
       "    <tr>\n",
       "      <th>30488</th>\n",
       "      <td>0.999875</td>\n",
       "      <td>0.000125</td>\n",
       "      <td>0</td>\n",
       "      <td>yes</td>\n",
       "      <td>0.000000</td>\n",
       "      <td>1.000000</td>\n",
       "      <td>1.000000</td>\n",
       "      <td>1.000000</td>\n",
       "      <td>30489</td>\n",
       "      <td>0.122569</td>\n",
       "      <td>1.000000</td>\n",
       "    </tr>\n",
       "  </tbody>\n",
       "</table>\n",
       "<p>30489 rows × 11 columns</p>\n",
       "</div>"
      ],
      "text/plain": [
       "              0         1  target correct  propensity_score  \\\n",
       "0      0.603892  0.396108       0     yes          0.000000   \n",
       "1      0.622610  0.377390       0     yes          0.000000   \n",
       "2      0.647787  0.352213       1      no          0.000268   \n",
       "3      0.648726  0.351274       1      no          0.000268   \n",
       "4      0.648747  0.351253       1      no          0.000268   \n",
       "...         ...       ...     ...     ...               ...   \n",
       "30484  0.999842  0.000158       0     yes          0.000000   \n",
       "30485  0.999843  0.000157       0     yes          0.000000   \n",
       "30486  0.999844  0.000156       0     yes          0.000000   \n",
       "30487  0.999867  0.000133       0     yes          0.000000   \n",
       "30488  0.999875  0.000125       0     yes          0.000000   \n",
       "\n",
       "       cumulative_propensity_score  cumulative_porc_base      lift  ranking  \\\n",
       "0                         0.000000              0.000033  0.000000        1   \n",
       "1                         0.000000              0.000066  0.000000        2   \n",
       "2                         0.000268              0.000098  2.719561        3   \n",
       "3                         0.000535              0.000131  4.079342        4   \n",
       "4                         0.000803              0.000164  4.895210        5   \n",
       "...                            ...                   ...       ...      ...   \n",
       "30484                     1.000000              0.999869  1.000131    30485   \n",
       "30485                     1.000000              0.999902  1.000098    30486   \n",
       "30486                     1.000000              0.999934  1.000066    30487   \n",
       "30487                     1.000000              0.999967  1.000033    30488   \n",
       "30488                     1.000000              1.000000  1.000000    30489   \n",
       "\n",
       "       precision_at_k  recall_at_k  \n",
       "0            0.000000     0.000000  \n",
       "1            0.000000     0.000000  \n",
       "2            0.333333     0.000268  \n",
       "3            0.500000     0.000535  \n",
       "4            0.600000     0.000803  \n",
       "...               ...          ...  \n",
       "30484        0.122585     1.000000  \n",
       "30485        0.122581     1.000000  \n",
       "30486        0.122577     1.000000  \n",
       "30487        0.122573     1.000000  \n",
       "30488        0.122569     1.000000  \n",
       "\n",
       "[30489 rows x 11 columns]"
      ]
     },
     "execution_count": 12,
     "metadata": {},
     "output_type": "execute_result"
    }
   ],
   "source": [
    "#Table of Extra Trees data\n",
    "new_table_et"
   ]
  },
  {
   "cell_type": "code",
   "execution_count": 13,
   "id": "fb4060ed",
   "metadata": {
    "ExecuteTime": {
     "end_time": "2022-03-28T11:10:53.569170Z",
     "start_time": "2022-03-28T11:10:53.555169Z"
    }
   },
   "outputs": [
    {
     "data": {
      "text/plain": [
       "(0.2821311475409836, 0.921059673534921)"
      ]
     },
     "execution_count": 13,
     "metadata": {},
     "output_type": "execute_result"
    }
   ],
   "source": [
    "#Extra Trees: Metrics of precision@k and recall@k -> k=12200 (40% of base).\n",
    "metrics_et"
   ]
  }
 ],
 "metadata": {
  "kernelspec": {
   "display_name": "Python 3 (ipykernel)",
   "language": "python",
   "name": "python3"
  },
  "language_info": {
   "codemirror_mode": {
    "name": "ipython",
    "version": 3
   },
   "file_extension": ".py",
   "mimetype": "text/x-python",
   "name": "python",
   "nbconvert_exporter": "python",
   "pygments_lexer": "ipython3",
   "version": "3.8.12"
  },
  "toc": {
   "base_numbering": 1,
   "nav_menu": {},
   "number_sections": true,
   "sideBar": true,
   "skip_h1_title": false,
   "title_cell": "Table of Contents",
   "title_sidebar": "Contents",
   "toc_cell": false,
   "toc_position": {},
   "toc_section_display": true,
   "toc_window_display": false
  },
  "varInspector": {
   "cols": {
    "lenName": 16,
    "lenType": 16,
    "lenVar": 40
   },
   "kernels_config": {
    "python": {
     "delete_cmd_postfix": "",
     "delete_cmd_prefix": "del ",
     "library": "var_list.py",
     "varRefreshCmd": "print(var_dic_list())"
    },
    "r": {
     "delete_cmd_postfix": ") ",
     "delete_cmd_prefix": "rm(",
     "library": "var_list.r",
     "varRefreshCmd": "cat(var_dic_list()) "
    }
   },
   "types_to_exclude": [
    "module",
    "function",
    "builtin_function_or_method",
    "instance",
    "_Feature"
   ],
   "window_display": false
  }
 },
 "nbformat": 4,
 "nbformat_minor": 5
}
