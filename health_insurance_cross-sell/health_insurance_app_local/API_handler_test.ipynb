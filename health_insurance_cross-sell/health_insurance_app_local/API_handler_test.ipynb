{
 "cells": [
  {
   "cell_type": "markdown",
   "id": "db8ebddf",
   "metadata": {
    "ExecuteTime": {
     "end_time": "2022-04-05T12:47:45.727389Z",
     "start_time": "2022-04-05T12:47:45.719455Z"
    }
   },
   "source": [
    "# Settings"
   ]
  },
  {
   "cell_type": "code",
   "execution_count": 1,
   "id": "7ebdc53c",
   "metadata": {
    "ExecuteTime": {
     "end_time": "2022-04-06T22:04:30.485190Z",
     "start_time": "2022-04-06T22:04:30.466597Z"
    }
   },
   "outputs": [
    {
     "data": {
      "text/html": [
       "<style>.container { width:100% !important; }</style>"
      ],
      "text/plain": [
       "<IPython.core.display.HTML object>"
      ]
     },
     "metadata": {},
     "output_type": "display_data"
    }
   ],
   "source": [
    "from IPython.core.display   import HTML\n",
    "display( HTML( '<style>.container { width:100% !important; }</style>') )"
   ]
  },
  {
   "cell_type": "code",
   "execution_count": 2,
   "id": "cbe344f5",
   "metadata": {
    "ExecuteTime": {
     "end_time": "2022-04-06T22:04:31.346177Z",
     "start_time": "2022-04-06T22:04:31.337844Z"
    }
   },
   "outputs": [
    {
     "data": {
      "text/plain": [
       "'/Users/home/repos/pa004_health_insurance_cross_sell/health_insurance_cross-sell/health_insurance_app_local'"
      ]
     },
     "execution_count": 2,
     "metadata": {},
     "output_type": "execute_result"
    }
   ],
   "source": [
    "pwd"
   ]
  },
  {
   "cell_type": "markdown",
   "id": "5de96f10",
   "metadata": {},
   "source": [
    "# API Handler local"
   ]
  },
  {
   "cell_type": "code",
   "execution_count": null,
   "id": "2cc89c6f",
   "metadata": {
    "ExecuteTime": {
     "start_time": "2022-04-06T22:04:49.960Z"
    },
    "scrolled": true
   },
   "outputs": [
    {
     "name": "stdout",
     "output_type": "stream",
     "text": [
      " * Serving Flask app \"__main__\" (lazy loading)\n",
      " * Environment: production\n",
      "\u001b[31m   WARNING: This is a development server. Do not use it in a production deployment.\u001b[0m\n",
      "\u001b[2m   Use a production WSGI server instead.\u001b[0m\n",
      " * Debug mode: off\n"
     ]
    },
    {
     "name": "stderr",
     "output_type": "stream",
     "text": [
      " * Running on all addresses.\n",
      "   WARNING: This is a development server. Do not use it in a production deployment.\n",
      " * Running on http://192.168.1.21:5000/ (Press CTRL+C to quit)\n",
      "192.168.1.21 - - [06/Apr/2022 19:05:14] \"POST /predict HTTP/1.1\" 200 -\n",
      "192.168.1.21 - - [06/Apr/2022 19:20:52] \"POST /predict HTTP/1.1\" 200 -\n"
     ]
    }
   ],
   "source": [
    "import pickle\n",
    "import os\n",
    "import pandas as pd\n",
    "from flask import Flask, request, Response\n",
    "from healthinsurance.HealthInsurance import HealthInsurance\n",
    "\n",
    "# load model in memory\n",
    "model = pickle.load(open('models/xgbclassifier_model.pkl', 'rb'))\n",
    "\n",
    "# initialize API\n",
    "app = Flask(__name__)\n",
    "\n",
    "# create endpoint\n",
    "@app.route('/predict', methods=['POST'])\n",
    "def health_insurance_predict():\n",
    "    test_json = request.get_json()\n",
    "\n",
    "    if test_json: #there is data\n",
    "        if isinstance(test_json, dict): #unique row \n",
    "            test_raw = pd.DataFrame(test_json, index = [0])\n",
    "        else: # multiple rows\n",
    "            test_raw = pd.DataFrame(test_json, columns = test_json[0].keys()) \n",
    "\n",
    "        # instantiate HealthInsurance class\n",
    "        pipeline = HealthInsurance()\n",
    "\n",
    "        # data cleaning\n",
    "        df1 = pipeline.data_cleaning(test_raw)\n",
    "        #print('df1 done')\n",
    "        #print(df1.head())\n",
    "        #print(df1.head().values)\n",
    "\n",
    "        # feature engineering\n",
    "        df2 = pipeline.feature_engineering(df1)\n",
    "        #print('df2 done')\n",
    "        #print(df2.head())\n",
    "        #print(df2.head().values)\n",
    "\n",
    "        # data preparation\n",
    "        df3 = pipeline.data_preparation(df2)\n",
    "        #print('df3 done')\n",
    "        #print(df3.head())\n",
    "        #print(df3.head().values)\n",
    "\n",
    "        # prediction\n",
    "        df_response = pipeline.get_prediction(model, test_raw, df3)\n",
    "\n",
    "        #returns a json\n",
    "        return df_response\n",
    "    \n",
    "\n",
    "    else: #if empty:\n",
    "        return Response('{}', status = 200, mimetype = 'application/json')\n",
    "\n",
    "if __name__ == '__main__':\n",
    "    port = os.environ.get( 'PORT', 5000 )\n",
    "    app.run( host = '0.0.0.0', port=port )"
   ]
  },
  {
   "cell_type": "code",
   "execution_count": null,
   "id": "d21b3b55",
   "metadata": {},
   "outputs": [],
   "source": []
  },
  {
   "cell_type": "code",
   "execution_count": null,
   "id": "c3353e00",
   "metadata": {},
   "outputs": [],
   "source": []
  }
 ],
 "metadata": {
  "kernelspec": {
   "display_name": "Python 3 (ipykernel)",
   "language": "python",
   "name": "python3"
  },
  "language_info": {
   "codemirror_mode": {
    "name": "ipython",
    "version": 3
   },
   "file_extension": ".py",
   "mimetype": "text/x-python",
   "name": "python",
   "nbconvert_exporter": "python",
   "pygments_lexer": "ipython3",
   "version": "3.8.12"
  },
  "toc": {
   "base_numbering": 1,
   "nav_menu": {},
   "number_sections": true,
   "sideBar": true,
   "skip_h1_title": false,
   "title_cell": "Table of Contents",
   "title_sidebar": "Contents",
   "toc_cell": false,
   "toc_position": {},
   "toc_section_display": true,
   "toc_window_display": false
  },
  "varInspector": {
   "cols": {
    "lenName": 16,
    "lenType": 16,
    "lenVar": 40
   },
   "kernels_config": {
    "python": {
     "delete_cmd_postfix": "",
     "delete_cmd_prefix": "del ",
     "library": "var_list.py",
     "varRefreshCmd": "print(var_dic_list())"
    },
    "r": {
     "delete_cmd_postfix": ") ",
     "delete_cmd_prefix": "rm(",
     "library": "var_list.r",
     "varRefreshCmd": "cat(var_dic_list()) "
    }
   },
   "types_to_exclude": [
    "module",
    "function",
    "builtin_function_or_method",
    "instance",
    "_Feature"
   ],
   "window_display": false
  }
 },
 "nbformat": 4,
 "nbformat_minor": 5
}
