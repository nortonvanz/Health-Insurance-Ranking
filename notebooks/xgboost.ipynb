{
 "cells": [
  {
   "cell_type": "markdown",
   "id": "7c20d8fa",
   "metadata": {},
   "source": [
    "# Environment Preparation"
   ]
  },
  {
   "cell_type": "markdown",
   "id": "2a89f3b0",
   "metadata": {},
   "source": [
    "## Imports"
   ]
  },
  {
   "cell_type": "code",
   "execution_count": 7,
   "id": "af757ac9",
   "metadata": {
    "ExecuteTime": {
     "end_time": "2022-04-03T12:19:38.699697Z",
     "start_time": "2022-04-03T12:19:38.691646Z"
    }
   },
   "outputs": [],
   "source": [
    "import pandas as pd\n",
    "import numpy as np\n",
    "import cross_validation as cv\n",
    "import random\n",
    "from IPython.core.display   import HTML\n",
    "\n",
    "from tabulate import tabulate\n",
    "from cross_validation import runCrossValidation\n",
    "from xgboost import XGBClassifier"
   ]
  },
  {
   "cell_type": "markdown",
   "id": "6acf4cd7",
   "metadata": {},
   "source": [
    "## Path Handlers"
   ]
  },
  {
   "cell_type": "code",
   "execution_count": 8,
   "id": "bf551402",
   "metadata": {
    "ExecuteTime": {
     "end_time": "2022-04-03T12:19:39.412286Z",
     "start_time": "2022-04-03T12:19:39.401912Z"
    }
   },
   "outputs": [
    {
     "data": {
      "text/html": [
       "<style>.container { width:100% !important; }</style>"
      ],
      "text/plain": [
       "<IPython.core.display.HTML object>"
      ]
     },
     "metadata": {},
     "output_type": "display_data"
    }
   ],
   "source": [
    "datapath = '../data/'\n",
    "display( HTML( '<style>.container { width:100% !important; }</style>') )"
   ]
  },
  {
   "cell_type": "markdown",
   "id": "586f6ebb",
   "metadata": {},
   "source": [
    " # Load data"
   ]
  },
  {
   "cell_type": "code",
   "execution_count": 9,
   "id": "5112bc1b",
   "metadata": {
    "ExecuteTime": {
     "end_time": "2022-04-03T12:19:40.913575Z",
     "start_time": "2022-04-03T12:19:40.257545Z"
    }
   },
   "outputs": [],
   "source": [
    "#train\n",
    "x_train = pd.read_csv(datapath+'x_train.csv', index_col=0)\n",
    "y_train = pd.read_csv(datapath+'y_train.csv', index_col=0)\n",
    "\n",
    "#validation\n",
    "x_val = pd.read_csv(datapath+'x_val.csv', index_col=0)\n",
    "y_val = pd.read_csv(datapath+'y_val.csv', index_col=0)"
   ]
  },
  {
   "cell_type": "markdown",
   "id": "c14fea70",
   "metadata": {
    "ExecuteTime": {
     "end_time": "2022-04-03T12:06:54.602653Z",
     "start_time": "2022-04-03T12:06:54.596165Z"
    }
   },
   "source": [
    "# Xgboost Cross Validation"
   ]
  },
  {
   "cell_type": "markdown",
   "id": "e1601721",
   "metadata": {},
   "source": [
    "Run 5 XGBoost models with random hyperparameter setups, and perform a cross-validation on each one, with 10 different cuts in the data, to get the best setup possible."
   ]
  },
  {
   "cell_type": "code",
   "execution_count": 10,
   "id": "b37157a8",
   "metadata": {
    "ExecuteTime": {
     "end_time": "2022-04-03T14:29:36.732179Z",
     "start_time": "2022-04-03T12:19:42.730526Z"
    }
   },
   "outputs": [
    {
     "name": "stdout",
     "output_type": "stream",
     "text": [
      "{'n_estimators': 100, 'max_depth': 5, 'scale_pos_weight': 9}\n"
     ]
    },
    {
     "name": "stderr",
     "output_type": "stream",
     "text": [
      "/Users/home/opt/anaconda3/lib/python3.8/site-packages/sklearn/utils/validation.py:63: DataConversionWarning: A column-vector y was passed when a 1d array was expected. Please change the shape of y to (n_samples, ), for example using ravel().\n",
      "  return f(*args, **kwargs)\n",
      "/Users/home/opt/anaconda3/lib/python3.8/site-packages/sklearn/utils/validation.py:63: DataConversionWarning: A column-vector y was passed when a 1d array was expected. Please change the shape of y to (n_samples, ), for example using ravel().\n",
      "  return f(*args, **kwargs)\n"
     ]
    },
    {
     "data": {
      "text/html": [
       "<div>\n",
       "<style scoped>\n",
       "    .dataframe tbody tr th:only-of-type {\n",
       "        vertical-align: middle;\n",
       "    }\n",
       "\n",
       "    .dataframe tbody tr th {\n",
       "        vertical-align: top;\n",
       "    }\n",
       "\n",
       "    .dataframe thead th {\n",
       "        text-align: right;\n",
       "    }\n",
       "</style>\n",
       "<table border=\"1\" class=\"dataframe\">\n",
       "  <thead>\n",
       "    <tr style=\"text-align: right;\">\n",
       "      <th></th>\n",
       "      <th>mean</th>\n",
       "      <th>std</th>\n",
       "    </tr>\n",
       "  </thead>\n",
       "  <tbody>\n",
       "    <tr>\n",
       "      <th>precision_at_k</th>\n",
       "      <td>0.282832</td>\n",
       "      <td>0.001558</td>\n",
       "    </tr>\n",
       "    <tr>\n",
       "      <th>recall_at_k</th>\n",
       "      <td>0.923397</td>\n",
       "      <td>0.005101</td>\n",
       "    </tr>\n",
       "  </tbody>\n",
       "</table>\n",
       "</div>"
      ],
      "text/plain": [
       "                    mean       std\n",
       "precision_at_k  0.282832  0.001558\n",
       "recall_at_k     0.923397  0.005101"
      ]
     },
     "metadata": {},
     "output_type": "display_data"
    },
    {
     "name": "stdout",
     "output_type": "stream",
     "text": [
      "{'n_estimators': 100, 'max_depth': 3, 'scale_pos_weight': 1}\n"
     ]
    },
    {
     "name": "stderr",
     "output_type": "stream",
     "text": [
      "/Users/home/opt/anaconda3/lib/python3.8/site-packages/sklearn/utils/validation.py:63: DataConversionWarning: A column-vector y was passed when a 1d array was expected. Please change the shape of y to (n_samples, ), for example using ravel().\n",
      "  return f(*args, **kwargs)\n",
      "/Users/home/opt/anaconda3/lib/python3.8/site-packages/sklearn/utils/validation.py:63: DataConversionWarning: A column-vector y was passed when a 1d array was expected. Please change the shape of y to (n_samples, ), for example using ravel().\n",
      "  return f(*args, **kwargs)\n"
     ]
    },
    {
     "data": {
      "text/html": [
       "<div>\n",
       "<style scoped>\n",
       "    .dataframe tbody tr th:only-of-type {\n",
       "        vertical-align: middle;\n",
       "    }\n",
       "\n",
       "    .dataframe tbody tr th {\n",
       "        vertical-align: top;\n",
       "    }\n",
       "\n",
       "    .dataframe thead th {\n",
       "        text-align: right;\n",
       "    }\n",
       "</style>\n",
       "<table border=\"1\" class=\"dataframe\">\n",
       "  <thead>\n",
       "    <tr style=\"text-align: right;\">\n",
       "      <th></th>\n",
       "      <th>mean</th>\n",
       "      <th>std</th>\n",
       "    </tr>\n",
       "  </thead>\n",
       "  <tbody>\n",
       "    <tr>\n",
       "      <th>precision_at_k</th>\n",
       "      <td>0.281918</td>\n",
       "      <td>0.001467</td>\n",
       "    </tr>\n",
       "    <tr>\n",
       "      <th>recall_at_k</th>\n",
       "      <td>0.920413</td>\n",
       "      <td>0.004814</td>\n",
       "    </tr>\n",
       "  </tbody>\n",
       "</table>\n",
       "</div>"
      ],
      "text/plain": [
       "                    mean       std\n",
       "precision_at_k  0.281918  0.001467\n",
       "recall_at_k     0.920413  0.004814"
      ]
     },
     "metadata": {},
     "output_type": "display_data"
    },
    {
     "name": "stdout",
     "output_type": "stream",
     "text": [
      "{'n_estimators': 300, 'max_depth': 5, 'scale_pos_weight': 1}\n"
     ]
    },
    {
     "name": "stderr",
     "output_type": "stream",
     "text": [
      "/Users/home/opt/anaconda3/lib/python3.8/site-packages/sklearn/utils/validation.py:63: DataConversionWarning: A column-vector y was passed when a 1d array was expected. Please change the shape of y to (n_samples, ), for example using ravel().\n",
      "  return f(*args, **kwargs)\n",
      "/Users/home/opt/anaconda3/lib/python3.8/site-packages/sklearn/utils/validation.py:63: DataConversionWarning: A column-vector y was passed when a 1d array was expected. Please change the shape of y to (n_samples, ), for example using ravel().\n",
      "  return f(*args, **kwargs)\n"
     ]
    },
    {
     "data": {
      "text/html": [
       "<div>\n",
       "<style scoped>\n",
       "    .dataframe tbody tr th:only-of-type {\n",
       "        vertical-align: middle;\n",
       "    }\n",
       "\n",
       "    .dataframe tbody tr th {\n",
       "        vertical-align: top;\n",
       "    }\n",
       "\n",
       "    .dataframe thead th {\n",
       "        text-align: right;\n",
       "    }\n",
       "</style>\n",
       "<table border=\"1\" class=\"dataframe\">\n",
       "  <thead>\n",
       "    <tr style=\"text-align: right;\">\n",
       "      <th></th>\n",
       "      <th>mean</th>\n",
       "      <th>std</th>\n",
       "    </tr>\n",
       "  </thead>\n",
       "  <tbody>\n",
       "    <tr>\n",
       "      <th>precision_at_k</th>\n",
       "      <td>0.283037</td>\n",
       "      <td>0.001404</td>\n",
       "    </tr>\n",
       "    <tr>\n",
       "      <th>recall_at_k</th>\n",
       "      <td>0.924066</td>\n",
       "      <td>0.004599</td>\n",
       "    </tr>\n",
       "  </tbody>\n",
       "</table>\n",
       "</div>"
      ],
      "text/plain": [
       "                    mean       std\n",
       "precision_at_k  0.283037  0.001404\n",
       "recall_at_k     0.924066  0.004599"
      ]
     },
     "metadata": {},
     "output_type": "display_data"
    },
    {
     "name": "stdout",
     "output_type": "stream",
     "text": [
      "{'n_estimators': 300, 'max_depth': 3, 'scale_pos_weight': 1}\n"
     ]
    },
    {
     "name": "stderr",
     "output_type": "stream",
     "text": [
      "/Users/home/opt/anaconda3/lib/python3.8/site-packages/sklearn/utils/validation.py:63: DataConversionWarning: A column-vector y was passed when a 1d array was expected. Please change the shape of y to (n_samples, ), for example using ravel().\n",
      "  return f(*args, **kwargs)\n",
      "/Users/home/opt/anaconda3/lib/python3.8/site-packages/sklearn/utils/validation.py:63: DataConversionWarning: A column-vector y was passed when a 1d array was expected. Please change the shape of y to (n_samples, ), for example using ravel().\n",
      "  return f(*args, **kwargs)\n"
     ]
    },
    {
     "data": {
      "text/html": [
       "<div>\n",
       "<style scoped>\n",
       "    .dataframe tbody tr th:only-of-type {\n",
       "        vertical-align: middle;\n",
       "    }\n",
       "\n",
       "    .dataframe tbody tr th {\n",
       "        vertical-align: top;\n",
       "    }\n",
       "\n",
       "    .dataframe thead th {\n",
       "        text-align: right;\n",
       "    }\n",
       "</style>\n",
       "<table border=\"1\" class=\"dataframe\">\n",
       "  <thead>\n",
       "    <tr style=\"text-align: right;\">\n",
       "      <th></th>\n",
       "      <th>mean</th>\n",
       "      <th>std</th>\n",
       "    </tr>\n",
       "  </thead>\n",
       "  <tbody>\n",
       "    <tr>\n",
       "      <th>precision_at_k</th>\n",
       "      <td>0.282967</td>\n",
       "      <td>0.001357</td>\n",
       "    </tr>\n",
       "    <tr>\n",
       "      <th>recall_at_k</th>\n",
       "      <td>0.923839</td>\n",
       "      <td>0.004447</td>\n",
       "    </tr>\n",
       "  </tbody>\n",
       "</table>\n",
       "</div>"
      ],
      "text/plain": [
       "                    mean       std\n",
       "precision_at_k  0.282967  0.001357\n",
       "recall_at_k     0.923839  0.004447"
      ]
     },
     "metadata": {},
     "output_type": "display_data"
    },
    {
     "name": "stdout",
     "output_type": "stream",
     "text": [
      "{'n_estimators': 500, 'max_depth': 5, 'scale_pos_weight': 9}\n"
     ]
    },
    {
     "name": "stderr",
     "output_type": "stream",
     "text": [
      "/Users/home/opt/anaconda3/lib/python3.8/site-packages/sklearn/utils/validation.py:63: DataConversionWarning: A column-vector y was passed when a 1d array was expected. Please change the shape of y to (n_samples, ), for example using ravel().\n",
      "  return f(*args, **kwargs)\n",
      "/Users/home/opt/anaconda3/lib/python3.8/site-packages/sklearn/utils/validation.py:63: DataConversionWarning: A column-vector y was passed when a 1d array was expected. Please change the shape of y to (n_samples, ), for example using ravel().\n",
      "  return f(*args, **kwargs)\n"
     ]
    },
    {
     "data": {
      "text/html": [
       "<div>\n",
       "<style scoped>\n",
       "    .dataframe tbody tr th:only-of-type {\n",
       "        vertical-align: middle;\n",
       "    }\n",
       "\n",
       "    .dataframe tbody tr th {\n",
       "        vertical-align: top;\n",
       "    }\n",
       "\n",
       "    .dataframe thead th {\n",
       "        text-align: right;\n",
       "    }\n",
       "</style>\n",
       "<table border=\"1\" class=\"dataframe\">\n",
       "  <thead>\n",
       "    <tr style=\"text-align: right;\">\n",
       "      <th></th>\n",
       "      <th>mean</th>\n",
       "      <th>std</th>\n",
       "    </tr>\n",
       "  </thead>\n",
       "  <tbody>\n",
       "    <tr>\n",
       "      <th>precision_at_k</th>\n",
       "      <td>0.281963</td>\n",
       "      <td>0.001470</td>\n",
       "    </tr>\n",
       "    <tr>\n",
       "      <th>recall_at_k</th>\n",
       "      <td>0.920560</td>\n",
       "      <td>0.004813</td>\n",
       "    </tr>\n",
       "  </tbody>\n",
       "</table>\n",
       "</div>"
      ],
      "text/plain": [
       "                    mean       std\n",
       "precision_at_k  0.281963  0.001470\n",
       "recall_at_k     0.920560  0.004813"
      ]
     },
     "metadata": {},
     "output_type": "display_data"
    }
   ],
   "source": [
    "## session with high processing time: ??\n",
    "## results compiled in the following table\n",
    "\n",
    "param = {\n",
    "    'n_estimators':  [100, 300, 500],\n",
    "    'max_depth': [3,5,9], \n",
    "    'scale_pos_weight': [1, 9]\n",
    "}\n",
    "\n",
    "max_eval = 5\n",
    "\n",
    "for i in range(max_eval):\n",
    "    # random choice of dictionary values\n",
    "    hp = {k: random.sample(v,1)[0] for k, v in param.items()}\n",
    "    print(hp)\n",
    "\n",
    "    # model definition\n",
    "    xgb_model = XGBClassifier(n_estimators = hp['n_estimators'],\n",
    "                                        max_depth = hp['max_depth'],\n",
    "                                        scale_pos_weight = hp['scale_pos_weight'],\n",
    "                                        n_jobs= -1)\n",
    "    \n",
    "    \n",
    "    display(cv.runCrossValidation(xgb_model, x_train, x_val, y_train, y_val, n_splits = 10, n_repeats = 2, top_k = 12200))"
   ]
  },
  {
   "cell_type": "markdown",
   "id": "4f40be8b",
   "metadata": {},
   "source": [
    "Results of the 5 models and their hyperparameters"
   ]
  },
  {
   "cell_type": "code",
   "execution_count": 12,
   "id": "a488e6ea",
   "metadata": {
    "ExecuteTime": {
     "end_time": "2022-04-03T15:14:05.314699Z",
     "start_time": "2022-04-03T15:14:05.301280Z"
    }
   },
   "outputs": [
    {
     "name": "stdout",
     "output_type": "stream",
     "text": [
      "╒═════════╤═══════════════════════╤═══════════════════════╤════════════════════════════════════════════════════════════╕\n",
      "│ model   │ precision@k           │ recall@k              │ hyperparameters                                            │\n",
      "╞═════════╪═══════════════════════╪═══════════════════════╪════════════════════════════════════════════════════════════╡\n",
      "│ #1      │ 0.282832 +/- 0.001558 │ 0.923397 +/- 0.005101 │ 'n_estimators': 100, 'max_depth': 5, 'scale_pos_weight': 9 │\n",
      "├─────────┼───────────────────────┼───────────────────────┼────────────────────────────────────────────────────────────┤\n",
      "│ #2      │ 0.281918 +/- 0.001467 │ 0.920413 +/- 0.004814 │ 'n_estimators': 100, 'max_depth': 3, 'scale_pos_weight': 1 │\n",
      "├─────────┼───────────────────────┼───────────────────────┼────────────────────────────────────────────────────────────┤\n",
      "│ #3      │ 0.283037 +/- 0.001404 │ 0.924066 +/- 0.004599 │ 'n_estimators': 300, 'max_depth': 5, 'scale_pos_weight': 1 │\n",
      "├─────────┼───────────────────────┼───────────────────────┼────────────────────────────────────────────────────────────┤\n",
      "│ #4      │ 0.282967 +/- 0.001357 │ 0.923839 +/- 0.004447 │ 'n_estimators': 300, 'max_depth': 3, 'scale_pos_weight': 1 │\n",
      "├─────────┼───────────────────────┼───────────────────────┼────────────────────────────────────────────────────────────┤\n",
      "│ #5      │ 0.281963 +/- 0.001470 │ 0.920560 +/- 0.004813 │ 'n_estimators': 500, 'max_depth': 5, 'scale_pos_weight': 9 │\n",
      "╘═════════╧═══════════════════════╧═══════════════════════╧════════════════════════════════════════════════════════════╛\n"
     ]
    }
   ],
   "source": [
    "final_results = {'model':['#1', '#2', '#3', '#4', '#5'],\n",
    "                 'precision_at_k': ['0.282832 +/- 0.001558',\n",
    "                                    '0.281918 +/- 0.001467',\n",
    "                                    '0.283037 +/- 0.001404',\n",
    "                                    '0.282967 +/- 0.001357',\n",
    "                                    '0.281963 +/- 0.001470'],\n",
    "                 'recall_at_k': ['0.923397 +/- 0.005101',\n",
    "                                 '0.920413 +/- 0.004814',\n",
    "                                 '0.924066 +/- 0.004599',\n",
    "                                 '0.923839 +/- 0.004447',\n",
    "                                 '0.920560 +/- 0.004813'],\n",
    "                 'parameters': [\"'n_estimators': 100, 'max_depth': 5, 'scale_pos_weight': 9\",\n",
    "                                \"'n_estimators': 100, 'max_depth': 3, 'scale_pos_weight': 1\",\n",
    "                                \"'n_estimators': 300, 'max_depth': 5, 'scale_pos_weight': 1\",\n",
    "                                \"'n_estimators': 300, 'max_depth': 3, 'scale_pos_weight': 1\",\n",
    "                                \"'n_estimators': 500, 'max_depth': 5, 'scale_pos_weight': 9\"]\n",
    "                }\n",
    "\n",
    "print(tabulate(final_results, headers=['model','precision@k','recall@k', 'hyperparameters'], tablefmt=\"fancy_grid\"))"
   ]
  },
  {
   "cell_type": "markdown",
   "id": "911cd033",
   "metadata": {},
   "source": [
    "The results of the models were similar, and the best performer in precision@k and racall@k was the number #3"
   ]
  },
  {
   "cell_type": "markdown",
   "id": "181f8a11",
   "metadata": {},
   "source": [
    "# Model training and ranked list export"
   ]
  },
  {
   "cell_type": "markdown",
   "id": "311adecf",
   "metadata": {
    "ExecuteTime": {
     "end_time": "2022-04-03T14:29:36.852349Z",
     "start_time": "2022-04-03T14:29:36.842082Z"
    }
   },
   "source": [
    "Train, plot gain and lift curves, and metrics of precision@k and recall@k of number #3"
   ]
  },
  {
   "cell_type": "code",
   "execution_count": 13,
   "id": "b4bb9c41",
   "metadata": {
    "ExecuteTime": {
     "end_time": "2022-04-03T15:16:46.489509Z",
     "start_time": "2022-04-03T15:15:00.857791Z"
    }
   },
   "outputs": [],
   "source": [
    "# model definition\n",
    "xgbclassifier_model = XGBClassifier(n_estimators = 300,\n",
    "                                    max_depth = 5,\n",
    "                                    scale_pos_weight = 1,\n",
    "                                    n_jobs= -1)\n",
    "\n",
    "# model training\n",
    "xgbclassifier_model.fit(x_train, y_train.values.ravel())\n",
    "\n",
    "# model prediction (proba)\n",
    "yhat_proba = xgbclassifier_model.predict_proba(x_val)"
   ]
  },
  {
   "cell_type": "code",
   "execution_count": 14,
   "id": "d97df08a",
   "metadata": {
    "ExecuteTime": {
     "end_time": "2022-04-03T15:17:25.471632Z",
     "start_time": "2022-04-03T15:17:15.318147Z"
    }
   },
   "outputs": [
    {
     "data": {
      "image/png": "[encoded data removed]",
      "text/plain": [
       "<Figure size 576x720 with 2 Axes>"
      ]
     },
     "metadata": {
      "needs_background": "light"
     },
     "output_type": "display_data"
    }
   ],
   "source": [
    "table_xgb = cv.gain_lift_curve(yhat_proba, y_val)\n",
    "metrics_xgb, new_table_xgb = cv.precision_recall_at_k(table_xgb, 12200) #12200 = 40% of customers\n",
    "new_table_xgb.to_pickle(datapath+'processed/xgb_table.pkl')"
   ]
  },
  {
   "cell_type": "code",
   "execution_count": 15,
   "id": "1ddf63ef",
   "metadata": {
    "ExecuteTime": {
     "end_time": "2022-04-03T15:18:06.409682Z",
     "start_time": "2022-04-03T15:18:06.369214Z"
    }
   },
   "outputs": [
    {
     "data": {
      "text/html": [
       "<div>\n",
       "<style scoped>\n",
       "    .dataframe tbody tr th:only-of-type {\n",
       "        vertical-align: middle;\n",
       "    }\n",
       "\n",
       "    .dataframe tbody tr th {\n",
       "        vertical-align: top;\n",
       "    }\n",
       "\n",
       "    .dataframe thead th {\n",
       "        text-align: right;\n",
       "    }\n",
       "</style>\n",
       "<table border=\"1\" class=\"dataframe\">\n",
       "  <thead>\n",
       "    <tr style=\"text-align: right;\">\n",
       "      <th></th>\n",
       "      <th>0</th>\n",
       "      <th>1</th>\n",
       "      <th>target</th>\n",
       "      <th>correct</th>\n",
       "      <th>propensity_score</th>\n",
       "      <th>cumulative_propensity_score</th>\n",
       "      <th>cumulative_porc_base</th>\n",
       "      <th>lift</th>\n",
       "      <th>ranking</th>\n",
       "      <th>precision_at_k</th>\n",
       "      <th>recall_at_k</th>\n",
       "    </tr>\n",
       "  </thead>\n",
       "  <tbody>\n",
       "    <tr>\n",
       "      <th>0</th>\n",
       "      <td>0.168546</td>\n",
       "      <td>0.831454</td>\n",
       "      <td>1</td>\n",
       "      <td>yes</td>\n",
       "      <td>0.000268</td>\n",
       "      <td>0.000268</td>\n",
       "      <td>0.000033</td>\n",
       "      <td>8.158683</td>\n",
       "      <td>1</td>\n",
       "      <td>1.000000</td>\n",
       "      <td>0.000268</td>\n",
       "    </tr>\n",
       "    <tr>\n",
       "      <th>1</th>\n",
       "      <td>0.381681</td>\n",
       "      <td>0.618319</td>\n",
       "      <td>1</td>\n",
       "      <td>yes</td>\n",
       "      <td>0.000268</td>\n",
       "      <td>0.000535</td>\n",
       "      <td>0.000066</td>\n",
       "      <td>8.158683</td>\n",
       "      <td>2</td>\n",
       "      <td>1.000000</td>\n",
       "      <td>0.000535</td>\n",
       "    </tr>\n",
       "    <tr>\n",
       "      <th>2</th>\n",
       "      <td>0.385987</td>\n",
       "      <td>0.614013</td>\n",
       "      <td>0</td>\n",
       "      <td>no</td>\n",
       "      <td>0.000000</td>\n",
       "      <td>0.000535</td>\n",
       "      <td>0.000098</td>\n",
       "      <td>5.439122</td>\n",
       "      <td>3</td>\n",
       "      <td>0.666667</td>\n",
       "      <td>0.000535</td>\n",
       "    </tr>\n",
       "    <tr>\n",
       "      <th>3</th>\n",
       "      <td>0.392696</td>\n",
       "      <td>0.607304</td>\n",
       "      <td>0</td>\n",
       "      <td>no</td>\n",
       "      <td>0.000000</td>\n",
       "      <td>0.000535</td>\n",
       "      <td>0.000131</td>\n",
       "      <td>4.079342</td>\n",
       "      <td>4</td>\n",
       "      <td>0.500000</td>\n",
       "      <td>0.000535</td>\n",
       "    </tr>\n",
       "    <tr>\n",
       "      <th>4</th>\n",
       "      <td>0.398058</td>\n",
       "      <td>0.601942</td>\n",
       "      <td>0</td>\n",
       "      <td>no</td>\n",
       "      <td>0.000000</td>\n",
       "      <td>0.000535</td>\n",
       "      <td>0.000164</td>\n",
       "      <td>3.263473</td>\n",
       "      <td>5</td>\n",
       "      <td>0.400000</td>\n",
       "      <td>0.000535</td>\n",
       "    </tr>\n",
       "    <tr>\n",
       "      <th>...</th>\n",
       "      <td>...</td>\n",
       "      <td>...</td>\n",
       "      <td>...</td>\n",
       "      <td>...</td>\n",
       "      <td>...</td>\n",
       "      <td>...</td>\n",
       "      <td>...</td>\n",
       "      <td>...</td>\n",
       "      <td>...</td>\n",
       "      <td>...</td>\n",
       "      <td>...</td>\n",
       "    </tr>\n",
       "    <tr>\n",
       "      <th>30484</th>\n",
       "      <td>0.999922</td>\n",
       "      <td>0.000078</td>\n",
       "      <td>0</td>\n",
       "      <td>yes</td>\n",
       "      <td>0.000000</td>\n",
       "      <td>1.000000</td>\n",
       "      <td>0.999869</td>\n",
       "      <td>1.000131</td>\n",
       "      <td>30485</td>\n",
       "      <td>0.122585</td>\n",
       "      <td>1.000000</td>\n",
       "    </tr>\n",
       "    <tr>\n",
       "      <th>30485</th>\n",
       "      <td>0.999928</td>\n",
       "      <td>0.000072</td>\n",
       "      <td>0</td>\n",
       "      <td>yes</td>\n",
       "      <td>0.000000</td>\n",
       "      <td>1.000000</td>\n",
       "      <td>0.999902</td>\n",
       "      <td>1.000098</td>\n",
       "      <td>30486</td>\n",
       "      <td>0.122581</td>\n",
       "      <td>1.000000</td>\n",
       "    </tr>\n",
       "    <tr>\n",
       "      <th>30486</th>\n",
       "      <td>0.999942</td>\n",
       "      <td>0.000058</td>\n",
       "      <td>0</td>\n",
       "      <td>yes</td>\n",
       "      <td>0.000000</td>\n",
       "      <td>1.000000</td>\n",
       "      <td>0.999934</td>\n",
       "      <td>1.000066</td>\n",
       "      <td>30487</td>\n",
       "      <td>0.122577</td>\n",
       "      <td>1.000000</td>\n",
       "    </tr>\n",
       "    <tr>\n",
       "      <th>30487</th>\n",
       "      <td>0.999943</td>\n",
       "      <td>0.000057</td>\n",
       "      <td>0</td>\n",
       "      <td>yes</td>\n",
       "      <td>0.000000</td>\n",
       "      <td>1.000000</td>\n",
       "      <td>0.999967</td>\n",
       "      <td>1.000033</td>\n",
       "      <td>30488</td>\n",
       "      <td>0.122573</td>\n",
       "      <td>1.000000</td>\n",
       "    </tr>\n",
       "    <tr>\n",
       "      <th>30488</th>\n",
       "      <td>0.999951</td>\n",
       "      <td>0.000049</td>\n",
       "      <td>0</td>\n",
       "      <td>yes</td>\n",
       "      <td>0.000000</td>\n",
       "      <td>1.000000</td>\n",
       "      <td>1.000000</td>\n",
       "      <td>1.000000</td>\n",
       "      <td>30489</td>\n",
       "      <td>0.122569</td>\n",
       "      <td>1.000000</td>\n",
       "    </tr>\n",
       "  </tbody>\n",
       "</table>\n",
       "<p>30489 rows × 11 columns</p>\n",
       "</div>"
      ],
      "text/plain": [
       "              0         1  target correct  propensity_score  \\\n",
       "0      0.168546  0.831454       1     yes          0.000268   \n",
       "1      0.381681  0.618319       1     yes          0.000268   \n",
       "2      0.385987  0.614013       0      no          0.000000   \n",
       "3      0.392696  0.607304       0      no          0.000000   \n",
       "4      0.398058  0.601942       0      no          0.000000   \n",
       "...         ...       ...     ...     ...               ...   \n",
       "30484  0.999922  0.000078       0     yes          0.000000   \n",
       "30485  0.999928  0.000072       0     yes          0.000000   \n",
       "30486  0.999942  0.000058       0     yes          0.000000   \n",
       "30487  0.999943  0.000057       0     yes          0.000000   \n",
       "30488  0.999951  0.000049       0     yes          0.000000   \n",
       "\n",
       "       cumulative_propensity_score  cumulative_porc_base      lift  ranking  \\\n",
       "0                         0.000268              0.000033  8.158683        1   \n",
       "1                         0.000535              0.000066  8.158683        2   \n",
       "2                         0.000535              0.000098  5.439122        3   \n",
       "3                         0.000535              0.000131  4.079342        4   \n",
       "4                         0.000535              0.000164  3.263473        5   \n",
       "...                            ...                   ...       ...      ...   \n",
       "30484                     1.000000              0.999869  1.000131    30485   \n",
       "30485                     1.000000              0.999902  1.000098    30486   \n",
       "30486                     1.000000              0.999934  1.000066    30487   \n",
       "30487                     1.000000              0.999967  1.000033    30488   \n",
       "30488                     1.000000              1.000000  1.000000    30489   \n",
       "\n",
       "       precision_at_k  recall_at_k  \n",
       "0            1.000000     0.000268  \n",
       "1            1.000000     0.000535  \n",
       "2            0.666667     0.000535  \n",
       "3            0.500000     0.000535  \n",
       "4            0.400000     0.000535  \n",
       "...               ...          ...  \n",
       "30484        0.122585     1.000000  \n",
       "30485        0.122581     1.000000  \n",
       "30486        0.122577     1.000000  \n",
       "30487        0.122573     1.000000  \n",
       "30488        0.122569     1.000000  \n",
       "\n",
       "[30489 rows x 11 columns]"
      ]
     },
     "execution_count": 15,
     "metadata": {},
     "output_type": "execute_result"
    }
   ],
   "source": [
    "#Table of XGBoost data\n",
    "new_table_xgb"
   ]
  },
  {
   "cell_type": "code",
   "execution_count": 16,
   "id": "19109227",
   "metadata": {
    "ExecuteTime": {
     "end_time": "2022-04-03T15:18:09.210057Z",
     "start_time": "2022-04-03T15:18:09.200446Z"
    }
   },
   "outputs": [
    {
     "data": {
      "text/plain": [
       "(0.2840983606557377, 0.9274819373829275)"
      ]
     },
     "execution_count": 16,
     "metadata": {},
     "output_type": "execute_result"
    }
   ],
   "source": [
    "#XGBoost: Metrics of precision@k and recall@k -> k=12200 (40% of base).\n",
    "metrics_xgb"
   ]
  },
  {
   "cell_type": "code",
   "execution_count": null,
   "id": "4874ff75",
   "metadata": {},
   "outputs": [],
   "source": []
  }
 ],
 "metadata": {
  "kernelspec": {
   "display_name": "Python 3 (ipykernel)",
   "language": "python",
   "name": "python3"
  },
  "language_info": {
   "codemirror_mode": {
    "name": "ipython",
    "version": 3
   },
   "file_extension": ".py",
   "mimetype": "text/x-python",
   "name": "python",
   "nbconvert_exporter": "python",
   "pygments_lexer": "ipython3",
   "version": "3.8.12"
  },
  "toc": {
   "base_numbering": 1,
   "nav_menu": {},
   "number_sections": true,
   "sideBar": true,
   "skip_h1_title": false,
   "title_cell": "Table of Contents",
   "title_sidebar": "Contents",
   "toc_cell": false,
   "toc_position": {},
   "toc_section_display": true,
   "toc_window_display": false
  },
  "varInspector": {
   "cols": {
    "lenName": 16,
    "lenType": 16,
    "lenVar": 40
   },
   "kernels_config": {
    "python": {
     "delete_cmd_postfix": "",
     "delete_cmd_prefix": "del ",
     "library": "var_list.py",
     "varRefreshCmd": "print(var_dic_list())"
    },
    "r": {
     "delete_cmd_postfix": ") ",
     "delete_cmd_prefix": "rm(",
     "library": "var_list.r",
     "varRefreshCmd": "cat(var_dic_list()) "
    }
   },
   "types_to_exclude": [
    "module",
    "function",
    "builtin_function_or_method",
    "instance",
    "_Feature"
   ],
   "window_display": false
  }
 },
 "nbformat": 4,
 "nbformat_minor": 5
}
